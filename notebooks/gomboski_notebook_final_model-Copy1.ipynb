{
 "cells": [
  {
   "cell_type": "markdown",
   "id": "d441d31c-211e-4b3a-aaf9-8df86c8367db",
   "metadata": {},
   "source": [
    "# Final Notebook"
   ]
  },
  {
   "cell_type": "markdown",
   "id": "27911ff5-5ec9-4566-9175-b12f92c08b96",
   "metadata": {},
   "source": [
    "Final notebook with the best model and features.\n",
    "\n",
    "This notebook is the clean version of gomboski_notebok_features3."
   ]
  },
  {
   "cell_type": "code",
   "execution_count": 72,
   "id": "0dfb9b0a-c920-49c6-9dc8-fde24404da08",
   "metadata": {},
   "outputs": [],
   "source": [
    "import pandas as pd\n",
    "import ast\n",
    "import numpy as np"
   ]
  },
  {
   "cell_type": "markdown",
   "id": "64501c48-a6df-4ed9-bb76-f8bf38ec0e01",
   "metadata": {},
   "source": [
    "## Player Dataset"
   ]
  },
  {
   "cell_type": "code",
   "execution_count": 73,
   "id": "b40a6f32-4f3d-4ea2-85d3-ae24dc888846",
   "metadata": {},
   "outputs": [],
   "source": [
    "players_df = pd.read_csv('../raw_data/final_player_dataset.csv')"
   ]
  },
  {
   "cell_type": "code",
   "execution_count": 74,
   "id": "81a6a1f2-9276-4ee8-bf39-283752c22a03",
   "metadata": {},
   "outputs": [
    {
     "data": {
      "text/plain": [
       "Index(['player', 'bat_innings', 'total_runs', 'not_out', 'zero', '50s', '100s',\n",
       "       'fours', 'sixes', 'high_score', 'balls_faced', 'average_score',\n",
       "       'batting_average', 'batting_strike_rate', 'bowler_innings',\n",
       "       'balls_bowled', 'runs_conceded', 'wickets', 'four_wickets',\n",
       "       'five_wickets', 'bowling_average', 'bowling_economy_rate',\n",
       "       'bowling_strike_rate', 'matches', 'wins', 'loses', 'win_ratio'],\n",
       "      dtype='object')"
      ]
     },
     "execution_count": 74,
     "metadata": {},
     "output_type": "execute_result"
    }
   ],
   "source": [
    "players_df.columns"
   ]
  },
  {
   "cell_type": "markdown",
   "id": "942bc538-d103-4fd2-a167-40ae917fb231",
   "metadata": {},
   "source": [
    "## Team Players Columns"
   ]
  },
  {
   "cell_type": "code",
   "execution_count": 75,
   "id": "ccfc7ad0-a38e-4d45-bb14-5303cef28478",
   "metadata": {},
   "outputs": [],
   "source": [
    "df = pd.read_csv('../raw_data/final_data.csv')"
   ]
  },
  {
   "cell_type": "code",
   "execution_count": 76,
   "id": "908a2973-f944-4007-831e-2746180dd5b3",
   "metadata": {},
   "outputs": [
    {
     "data": {
      "text/plain": [
       "Index(['Unnamed: 0', 'ID', 'City', 'Date', 'Season', 'MatchNumber', 'Team1',\n",
       "       'Team2', 'Venue', 'TossWinner', 'TossDecision', 'WinningTeam',\n",
       "       'innings_total', 'TeamA_batting_average', 'TeamB_batting_average',\n",
       "       'TeamA_innings_total', 'TeamB_innings_total',\n",
       "       'Team1_points_against_avg', 'Team2_points_against_avg',\n",
       "       'Team1_MVP_average', 'Team2_MVP_average'],\n",
       "      dtype='object')"
      ]
     },
     "execution_count": 76,
     "metadata": {},
     "output_type": "execute_result"
    }
   ],
   "source": [
    "df.columns"
   ]
  },
  {
   "cell_type": "code",
   "execution_count": 77,
   "id": "2d001031-bb11-46a0-a69c-bf35a577be32",
   "metadata": {},
   "outputs": [],
   "source": [
    "complete_df = pd.read_csv('../raw_data/complete_df.csv', low_memory=False)"
   ]
  },
  {
   "cell_type": "code",
   "execution_count": 78,
   "id": "e120647f-5a97-4af7-b4b7-a83d118d2ad5",
   "metadata": {},
   "outputs": [
    {
     "data": {
      "text/plain": [
       "Index(['ID', 'innings', 'overs', 'ballnumber', 'batter', 'bowler',\n",
       "       'non-striker', 'extra_type', 'batsman_run', 'extras_run', 'total_run',\n",
       "       'non_boundary', 'isWicketDelivery', 'player_out', 'kind',\n",
       "       'fielders_involved', 'BattingTeam', 'innings_total', 'City', 'Date',\n",
       "       'Season', 'MatchNumber', 'Team1', 'Team2', 'Venue', 'TossWinner',\n",
       "       'TossDecision', 'SuperOver', 'WinningTeam', 'WonBy', 'Margin', 'method',\n",
       "       'Player_of_Match', 'Team1Players', 'Team2Players', 'Umpire1',\n",
       "       'Umpire2'],\n",
       "      dtype='object')"
      ]
     },
     "execution_count": 78,
     "metadata": {},
     "output_type": "execute_result"
    }
   ],
   "source": [
    "complete_df.columns"
   ]
  },
  {
   "cell_type": "code",
   "execution_count": 80,
   "id": "c5f1a406-c2cf-455b-8af9-4c5c355b2f5a",
   "metadata": {},
   "outputs": [
    {
     "data": {
      "text/plain": [
       "array(['ahmedabad', 'kolkata', 'mumbai', 'navi mumbai', 'pune', 'dubai',\n",
       "       'sharjah', 'abu dhabi', 'delhi', 'chennai', 'hyderabad',\n",
       "       'visakhapatnam', 'chandigarh', 'bengaluru', 'jaipur', 'indore',\n",
       "       'bangalore', 'kanpur', 'rajkot', 'raipur', 'ranchi', 'cuttack',\n",
       "       'dharamsala', 'kochi', 'nagpur', 'johannesburg', 'centurion',\n",
       "       'durban', 'bloemfontein', 'port elizabeth', 'kimberley',\n",
       "       'east london', 'cape town'], dtype=object)"
      ]
     },
     "execution_count": 80,
     "metadata": {},
     "output_type": "execute_result"
    }
   ],
   "source": [
    "df.City.unique()"
   ]
  },
  {
   "cell_type": "code",
   "execution_count": null,
   "id": "61cf42b8-d8aa-4eeb-9ff1-005f0dbcd48e",
   "metadata": {},
   "outputs": [],
   "source": []
  },
  {
   "cell_type": "code",
   "execution_count": 8,
   "id": "05850dea-7649-4c6f-8114-fc2ff4a6db62",
   "metadata": {},
   "outputs": [],
   "source": [
    "complete_df_reduced = complete_df[['ID', 'Team1Players', 'Team2Players']]\n",
    "\n",
    "# Convert strings in lists\n",
    "complete_df['Team1Players'] = complete_df['Team1Players'].apply(lambda x: ast.literal_eval(x))\n",
    "complete_df['Team2Players'] = complete_df['Team2Players'].apply(lambda x: ast.literal_eval(x))\n",
    "\n",
    "# lower  case\n",
    "complete_df['Team1Players'] = complete_df['Team1Players'].apply(lambda x: [name.lower() for name in x])\n",
    "complete_df['Team2Players'] = complete_df['Team2Players'].apply(lambda x: [name.lower() for name in x])\n",
    "\n",
    "complete_df_reduced = complete_df[['ID', 'Team1Players', 'Team2Players']]\n",
    "\n",
    "complete_df_reduced = complete_df_reduced.drop_duplicates(subset='ID', keep='first')\n",
    "complete_df_reduced = complete_df_reduced.reset_index(drop=True)"
   ]
  },
  {
   "cell_type": "code",
   "execution_count": 9,
   "id": "3b824e0e-2c8a-4f8f-8dca-8b69f9b94ac8",
   "metadata": {},
   "outputs": [
    {
     "data": {
      "text/html": [
       "<div>\n",
       "<style scoped>\n",
       "    .dataframe tbody tr th:only-of-type {\n",
       "        vertical-align: middle;\n",
       "    }\n",
       "\n",
       "    .dataframe tbody tr th {\n",
       "        vertical-align: top;\n",
       "    }\n",
       "\n",
       "    .dataframe thead th {\n",
       "        text-align: right;\n",
       "    }\n",
       "</style>\n",
       "<table border=\"1\" class=\"dataframe\">\n",
       "  <thead>\n",
       "    <tr style=\"text-align: right;\">\n",
       "      <th></th>\n",
       "      <th>ID</th>\n",
       "      <th>Team1Players</th>\n",
       "      <th>Team2Players</th>\n",
       "    </tr>\n",
       "  </thead>\n",
       "  <tbody>\n",
       "    <tr>\n",
       "      <th>0</th>\n",
       "      <td>1312200</td>\n",
       "      <td>[ybk jaiswal, jc buttler, sv samson, d padikka...</td>\n",
       "      <td>[wp saha, shubman gill, ms wade, hh pandya, da...</td>\n",
       "    </tr>\n",
       "    <tr>\n",
       "      <th>1</th>\n",
       "      <td>1312199</td>\n",
       "      <td>[v kohli, f du plessis, rm patidar, gj maxwell...</td>\n",
       "      <td>[ybk jaiswal, jc buttler, sv samson, d padikka...</td>\n",
       "    </tr>\n",
       "    <tr>\n",
       "      <th>2</th>\n",
       "      <td>1312198</td>\n",
       "      <td>[v kohli, f du plessis, rm patidar, gj maxwell...</td>\n",
       "      <td>[q de kock, kl rahul, m vohra, dj hooda, mp st...</td>\n",
       "    </tr>\n",
       "    <tr>\n",
       "      <th>3</th>\n",
       "      <td>1312197</td>\n",
       "      <td>[ybk jaiswal, jc buttler, sv samson, d padikka...</td>\n",
       "      <td>[wp saha, shubman gill, ms wade, hh pandya, da...</td>\n",
       "    </tr>\n",
       "    <tr>\n",
       "      <th>4</th>\n",
       "      <td>1304116</td>\n",
       "      <td>[pk garg, abhishek sharma, ra tripathi, ak mar...</td>\n",
       "      <td>[jm bairstow, s dhawan, m shahrukh khan, ma ag...</td>\n",
       "    </tr>\n",
       "    <tr>\n",
       "      <th>...</th>\n",
       "      <td>...</td>\n",
       "      <td>...</td>\n",
       "      <td>...</td>\n",
       "    </tr>\n",
       "    <tr>\n",
       "      <th>945</th>\n",
       "      <td>335986</td>\n",
       "      <td>[wp saha, bb mccullum, rt ponting, sc ganguly,...</td>\n",
       "      <td>[ac gilchrist, y venugopal rao, vvs laxman, a ...</td>\n",
       "    </tr>\n",
       "    <tr>\n",
       "      <th>946</th>\n",
       "      <td>335985</td>\n",
       "      <td>[l ronchi, st jayasuriya, dj thornely, rv utha...</td>\n",
       "      <td>[s chanderpaul, r dravid, lrpl taylor, jh kall...</td>\n",
       "    </tr>\n",
       "    <tr>\n",
       "      <th>947</th>\n",
       "      <td>335984</td>\n",
       "      <td>[g gambhir, v sehwag, s dhawan, mk tiwary, kd ...</td>\n",
       "      <td>[t kohli, yk pathan, sr watson, m kaif, ds leh...</td>\n",
       "    </tr>\n",
       "    <tr>\n",
       "      <th>948</th>\n",
       "      <td>335983</td>\n",
       "      <td>[k goel, jr hopes, kc sangakkara, yuvraj singh...</td>\n",
       "      <td>[pa patel, ml hayden, mek hussey, ms dhoni, sk...</td>\n",
       "    </tr>\n",
       "    <tr>\n",
       "      <th>949</th>\n",
       "      <td>335982</td>\n",
       "      <td>[r dravid, w jaffer, v kohli, jh kallis, cl wh...</td>\n",
       "      <td>[sc ganguly, bb mccullum, rt ponting, dj husse...</td>\n",
       "    </tr>\n",
       "  </tbody>\n",
       "</table>\n",
       "<p>950 rows × 3 columns</p>\n",
       "</div>"
      ],
      "text/plain": [
       "          ID                                       Team1Players  \\\n",
       "0    1312200  [ybk jaiswal, jc buttler, sv samson, d padikka...   \n",
       "1    1312199  [v kohli, f du plessis, rm patidar, gj maxwell...   \n",
       "2    1312198  [v kohli, f du plessis, rm patidar, gj maxwell...   \n",
       "3    1312197  [ybk jaiswal, jc buttler, sv samson, d padikka...   \n",
       "4    1304116  [pk garg, abhishek sharma, ra tripathi, ak mar...   \n",
       "..       ...                                                ...   \n",
       "945   335986  [wp saha, bb mccullum, rt ponting, sc ganguly,...   \n",
       "946   335985  [l ronchi, st jayasuriya, dj thornely, rv utha...   \n",
       "947   335984  [g gambhir, v sehwag, s dhawan, mk tiwary, kd ...   \n",
       "948   335983  [k goel, jr hopes, kc sangakkara, yuvraj singh...   \n",
       "949   335982  [r dravid, w jaffer, v kohli, jh kallis, cl wh...   \n",
       "\n",
       "                                          Team2Players  \n",
       "0    [wp saha, shubman gill, ms wade, hh pandya, da...  \n",
       "1    [ybk jaiswal, jc buttler, sv samson, d padikka...  \n",
       "2    [q de kock, kl rahul, m vohra, dj hooda, mp st...  \n",
       "3    [wp saha, shubman gill, ms wade, hh pandya, da...  \n",
       "4    [jm bairstow, s dhawan, m shahrukh khan, ma ag...  \n",
       "..                                                 ...  \n",
       "945  [ac gilchrist, y venugopal rao, vvs laxman, a ...  \n",
       "946  [s chanderpaul, r dravid, lrpl taylor, jh kall...  \n",
       "947  [t kohli, yk pathan, sr watson, m kaif, ds leh...  \n",
       "948  [pa patel, ml hayden, mek hussey, ms dhoni, sk...  \n",
       "949  [sc ganguly, bb mccullum, rt ponting, dj husse...  \n",
       "\n",
       "[950 rows x 3 columns]"
      ]
     },
     "execution_count": 9,
     "metadata": {},
     "output_type": "execute_result"
    }
   ],
   "source": [
    "complete_df_reduced"
   ]
  },
  {
   "cell_type": "markdown",
   "id": "68b2647e-864c-4e31-b1a3-98fd917c663f",
   "metadata": {},
   "source": [
    "## Merging Data"
   ]
  },
  {
   "cell_type": "code",
   "execution_count": 10,
   "id": "5f406f2b-27db-47b2-a1d5-0936aae3ced0",
   "metadata": {},
   "outputs": [],
   "source": [
    "df = pd.merge(df, complete_df_reduced, on='ID', how='left')"
   ]
  },
  {
   "cell_type": "code",
   "execution_count": 11,
   "id": "a90acbb6-672f-4fb1-875e-de7a6f8e9128",
   "metadata": {},
   "outputs": [],
   "source": [
    "df.drop('Unnamed: 0', axis=1, inplace=True)"
   ]
  },
  {
   "cell_type": "code",
   "execution_count": 12,
   "id": "5f0b109a-deec-4849-a25c-143165cc8075",
   "metadata": {},
   "outputs": [
    {
     "data": {
      "text/plain": [
       "(950, 22)"
      ]
     },
     "execution_count": 12,
     "metadata": {},
     "output_type": "execute_result"
    }
   ],
   "source": [
    "df.shape"
   ]
  },
  {
   "cell_type": "code",
   "execution_count": 13,
   "id": "418661f4-29c4-4c8c-ba1c-726c1daeb79f",
   "metadata": {},
   "outputs": [
    {
     "data": {
      "text/html": [
       "<div>\n",
       "<style scoped>\n",
       "    .dataframe tbody tr th:only-of-type {\n",
       "        vertical-align: middle;\n",
       "    }\n",
       "\n",
       "    .dataframe tbody tr th {\n",
       "        vertical-align: top;\n",
       "    }\n",
       "\n",
       "    .dataframe thead th {\n",
       "        text-align: right;\n",
       "    }\n",
       "</style>\n",
       "<table border=\"1\" class=\"dataframe\">\n",
       "  <thead>\n",
       "    <tr style=\"text-align: right;\">\n",
       "      <th></th>\n",
       "      <th>ID</th>\n",
       "      <th>City</th>\n",
       "      <th>Date</th>\n",
       "      <th>Season</th>\n",
       "      <th>MatchNumber</th>\n",
       "      <th>Team1</th>\n",
       "      <th>Team2</th>\n",
       "      <th>Venue</th>\n",
       "      <th>TossWinner</th>\n",
       "      <th>TossDecision</th>\n",
       "      <th>...</th>\n",
       "      <th>TeamA_batting_average</th>\n",
       "      <th>TeamB_batting_average</th>\n",
       "      <th>TeamA_innings_total</th>\n",
       "      <th>TeamB_innings_total</th>\n",
       "      <th>Team1_points_against_avg</th>\n",
       "      <th>Team2_points_against_avg</th>\n",
       "      <th>Team1_MVP_average</th>\n",
       "      <th>Team2_MVP_average</th>\n",
       "      <th>Team1Players</th>\n",
       "      <th>Team2Players</th>\n",
       "    </tr>\n",
       "  </thead>\n",
       "  <tbody>\n",
       "    <tr>\n",
       "      <th>0</th>\n",
       "      <td>1312200</td>\n",
       "      <td>ahmedabad</td>\n",
       "      <td>2022-05-29</td>\n",
       "      <td>2022</td>\n",
       "      <td>final</td>\n",
       "      <td>rajasthan royals</td>\n",
       "      <td>gujarat titans</td>\n",
       "      <td>narendra modi stadium, ahmedabad</td>\n",
       "      <td>rajasthan royals</td>\n",
       "      <td>bat</td>\n",
       "      <td>...</td>\n",
       "      <td>155.397906</td>\n",
       "      <td>166.437500</td>\n",
       "      <td>130.0</td>\n",
       "      <td>133.0</td>\n",
       "      <td>151.561798</td>\n",
       "      <td>167.666667</td>\n",
       "      <td>0.500000</td>\n",
       "      <td>0.687500</td>\n",
       "      <td>[ybk jaiswal, jc buttler, sv samson, d padikka...</td>\n",
       "      <td>[wp saha, shubman gill, ms wade, hh pandya, da...</td>\n",
       "    </tr>\n",
       "    <tr>\n",
       "      <th>1</th>\n",
       "      <td>1312199</td>\n",
       "      <td>ahmedabad</td>\n",
       "      <td>2022-05-27</td>\n",
       "      <td>2022</td>\n",
       "      <td>qualifier 2</td>\n",
       "      <td>royal challengers bangalore</td>\n",
       "      <td>rajasthan royals</td>\n",
       "      <td>narendra modi stadium, ahmedabad</td>\n",
       "      <td>rajasthan royals</td>\n",
       "      <td>field</td>\n",
       "      <td>...</td>\n",
       "      <td>155.707965</td>\n",
       "      <td>155.397906</td>\n",
       "      <td>157.0</td>\n",
       "      <td>161.0</td>\n",
       "      <td>146.976000</td>\n",
       "      <td>162.184466</td>\n",
       "      <td>0.491150</td>\n",
       "      <td>0.500000</td>\n",
       "      <td>[v kohli, f du plessis, rm patidar, gj maxwell...</td>\n",
       "      <td>[ybk jaiswal, jc buttler, sv samson, d padikka...</td>\n",
       "    </tr>\n",
       "    <tr>\n",
       "      <th>2</th>\n",
       "      <td>1312198</td>\n",
       "      <td>kolkata</td>\n",
       "      <td>2022-05-25</td>\n",
       "      <td>2022</td>\n",
       "      <td>eliminator</td>\n",
       "      <td>royal challengers bangalore</td>\n",
       "      <td>lucknow super giants</td>\n",
       "      <td>eden gardens</td>\n",
       "      <td>lucknow super giants</td>\n",
       "      <td>field</td>\n",
       "      <td>...</td>\n",
       "      <td>155.707965</td>\n",
       "      <td>169.866667</td>\n",
       "      <td>207.0</td>\n",
       "      <td>193.0</td>\n",
       "      <td>146.976000</td>\n",
       "      <td>176.285714</td>\n",
       "      <td>0.491150</td>\n",
       "      <td>0.600000</td>\n",
       "      <td>[v kohli, f du plessis, rm patidar, gj maxwell...</td>\n",
       "      <td>[q de kock, kl rahul, m vohra, dj hooda, mp st...</td>\n",
       "    </tr>\n",
       "    <tr>\n",
       "      <th>3</th>\n",
       "      <td>1312197</td>\n",
       "      <td>kolkata</td>\n",
       "      <td>2022-05-24</td>\n",
       "      <td>2022</td>\n",
       "      <td>qualifier 1</td>\n",
       "      <td>rajasthan royals</td>\n",
       "      <td>gujarat titans</td>\n",
       "      <td>eden gardens</td>\n",
       "      <td>gujarat titans</td>\n",
       "      <td>field</td>\n",
       "      <td>...</td>\n",
       "      <td>155.397906</td>\n",
       "      <td>166.437500</td>\n",
       "      <td>188.0</td>\n",
       "      <td>191.0</td>\n",
       "      <td>151.561798</td>\n",
       "      <td>167.666667</td>\n",
       "      <td>0.500000</td>\n",
       "      <td>0.687500</td>\n",
       "      <td>[ybk jaiswal, jc buttler, sv samson, d padikka...</td>\n",
       "      <td>[wp saha, shubman gill, ms wade, hh pandya, da...</td>\n",
       "    </tr>\n",
       "    <tr>\n",
       "      <th>4</th>\n",
       "      <td>1304116</td>\n",
       "      <td>mumbai</td>\n",
       "      <td>2022-05-22</td>\n",
       "      <td>2022</td>\n",
       "      <td>70</td>\n",
       "      <td>sunrisers hyderabad</td>\n",
       "      <td>punjab kings</td>\n",
       "      <td>wankhede stadium</td>\n",
       "      <td>sunrisers hyderabad</td>\n",
       "      <td>bat</td>\n",
       "      <td>...</td>\n",
       "      <td>155.546053</td>\n",
       "      <td>158.518349</td>\n",
       "      <td>157.0</td>\n",
       "      <td>160.0</td>\n",
       "      <td>145.594203</td>\n",
       "      <td>164.537037</td>\n",
       "      <td>0.486842</td>\n",
       "      <td>0.428571</td>\n",
       "      <td>[pk garg, abhishek sharma, ra tripathi, ak mar...</td>\n",
       "      <td>[jm bairstow, s dhawan, m shahrukh khan, ma ag...</td>\n",
       "    </tr>\n",
       "  </tbody>\n",
       "</table>\n",
       "<p>5 rows × 22 columns</p>\n",
       "</div>"
      ],
      "text/plain": [
       "        ID       City        Date  Season  MatchNumber  \\\n",
       "0  1312200  ahmedabad  2022-05-29    2022        final   \n",
       "1  1312199  ahmedabad  2022-05-27    2022  qualifier 2   \n",
       "2  1312198    kolkata  2022-05-25    2022   eliminator   \n",
       "3  1312197    kolkata  2022-05-24    2022  qualifier 1   \n",
       "4  1304116     mumbai  2022-05-22    2022           70   \n",
       "\n",
       "                         Team1                 Team2  \\\n",
       "0             rajasthan royals        gujarat titans   \n",
       "1  royal challengers bangalore      rajasthan royals   \n",
       "2  royal challengers bangalore  lucknow super giants   \n",
       "3             rajasthan royals        gujarat titans   \n",
       "4          sunrisers hyderabad          punjab kings   \n",
       "\n",
       "                              Venue            TossWinner TossDecision  ...  \\\n",
       "0  narendra modi stadium, ahmedabad      rajasthan royals          bat  ...   \n",
       "1  narendra modi stadium, ahmedabad      rajasthan royals        field  ...   \n",
       "2                      eden gardens  lucknow super giants        field  ...   \n",
       "3                      eden gardens        gujarat titans        field  ...   \n",
       "4                  wankhede stadium   sunrisers hyderabad          bat  ...   \n",
       "\n",
       "  TeamA_batting_average  TeamB_batting_average  TeamA_innings_total  \\\n",
       "0            155.397906             166.437500                130.0   \n",
       "1            155.707965             155.397906                157.0   \n",
       "2            155.707965             169.866667                207.0   \n",
       "3            155.397906             166.437500                188.0   \n",
       "4            155.546053             158.518349                157.0   \n",
       "\n",
       "   TeamB_innings_total  Team1_points_against_avg  Team2_points_against_avg  \\\n",
       "0                133.0                151.561798                167.666667   \n",
       "1                161.0                146.976000                162.184466   \n",
       "2                193.0                146.976000                176.285714   \n",
       "3                191.0                151.561798                167.666667   \n",
       "4                160.0                145.594203                164.537037   \n",
       "\n",
       "   Team1_MVP_average  Team2_MVP_average  \\\n",
       "0           0.500000           0.687500   \n",
       "1           0.491150           0.500000   \n",
       "2           0.491150           0.600000   \n",
       "3           0.500000           0.687500   \n",
       "4           0.486842           0.428571   \n",
       "\n",
       "                                        Team1Players  \\\n",
       "0  [ybk jaiswal, jc buttler, sv samson, d padikka...   \n",
       "1  [v kohli, f du plessis, rm patidar, gj maxwell...   \n",
       "2  [v kohli, f du plessis, rm patidar, gj maxwell...   \n",
       "3  [ybk jaiswal, jc buttler, sv samson, d padikka...   \n",
       "4  [pk garg, abhishek sharma, ra tripathi, ak mar...   \n",
       "\n",
       "                                        Team2Players  \n",
       "0  [wp saha, shubman gill, ms wade, hh pandya, da...  \n",
       "1  [ybk jaiswal, jc buttler, sv samson, d padikka...  \n",
       "2  [q de kock, kl rahul, m vohra, dj hooda, mp st...  \n",
       "3  [wp saha, shubman gill, ms wade, hh pandya, da...  \n",
       "4  [jm bairstow, s dhawan, m shahrukh khan, ma ag...  \n",
       "\n",
       "[5 rows x 22 columns]"
      ]
     },
     "execution_count": 13,
     "metadata": {},
     "output_type": "execute_result"
    }
   ],
   "source": [
    "df.head()"
   ]
  },
  {
   "cell_type": "markdown",
   "id": "f94d39ec-81f7-4100-a340-0be177374c1e",
   "metadata": {},
   "source": [
    "## Creation of New Features"
   ]
  },
  {
   "cell_type": "markdown",
   "id": "b74b34ae-f52d-49f7-9658-ca87511991f1",
   "metadata": {},
   "source": [
    "### Data"
   ]
  },
  {
   "cell_type": "code",
   "execution_count": 14,
   "id": "f221b031-ebea-4239-9614-cb23b8298442",
   "metadata": {},
   "outputs": [
    {
     "data": {
      "text/plain": [
       "Index(['ID', 'City', 'Date', 'Season', 'MatchNumber', 'Team1', 'Team2',\n",
       "       'Venue', 'TossWinner', 'TossDecision', 'WinningTeam', 'innings_total',\n",
       "       'TeamA_batting_average', 'TeamB_batting_average', 'TeamA_innings_total',\n",
       "       'TeamB_innings_total', 'Team1_points_against_avg',\n",
       "       'Team2_points_against_avg', 'Team1_MVP_average', 'Team2_MVP_average',\n",
       "       'Team1Players', 'Team2Players'],\n",
       "      dtype='object')"
      ]
     },
     "execution_count": 14,
     "metadata": {},
     "output_type": "execute_result"
    }
   ],
   "source": [
    "df.columns"
   ]
  },
  {
   "cell_type": "code",
   "execution_count": 15,
   "id": "0d380dca-eaa6-4827-86b0-cd80ac25c5a8",
   "metadata": {},
   "outputs": [
    {
     "data": {
      "text/plain": [
       "Index(['player', 'bat_innings', 'total_runs', 'not_out', 'zero', '50s', '100s',\n",
       "       'fours', 'sixes', 'high_score', 'balls_faced', 'average_score',\n",
       "       'batting_average', 'batting_strike_rate', 'bowler_innings',\n",
       "       'balls_bowled', 'runs_conceded', 'wickets', 'four_wickets',\n",
       "       'five_wickets', 'bowling_average', 'bowling_economy_rate',\n",
       "       'bowling_strike_rate', 'matches', 'wins', 'loses', 'win_ratio'],\n",
       "      dtype='object')"
      ]
     },
     "execution_count": 15,
     "metadata": {},
     "output_type": "execute_result"
    }
   ],
   "source": [
    "players_df.columns"
   ]
  },
  {
   "cell_type": "code",
   "execution_count": 16,
   "id": "46ad2bbb-4055-49f6-834f-7f2a88d6a0cb",
   "metadata": {},
   "outputs": [
    {
     "data": {
      "text/plain": [
       "0      [ybk jaiswal, jc buttler, sv samson, d padikka...\n",
       "1      [v kohli, f du plessis, rm patidar, gj maxwell...\n",
       "2      [v kohli, f du plessis, rm patidar, gj maxwell...\n",
       "3      [ybk jaiswal, jc buttler, sv samson, d padikka...\n",
       "4      [pk garg, abhishek sharma, ra tripathi, ak mar...\n",
       "                             ...                        \n",
       "945    [wp saha, bb mccullum, rt ponting, sc ganguly,...\n",
       "946    [l ronchi, st jayasuriya, dj thornely, rv utha...\n",
       "947    [g gambhir, v sehwag, s dhawan, mk tiwary, kd ...\n",
       "948    [k goel, jr hopes, kc sangakkara, yuvraj singh...\n",
       "949    [r dravid, w jaffer, v kohli, jh kallis, cl wh...\n",
       "Name: Team1Players, Length: 950, dtype: object"
      ]
     },
     "execution_count": 16,
     "metadata": {},
     "output_type": "execute_result"
    }
   ],
   "source": [
    "df.Team1Players"
   ]
  },
  {
   "cell_type": "code",
   "execution_count": 17,
   "id": "e850e4ab-a688-4ccc-ad12-8673e2803ff1",
   "metadata": {},
   "outputs": [
    {
     "data": {
      "text/plain": [
       "0      [wp saha, shubman gill, ms wade, hh pandya, da...\n",
       "1      [ybk jaiswal, jc buttler, sv samson, d padikka...\n",
       "2      [q de kock, kl rahul, m vohra, dj hooda, mp st...\n",
       "3      [wp saha, shubman gill, ms wade, hh pandya, da...\n",
       "4      [jm bairstow, s dhawan, m shahrukh khan, ma ag...\n",
       "                             ...                        \n",
       "945    [ac gilchrist, y venugopal rao, vvs laxman, a ...\n",
       "946    [s chanderpaul, r dravid, lrpl taylor, jh kall...\n",
       "947    [t kohli, yk pathan, sr watson, m kaif, ds leh...\n",
       "948    [pa patel, ml hayden, mek hussey, ms dhoni, sk...\n",
       "949    [sc ganguly, bb mccullum, rt ponting, dj husse...\n",
       "Name: Team2Players, Length: 950, dtype: object"
      ]
     },
     "execution_count": 17,
     "metadata": {},
     "output_type": "execute_result"
    }
   ],
   "source": [
    "df.Team2Players"
   ]
  },
  {
   "cell_type": "markdown",
   "id": "97b61919-3c64-41ec-99cd-347f000f5c48",
   "metadata": {},
   "source": [
    "### Batting Features"
   ]
  },
  {
   "cell_type": "code",
   "execution_count": 18,
   "id": "f5623e8c-0d54-418c-b4b2-ec3e479e7b7c",
   "metadata": {
    "scrolled": true
   },
   "outputs": [
    {
     "data": {
      "text/plain": [
       "Index(['ID', 'City', 'Date', 'Season', 'MatchNumber', 'Team1', 'Team2',\n",
       "       'Venue', 'TossWinner', 'TossDecision', 'WinningTeam', 'innings_total',\n",
       "       'TeamA_batting_average', 'TeamB_batting_average', 'TeamA_innings_total',\n",
       "       'TeamB_innings_total', 'Team1_points_against_avg',\n",
       "       'Team2_points_against_avg', 'Team1_MVP_average', 'Team2_MVP_average',\n",
       "       'Team1Players', 'Team2Players', 'Avg_Weighted_Score_Team1',\n",
       "       'Avg_Weighted_Score_Team2', 'batting_average_PlayersTeam1_weighted',\n",
       "       'batting_average_PlayersTeam2_weighted',\n",
       "       'batting_strike_rate_PlayersTeam1_weighted',\n",
       "       'batting_strike_rate_PlayersTeam2_weighted'],\n",
       "      dtype='object')"
      ]
     },
     "execution_count": 18,
     "metadata": {},
     "output_type": "execute_result"
    }
   ],
   "source": [
    "def weighted_average_score(players_list, players_df):\n",
    "    # Filters the player information in the DataFrame based on the names of the players in the list\n",
    "    player_info = players_df[players_df['player'].isin(players_list)].copy()\n",
    "\n",
    "    # Calculates the weight for each player based on the average_score (for example, using the square root function)\n",
    "\n",
    "    #square root function: \n",
    "    player_info['weight'] = np.sqrt(player_info['average_score'])\n",
    "\n",
    "    # Calculates the weighted average using the weights\n",
    "    weighted_avg = (players_df['average_score'] * player_info['weight']).sum() / player_info['weight'].sum()\n",
    "    \n",
    "    return weighted_avg\n",
    "\n",
    "# Applies the function to calculate Team1 and Team2 weighted average\n",
    "df['Avg_Weighted_Score_Team1'] = df['Team1Players'].apply(lambda players: weighted_average_score(players, players_df))\n",
    "df['Avg_Weighted_Score_Team2'] = df['Team2Players'].apply(lambda players: weighted_average_score(players, players_df))\n",
    "\n",
    "def weighted_batting_average(players_list, players_df):\n",
    "    \n",
    "    player_info = players_df[players_df['player'].isin(players_list)].copy()\n",
    "\n",
    "    player_info['weight'] = np.sqrt(player_info['average_score'])\n",
    "\n",
    "    weighted_avg = (players_df['batting_average'] * player_info['weight']).sum() / player_info['weight'].sum()\n",
    "    \n",
    "    return weighted_avg\n",
    "\n",
    "df['batting_average_PlayersTeam1_weighted'] = df['Team1Players'].apply(lambda players: weighted_batting_average(players, players_df))\n",
    "df['batting_average_PlayersTeam2_weighted'] = df['Team2Players'].apply(lambda players: weighted_batting_average(players, players_df))\n",
    "\n",
    "\n",
    "def weighted_batting_strike_rate(players_list, players_df):\n",
    "    \n",
    "    player_info = players_df[players_df['player'].isin(players_list)].copy()\n",
    "\n",
    "    player_info['weight'] = np.sqrt(player_info['average_score'])\n",
    "\n",
    "    weighted_avg = (players_df['batting_strike_rate'] * player_info['weight']).sum() / player_info['weight'].sum()\n",
    "    \n",
    "    return weighted_avg\n",
    "\n",
    "df['batting_strike_rate_PlayersTeam1_weighted'] = df['Team1Players'].apply(lambda players: weighted_batting_strike_rate(players, players_df))\n",
    "df['batting_strike_rate_PlayersTeam2_weighted'] = df['Team2Players'].apply(lambda players: weighted_batting_strike_rate(players, players_df))\n",
    "df.columns"
   ]
  },
  {
   "cell_type": "markdown",
   "id": "544ab946-121b-46d6-833e-110e464228b3",
   "metadata": {},
   "source": [
    "### Bowling Features"
   ]
  },
  {
   "cell_type": "code",
   "execution_count": 19,
   "id": "1a638a35-7d85-4ffb-a785-058476aca134",
   "metadata": {},
   "outputs": [],
   "source": [
    "df['bowling_average_PlayersTeam1'] = df['Team1Players'].apply(lambda players: players_df[players_df['player'].isin(players)]['bowling_average'].mean())\n",
    "df['bowling_average_PlayersTeam2'] = df['Team2Players'].apply(lambda players: players_df[players_df['player'].isin(players)]['bowling_average'].mean())\n",
    "\n",
    "df['bowling_economy_rate_PlayersTeam1'] = df['Team1Players'].apply(lambda players: players_df[players_df['player'].isin(players)]['bowling_economy_rate'].mean())\n",
    "df['bowling_economy_rate_PlayersTeam2'] = df['Team2Players'].apply(lambda players: players_df[players_df['player'].isin(players)]['bowling_economy_rate'].mean())\n",
    "\n",
    "df['bowling_strike_rate_PlayersTeam1'] = df['Team1Players'].apply(lambda players: players_df[players_df['player'].isin(players)]['bowling_strike_rate'].mean())\n",
    "df['bowling_strike_rate_PlayersTeam2'] = df['Team2Players'].apply(lambda players: players_df[players_df['player'].isin(players)]['bowling_strike_rate'].mean())\n",
    "\n"
   ]
  },
  {
   "cell_type": "markdown",
   "id": "f78d5aa5-75e9-4fc2-8072-5e501d87b7be",
   "metadata": {},
   "source": [
    "### Win Ratio Feature"
   ]
  },
  {
   "cell_type": "code",
   "execution_count": 20,
   "id": "ddcb817a-6136-45f4-817f-204892aa3390",
   "metadata": {},
   "outputs": [],
   "source": [
    "df['win_ratio_PlayersTeam1'] = df['Team1Players'].apply(lambda players: players_df[players_df['player'].isin(players)]['win_ratio'].mean())\n",
    "df['win_ratio_PlayersTeam2'] = df['Team2Players'].apply(lambda players: players_df[players_df['player'].isin(players)]['win_ratio'].mean())\n",
    "\n"
   ]
  },
  {
   "cell_type": "markdown",
   "id": "7a696c9d-2279-4a29-9c88-4ee78ceb4043",
   "metadata": {},
   "source": [
    "### Differences Team1 and Team2"
   ]
  },
  {
   "cell_type": "code",
   "execution_count": 21,
   "id": "852ca450-20f9-469f-b504-df0929dac906",
   "metadata": {},
   "outputs": [],
   "source": [
    "df['Avg_Weighted_Score_diff'] = df['Avg_Weighted_Score_Team1'] - df['Avg_Weighted_Score_Team2']\n",
    "\n",
    "df['batting_average_weighted_diff'] = df['batting_average_PlayersTeam1_weighted'] - df['batting_average_PlayersTeam2_weighted']\n",
    "\n",
    "df['batting_strike_rate_weighted_diff'] = df['batting_strike_rate_PlayersTeam1_weighted'] - df['batting_strike_rate_PlayersTeam2_weighted']\n",
    "\n",
    "df['bowling_average_diff'] = df['bowling_average_PlayersTeam1'] - df['bowling_average_PlayersTeam2']\n",
    "\n",
    "df['bowling_economy_rate_diff'] = df['bowling_economy_rate_PlayersTeam1'] - df['bowling_economy_rate_PlayersTeam2']\n",
    "\n",
    "df['bowling_strike_rate_diff'] = df['bowling_strike_rate_PlayersTeam1'] - df['bowling_strike_rate_PlayersTeam2']\n",
    "\n",
    "df['win_ratio_diff'] = df['win_ratio_PlayersTeam1'] - df['win_ratio_PlayersTeam2']"
   ]
  },
  {
   "cell_type": "code",
   "execution_count": 22,
   "id": "a82ea706-39c4-43eb-a8e8-b308dc6c908b",
   "metadata": {},
   "outputs": [
    {
     "data": {
      "text/html": [
       "<div>\n",
       "<style scoped>\n",
       "    .dataframe tbody tr th:only-of-type {\n",
       "        vertical-align: middle;\n",
       "    }\n",
       "\n",
       "    .dataframe tbody tr th {\n",
       "        vertical-align: top;\n",
       "    }\n",
       "\n",
       "    .dataframe thead th {\n",
       "        text-align: right;\n",
       "    }\n",
       "</style>\n",
       "<table border=\"1\" class=\"dataframe\">\n",
       "  <thead>\n",
       "    <tr style=\"text-align: right;\">\n",
       "      <th></th>\n",
       "      <th>ID</th>\n",
       "      <th>City</th>\n",
       "      <th>Date</th>\n",
       "      <th>Season</th>\n",
       "      <th>MatchNumber</th>\n",
       "      <th>Team1</th>\n",
       "      <th>Team2</th>\n",
       "      <th>Venue</th>\n",
       "      <th>TossWinner</th>\n",
       "      <th>TossDecision</th>\n",
       "      <th>...</th>\n",
       "      <th>bowling_strike_rate_PlayersTeam2</th>\n",
       "      <th>win_ratio_PlayersTeam1</th>\n",
       "      <th>win_ratio_PlayersTeam2</th>\n",
       "      <th>Avg_Weighted_Score_diff</th>\n",
       "      <th>batting_average_weighted_diff</th>\n",
       "      <th>batting_strike_rate_weighted_diff</th>\n",
       "      <th>bowling_average_diff</th>\n",
       "      <th>bowling_economy_rate_diff</th>\n",
       "      <th>bowling_strike_rate_diff</th>\n",
       "      <th>win_ratio_diff</th>\n",
       "    </tr>\n",
       "  </thead>\n",
       "  <tbody>\n",
       "    <tr>\n",
       "      <th>0</th>\n",
       "      <td>1312200</td>\n",
       "      <td>ahmedabad</td>\n",
       "      <td>2022-05-29</td>\n",
       "      <td>2022</td>\n",
       "      <td>final</td>\n",
       "      <td>rajasthan royals</td>\n",
       "      <td>gujarat titans</td>\n",
       "      <td>narendra modi stadium, ahmedabad</td>\n",
       "      <td>rajasthan royals</td>\n",
       "      <td>bat</td>\n",
       "      <td>...</td>\n",
       "      <td>12.818182</td>\n",
       "      <td>0.531818</td>\n",
       "      <td>0.613636</td>\n",
       "      <td>2.561112</td>\n",
       "      <td>-4.967742</td>\n",
       "      <td>-0.751674</td>\n",
       "      <td>1.170000</td>\n",
       "      <td>2.803636</td>\n",
       "      <td>-0.272727</td>\n",
       "      <td>-0.081818</td>\n",
       "    </tr>\n",
       "    <tr>\n",
       "      <th>1</th>\n",
       "      <td>1312199</td>\n",
       "      <td>ahmedabad</td>\n",
       "      <td>2022-05-27</td>\n",
       "      <td>2022</td>\n",
       "      <td>qualifier 2</td>\n",
       "      <td>royal challengers bangalore</td>\n",
       "      <td>rajasthan royals</td>\n",
       "      <td>narendra modi stadium, ahmedabad</td>\n",
       "      <td>rajasthan royals</td>\n",
       "      <td>field</td>\n",
       "      <td>...</td>\n",
       "      <td>12.545455</td>\n",
       "      <td>0.514545</td>\n",
       "      <td>0.531818</td>\n",
       "      <td>1.476839</td>\n",
       "      <td>1.747039</td>\n",
       "      <td>-3.646447</td>\n",
       "      <td>13.921818</td>\n",
       "      <td>-0.486364</td>\n",
       "      <td>10.986364</td>\n",
       "      <td>-0.017273</td>\n",
       "    </tr>\n",
       "    <tr>\n",
       "      <th>2</th>\n",
       "      <td>1312198</td>\n",
       "      <td>kolkata</td>\n",
       "      <td>2022-05-25</td>\n",
       "      <td>2022</td>\n",
       "      <td>eliminator</td>\n",
       "      <td>royal challengers bangalore</td>\n",
       "      <td>lucknow super giants</td>\n",
       "      <td>eden gardens</td>\n",
       "      <td>lucknow super giants</td>\n",
       "      <td>field</td>\n",
       "      <td>...</td>\n",
       "      <td>15.052727</td>\n",
       "      <td>0.514545</td>\n",
       "      <td>0.530909</td>\n",
       "      <td>0.779066</td>\n",
       "      <td>-1.034351</td>\n",
       "      <td>-8.422789</td>\n",
       "      <td>12.004545</td>\n",
       "      <td>2.373636</td>\n",
       "      <td>8.479091</td>\n",
       "      <td>-0.016364</td>\n",
       "    </tr>\n",
       "    <tr>\n",
       "      <th>3</th>\n",
       "      <td>1312197</td>\n",
       "      <td>kolkata</td>\n",
       "      <td>2022-05-24</td>\n",
       "      <td>2022</td>\n",
       "      <td>qualifier 1</td>\n",
       "      <td>rajasthan royals</td>\n",
       "      <td>gujarat titans</td>\n",
       "      <td>eden gardens</td>\n",
       "      <td>gujarat titans</td>\n",
       "      <td>field</td>\n",
       "      <td>...</td>\n",
       "      <td>12.603636</td>\n",
       "      <td>0.531818</td>\n",
       "      <td>0.624545</td>\n",
       "      <td>2.601865</td>\n",
       "      <td>-0.111153</td>\n",
       "      <td>2.842541</td>\n",
       "      <td>1.291818</td>\n",
       "      <td>2.742727</td>\n",
       "      <td>-0.058182</td>\n",
       "      <td>-0.092727</td>\n",
       "    </tr>\n",
       "    <tr>\n",
       "      <th>4</th>\n",
       "      <td>1304116</td>\n",
       "      <td>mumbai</td>\n",
       "      <td>2022-05-22</td>\n",
       "      <td>2022</td>\n",
       "      <td>70</td>\n",
       "      <td>sunrisers hyderabad</td>\n",
       "      <td>punjab kings</td>\n",
       "      <td>wankhede stadium</td>\n",
       "      <td>sunrisers hyderabad</td>\n",
       "      <td>bat</td>\n",
       "      <td>...</td>\n",
       "      <td>11.501818</td>\n",
       "      <td>0.410000</td>\n",
       "      <td>0.532727</td>\n",
       "      <td>-2.409256</td>\n",
       "      <td>-1.564914</td>\n",
       "      <td>-19.543552</td>\n",
       "      <td>12.986364</td>\n",
       "      <td>2.799091</td>\n",
       "      <td>8.746364</td>\n",
       "      <td>-0.122727</td>\n",
       "    </tr>\n",
       "  </tbody>\n",
       "</table>\n",
       "<p>5 rows × 43 columns</p>\n",
       "</div>"
      ],
      "text/plain": [
       "        ID       City        Date  Season  MatchNumber  \\\n",
       "0  1312200  ahmedabad  2022-05-29    2022        final   \n",
       "1  1312199  ahmedabad  2022-05-27    2022  qualifier 2   \n",
       "2  1312198    kolkata  2022-05-25    2022   eliminator   \n",
       "3  1312197    kolkata  2022-05-24    2022  qualifier 1   \n",
       "4  1304116     mumbai  2022-05-22    2022           70   \n",
       "\n",
       "                         Team1                 Team2  \\\n",
       "0             rajasthan royals        gujarat titans   \n",
       "1  royal challengers bangalore      rajasthan royals   \n",
       "2  royal challengers bangalore  lucknow super giants   \n",
       "3             rajasthan royals        gujarat titans   \n",
       "4          sunrisers hyderabad          punjab kings   \n",
       "\n",
       "                              Venue            TossWinner TossDecision  ...  \\\n",
       "0  narendra modi stadium, ahmedabad      rajasthan royals          bat  ...   \n",
       "1  narendra modi stadium, ahmedabad      rajasthan royals        field  ...   \n",
       "2                      eden gardens  lucknow super giants        field  ...   \n",
       "3                      eden gardens        gujarat titans        field  ...   \n",
       "4                  wankhede stadium   sunrisers hyderabad          bat  ...   \n",
       "\n",
       "  bowling_strike_rate_PlayersTeam2  win_ratio_PlayersTeam1  \\\n",
       "0                        12.818182                0.531818   \n",
       "1                        12.545455                0.514545   \n",
       "2                        15.052727                0.514545   \n",
       "3                        12.603636                0.531818   \n",
       "4                        11.501818                0.410000   \n",
       "\n",
       "   win_ratio_PlayersTeam2  Avg_Weighted_Score_diff  \\\n",
       "0                0.613636                 2.561112   \n",
       "1                0.531818                 1.476839   \n",
       "2                0.530909                 0.779066   \n",
       "3                0.624545                 2.601865   \n",
       "4                0.532727                -2.409256   \n",
       "\n",
       "   batting_average_weighted_diff  batting_strike_rate_weighted_diff  \\\n",
       "0                      -4.967742                          -0.751674   \n",
       "1                       1.747039                          -3.646447   \n",
       "2                      -1.034351                          -8.422789   \n",
       "3                      -0.111153                           2.842541   \n",
       "4                      -1.564914                         -19.543552   \n",
       "\n",
       "   bowling_average_diff  bowling_economy_rate_diff  bowling_strike_rate_diff  \\\n",
       "0              1.170000                   2.803636                 -0.272727   \n",
       "1             13.921818                  -0.486364                 10.986364   \n",
       "2             12.004545                   2.373636                  8.479091   \n",
       "3              1.291818                   2.742727                 -0.058182   \n",
       "4             12.986364                   2.799091                  8.746364   \n",
       "\n",
       "   win_ratio_diff  \n",
       "0       -0.081818  \n",
       "1       -0.017273  \n",
       "2       -0.016364  \n",
       "3       -0.092727  \n",
       "4       -0.122727  \n",
       "\n",
       "[5 rows x 43 columns]"
      ]
     },
     "execution_count": 22,
     "metadata": {},
     "output_type": "execute_result"
    }
   ],
   "source": [
    "df.head()\n"
   ]
  },
  {
   "cell_type": "markdown",
   "id": "0214ca17-f271-4245-aa42-660ff6d088e8",
   "metadata": {},
   "source": [
    "## Preprocessing"
   ]
  },
  {
   "cell_type": "code",
   "execution_count": 23,
   "id": "4fbce064-278f-4ae0-8c34-d77e2502d640",
   "metadata": {},
   "outputs": [],
   "source": [
    "from sklearn.preprocessing import LabelEncoder, OrdinalEncoder, OneHotEncoder\n",
    "from sklearn.preprocessing import RobustScaler\n",
    "\n",
    "from sklearn.model_selection import train_test_split\n",
    "from sklearn.metrics import accuracy_score"
   ]
  },
  {
   "cell_type": "code",
   "execution_count": 24,
   "id": "07ea7a01-839c-45c4-acb8-d58e7f6d650e",
   "metadata": {},
   "outputs": [
    {
     "data": {
      "text/plain": [
       "Index(['ID', 'City', 'Date', 'Season', 'MatchNumber', 'Team1', 'Team2',\n",
       "       'Venue', 'TossWinner', 'TossDecision', 'WinningTeam', 'innings_total',\n",
       "       'TeamA_batting_average', 'TeamB_batting_average', 'TeamA_innings_total',\n",
       "       'TeamB_innings_total', 'Team1_points_against_avg',\n",
       "       'Team2_points_against_avg', 'Team1_MVP_average', 'Team2_MVP_average',\n",
       "       'Team1Players', 'Team2Players', 'Avg_Weighted_Score_Team1',\n",
       "       'Avg_Weighted_Score_Team2', 'batting_average_PlayersTeam1_weighted',\n",
       "       'batting_average_PlayersTeam2_weighted',\n",
       "       'batting_strike_rate_PlayersTeam1_weighted',\n",
       "       'batting_strike_rate_PlayersTeam2_weighted',\n",
       "       'bowling_average_PlayersTeam1', 'bowling_average_PlayersTeam2',\n",
       "       'bowling_economy_rate_PlayersTeam1',\n",
       "       'bowling_economy_rate_PlayersTeam2', 'bowling_strike_rate_PlayersTeam1',\n",
       "       'bowling_strike_rate_PlayersTeam2', 'win_ratio_PlayersTeam1',\n",
       "       'win_ratio_PlayersTeam2', 'Avg_Weighted_Score_diff',\n",
       "       'batting_average_weighted_diff', 'batting_strike_rate_weighted_diff',\n",
       "       'bowling_average_diff', 'bowling_economy_rate_diff',\n",
       "       'bowling_strike_rate_diff', 'win_ratio_diff'],\n",
       "      dtype='object')"
      ]
     },
     "execution_count": 24,
     "metadata": {},
     "output_type": "execute_result"
    }
   ],
   "source": [
    "df.columns"
   ]
  },
  {
   "cell_type": "markdown",
   "id": "6ea62890-a6fa-4ac9-94b4-1ac8fdbd4923",
   "metadata": {},
   "source": [
    "### Rename Columns"
   ]
  },
  {
   "cell_type": "code",
   "execution_count": 25,
   "id": "e9b519c0-ebf4-4330-8461-9b4f7ebcb199",
   "metadata": {},
   "outputs": [],
   "source": [
    "# rename columns TeamA and TeamB to Team1 and Team2\n",
    "df = df.rename({'TeamA_batting_average': 'Team1_batting_average',\n",
    "           'TeamB_batting_average': 'Team2_batting_average',\n",
    "           'TeamA_innings_total': 'Team1_innings_total',\n",
    "           'TeamB_innings_total' : 'Team2_innings_total'\n",
    "          }, axis=1)"
   ]
  },
  {
   "cell_type": "code",
   "execution_count": 26,
   "id": "3c75b8b9-f579-4d2e-857f-b1f745aded07",
   "metadata": {},
   "outputs": [
    {
     "data": {
      "text/plain": [
       "Index(['ID', 'City', 'Date', 'Season', 'MatchNumber', 'Team1', 'Team2',\n",
       "       'Venue', 'TossWinner', 'TossDecision', 'WinningTeam', 'innings_total',\n",
       "       'Team1_batting_average', 'Team2_batting_average', 'Team1_innings_total',\n",
       "       'Team2_innings_total', 'Team1_points_against_avg',\n",
       "       'Team2_points_against_avg', 'Team1_MVP_average', 'Team2_MVP_average',\n",
       "       'Team1Players', 'Team2Players', 'Avg_Weighted_Score_Team1',\n",
       "       'Avg_Weighted_Score_Team2', 'batting_average_PlayersTeam1_weighted',\n",
       "       'batting_average_PlayersTeam2_weighted',\n",
       "       'batting_strike_rate_PlayersTeam1_weighted',\n",
       "       'batting_strike_rate_PlayersTeam2_weighted',\n",
       "       'bowling_average_PlayersTeam1', 'bowling_average_PlayersTeam2',\n",
       "       'bowling_economy_rate_PlayersTeam1',\n",
       "       'bowling_economy_rate_PlayersTeam2', 'bowling_strike_rate_PlayersTeam1',\n",
       "       'bowling_strike_rate_PlayersTeam2', 'win_ratio_PlayersTeam1',\n",
       "       'win_ratio_PlayersTeam2', 'Avg_Weighted_Score_diff',\n",
       "       'batting_average_weighted_diff', 'batting_strike_rate_weighted_diff',\n",
       "       'bowling_average_diff', 'bowling_economy_rate_diff',\n",
       "       'bowling_strike_rate_diff', 'win_ratio_diff'],\n",
       "      dtype='object')"
      ]
     },
     "execution_count": 26,
     "metadata": {},
     "output_type": "execute_result"
    }
   ],
   "source": [
    "df.columns"
   ]
  },
  {
   "cell_type": "markdown",
   "id": "3f030d68-5cbe-48d0-bd71-9e4367311e80",
   "metadata": {},
   "source": [
    "### Drop Columns"
   ]
  },
  {
   "cell_type": "code",
   "execution_count": 27,
   "id": "a4775765-e410-45ec-bd32-2633233140da",
   "metadata": {},
   "outputs": [],
   "source": [
    "columns_to_delete = ['ID', 'Date', 'innings_total', 'Team1_innings_total', 'Team2_innings_total', 'Team1Players', 'Team2Players',\n",
    "                    'Team1_batting_average', 'Team2_batting_average', 'Team1_points_against_avg', 'Team2_points_against_avg',\n",
    "                    'Team1_MVP_average', 'Team2_MVP_average', 'Avg_Weighted_Score_Team1', 'Avg_Weighted_Score_Team2',\n",
    "                    'batting_average_PlayersTeam1_weighted', 'batting_average_PlayersTeam2_weighted',\n",
    "                    'batting_strike_rate_PlayersTeam1_weighted', 'batting_strike_rate_PlayersTeam2_weighted',\n",
    "                    'bowling_average_PlayersTeam1', 'bowling_average_PlayersTeam2', 'bowling_economy_rate_PlayersTeam1',\n",
    "                    'bowling_economy_rate_PlayersTeam2', 'bowling_strike_rate_PlayersTeam1',\n",
    "                    'bowling_strike_rate_PlayersTeam2', 'win_ratio_PlayersTeam1', 'win_ratio_PlayersTeam2', 'bowling_strike_rate_diff',\n",
    "                    'MatchNumber']"
   ]
  },
  {
   "cell_type": "code",
   "execution_count": 28,
   "id": "81cff82a-fd9a-4f3e-95db-d08b55bd5d09",
   "metadata": {},
   "outputs": [],
   "source": [
    "df.drop(columns=columns_to_delete, axis=1, inplace=True)"
   ]
  },
  {
   "cell_type": "code",
   "execution_count": 29,
   "id": "a2c9bf9e-6e77-414e-85fb-afddac399276",
   "metadata": {},
   "outputs": [
    {
     "data": {
      "text/plain": [
       "Index(['City', 'Season', 'Team1', 'Team2', 'Venue', 'TossWinner',\n",
       "       'TossDecision', 'WinningTeam', 'Avg_Weighted_Score_diff',\n",
       "       'batting_average_weighted_diff', 'batting_strike_rate_weighted_diff',\n",
       "       'bowling_average_diff', 'bowling_economy_rate_diff', 'win_ratio_diff'],\n",
       "      dtype='object')"
      ]
     },
     "execution_count": 29,
     "metadata": {},
     "output_type": "execute_result"
    }
   ],
   "source": [
    "df.columns"
   ]
  },
  {
   "cell_type": "code",
   "execution_count": 30,
   "id": "aef26315-c796-495f-98f6-9a09491969d6",
   "metadata": {},
   "outputs": [
    {
     "data": {
      "text/plain": [
       "0                   gujarat titans\n",
       "1                 rajasthan royals\n",
       "2      royal challengers bangalore\n",
       "3                   gujarat titans\n",
       "4                     punjab kings\n",
       "                  ...             \n",
       "945          kolkata knight riders\n",
       "946    royal challengers bangalore\n",
       "947                 delhi capitals\n",
       "948            chennai super kings\n",
       "949          kolkata knight riders\n",
       "Name: WinningTeam, Length: 950, dtype: object"
      ]
     },
     "execution_count": 30,
     "metadata": {},
     "output_type": "execute_result"
    }
   ],
   "source": [
    "df.WinningTeam"
   ]
  },
  {
   "cell_type": "markdown",
   "id": "0272b30f-adb7-4fa1-b421-60e55371ac3e",
   "metadata": {},
   "source": [
    "### Encoding"
   ]
  },
  {
   "cell_type": "markdown",
   "id": "60f927d3-ec0e-4e27-96d4-b538bc039de4",
   "metadata": {},
   "source": [
    "#### Toss Decision"
   ]
  },
  {
   "cell_type": "code",
   "execution_count": 31,
   "id": "5b1af772-2225-44ab-ba40-0161b417d1b0",
   "metadata": {},
   "outputs": [],
   "source": [
    "# model\n",
    "ohe = OneHotEncoder(sparse_output=False)"
   ]
  },
  {
   "cell_type": "code",
   "execution_count": 32,
   "id": "e249703d-2973-45be-be22-e7241d5f8d19",
   "metadata": {},
   "outputs": [
    {
     "data": {
      "text/html": [
       "<style>#sk-container-id-1 {color: black;}#sk-container-id-1 pre{padding: 0;}#sk-container-id-1 div.sk-toggleable {background-color: white;}#sk-container-id-1 label.sk-toggleable__label {cursor: pointer;display: block;width: 100%;margin-bottom: 0;padding: 0.3em;box-sizing: border-box;text-align: center;}#sk-container-id-1 label.sk-toggleable__label-arrow:before {content: \"▸\";float: left;margin-right: 0.25em;color: #696969;}#sk-container-id-1 label.sk-toggleable__label-arrow:hover:before {color: black;}#sk-container-id-1 div.sk-estimator:hover label.sk-toggleable__label-arrow:before {color: black;}#sk-container-id-1 div.sk-toggleable__content {max-height: 0;max-width: 0;overflow: hidden;text-align: left;background-color: #f0f8ff;}#sk-container-id-1 div.sk-toggleable__content pre {margin: 0.2em;color: black;border-radius: 0.25em;background-color: #f0f8ff;}#sk-container-id-1 input.sk-toggleable__control:checked~div.sk-toggleable__content {max-height: 200px;max-width: 100%;overflow: auto;}#sk-container-id-1 input.sk-toggleable__control:checked~label.sk-toggleable__label-arrow:before {content: \"▾\";}#sk-container-id-1 div.sk-estimator input.sk-toggleable__control:checked~label.sk-toggleable__label {background-color: #d4ebff;}#sk-container-id-1 div.sk-label input.sk-toggleable__control:checked~label.sk-toggleable__label {background-color: #d4ebff;}#sk-container-id-1 input.sk-hidden--visually {border: 0;clip: rect(1px 1px 1px 1px);clip: rect(1px, 1px, 1px, 1px);height: 1px;margin: -1px;overflow: hidden;padding: 0;position: absolute;width: 1px;}#sk-container-id-1 div.sk-estimator {font-family: monospace;background-color: #f0f8ff;border: 1px dotted black;border-radius: 0.25em;box-sizing: border-box;margin-bottom: 0.5em;}#sk-container-id-1 div.sk-estimator:hover {background-color: #d4ebff;}#sk-container-id-1 div.sk-parallel-item::after {content: \"\";width: 100%;border-bottom: 1px solid gray;flex-grow: 1;}#sk-container-id-1 div.sk-label:hover label.sk-toggleable__label {background-color: #d4ebff;}#sk-container-id-1 div.sk-serial::before {content: \"\";position: absolute;border-left: 1px solid gray;box-sizing: border-box;top: 0;bottom: 0;left: 50%;z-index: 0;}#sk-container-id-1 div.sk-serial {display: flex;flex-direction: column;align-items: center;background-color: white;padding-right: 0.2em;padding-left: 0.2em;position: relative;}#sk-container-id-1 div.sk-item {position: relative;z-index: 1;}#sk-container-id-1 div.sk-parallel {display: flex;align-items: stretch;justify-content: center;background-color: white;position: relative;}#sk-container-id-1 div.sk-item::before, #sk-container-id-1 div.sk-parallel-item::before {content: \"\";position: absolute;border-left: 1px solid gray;box-sizing: border-box;top: 0;bottom: 0;left: 50%;z-index: -1;}#sk-container-id-1 div.sk-parallel-item {display: flex;flex-direction: column;z-index: 1;position: relative;background-color: white;}#sk-container-id-1 div.sk-parallel-item:first-child::after {align-self: flex-end;width: 50%;}#sk-container-id-1 div.sk-parallel-item:last-child::after {align-self: flex-start;width: 50%;}#sk-container-id-1 div.sk-parallel-item:only-child::after {width: 0;}#sk-container-id-1 div.sk-dashed-wrapped {border: 1px dashed gray;margin: 0 0.4em 0.5em 0.4em;box-sizing: border-box;padding-bottom: 0.4em;background-color: white;}#sk-container-id-1 div.sk-label label {font-family: monospace;font-weight: bold;display: inline-block;line-height: 1.2em;}#sk-container-id-1 div.sk-label-container {text-align: center;}#sk-container-id-1 div.sk-container {/* jupyter's `normalize.less` sets `[hidden] { display: none; }` but bootstrap.min.css set `[hidden] { display: none !important; }` so we also need the `!important` here to be able to override the default hidden behavior on the sphinx rendered scikit-learn.org. See: https://github.com/scikit-learn/scikit-learn/issues/21755 */display: inline-block !important;position: relative;}#sk-container-id-1 div.sk-text-repr-fallback {display: none;}</style><div id=\"sk-container-id-1\" class=\"sk-top-container\"><div class=\"sk-text-repr-fallback\"><pre>OneHotEncoder(sparse_output=False)</pre><b>In a Jupyter environment, please rerun this cell to show the HTML representation or trust the notebook. <br />On GitHub, the HTML representation is unable to render, please try loading this page with nbviewer.org.</b></div><div class=\"sk-container\" hidden><div class=\"sk-item\"><div class=\"sk-estimator sk-toggleable\"><input class=\"sk-toggleable__control sk-hidden--visually\" id=\"sk-estimator-id-1\" type=\"checkbox\" checked><label for=\"sk-estimator-id-1\" class=\"sk-toggleable__label sk-toggleable__label-arrow\">OneHotEncoder</label><div class=\"sk-toggleable__content\"><pre>OneHotEncoder(sparse_output=False)</pre></div></div></div></div></div>"
      ],
      "text/plain": [
       "OneHotEncoder(sparse_output=False)"
      ]
     },
     "execution_count": 32,
     "metadata": {},
     "output_type": "execute_result"
    }
   ],
   "source": [
    "ohe.fit(df[['TossDecision']])"
   ]
  },
  {
   "cell_type": "code",
   "execution_count": 33,
   "id": "b26584b1-d9bc-4586-8f20-36c56d8bf7e9",
   "metadata": {},
   "outputs": [],
   "source": [
    "df[ohe.get_feature_names_out()] = ohe.transform(df[['TossDecision']])"
   ]
  },
  {
   "cell_type": "code",
   "execution_count": 34,
   "id": "893313b5-e8e0-408f-ae43-5828639a7caa",
   "metadata": {},
   "outputs": [],
   "source": [
    "df.drop(columns = [\"TossDecision\"], inplace = True)"
   ]
  },
  {
   "cell_type": "markdown",
   "id": "61de070e-902d-43cd-82e3-1edf28d699ee",
   "metadata": {},
   "source": [
    "#### City"
   ]
  },
  {
   "cell_type": "code",
   "execution_count": 35,
   "id": "67b20a00-b16e-4bac-8c3e-de6c41f2aaeb",
   "metadata": {},
   "outputs": [],
   "source": [
    "# model\n",
    "ohe = OneHotEncoder(sparse_output=False)"
   ]
  },
  {
   "cell_type": "code",
   "execution_count": 36,
   "id": "4cbdfe83-9de1-44a2-8728-95ebaf7dbdc0",
   "metadata": {},
   "outputs": [
    {
     "data": {
      "text/html": [
       "<style>#sk-container-id-2 {color: black;}#sk-container-id-2 pre{padding: 0;}#sk-container-id-2 div.sk-toggleable {background-color: white;}#sk-container-id-2 label.sk-toggleable__label {cursor: pointer;display: block;width: 100%;margin-bottom: 0;padding: 0.3em;box-sizing: border-box;text-align: center;}#sk-container-id-2 label.sk-toggleable__label-arrow:before {content: \"▸\";float: left;margin-right: 0.25em;color: #696969;}#sk-container-id-2 label.sk-toggleable__label-arrow:hover:before {color: black;}#sk-container-id-2 div.sk-estimator:hover label.sk-toggleable__label-arrow:before {color: black;}#sk-container-id-2 div.sk-toggleable__content {max-height: 0;max-width: 0;overflow: hidden;text-align: left;background-color: #f0f8ff;}#sk-container-id-2 div.sk-toggleable__content pre {margin: 0.2em;color: black;border-radius: 0.25em;background-color: #f0f8ff;}#sk-container-id-2 input.sk-toggleable__control:checked~div.sk-toggleable__content {max-height: 200px;max-width: 100%;overflow: auto;}#sk-container-id-2 input.sk-toggleable__control:checked~label.sk-toggleable__label-arrow:before {content: \"▾\";}#sk-container-id-2 div.sk-estimator input.sk-toggleable__control:checked~label.sk-toggleable__label {background-color: #d4ebff;}#sk-container-id-2 div.sk-label input.sk-toggleable__control:checked~label.sk-toggleable__label {background-color: #d4ebff;}#sk-container-id-2 input.sk-hidden--visually {border: 0;clip: rect(1px 1px 1px 1px);clip: rect(1px, 1px, 1px, 1px);height: 1px;margin: -1px;overflow: hidden;padding: 0;position: absolute;width: 1px;}#sk-container-id-2 div.sk-estimator {font-family: monospace;background-color: #f0f8ff;border: 1px dotted black;border-radius: 0.25em;box-sizing: border-box;margin-bottom: 0.5em;}#sk-container-id-2 div.sk-estimator:hover {background-color: #d4ebff;}#sk-container-id-2 div.sk-parallel-item::after {content: \"\";width: 100%;border-bottom: 1px solid gray;flex-grow: 1;}#sk-container-id-2 div.sk-label:hover label.sk-toggleable__label {background-color: #d4ebff;}#sk-container-id-2 div.sk-serial::before {content: \"\";position: absolute;border-left: 1px solid gray;box-sizing: border-box;top: 0;bottom: 0;left: 50%;z-index: 0;}#sk-container-id-2 div.sk-serial {display: flex;flex-direction: column;align-items: center;background-color: white;padding-right: 0.2em;padding-left: 0.2em;position: relative;}#sk-container-id-2 div.sk-item {position: relative;z-index: 1;}#sk-container-id-2 div.sk-parallel {display: flex;align-items: stretch;justify-content: center;background-color: white;position: relative;}#sk-container-id-2 div.sk-item::before, #sk-container-id-2 div.sk-parallel-item::before {content: \"\";position: absolute;border-left: 1px solid gray;box-sizing: border-box;top: 0;bottom: 0;left: 50%;z-index: -1;}#sk-container-id-2 div.sk-parallel-item {display: flex;flex-direction: column;z-index: 1;position: relative;background-color: white;}#sk-container-id-2 div.sk-parallel-item:first-child::after {align-self: flex-end;width: 50%;}#sk-container-id-2 div.sk-parallel-item:last-child::after {align-self: flex-start;width: 50%;}#sk-container-id-2 div.sk-parallel-item:only-child::after {width: 0;}#sk-container-id-2 div.sk-dashed-wrapped {border: 1px dashed gray;margin: 0 0.4em 0.5em 0.4em;box-sizing: border-box;padding-bottom: 0.4em;background-color: white;}#sk-container-id-2 div.sk-label label {font-family: monospace;font-weight: bold;display: inline-block;line-height: 1.2em;}#sk-container-id-2 div.sk-label-container {text-align: center;}#sk-container-id-2 div.sk-container {/* jupyter's `normalize.less` sets `[hidden] { display: none; }` but bootstrap.min.css set `[hidden] { display: none !important; }` so we also need the `!important` here to be able to override the default hidden behavior on the sphinx rendered scikit-learn.org. See: https://github.com/scikit-learn/scikit-learn/issues/21755 */display: inline-block !important;position: relative;}#sk-container-id-2 div.sk-text-repr-fallback {display: none;}</style><div id=\"sk-container-id-2\" class=\"sk-top-container\"><div class=\"sk-text-repr-fallback\"><pre>OneHotEncoder(sparse_output=False)</pre><b>In a Jupyter environment, please rerun this cell to show the HTML representation or trust the notebook. <br />On GitHub, the HTML representation is unable to render, please try loading this page with nbviewer.org.</b></div><div class=\"sk-container\" hidden><div class=\"sk-item\"><div class=\"sk-estimator sk-toggleable\"><input class=\"sk-toggleable__control sk-hidden--visually\" id=\"sk-estimator-id-2\" type=\"checkbox\" checked><label for=\"sk-estimator-id-2\" class=\"sk-toggleable__label sk-toggleable__label-arrow\">OneHotEncoder</label><div class=\"sk-toggleable__content\"><pre>OneHotEncoder(sparse_output=False)</pre></div></div></div></div></div>"
      ],
      "text/plain": [
       "OneHotEncoder(sparse_output=False)"
      ]
     },
     "execution_count": 36,
     "metadata": {},
     "output_type": "execute_result"
    }
   ],
   "source": [
    "ohe.fit(df[['City']])"
   ]
  },
  {
   "cell_type": "code",
   "execution_count": 37,
   "id": "9b22f6a1-819d-40b7-bf71-b56c4d0cf8a4",
   "metadata": {},
   "outputs": [],
   "source": [
    "df[ohe.get_feature_names_out()] = ohe.transform(df[['City']])"
   ]
  },
  {
   "cell_type": "code",
   "execution_count": 38,
   "id": "2b1f952d-79ef-4d0a-80a6-85560c103d04",
   "metadata": {},
   "outputs": [],
   "source": [
    "df.drop(columns = [\"City\"], inplace = True)"
   ]
  },
  {
   "cell_type": "markdown",
   "id": "dcaa5d95-80a4-461b-a024-d633d6916ed5",
   "metadata": {},
   "source": [
    "#### Winning Team"
   ]
  },
  {
   "cell_type": "code",
   "execution_count": 39,
   "id": "90d1ce41-2e67-48bb-a60e-c914ec6f24df",
   "metadata": {},
   "outputs": [],
   "source": [
    "# WinningTeam = 1 --> Team1 Won\n",
    "\n",
    "# function\n",
    "def map_winning_team(row):\n",
    "    if row['WinningTeam'] == row['Team1']:\n",
    "        return 1\n",
    "    elif row['WinningTeam'] == row['Team2']:\n",
    "        return 0\n",
    "    else:\n",
    "        return -1\n",
    "\n",
    "df['WinningTeam'] = df.apply(map_winning_team, axis=1)\n",
    "\n",
    "# drop rows with Winning Team = -1\n",
    "df = df.drop(df[df['WinningTeam'] == -1].index)"
   ]
  },
  {
   "cell_type": "markdown",
   "id": "b061990a-cb1d-4527-9779-10c133065a81",
   "metadata": {},
   "source": [
    "#### Venue"
   ]
  },
  {
   "cell_type": "code",
   "execution_count": 40,
   "id": "bc071565-ef22-4e89-b1c0-4b1d270e8fb5",
   "metadata": {},
   "outputs": [],
   "source": [
    "ohe = OneHotEncoder(sparse_output=False)"
   ]
  },
  {
   "cell_type": "code",
   "execution_count": 41,
   "id": "71315827-158b-4534-ae3a-861a3af02b7f",
   "metadata": {},
   "outputs": [
    {
     "data": {
      "text/html": [
       "<style>#sk-container-id-3 {color: black;}#sk-container-id-3 pre{padding: 0;}#sk-container-id-3 div.sk-toggleable {background-color: white;}#sk-container-id-3 label.sk-toggleable__label {cursor: pointer;display: block;width: 100%;margin-bottom: 0;padding: 0.3em;box-sizing: border-box;text-align: center;}#sk-container-id-3 label.sk-toggleable__label-arrow:before {content: \"▸\";float: left;margin-right: 0.25em;color: #696969;}#sk-container-id-3 label.sk-toggleable__label-arrow:hover:before {color: black;}#sk-container-id-3 div.sk-estimator:hover label.sk-toggleable__label-arrow:before {color: black;}#sk-container-id-3 div.sk-toggleable__content {max-height: 0;max-width: 0;overflow: hidden;text-align: left;background-color: #f0f8ff;}#sk-container-id-3 div.sk-toggleable__content pre {margin: 0.2em;color: black;border-radius: 0.25em;background-color: #f0f8ff;}#sk-container-id-3 input.sk-toggleable__control:checked~div.sk-toggleable__content {max-height: 200px;max-width: 100%;overflow: auto;}#sk-container-id-3 input.sk-toggleable__control:checked~label.sk-toggleable__label-arrow:before {content: \"▾\";}#sk-container-id-3 div.sk-estimator input.sk-toggleable__control:checked~label.sk-toggleable__label {background-color: #d4ebff;}#sk-container-id-3 div.sk-label input.sk-toggleable__control:checked~label.sk-toggleable__label {background-color: #d4ebff;}#sk-container-id-3 input.sk-hidden--visually {border: 0;clip: rect(1px 1px 1px 1px);clip: rect(1px, 1px, 1px, 1px);height: 1px;margin: -1px;overflow: hidden;padding: 0;position: absolute;width: 1px;}#sk-container-id-3 div.sk-estimator {font-family: monospace;background-color: #f0f8ff;border: 1px dotted black;border-radius: 0.25em;box-sizing: border-box;margin-bottom: 0.5em;}#sk-container-id-3 div.sk-estimator:hover {background-color: #d4ebff;}#sk-container-id-3 div.sk-parallel-item::after {content: \"\";width: 100%;border-bottom: 1px solid gray;flex-grow: 1;}#sk-container-id-3 div.sk-label:hover label.sk-toggleable__label {background-color: #d4ebff;}#sk-container-id-3 div.sk-serial::before {content: \"\";position: absolute;border-left: 1px solid gray;box-sizing: border-box;top: 0;bottom: 0;left: 50%;z-index: 0;}#sk-container-id-3 div.sk-serial {display: flex;flex-direction: column;align-items: center;background-color: white;padding-right: 0.2em;padding-left: 0.2em;position: relative;}#sk-container-id-3 div.sk-item {position: relative;z-index: 1;}#sk-container-id-3 div.sk-parallel {display: flex;align-items: stretch;justify-content: center;background-color: white;position: relative;}#sk-container-id-3 div.sk-item::before, #sk-container-id-3 div.sk-parallel-item::before {content: \"\";position: absolute;border-left: 1px solid gray;box-sizing: border-box;top: 0;bottom: 0;left: 50%;z-index: -1;}#sk-container-id-3 div.sk-parallel-item {display: flex;flex-direction: column;z-index: 1;position: relative;background-color: white;}#sk-container-id-3 div.sk-parallel-item:first-child::after {align-self: flex-end;width: 50%;}#sk-container-id-3 div.sk-parallel-item:last-child::after {align-self: flex-start;width: 50%;}#sk-container-id-3 div.sk-parallel-item:only-child::after {width: 0;}#sk-container-id-3 div.sk-dashed-wrapped {border: 1px dashed gray;margin: 0 0.4em 0.5em 0.4em;box-sizing: border-box;padding-bottom: 0.4em;background-color: white;}#sk-container-id-3 div.sk-label label {font-family: monospace;font-weight: bold;display: inline-block;line-height: 1.2em;}#sk-container-id-3 div.sk-label-container {text-align: center;}#sk-container-id-3 div.sk-container {/* jupyter's `normalize.less` sets `[hidden] { display: none; }` but bootstrap.min.css set `[hidden] { display: none !important; }` so we also need the `!important` here to be able to override the default hidden behavior on the sphinx rendered scikit-learn.org. See: https://github.com/scikit-learn/scikit-learn/issues/21755 */display: inline-block !important;position: relative;}#sk-container-id-3 div.sk-text-repr-fallback {display: none;}</style><div id=\"sk-container-id-3\" class=\"sk-top-container\"><div class=\"sk-text-repr-fallback\"><pre>OneHotEncoder(sparse_output=False)</pre><b>In a Jupyter environment, please rerun this cell to show the HTML representation or trust the notebook. <br />On GitHub, the HTML representation is unable to render, please try loading this page with nbviewer.org.</b></div><div class=\"sk-container\" hidden><div class=\"sk-item\"><div class=\"sk-estimator sk-toggleable\"><input class=\"sk-toggleable__control sk-hidden--visually\" id=\"sk-estimator-id-3\" type=\"checkbox\" checked><label for=\"sk-estimator-id-3\" class=\"sk-toggleable__label sk-toggleable__label-arrow\">OneHotEncoder</label><div class=\"sk-toggleable__content\"><pre>OneHotEncoder(sparse_output=False)</pre></div></div></div></div></div>"
      ],
      "text/plain": [
       "OneHotEncoder(sparse_output=False)"
      ]
     },
     "execution_count": 41,
     "metadata": {},
     "output_type": "execute_result"
    }
   ],
   "source": [
    "ohe.fit(df[['Venue']])"
   ]
  },
  {
   "cell_type": "code",
   "execution_count": 42,
   "id": "407b26b1-c34e-4375-ba15-2fc3529d8e79",
   "metadata": {},
   "outputs": [],
   "source": [
    "df[ohe.get_feature_names_out()] = ohe.transform(df[['Venue']])"
   ]
  },
  {
   "cell_type": "code",
   "execution_count": 43,
   "id": "afb11fd5-02cb-48bf-8cba-909cdf33e04f",
   "metadata": {},
   "outputs": [],
   "source": [
    "df.drop(columns = [\"Venue\"], inplace = True)"
   ]
  },
  {
   "cell_type": "markdown",
   "id": "a5877e88-b849-4e7b-918c-c736129723c4",
   "metadata": {},
   "source": [
    "#### Toss Winner"
   ]
  },
  {
   "cell_type": "code",
   "execution_count": 44,
   "id": "0dac0843-4d7d-4584-983b-e51d482d49ce",
   "metadata": {},
   "outputs": [],
   "source": [
    "# Toss Winner --> 0 = away team ; 1 = home team\n",
    "\n",
    "def map_toss_winner(row):\n",
    "    if row['TossWinner'] == row['Team1']:\n",
    "        return 1\n",
    "    elif row['TossWinner'] == row['Team2']:\n",
    "        return 0\n",
    "    else:\n",
    "        return -1\n",
    "\n",
    "df['TossWinner'] = df.apply(map_toss_winner, axis=1)"
   ]
  },
  {
   "cell_type": "markdown",
   "id": "298d0ce9-dedd-4e07-abb6-33aea1e15d6f",
   "metadata": {},
   "source": [
    "#### Team1 and Team2"
   ]
  },
  {
   "cell_type": "code",
   "execution_count": 45,
   "id": "44137dc7-4033-4488-9490-c944f642c268",
   "metadata": {},
   "outputs": [],
   "source": [
    "#hot encoder -- team 1\n",
    "ohe = OneHotEncoder(sparse_output=False)"
   ]
  },
  {
   "cell_type": "code",
   "execution_count": 46,
   "id": "4ce9c250-0505-46a0-9f34-05301575c6f4",
   "metadata": {},
   "outputs": [
    {
     "data": {
      "text/html": [
       "<style>#sk-container-id-4 {color: black;}#sk-container-id-4 pre{padding: 0;}#sk-container-id-4 div.sk-toggleable {background-color: white;}#sk-container-id-4 label.sk-toggleable__label {cursor: pointer;display: block;width: 100%;margin-bottom: 0;padding: 0.3em;box-sizing: border-box;text-align: center;}#sk-container-id-4 label.sk-toggleable__label-arrow:before {content: \"▸\";float: left;margin-right: 0.25em;color: #696969;}#sk-container-id-4 label.sk-toggleable__label-arrow:hover:before {color: black;}#sk-container-id-4 div.sk-estimator:hover label.sk-toggleable__label-arrow:before {color: black;}#sk-container-id-4 div.sk-toggleable__content {max-height: 0;max-width: 0;overflow: hidden;text-align: left;background-color: #f0f8ff;}#sk-container-id-4 div.sk-toggleable__content pre {margin: 0.2em;color: black;border-radius: 0.25em;background-color: #f0f8ff;}#sk-container-id-4 input.sk-toggleable__control:checked~div.sk-toggleable__content {max-height: 200px;max-width: 100%;overflow: auto;}#sk-container-id-4 input.sk-toggleable__control:checked~label.sk-toggleable__label-arrow:before {content: \"▾\";}#sk-container-id-4 div.sk-estimator input.sk-toggleable__control:checked~label.sk-toggleable__label {background-color: #d4ebff;}#sk-container-id-4 div.sk-label input.sk-toggleable__control:checked~label.sk-toggleable__label {background-color: #d4ebff;}#sk-container-id-4 input.sk-hidden--visually {border: 0;clip: rect(1px 1px 1px 1px);clip: rect(1px, 1px, 1px, 1px);height: 1px;margin: -1px;overflow: hidden;padding: 0;position: absolute;width: 1px;}#sk-container-id-4 div.sk-estimator {font-family: monospace;background-color: #f0f8ff;border: 1px dotted black;border-radius: 0.25em;box-sizing: border-box;margin-bottom: 0.5em;}#sk-container-id-4 div.sk-estimator:hover {background-color: #d4ebff;}#sk-container-id-4 div.sk-parallel-item::after {content: \"\";width: 100%;border-bottom: 1px solid gray;flex-grow: 1;}#sk-container-id-4 div.sk-label:hover label.sk-toggleable__label {background-color: #d4ebff;}#sk-container-id-4 div.sk-serial::before {content: \"\";position: absolute;border-left: 1px solid gray;box-sizing: border-box;top: 0;bottom: 0;left: 50%;z-index: 0;}#sk-container-id-4 div.sk-serial {display: flex;flex-direction: column;align-items: center;background-color: white;padding-right: 0.2em;padding-left: 0.2em;position: relative;}#sk-container-id-4 div.sk-item {position: relative;z-index: 1;}#sk-container-id-4 div.sk-parallel {display: flex;align-items: stretch;justify-content: center;background-color: white;position: relative;}#sk-container-id-4 div.sk-item::before, #sk-container-id-4 div.sk-parallel-item::before {content: \"\";position: absolute;border-left: 1px solid gray;box-sizing: border-box;top: 0;bottom: 0;left: 50%;z-index: -1;}#sk-container-id-4 div.sk-parallel-item {display: flex;flex-direction: column;z-index: 1;position: relative;background-color: white;}#sk-container-id-4 div.sk-parallel-item:first-child::after {align-self: flex-end;width: 50%;}#sk-container-id-4 div.sk-parallel-item:last-child::after {align-self: flex-start;width: 50%;}#sk-container-id-4 div.sk-parallel-item:only-child::after {width: 0;}#sk-container-id-4 div.sk-dashed-wrapped {border: 1px dashed gray;margin: 0 0.4em 0.5em 0.4em;box-sizing: border-box;padding-bottom: 0.4em;background-color: white;}#sk-container-id-4 div.sk-label label {font-family: monospace;font-weight: bold;display: inline-block;line-height: 1.2em;}#sk-container-id-4 div.sk-label-container {text-align: center;}#sk-container-id-4 div.sk-container {/* jupyter's `normalize.less` sets `[hidden] { display: none; }` but bootstrap.min.css set `[hidden] { display: none !important; }` so we also need the `!important` here to be able to override the default hidden behavior on the sphinx rendered scikit-learn.org. See: https://github.com/scikit-learn/scikit-learn/issues/21755 */display: inline-block !important;position: relative;}#sk-container-id-4 div.sk-text-repr-fallback {display: none;}</style><div id=\"sk-container-id-4\" class=\"sk-top-container\"><div class=\"sk-text-repr-fallback\"><pre>OneHotEncoder(sparse_output=False)</pre><b>In a Jupyter environment, please rerun this cell to show the HTML representation or trust the notebook. <br />On GitHub, the HTML representation is unable to render, please try loading this page with nbviewer.org.</b></div><div class=\"sk-container\" hidden><div class=\"sk-item\"><div class=\"sk-estimator sk-toggleable\"><input class=\"sk-toggleable__control sk-hidden--visually\" id=\"sk-estimator-id-4\" type=\"checkbox\" checked><label for=\"sk-estimator-id-4\" class=\"sk-toggleable__label sk-toggleable__label-arrow\">OneHotEncoder</label><div class=\"sk-toggleable__content\"><pre>OneHotEncoder(sparse_output=False)</pre></div></div></div></div></div>"
      ],
      "text/plain": [
       "OneHotEncoder(sparse_output=False)"
      ]
     },
     "execution_count": 46,
     "metadata": {},
     "output_type": "execute_result"
    }
   ],
   "source": [
    "ohe.fit(df[['Team1']])"
   ]
  },
  {
   "cell_type": "code",
   "execution_count": 47,
   "id": "fd2f0207-fbeb-4041-aad4-d385b8224a4d",
   "metadata": {},
   "outputs": [],
   "source": [
    "df[ohe.get_feature_names_out()] = ohe.transform(df[['Team1']])"
   ]
  },
  {
   "cell_type": "code",
   "execution_count": 48,
   "id": "3ecfe582-4f1b-44c9-a1c6-098e2e08b26b",
   "metadata": {},
   "outputs": [],
   "source": [
    "df.drop(columns = [\"Team1\"], inplace = True)"
   ]
  },
  {
   "cell_type": "code",
   "execution_count": 49,
   "id": "27847f39-b3f0-4de2-bd86-53ea0294d569",
   "metadata": {},
   "outputs": [],
   "source": [
    "# team2\n",
    "ohe = OneHotEncoder(sparse_output=False)"
   ]
  },
  {
   "cell_type": "code",
   "execution_count": 50,
   "id": "567da3d3-8c8c-412f-8766-d4966121bdde",
   "metadata": {},
   "outputs": [
    {
     "data": {
      "text/html": [
       "<style>#sk-container-id-5 {color: black;}#sk-container-id-5 pre{padding: 0;}#sk-container-id-5 div.sk-toggleable {background-color: white;}#sk-container-id-5 label.sk-toggleable__label {cursor: pointer;display: block;width: 100%;margin-bottom: 0;padding: 0.3em;box-sizing: border-box;text-align: center;}#sk-container-id-5 label.sk-toggleable__label-arrow:before {content: \"▸\";float: left;margin-right: 0.25em;color: #696969;}#sk-container-id-5 label.sk-toggleable__label-arrow:hover:before {color: black;}#sk-container-id-5 div.sk-estimator:hover label.sk-toggleable__label-arrow:before {color: black;}#sk-container-id-5 div.sk-toggleable__content {max-height: 0;max-width: 0;overflow: hidden;text-align: left;background-color: #f0f8ff;}#sk-container-id-5 div.sk-toggleable__content pre {margin: 0.2em;color: black;border-radius: 0.25em;background-color: #f0f8ff;}#sk-container-id-5 input.sk-toggleable__control:checked~div.sk-toggleable__content {max-height: 200px;max-width: 100%;overflow: auto;}#sk-container-id-5 input.sk-toggleable__control:checked~label.sk-toggleable__label-arrow:before {content: \"▾\";}#sk-container-id-5 div.sk-estimator input.sk-toggleable__control:checked~label.sk-toggleable__label {background-color: #d4ebff;}#sk-container-id-5 div.sk-label input.sk-toggleable__control:checked~label.sk-toggleable__label {background-color: #d4ebff;}#sk-container-id-5 input.sk-hidden--visually {border: 0;clip: rect(1px 1px 1px 1px);clip: rect(1px, 1px, 1px, 1px);height: 1px;margin: -1px;overflow: hidden;padding: 0;position: absolute;width: 1px;}#sk-container-id-5 div.sk-estimator {font-family: monospace;background-color: #f0f8ff;border: 1px dotted black;border-radius: 0.25em;box-sizing: border-box;margin-bottom: 0.5em;}#sk-container-id-5 div.sk-estimator:hover {background-color: #d4ebff;}#sk-container-id-5 div.sk-parallel-item::after {content: \"\";width: 100%;border-bottom: 1px solid gray;flex-grow: 1;}#sk-container-id-5 div.sk-label:hover label.sk-toggleable__label {background-color: #d4ebff;}#sk-container-id-5 div.sk-serial::before {content: \"\";position: absolute;border-left: 1px solid gray;box-sizing: border-box;top: 0;bottom: 0;left: 50%;z-index: 0;}#sk-container-id-5 div.sk-serial {display: flex;flex-direction: column;align-items: center;background-color: white;padding-right: 0.2em;padding-left: 0.2em;position: relative;}#sk-container-id-5 div.sk-item {position: relative;z-index: 1;}#sk-container-id-5 div.sk-parallel {display: flex;align-items: stretch;justify-content: center;background-color: white;position: relative;}#sk-container-id-5 div.sk-item::before, #sk-container-id-5 div.sk-parallel-item::before {content: \"\";position: absolute;border-left: 1px solid gray;box-sizing: border-box;top: 0;bottom: 0;left: 50%;z-index: -1;}#sk-container-id-5 div.sk-parallel-item {display: flex;flex-direction: column;z-index: 1;position: relative;background-color: white;}#sk-container-id-5 div.sk-parallel-item:first-child::after {align-self: flex-end;width: 50%;}#sk-container-id-5 div.sk-parallel-item:last-child::after {align-self: flex-start;width: 50%;}#sk-container-id-5 div.sk-parallel-item:only-child::after {width: 0;}#sk-container-id-5 div.sk-dashed-wrapped {border: 1px dashed gray;margin: 0 0.4em 0.5em 0.4em;box-sizing: border-box;padding-bottom: 0.4em;background-color: white;}#sk-container-id-5 div.sk-label label {font-family: monospace;font-weight: bold;display: inline-block;line-height: 1.2em;}#sk-container-id-5 div.sk-label-container {text-align: center;}#sk-container-id-5 div.sk-container {/* jupyter's `normalize.less` sets `[hidden] { display: none; }` but bootstrap.min.css set `[hidden] { display: none !important; }` so we also need the `!important` here to be able to override the default hidden behavior on the sphinx rendered scikit-learn.org. See: https://github.com/scikit-learn/scikit-learn/issues/21755 */display: inline-block !important;position: relative;}#sk-container-id-5 div.sk-text-repr-fallback {display: none;}</style><div id=\"sk-container-id-5\" class=\"sk-top-container\"><div class=\"sk-text-repr-fallback\"><pre>OneHotEncoder(sparse_output=False)</pre><b>In a Jupyter environment, please rerun this cell to show the HTML representation or trust the notebook. <br />On GitHub, the HTML representation is unable to render, please try loading this page with nbviewer.org.</b></div><div class=\"sk-container\" hidden><div class=\"sk-item\"><div class=\"sk-estimator sk-toggleable\"><input class=\"sk-toggleable__control sk-hidden--visually\" id=\"sk-estimator-id-5\" type=\"checkbox\" checked><label for=\"sk-estimator-id-5\" class=\"sk-toggleable__label sk-toggleable__label-arrow\">OneHotEncoder</label><div class=\"sk-toggleable__content\"><pre>OneHotEncoder(sparse_output=False)</pre></div></div></div></div></div>"
      ],
      "text/plain": [
       "OneHotEncoder(sparse_output=False)"
      ]
     },
     "execution_count": 50,
     "metadata": {},
     "output_type": "execute_result"
    }
   ],
   "source": [
    "ohe.fit(df[['Team2']])"
   ]
  },
  {
   "cell_type": "code",
   "execution_count": 51,
   "id": "03748d48-118e-4ec6-ba96-cdf2d3e057f7",
   "metadata": {},
   "outputs": [
    {
     "name": "stderr",
     "output_type": "stream",
     "text": [
      "/var/folders/0x/l5d3n5057_q6d5cdy8j9qmv00000gn/T/ipykernel_4911/3559460154.py:1: PerformanceWarning: DataFrame is highly fragmented.  This is usually the result of calling `frame.insert` many times, which has poor performance.  Consider joining all columns at once using pd.concat(axis=1) instead. To get a de-fragmented frame, use `newframe = frame.copy()`\n",
      "  df[ohe.get_feature_names_out()] = ohe.transform(df[['Team2']])\n",
      "/var/folders/0x/l5d3n5057_q6d5cdy8j9qmv00000gn/T/ipykernel_4911/3559460154.py:1: PerformanceWarning: DataFrame is highly fragmented.  This is usually the result of calling `frame.insert` many times, which has poor performance.  Consider joining all columns at once using pd.concat(axis=1) instead. To get a de-fragmented frame, use `newframe = frame.copy()`\n",
      "  df[ohe.get_feature_names_out()] = ohe.transform(df[['Team2']])\n",
      "/var/folders/0x/l5d3n5057_q6d5cdy8j9qmv00000gn/T/ipykernel_4911/3559460154.py:1: PerformanceWarning: DataFrame is highly fragmented.  This is usually the result of calling `frame.insert` many times, which has poor performance.  Consider joining all columns at once using pd.concat(axis=1) instead. To get a de-fragmented frame, use `newframe = frame.copy()`\n",
      "  df[ohe.get_feature_names_out()] = ohe.transform(df[['Team2']])\n",
      "/var/folders/0x/l5d3n5057_q6d5cdy8j9qmv00000gn/T/ipykernel_4911/3559460154.py:1: PerformanceWarning: DataFrame is highly fragmented.  This is usually the result of calling `frame.insert` many times, which has poor performance.  Consider joining all columns at once using pd.concat(axis=1) instead. To get a de-fragmented frame, use `newframe = frame.copy()`\n",
      "  df[ohe.get_feature_names_out()] = ohe.transform(df[['Team2']])\n",
      "/var/folders/0x/l5d3n5057_q6d5cdy8j9qmv00000gn/T/ipykernel_4911/3559460154.py:1: PerformanceWarning: DataFrame is highly fragmented.  This is usually the result of calling `frame.insert` many times, which has poor performance.  Consider joining all columns at once using pd.concat(axis=1) instead. To get a de-fragmented frame, use `newframe = frame.copy()`\n",
      "  df[ohe.get_feature_names_out()] = ohe.transform(df[['Team2']])\n",
      "/var/folders/0x/l5d3n5057_q6d5cdy8j9qmv00000gn/T/ipykernel_4911/3559460154.py:1: PerformanceWarning: DataFrame is highly fragmented.  This is usually the result of calling `frame.insert` many times, which has poor performance.  Consider joining all columns at once using pd.concat(axis=1) instead. To get a de-fragmented frame, use `newframe = frame.copy()`\n",
      "  df[ohe.get_feature_names_out()] = ohe.transform(df[['Team2']])\n"
     ]
    }
   ],
   "source": [
    "df[ohe.get_feature_names_out()] = ohe.transform(df[['Team2']])"
   ]
  },
  {
   "cell_type": "code",
   "execution_count": 52,
   "id": "3d88f78e-2232-4332-9af1-7f769709df8c",
   "metadata": {},
   "outputs": [],
   "source": [
    "df.drop(columns = [\"Team2\"], inplace = True)"
   ]
  },
  {
   "cell_type": "markdown",
   "id": "bb8d270e-90d1-43ab-a6d4-8aa9870bde80",
   "metadata": {},
   "source": [
    "#### Season"
   ]
  },
  {
   "cell_type": "code",
   "execution_count": 53,
   "id": "72a99ad1-ebe7-4530-9d01-fe929cb678c2",
   "metadata": {},
   "outputs": [],
   "source": [
    "label_encoder = LabelEncoder()"
   ]
  },
  {
   "cell_type": "code",
   "execution_count": 54,
   "id": "4054e01c-ae5c-407c-88c5-21cc1048d884",
   "metadata": {},
   "outputs": [],
   "source": [
    "df['Season'] = label_encoder.fit_transform(df['Season'])"
   ]
  },
  {
   "cell_type": "markdown",
   "id": "73e70b90-44a0-4a8a-99ac-fbd2325ba4ae",
   "metadata": {},
   "source": [
    "### Scaler"
   ]
  },
  {
   "cell_type": "code",
   "execution_count": 55,
   "id": "356d490c-cf2d-4a78-b634-7917c724eb48",
   "metadata": {},
   "outputs": [
    {
     "data": {
      "text/plain": [
       "Index(['Season', 'TossWinner', 'WinningTeam', 'Avg_Weighted_Score_diff',\n",
       "       'batting_average_weighted_diff', 'batting_strike_rate_weighted_diff',\n",
       "       'bowling_average_diff', 'bowling_economy_rate_diff', 'win_ratio_diff',\n",
       "       'TossDecision_bat',\n",
       "       ...\n",
       "       'Team2_kochi tuskers kerala', 'Team2_kolkata knight riders',\n",
       "       'Team2_lucknow super giants', 'Team2_mumbai indians',\n",
       "       'Team2_pune warriors', 'Team2_punjab kings', 'Team2_rajasthan royals',\n",
       "       'Team2_rising pune supergiant', 'Team2_royal challengers bangalore',\n",
       "       'Team2_sunrisers hyderabad'],\n",
       "      dtype='object', length=110)"
      ]
     },
     "execution_count": 55,
     "metadata": {},
     "output_type": "execute_result"
    }
   ],
   "source": [
    "df.columns"
   ]
  },
  {
   "cell_type": "code",
   "execution_count": 56,
   "id": "e3f01627-8483-404d-943e-5b769c7ca06b",
   "metadata": {},
   "outputs": [],
   "source": [
    "columns_scaler = ['Avg_Weighted_Score_diff', 'batting_average_weighted_diff', \n",
    "                  'batting_strike_rate_weighted_diff', 'bowling_average_diff', 'bowling_economy_rate_diff',\n",
    "                  'win_ratio_diff']"
   ]
  },
  {
   "cell_type": "code",
   "execution_count": 57,
   "id": "ad5346dd-afdc-4741-ac42-339c03c0a9c7",
   "metadata": {},
   "outputs": [],
   "source": [
    "# Robust Scaler\n",
    "scaler = RobustScaler()"
   ]
  },
  {
   "cell_type": "code",
   "execution_count": 58,
   "id": "1e33ce5d-b9be-4b09-b8f8-8c3264cdc22c",
   "metadata": {},
   "outputs": [
    {
     "data": {
      "text/html": [
       "<style>#sk-container-id-6 {color: black;}#sk-container-id-6 pre{padding: 0;}#sk-container-id-6 div.sk-toggleable {background-color: white;}#sk-container-id-6 label.sk-toggleable__label {cursor: pointer;display: block;width: 100%;margin-bottom: 0;padding: 0.3em;box-sizing: border-box;text-align: center;}#sk-container-id-6 label.sk-toggleable__label-arrow:before {content: \"▸\";float: left;margin-right: 0.25em;color: #696969;}#sk-container-id-6 label.sk-toggleable__label-arrow:hover:before {color: black;}#sk-container-id-6 div.sk-estimator:hover label.sk-toggleable__label-arrow:before {color: black;}#sk-container-id-6 div.sk-toggleable__content {max-height: 0;max-width: 0;overflow: hidden;text-align: left;background-color: #f0f8ff;}#sk-container-id-6 div.sk-toggleable__content pre {margin: 0.2em;color: black;border-radius: 0.25em;background-color: #f0f8ff;}#sk-container-id-6 input.sk-toggleable__control:checked~div.sk-toggleable__content {max-height: 200px;max-width: 100%;overflow: auto;}#sk-container-id-6 input.sk-toggleable__control:checked~label.sk-toggleable__label-arrow:before {content: \"▾\";}#sk-container-id-6 div.sk-estimator input.sk-toggleable__control:checked~label.sk-toggleable__label {background-color: #d4ebff;}#sk-container-id-6 div.sk-label input.sk-toggleable__control:checked~label.sk-toggleable__label {background-color: #d4ebff;}#sk-container-id-6 input.sk-hidden--visually {border: 0;clip: rect(1px 1px 1px 1px);clip: rect(1px, 1px, 1px, 1px);height: 1px;margin: -1px;overflow: hidden;padding: 0;position: absolute;width: 1px;}#sk-container-id-6 div.sk-estimator {font-family: monospace;background-color: #f0f8ff;border: 1px dotted black;border-radius: 0.25em;box-sizing: border-box;margin-bottom: 0.5em;}#sk-container-id-6 div.sk-estimator:hover {background-color: #d4ebff;}#sk-container-id-6 div.sk-parallel-item::after {content: \"\";width: 100%;border-bottom: 1px solid gray;flex-grow: 1;}#sk-container-id-6 div.sk-label:hover label.sk-toggleable__label {background-color: #d4ebff;}#sk-container-id-6 div.sk-serial::before {content: \"\";position: absolute;border-left: 1px solid gray;box-sizing: border-box;top: 0;bottom: 0;left: 50%;z-index: 0;}#sk-container-id-6 div.sk-serial {display: flex;flex-direction: column;align-items: center;background-color: white;padding-right: 0.2em;padding-left: 0.2em;position: relative;}#sk-container-id-6 div.sk-item {position: relative;z-index: 1;}#sk-container-id-6 div.sk-parallel {display: flex;align-items: stretch;justify-content: center;background-color: white;position: relative;}#sk-container-id-6 div.sk-item::before, #sk-container-id-6 div.sk-parallel-item::before {content: \"\";position: absolute;border-left: 1px solid gray;box-sizing: border-box;top: 0;bottom: 0;left: 50%;z-index: -1;}#sk-container-id-6 div.sk-parallel-item {display: flex;flex-direction: column;z-index: 1;position: relative;background-color: white;}#sk-container-id-6 div.sk-parallel-item:first-child::after {align-self: flex-end;width: 50%;}#sk-container-id-6 div.sk-parallel-item:last-child::after {align-self: flex-start;width: 50%;}#sk-container-id-6 div.sk-parallel-item:only-child::after {width: 0;}#sk-container-id-6 div.sk-dashed-wrapped {border: 1px dashed gray;margin: 0 0.4em 0.5em 0.4em;box-sizing: border-box;padding-bottom: 0.4em;background-color: white;}#sk-container-id-6 div.sk-label label {font-family: monospace;font-weight: bold;display: inline-block;line-height: 1.2em;}#sk-container-id-6 div.sk-label-container {text-align: center;}#sk-container-id-6 div.sk-container {/* jupyter's `normalize.less` sets `[hidden] { display: none; }` but bootstrap.min.css set `[hidden] { display: none !important; }` so we also need the `!important` here to be able to override the default hidden behavior on the sphinx rendered scikit-learn.org. See: https://github.com/scikit-learn/scikit-learn/issues/21755 */display: inline-block !important;position: relative;}#sk-container-id-6 div.sk-text-repr-fallback {display: none;}</style><div id=\"sk-container-id-6\" class=\"sk-top-container\"><div class=\"sk-text-repr-fallback\"><pre>RobustScaler()</pre><b>In a Jupyter environment, please rerun this cell to show the HTML representation or trust the notebook. <br />On GitHub, the HTML representation is unable to render, please try loading this page with nbviewer.org.</b></div><div class=\"sk-container\" hidden><div class=\"sk-item\"><div class=\"sk-estimator sk-toggleable\"><input class=\"sk-toggleable__control sk-hidden--visually\" id=\"sk-estimator-id-6\" type=\"checkbox\" checked><label for=\"sk-estimator-id-6\" class=\"sk-toggleable__label sk-toggleable__label-arrow\">RobustScaler</label><div class=\"sk-toggleable__content\"><pre>RobustScaler()</pre></div></div></div></div></div>"
      ],
      "text/plain": [
       "RobustScaler()"
      ]
     },
     "execution_count": 58,
     "metadata": {},
     "output_type": "execute_result"
    }
   ],
   "source": [
    "# fit\n",
    "scaler.fit(df[columns_scaler])"
   ]
  },
  {
   "cell_type": "code",
   "execution_count": 59,
   "id": "81183fd1-c5e5-43dc-81fd-e52478f9523c",
   "metadata": {},
   "outputs": [],
   "source": [
    "df[columns_scaler] = scaler.transform(df[columns_scaler]) "
   ]
  },
  {
   "cell_type": "markdown",
   "id": "dd9beb07-22ea-403d-9976-4df02597b0bb",
   "metadata": {},
   "source": [
    "## XG Boost Model"
   ]
  },
  {
   "cell_type": "code",
   "execution_count": 60,
   "id": "59254dc0-a94a-4f7e-bd0d-1507f1a67ca9",
   "metadata": {},
   "outputs": [],
   "source": [
    "import xgboost as xgb"
   ]
  },
  {
   "cell_type": "code",
   "execution_count": 61,
   "id": "db8fc448-440e-4817-87c1-4ab1244a41e3",
   "metadata": {},
   "outputs": [],
   "source": [
    "X = df.drop('WinningTeam', axis=1) \n",
    "y = df['WinningTeam']"
   ]
  },
  {
   "cell_type": "code",
   "execution_count": 62,
   "id": "f70b3c77-8901-4b22-a614-4abe8b2e46e4",
   "metadata": {},
   "outputs": [],
   "source": [
    "# split data \n",
    "X_train, X_test, y_train, y_test = train_test_split(X, y, test_size=0.2, random_state=42)"
   ]
  },
  {
   "cell_type": "code",
   "execution_count": 63,
   "id": "dd73fc41-4f73-409d-805d-dfee909d6fc9",
   "metadata": {},
   "outputs": [],
   "source": [
    "# model\n",
    "grid = {'max_depth': 5,\n",
    "       'base_score':0.5,\n",
    "       'booster': 'gblinear',\n",
    "        'gamma' : 0.1,\n",
    "        'n_estimators': 150,\n",
    "        'learning_rate': 0.1,\n",
    "        'reg_lambda': 0.3,\n",
    "       }\n",
    "\n",
    "\n",
    "model = xgb.XGBClassifier(**grid)"
   ]
  },
  {
   "cell_type": "code",
   "execution_count": 64,
   "id": "0278bb42-96e9-4e4d-8efd-8ef93625e796",
   "metadata": {
    "scrolled": true
   },
   "outputs": [
    {
     "name": "stderr",
     "output_type": "stream",
     "text": [
      "/Users/patrickevans29/.pyenv/versions/3.10.6/envs/ipl_prediction_model/lib/python3.10/site-packages/xgboost/data.py:312: FutureWarning: is_sparse is deprecated and will be removed in a future version. Check `isinstance(dtype, pd.SparseDtype)` instead.\n",
      "  if is_sparse(dtype):\n",
      "/Users/patrickevans29/.pyenv/versions/3.10.6/envs/ipl_prediction_model/lib/python3.10/site-packages/xgboost/data.py:314: FutureWarning: is_categorical_dtype is deprecated and will be removed in a future version. Use isinstance(dtype, CategoricalDtype) instead\n",
      "  elif is_categorical_dtype(dtype) and enable_categorical:\n",
      "/Users/patrickevans29/.pyenv/versions/3.10.6/envs/ipl_prediction_model/lib/python3.10/site-packages/xgboost/data.py:345: FutureWarning: is_categorical_dtype is deprecated and will be removed in a future version. Use isinstance(dtype, CategoricalDtype) instead\n",
      "  if is_categorical_dtype(dtype)\n",
      "/Users/patrickevans29/.pyenv/versions/3.10.6/envs/ipl_prediction_model/lib/python3.10/site-packages/xgboost/data.py:336: FutureWarning: is_categorical_dtype is deprecated and will be removed in a future version. Use isinstance(dtype, CategoricalDtype) instead\n",
      "  return is_int or is_bool or is_float or is_categorical_dtype(dtype)\n",
      "/Users/patrickevans29/.pyenv/versions/3.10.6/envs/ipl_prediction_model/lib/python3.10/site-packages/xgboost/data.py:440: FutureWarning: is_sparse is deprecated and will be removed in a future version. Check `isinstance(dtype, pd.SparseDtype)` instead.\n",
      "  if is_sparse(data):\n"
     ]
    },
    {
     "name": "stdout",
     "output_type": "stream",
     "text": [
      "[09:57:49] WARNING: /Users/runner/work/xgboost/xgboost/python-package/build/temp.macosx-10.9-x86_64-cpython-38/xgboost/src/learner.cc:767: \n",
      "Parameters: { \"gamma\", \"max_depth\" } are not used.\n",
      "\n"
     ]
    },
    {
     "data": {
      "text/html": [
       "<style>#sk-container-id-7 {color: black;}#sk-container-id-7 pre{padding: 0;}#sk-container-id-7 div.sk-toggleable {background-color: white;}#sk-container-id-7 label.sk-toggleable__label {cursor: pointer;display: block;width: 100%;margin-bottom: 0;padding: 0.3em;box-sizing: border-box;text-align: center;}#sk-container-id-7 label.sk-toggleable__label-arrow:before {content: \"▸\";float: left;margin-right: 0.25em;color: #696969;}#sk-container-id-7 label.sk-toggleable__label-arrow:hover:before {color: black;}#sk-container-id-7 div.sk-estimator:hover label.sk-toggleable__label-arrow:before {color: black;}#sk-container-id-7 div.sk-toggleable__content {max-height: 0;max-width: 0;overflow: hidden;text-align: left;background-color: #f0f8ff;}#sk-container-id-7 div.sk-toggleable__content pre {margin: 0.2em;color: black;border-radius: 0.25em;background-color: #f0f8ff;}#sk-container-id-7 input.sk-toggleable__control:checked~div.sk-toggleable__content {max-height: 200px;max-width: 100%;overflow: auto;}#sk-container-id-7 input.sk-toggleable__control:checked~label.sk-toggleable__label-arrow:before {content: \"▾\";}#sk-container-id-7 div.sk-estimator input.sk-toggleable__control:checked~label.sk-toggleable__label {background-color: #d4ebff;}#sk-container-id-7 div.sk-label input.sk-toggleable__control:checked~label.sk-toggleable__label {background-color: #d4ebff;}#sk-container-id-7 input.sk-hidden--visually {border: 0;clip: rect(1px 1px 1px 1px);clip: rect(1px, 1px, 1px, 1px);height: 1px;margin: -1px;overflow: hidden;padding: 0;position: absolute;width: 1px;}#sk-container-id-7 div.sk-estimator {font-family: monospace;background-color: #f0f8ff;border: 1px dotted black;border-radius: 0.25em;box-sizing: border-box;margin-bottom: 0.5em;}#sk-container-id-7 div.sk-estimator:hover {background-color: #d4ebff;}#sk-container-id-7 div.sk-parallel-item::after {content: \"\";width: 100%;border-bottom: 1px solid gray;flex-grow: 1;}#sk-container-id-7 div.sk-label:hover label.sk-toggleable__label {background-color: #d4ebff;}#sk-container-id-7 div.sk-serial::before {content: \"\";position: absolute;border-left: 1px solid gray;box-sizing: border-box;top: 0;bottom: 0;left: 50%;z-index: 0;}#sk-container-id-7 div.sk-serial {display: flex;flex-direction: column;align-items: center;background-color: white;padding-right: 0.2em;padding-left: 0.2em;position: relative;}#sk-container-id-7 div.sk-item {position: relative;z-index: 1;}#sk-container-id-7 div.sk-parallel {display: flex;align-items: stretch;justify-content: center;background-color: white;position: relative;}#sk-container-id-7 div.sk-item::before, #sk-container-id-7 div.sk-parallel-item::before {content: \"\";position: absolute;border-left: 1px solid gray;box-sizing: border-box;top: 0;bottom: 0;left: 50%;z-index: -1;}#sk-container-id-7 div.sk-parallel-item {display: flex;flex-direction: column;z-index: 1;position: relative;background-color: white;}#sk-container-id-7 div.sk-parallel-item:first-child::after {align-self: flex-end;width: 50%;}#sk-container-id-7 div.sk-parallel-item:last-child::after {align-self: flex-start;width: 50%;}#sk-container-id-7 div.sk-parallel-item:only-child::after {width: 0;}#sk-container-id-7 div.sk-dashed-wrapped {border: 1px dashed gray;margin: 0 0.4em 0.5em 0.4em;box-sizing: border-box;padding-bottom: 0.4em;background-color: white;}#sk-container-id-7 div.sk-label label {font-family: monospace;font-weight: bold;display: inline-block;line-height: 1.2em;}#sk-container-id-7 div.sk-label-container {text-align: center;}#sk-container-id-7 div.sk-container {/* jupyter's `normalize.less` sets `[hidden] { display: none; }` but bootstrap.min.css set `[hidden] { display: none !important; }` so we also need the `!important` here to be able to override the default hidden behavior on the sphinx rendered scikit-learn.org. See: https://github.com/scikit-learn/scikit-learn/issues/21755 */display: inline-block !important;position: relative;}#sk-container-id-7 div.sk-text-repr-fallback {display: none;}</style><div id=\"sk-container-id-7\" class=\"sk-top-container\"><div class=\"sk-text-repr-fallback\"><pre>XGBClassifier(base_score=0.5, booster=&#x27;gblinear&#x27;, callbacks=None,\n",
       "              colsample_bylevel=None, colsample_bynode=None,\n",
       "              colsample_bytree=None, early_stopping_rounds=None,\n",
       "              enable_categorical=False, eval_metric=None, feature_types=None,\n",
       "              gamma=0.1, gpu_id=None, grow_policy=None, importance_type=None,\n",
       "              interaction_constraints=None, learning_rate=0.1, max_bin=None,\n",
       "              max_cat_threshold=None, max_cat_to_onehot=None,\n",
       "              max_delta_step=None, max_depth=5, max_leaves=None,\n",
       "              min_child_weight=None, missing=nan, monotone_constraints=None,\n",
       "              n_estimators=150, n_jobs=None, num_parallel_tree=None,\n",
       "              predictor=None, random_state=None, ...)</pre><b>In a Jupyter environment, please rerun this cell to show the HTML representation or trust the notebook. <br />On GitHub, the HTML representation is unable to render, please try loading this page with nbviewer.org.</b></div><div class=\"sk-container\" hidden><div class=\"sk-item\"><div class=\"sk-estimator sk-toggleable\"><input class=\"sk-toggleable__control sk-hidden--visually\" id=\"sk-estimator-id-7\" type=\"checkbox\" checked><label for=\"sk-estimator-id-7\" class=\"sk-toggleable__label sk-toggleable__label-arrow\">XGBClassifier</label><div class=\"sk-toggleable__content\"><pre>XGBClassifier(base_score=0.5, booster=&#x27;gblinear&#x27;, callbacks=None,\n",
       "              colsample_bylevel=None, colsample_bynode=None,\n",
       "              colsample_bytree=None, early_stopping_rounds=None,\n",
       "              enable_categorical=False, eval_metric=None, feature_types=None,\n",
       "              gamma=0.1, gpu_id=None, grow_policy=None, importance_type=None,\n",
       "              interaction_constraints=None, learning_rate=0.1, max_bin=None,\n",
       "              max_cat_threshold=None, max_cat_to_onehot=None,\n",
       "              max_delta_step=None, max_depth=5, max_leaves=None,\n",
       "              min_child_weight=None, missing=nan, monotone_constraints=None,\n",
       "              n_estimators=150, n_jobs=None, num_parallel_tree=None,\n",
       "              predictor=None, random_state=None, ...)</pre></div></div></div></div></div>"
      ],
      "text/plain": [
       "XGBClassifier(base_score=0.5, booster='gblinear', callbacks=None,\n",
       "              colsample_bylevel=None, colsample_bynode=None,\n",
       "              colsample_bytree=None, early_stopping_rounds=None,\n",
       "              enable_categorical=False, eval_metric=None, feature_types=None,\n",
       "              gamma=0.1, gpu_id=None, grow_policy=None, importance_type=None,\n",
       "              interaction_constraints=None, learning_rate=0.1, max_bin=None,\n",
       "              max_cat_threshold=None, max_cat_to_onehot=None,\n",
       "              max_delta_step=None, max_depth=5, max_leaves=None,\n",
       "              min_child_weight=None, missing=nan, monotone_constraints=None,\n",
       "              n_estimators=150, n_jobs=None, num_parallel_tree=None,\n",
       "              predictor=None, random_state=None, ...)"
      ]
     },
     "execution_count": 64,
     "metadata": {},
     "output_type": "execute_result"
    }
   ],
   "source": [
    "# fit the model\n",
    "model.fit(X_train, y_train)"
   ]
  },
  {
   "cell_type": "code",
   "execution_count": 68,
   "id": "63d4011d-bbea-4f59-ae6a-961c9ed1f1d9",
   "metadata": {},
   "outputs": [
    {
     "data": {
      "text/plain": [
       "Index(['Season', 'TossWinner', 'WinningTeam', 'Avg_Weighted_Score_diff',\n",
       "       'batting_average_weighted_diff', 'batting_strike_rate_weighted_diff',\n",
       "       'bowling_average_diff', 'bowling_economy_rate_diff', 'win_ratio_diff',\n",
       "       'TossDecision_bat',\n",
       "       ...\n",
       "       'Team2_kochi tuskers kerala', 'Team2_kolkata knight riders',\n",
       "       'Team2_lucknow super giants', 'Team2_mumbai indians',\n",
       "       'Team2_pune warriors', 'Team2_punjab kings', 'Team2_rajasthan royals',\n",
       "       'Team2_rising pune supergiant', 'Team2_royal challengers bangalore',\n",
       "       'Team2_sunrisers hyderabad'],\n",
       "      dtype='object', length=110)"
      ]
     },
     "execution_count": 68,
     "metadata": {},
     "output_type": "execute_result"
    }
   ],
   "source": [
    "df.columns"
   ]
  },
  {
   "cell_type": "code",
   "execution_count": 71,
   "id": "8da27984-a085-43df-8839-19be95607709",
   "metadata": {},
   "outputs": [
    {
     "data": {
      "text/plain": [
       "(946, 110)"
      ]
     },
     "execution_count": 71,
     "metadata": {},
     "output_type": "execute_result"
    }
   ],
   "source": [
    "df.shape\n",
    "\n",
    "\n"
   ]
  },
  {
   "cell_type": "code",
   "execution_count": null,
   "id": "3e3766f7-a443-4f08-93a5-b62822c37984",
   "metadata": {},
   "outputs": [],
   "source": []
  },
  {
   "cell_type": "code",
   "execution_count": 65,
   "id": "1eee491f-e4de-4f86-85f3-fa83e0fa67f8",
   "metadata": {
    "scrolled": true
   },
   "outputs": [
    {
     "name": "stderr",
     "output_type": "stream",
     "text": [
      "/Users/patrickevans29/.pyenv/versions/3.10.6/envs/ipl_prediction_model/lib/python3.10/site-packages/xgboost/data.py:312: FutureWarning: is_sparse is deprecated and will be removed in a future version. Check `isinstance(dtype, pd.SparseDtype)` instead.\n",
      "  if is_sparse(dtype):\n",
      "/Users/patrickevans29/.pyenv/versions/3.10.6/envs/ipl_prediction_model/lib/python3.10/site-packages/xgboost/data.py:314: FutureWarning: is_categorical_dtype is deprecated and will be removed in a future version. Use isinstance(dtype, CategoricalDtype) instead\n",
      "  elif is_categorical_dtype(dtype) and enable_categorical:\n",
      "/Users/patrickevans29/.pyenv/versions/3.10.6/envs/ipl_prediction_model/lib/python3.10/site-packages/xgboost/data.py:345: FutureWarning: is_categorical_dtype is deprecated and will be removed in a future version. Use isinstance(dtype, CategoricalDtype) instead\n",
      "  if is_categorical_dtype(dtype)\n",
      "/Users/patrickevans29/.pyenv/versions/3.10.6/envs/ipl_prediction_model/lib/python3.10/site-packages/xgboost/data.py:336: FutureWarning: is_categorical_dtype is deprecated and will be removed in a future version. Use isinstance(dtype, CategoricalDtype) instead\n",
      "  return is_int or is_bool or is_float or is_categorical_dtype(dtype)\n"
     ]
    }
   ],
   "source": [
    "y_pred = model.predict(X_test)"
   ]
  },
  {
   "cell_type": "code",
   "execution_count": 66,
   "id": "adf2b03f-b4bd-43d1-92d7-c9b5bca463f4",
   "metadata": {},
   "outputs": [
    {
     "name": "stdout",
     "output_type": "stream",
     "text": [
      "Best model Accuracy: 0.6736842105263158\n"
     ]
    }
   ],
   "source": [
    "accuracy = accuracy_score(y_test, y_pred)\n",
    "print(f\"Best model Accuracy: {accuracy}\")"
   ]
  },
  {
   "cell_type": "code",
   "execution_count": 67,
   "id": "4984d363-2dc4-46e9-82f2-41bbaba3eb0c",
   "metadata": {},
   "outputs": [
    {
     "ename": "ModuleNotFoundError",
     "evalue": "No module named 'ipl_model'",
     "output_type": "error",
     "traceback": [
      "\u001b[0;31m---------------------------------------------------------------------------\u001b[0m",
      "\u001b[0;31mModuleNotFoundError\u001b[0m                       Traceback (most recent call last)",
      "Cell \u001b[0;32mIn[67], line 11\u001b[0m\n\u001b[1;32m      8\u001b[0m \u001b[38;5;28;01mfrom\u001b[39;00m \u001b[38;5;21;01mtyping\u001b[39;00m \u001b[38;5;28;01mimport\u001b[39;00m Any\n\u001b[1;32m      9\u001b[0m \u001b[38;5;28;01mfrom\u001b[39;00m \u001b[38;5;21;01mgoogle\u001b[39;00m\u001b[38;5;21;01m.\u001b[39;00m\u001b[38;5;21;01mcloud\u001b[39;00m \u001b[38;5;28;01mimport\u001b[39;00m storage\n\u001b[0;32m---> 11\u001b[0m \u001b[38;5;28;01mfrom\u001b[39;00m \u001b[38;5;21;01mipl_model\u001b[39;00m\u001b[38;5;21;01m.\u001b[39;00m\u001b[38;5;21;01mparams\u001b[39;00m \u001b[38;5;28;01mimport\u001b[39;00m \u001b[38;5;241m*\u001b[39m\n\u001b[1;32m     13\u001b[0m LOCAL_DATA_PATH \u001b[38;5;241m=\u001b[39m os\u001b[38;5;241m.\u001b[39mpath\u001b[38;5;241m.\u001b[39mjoin(os\u001b[38;5;241m.\u001b[39mpath\u001b[38;5;241m.\u001b[39mexpanduser(\u001b[38;5;124m'\u001b[39m\u001b[38;5;124m~\u001b[39m\u001b[38;5;124m'\u001b[39m), \u001b[38;5;124m\"\u001b[39m\u001b[38;5;124mcode\u001b[39m\u001b[38;5;124m\"\u001b[39m, \u001b[38;5;124m\"\u001b[39m\u001b[38;5;124mipl_prediction_model\u001b[39m\u001b[38;5;124m\"\u001b[39m, \u001b[38;5;124m\"\u001b[39m\u001b[38;5;124mraw_data\u001b[39m\u001b[38;5;124m\"\u001b[39m)\n\u001b[1;32m     14\u001b[0m LOCAL_MODELS_PATH \u001b[38;5;241m=\u001b[39m  os\u001b[38;5;241m.\u001b[39mpath\u001b[38;5;241m.\u001b[39mjoin(os\u001b[38;5;241m.\u001b[39mpath\u001b[38;5;241m.\u001b[39mexpanduser(\u001b[38;5;124m'\u001b[39m\u001b[38;5;124m~\u001b[39m\u001b[38;5;124m'\u001b[39m), \u001b[38;5;124m\"\u001b[39m\u001b[38;5;124mcode\u001b[39m\u001b[38;5;124m\"\u001b[39m, \u001b[38;5;124m\"\u001b[39m\u001b[38;5;124mipl_prediction_model\u001b[39m\u001b[38;5;124m\"\u001b[39m, \u001b[38;5;124m\"\u001b[39m\u001b[38;5;124mmodel\u001b[39m\u001b[38;5;124m\"\u001b[39m)\n",
      "\u001b[0;31mModuleNotFoundError\u001b[0m: No module named 'ipl_model'"
     ]
    }
   ],
   "source": [
    "import glob\n",
    "import os\n",
    "import time\n",
    "import pickle\n",
    "import xgboost as xgb\n",
    "import pandas as pd\n",
    "\n",
    "from typing import Any\n",
    "from google.cloud import storage\n",
    "\n",
    "from ipl_model.params import *\n",
    "\n",
    "LOCAL_DATA_PATH = os.path.join(os.path.expanduser('~'), \"code\", \"ipl_prediction_model\", \"raw_data\")\n",
    "LOCAL_MODELS_PATH =  os.path.join(os.path.expanduser('~'), \"code\", \"ipl_prediction_model\", \"model\")\n",
    "LOCAL_PREPROCESSORS_PATH = os.path.join(os.path.expanduser('~'), \"code\", \"ipl_prediction_model\", \"preprocessor\")\n",
    "\n",
    "def save_model(model) -> None:\n",
    "    timestamp = time.strftime(\"%Y%m%d-%H%M%S\")\n",
    "    model_filename = f\"{timestamp}.xgbmodel\"\n",
    "    model_path = os.path.join(LOCAL_MODELS_PATH, model_filename)\n",
    "\n",
    "    # Create the directory if it doesn't exist\n",
    "    os.makedirs(LOCAL_MODELS_PATH, exist_ok=True)\n",
    "    # Save the model to GCS\n",
    "    client = storage.Client()\n",
    "    bucket = client.bucket(ipl_prediction_model_patrickevans29)\n",
    "    blob = bucket.blob(f\"models/{model_filename}\")\n",
    "    blob.upload_from_filename(model_path)\n",
    "\n",
    "    print(\"✅ Model saved to GCS\")\n",
    "\n",
    "    return None\n",
    "\n"
   ]
  },
  {
   "cell_type": "code",
   "execution_count": null,
   "id": "5f3ea561-2585-4ea7-a538-e3e0511b7a2e",
   "metadata": {},
   "outputs": [],
   "source": []
  },
  {
   "cell_type": "code",
   "execution_count": null,
   "id": "a4491572-a888-4561-9436-dee2aec73394",
   "metadata": {},
   "outputs": [],
   "source": []
  },
  {
   "cell_type": "code",
   "execution_count": null,
   "id": "5be9a9ae-7485-40db-a3bb-5aa8d07c89ba",
   "metadata": {},
   "outputs": [],
   "source": []
  },
  {
   "cell_type": "code",
   "execution_count": null,
   "id": "98ae24ca-83a4-4032-ad89-ac06e13e555a",
   "metadata": {},
   "outputs": [],
   "source": []
  }
 ],
 "metadata": {
  "kernelspec": {
   "display_name": "Python 3 (ipykernel)",
   "language": "python",
   "name": "python3"
  },
  "language_info": {
   "codemirror_mode": {
    "name": "ipython",
    "version": 3
   },
   "file_extension": ".py",
   "mimetype": "text/x-python",
   "name": "python",
   "nbconvert_exporter": "python",
   "pygments_lexer": "ipython3",
   "version": "3.10.6"
  }
 },
 "nbformat": 4,
 "nbformat_minor": 5
}
