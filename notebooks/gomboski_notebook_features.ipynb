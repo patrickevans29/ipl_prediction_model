{
 "cells": [
  {
   "cell_type": "markdown",
   "id": "5fb2a8ed-0ee9-4628-9bf7-e3c1ea73c3f3",
   "metadata": {},
   "source": [
    "# New Features"
   ]
  },
  {
   "cell_type": "code",
   "execution_count": 1,
   "id": "8778f601-774d-4c37-86a1-3a69fdd074a9",
   "metadata": {},
   "outputs": [],
   "source": [
    "import pandas as pd\n",
    "import ast\n",
    "import numpy as np"
   ]
  },
  {
   "cell_type": "markdown",
   "id": "18dd98ee-d30e-4893-935f-53b5ac8a7241",
   "metadata": {},
   "source": [
    "## Player Dataset"
   ]
  },
  {
   "cell_type": "code",
   "execution_count": 2,
   "id": "ff6ad2e2-36ac-4e4c-b6a5-e2375bb62fe8",
   "metadata": {},
   "outputs": [],
   "source": [
    "players_df = pd.read_csv('../raw_data/player_dataset.csv')"
   ]
  },
  {
   "cell_type": "code",
   "execution_count": 3,
   "id": "a47c99ab-948a-42b9-90da-957dda448697",
   "metadata": {},
   "outputs": [
    {
     "data": {
      "text/html": [
       "<div>\n",
       "<style scoped>\n",
       "    .dataframe tbody tr th:only-of-type {\n",
       "        vertical-align: middle;\n",
       "    }\n",
       "\n",
       "    .dataframe tbody tr th {\n",
       "        vertical-align: top;\n",
       "    }\n",
       "\n",
       "    .dataframe thead th {\n",
       "        text-align: right;\n",
       "    }\n",
       "</style>\n",
       "<table border=\"1\" class=\"dataframe\">\n",
       "  <thead>\n",
       "    <tr style=\"text-align: right;\">\n",
       "      <th></th>\n",
       "      <th>player</th>\n",
       "      <th>bat_innings</th>\n",
       "      <th>total_runs</th>\n",
       "      <th>not_out</th>\n",
       "      <th>zero</th>\n",
       "      <th>50s</th>\n",
       "      <th>100s</th>\n",
       "      <th>fours</th>\n",
       "      <th>sixes</th>\n",
       "      <th>high_score</th>\n",
       "      <th>...</th>\n",
       "      <th>batting_strike_rate</th>\n",
       "      <th>bowler_innings</th>\n",
       "      <th>balls_bowled</th>\n",
       "      <th>runs_conceded</th>\n",
       "      <th>wickets</th>\n",
       "      <th>four_wickets</th>\n",
       "      <th>five_wickets</th>\n",
       "      <th>bowling_average</th>\n",
       "      <th>bowling_economy_rate</th>\n",
       "      <th>bowling_strike_rate</th>\n",
       "    </tr>\n",
       "  </thead>\n",
       "  <tbody>\n",
       "    <tr>\n",
       "      <th>0</th>\n",
       "      <td>a ashish reddy</td>\n",
       "      <td>23.0</td>\n",
       "      <td>280.0</td>\n",
       "      <td>8.0</td>\n",
       "      <td>0.0</td>\n",
       "      <td>0.0</td>\n",
       "      <td>0.0</td>\n",
       "      <td>16.0</td>\n",
       "      <td>15.0</td>\n",
       "      <td>36.0</td>\n",
       "      <td>...</td>\n",
       "      <td>145.08</td>\n",
       "      <td>20.0</td>\n",
       "      <td>262.0</td>\n",
       "      <td>396.0</td>\n",
       "      <td>18.0</td>\n",
       "      <td>0.0</td>\n",
       "      <td>0.0</td>\n",
       "      <td>22.0</td>\n",
       "      <td>9.07</td>\n",
       "      <td>14.56</td>\n",
       "    </tr>\n",
       "    <tr>\n",
       "      <th>1</th>\n",
       "      <td>a badoni</td>\n",
       "      <td>11.0</td>\n",
       "      <td>161.0</td>\n",
       "      <td>3.0</td>\n",
       "      <td>1.0</td>\n",
       "      <td>1.0</td>\n",
       "      <td>0.0</td>\n",
       "      <td>11.0</td>\n",
       "      <td>7.0</td>\n",
       "      <td>54.0</td>\n",
       "      <td>...</td>\n",
       "      <td>123.85</td>\n",
       "      <td>2.0</td>\n",
       "      <td>12.0</td>\n",
       "      <td>11.0</td>\n",
       "      <td>2.0</td>\n",
       "      <td>0.0</td>\n",
       "      <td>0.0</td>\n",
       "      <td>5.5</td>\n",
       "      <td>5.50</td>\n",
       "      <td>6.00</td>\n",
       "    </tr>\n",
       "    <tr>\n",
       "      <th>2</th>\n",
       "      <td>a chandila</td>\n",
       "      <td>2.0</td>\n",
       "      <td>4.0</td>\n",
       "      <td>2.0</td>\n",
       "      <td>1.0</td>\n",
       "      <td>0.0</td>\n",
       "      <td>0.0</td>\n",
       "      <td>0.0</td>\n",
       "      <td>0.0</td>\n",
       "      <td>4.0</td>\n",
       "      <td>...</td>\n",
       "      <td>57.14</td>\n",
       "      <td>12.0</td>\n",
       "      <td>234.0</td>\n",
       "      <td>242.0</td>\n",
       "      <td>11.0</td>\n",
       "      <td>1.0</td>\n",
       "      <td>0.0</td>\n",
       "      <td>22.0</td>\n",
       "      <td>6.21</td>\n",
       "      <td>21.27</td>\n",
       "    </tr>\n",
       "    <tr>\n",
       "      <th>3</th>\n",
       "      <td>a chopra</td>\n",
       "      <td>6.0</td>\n",
       "      <td>53.0</td>\n",
       "      <td>0.0</td>\n",
       "      <td>0.0</td>\n",
       "      <td>0.0</td>\n",
       "      <td>0.0</td>\n",
       "      <td>7.0</td>\n",
       "      <td>0.0</td>\n",
       "      <td>24.0</td>\n",
       "      <td>...</td>\n",
       "      <td>74.65</td>\n",
       "      <td>0.0</td>\n",
       "      <td>0.0</td>\n",
       "      <td>0.0</td>\n",
       "      <td>0.0</td>\n",
       "      <td>0.0</td>\n",
       "      <td>0.0</td>\n",
       "      <td>0.0</td>\n",
       "      <td>0.00</td>\n",
       "      <td>0.00</td>\n",
       "    </tr>\n",
       "    <tr>\n",
       "      <th>4</th>\n",
       "      <td>a choudhary</td>\n",
       "      <td>3.0</td>\n",
       "      <td>25.0</td>\n",
       "      <td>2.0</td>\n",
       "      <td>0.0</td>\n",
       "      <td>0.0</td>\n",
       "      <td>0.0</td>\n",
       "      <td>1.0</td>\n",
       "      <td>1.0</td>\n",
       "      <td>15.0</td>\n",
       "      <td>...</td>\n",
       "      <td>125.00</td>\n",
       "      <td>5.0</td>\n",
       "      <td>101.0</td>\n",
       "      <td>144.0</td>\n",
       "      <td>5.0</td>\n",
       "      <td>0.0</td>\n",
       "      <td>0.0</td>\n",
       "      <td>28.8</td>\n",
       "      <td>8.55</td>\n",
       "      <td>20.20</td>\n",
       "    </tr>\n",
       "    <tr>\n",
       "      <th>...</th>\n",
       "      <td>...</td>\n",
       "      <td>...</td>\n",
       "      <td>...</td>\n",
       "      <td>...</td>\n",
       "      <td>...</td>\n",
       "      <td>...</td>\n",
       "      <td>...</td>\n",
       "      <td>...</td>\n",
       "      <td>...</td>\n",
       "      <td>...</td>\n",
       "      <td>...</td>\n",
       "      <td>...</td>\n",
       "      <td>...</td>\n",
       "      <td>...</td>\n",
       "      <td>...</td>\n",
       "      <td>...</td>\n",
       "      <td>...</td>\n",
       "      <td>...</td>\n",
       "      <td>...</td>\n",
       "      <td>...</td>\n",
       "      <td>...</td>\n",
       "    </tr>\n",
       "    <tr>\n",
       "      <th>647</th>\n",
       "      <td>sm boland</td>\n",
       "      <td>0.0</td>\n",
       "      <td>0.0</td>\n",
       "      <td>0.0</td>\n",
       "      <td>0.0</td>\n",
       "      <td>0.0</td>\n",
       "      <td>0.0</td>\n",
       "      <td>0.0</td>\n",
       "      <td>0.0</td>\n",
       "      <td>0.0</td>\n",
       "      <td>...</td>\n",
       "      <td>0.00</td>\n",
       "      <td>2.0</td>\n",
       "      <td>42.0</td>\n",
       "      <td>54.0</td>\n",
       "      <td>2.0</td>\n",
       "      <td>0.0</td>\n",
       "      <td>0.0</td>\n",
       "      <td>27.0</td>\n",
       "      <td>7.71</td>\n",
       "      <td>21.00</td>\n",
       "    </tr>\n",
       "    <tr>\n",
       "      <th>648</th>\n",
       "      <td>ss agarwal</td>\n",
       "      <td>0.0</td>\n",
       "      <td>0.0</td>\n",
       "      <td>0.0</td>\n",
       "      <td>0.0</td>\n",
       "      <td>0.0</td>\n",
       "      <td>0.0</td>\n",
       "      <td>0.0</td>\n",
       "      <td>0.0</td>\n",
       "      <td>0.0</td>\n",
       "      <td>...</td>\n",
       "      <td>0.00</td>\n",
       "      <td>1.0</td>\n",
       "      <td>24.0</td>\n",
       "      <td>42.0</td>\n",
       "      <td>1.0</td>\n",
       "      <td>0.0</td>\n",
       "      <td>0.0</td>\n",
       "      <td>42.0</td>\n",
       "      <td>10.50</td>\n",
       "      <td>24.00</td>\n",
       "    </tr>\n",
       "    <tr>\n",
       "      <th>649</th>\n",
       "      <td>ss mundhe</td>\n",
       "      <td>0.0</td>\n",
       "      <td>0.0</td>\n",
       "      <td>0.0</td>\n",
       "      <td>0.0</td>\n",
       "      <td>0.0</td>\n",
       "      <td>0.0</td>\n",
       "      <td>0.0</td>\n",
       "      <td>0.0</td>\n",
       "      <td>0.0</td>\n",
       "      <td>...</td>\n",
       "      <td>0.00</td>\n",
       "      <td>1.0</td>\n",
       "      <td>6.0</td>\n",
       "      <td>6.0</td>\n",
       "      <td>1.0</td>\n",
       "      <td>0.0</td>\n",
       "      <td>0.0</td>\n",
       "      <td>6.0</td>\n",
       "      <td>6.00</td>\n",
       "      <td>6.00</td>\n",
       "    </tr>\n",
       "    <tr>\n",
       "      <th>650</th>\n",
       "      <td>ss sarkar</td>\n",
       "      <td>0.0</td>\n",
       "      <td>0.0</td>\n",
       "      <td>0.0</td>\n",
       "      <td>0.0</td>\n",
       "      <td>0.0</td>\n",
       "      <td>0.0</td>\n",
       "      <td>0.0</td>\n",
       "      <td>0.0</td>\n",
       "      <td>0.0</td>\n",
       "      <td>...</td>\n",
       "      <td>0.00</td>\n",
       "      <td>2.0</td>\n",
       "      <td>25.0</td>\n",
       "      <td>34.0</td>\n",
       "      <td>1.0</td>\n",
       "      <td>0.0</td>\n",
       "      <td>0.0</td>\n",
       "      <td>34.0</td>\n",
       "      <td>8.16</td>\n",
       "      <td>25.00</td>\n",
       "    </tr>\n",
       "    <tr>\n",
       "      <th>651</th>\n",
       "      <td>tejas baroka</td>\n",
       "      <td>0.0</td>\n",
       "      <td>0.0</td>\n",
       "      <td>0.0</td>\n",
       "      <td>0.0</td>\n",
       "      <td>0.0</td>\n",
       "      <td>0.0</td>\n",
       "      <td>0.0</td>\n",
       "      <td>0.0</td>\n",
       "      <td>0.0</td>\n",
       "      <td>...</td>\n",
       "      <td>0.00</td>\n",
       "      <td>1.0</td>\n",
       "      <td>21.0</td>\n",
       "      <td>33.0</td>\n",
       "      <td>0.0</td>\n",
       "      <td>0.0</td>\n",
       "      <td>0.0</td>\n",
       "      <td>0.0</td>\n",
       "      <td>9.43</td>\n",
       "      <td>0.00</td>\n",
       "    </tr>\n",
       "  </tbody>\n",
       "</table>\n",
       "<p>652 rows × 23 columns</p>\n",
       "</div>"
      ],
      "text/plain": [
       "             player  bat_innings  total_runs  not_out  zero  50s  100s  fours  \\\n",
       "0    a ashish reddy         23.0       280.0      8.0   0.0  0.0   0.0   16.0   \n",
       "1          a badoni         11.0       161.0      3.0   1.0  1.0   0.0   11.0   \n",
       "2        a chandila          2.0         4.0      2.0   1.0  0.0   0.0    0.0   \n",
       "3          a chopra          6.0        53.0      0.0   0.0  0.0   0.0    7.0   \n",
       "4       a choudhary          3.0        25.0      2.0   0.0  0.0   0.0    1.0   \n",
       "..              ...          ...         ...      ...   ...  ...   ...    ...   \n",
       "647       sm boland          0.0         0.0      0.0   0.0  0.0   0.0    0.0   \n",
       "648      ss agarwal          0.0         0.0      0.0   0.0  0.0   0.0    0.0   \n",
       "649       ss mundhe          0.0         0.0      0.0   0.0  0.0   0.0    0.0   \n",
       "650       ss sarkar          0.0         0.0      0.0   0.0  0.0   0.0    0.0   \n",
       "651    tejas baroka          0.0         0.0      0.0   0.0  0.0   0.0    0.0   \n",
       "\n",
       "     sixes  high_score  ...  batting_strike_rate  bowler_innings  \\\n",
       "0     15.0        36.0  ...               145.08            20.0   \n",
       "1      7.0        54.0  ...               123.85             2.0   \n",
       "2      0.0         4.0  ...                57.14            12.0   \n",
       "3      0.0        24.0  ...                74.65             0.0   \n",
       "4      1.0        15.0  ...               125.00             5.0   \n",
       "..     ...         ...  ...                  ...             ...   \n",
       "647    0.0         0.0  ...                 0.00             2.0   \n",
       "648    0.0         0.0  ...                 0.00             1.0   \n",
       "649    0.0         0.0  ...                 0.00             1.0   \n",
       "650    0.0         0.0  ...                 0.00             2.0   \n",
       "651    0.0         0.0  ...                 0.00             1.0   \n",
       "\n",
       "     balls_bowled  runs_conceded  wickets  four_wickets  five_wickets  \\\n",
       "0           262.0          396.0     18.0           0.0           0.0   \n",
       "1            12.0           11.0      2.0           0.0           0.0   \n",
       "2           234.0          242.0     11.0           1.0           0.0   \n",
       "3             0.0            0.0      0.0           0.0           0.0   \n",
       "4           101.0          144.0      5.0           0.0           0.0   \n",
       "..            ...            ...      ...           ...           ...   \n",
       "647          42.0           54.0      2.0           0.0           0.0   \n",
       "648          24.0           42.0      1.0           0.0           0.0   \n",
       "649           6.0            6.0      1.0           0.0           0.0   \n",
       "650          25.0           34.0      1.0           0.0           0.0   \n",
       "651          21.0           33.0      0.0           0.0           0.0   \n",
       "\n",
       "     bowling_average  bowling_economy_rate  bowling_strike_rate  \n",
       "0               22.0                  9.07                14.56  \n",
       "1                5.5                  5.50                 6.00  \n",
       "2               22.0                  6.21                21.27  \n",
       "3                0.0                  0.00                 0.00  \n",
       "4               28.8                  8.55                20.20  \n",
       "..               ...                   ...                  ...  \n",
       "647             27.0                  7.71                21.00  \n",
       "648             42.0                 10.50                24.00  \n",
       "649              6.0                  6.00                 6.00  \n",
       "650             34.0                  8.16                25.00  \n",
       "651              0.0                  9.43                 0.00  \n",
       "\n",
       "[652 rows x 23 columns]"
      ]
     },
     "execution_count": 3,
     "metadata": {},
     "output_type": "execute_result"
    }
   ],
   "source": [
    "players_df"
   ]
  },
  {
   "cell_type": "code",
   "execution_count": 4,
   "id": "9258196e-4ead-470b-8aa6-40d76aa9c2fb",
   "metadata": {},
   "outputs": [
    {
     "data": {
      "text/plain": [
       "Index(['player', 'bat_innings', 'total_runs', 'not_out', 'zero', '50s', '100s',\n",
       "       'fours', 'sixes', 'high_score', 'balls_faced', 'average_score',\n",
       "       'batting_average', 'batting_strike_rate', 'bowler_innings',\n",
       "       'balls_bowled', 'runs_conceded', 'wickets', 'four_wickets',\n",
       "       'five_wickets', 'bowling_average', 'bowling_economy_rate',\n",
       "       'bowling_strike_rate'],\n",
       "      dtype='object')"
      ]
     },
     "execution_count": 4,
     "metadata": {},
     "output_type": "execute_result"
    }
   ],
   "source": [
    "players_df.columns"
   ]
  },
  {
   "cell_type": "markdown",
   "id": "a21a61c9-eb68-454a-bdbb-8a96258bac31",
   "metadata": {},
   "source": [
    "## Team Players Columns"
   ]
  },
  {
   "cell_type": "code",
   "execution_count": 5,
   "id": "264f7a11-a5ae-4feb-aae2-501602368737",
   "metadata": {},
   "outputs": [],
   "source": [
    "df = pd.read_csv('../raw_data/final_data.csv')"
   ]
  },
  {
   "cell_type": "code",
   "execution_count": 6,
   "id": "99665003-be93-4d26-8dff-f36c4a4a1498",
   "metadata": {},
   "outputs": [
    {
     "name": "stderr",
     "output_type": "stream",
     "text": [
      "/var/folders/2n/3_ffywf16v9b2gcv5svq7k8c0000gp/T/ipykernel_53252/1215370102.py:1: DtypeWarning: Columns (20,31) have mixed types. Specify dtype option on import or set low_memory=False.\n",
      "  complete_df = pd.read_csv('../raw_data/complete_df.csv')\n"
     ]
    }
   ],
   "source": [
    "complete_df = pd.read_csv('../raw_data/complete_df.csv')"
   ]
  },
  {
   "cell_type": "code",
   "execution_count": 7,
   "id": "d94922cf-068e-4440-86ab-aac4dc9280b8",
   "metadata": {},
   "outputs": [],
   "source": [
    "complete_df_reduced = complete_df[['ID', 'Team1Players', 'Team2Players']]"
   ]
  },
  {
   "cell_type": "code",
   "execution_count": 8,
   "id": "6c47c31c-570c-4e40-b369-4f33e09fbdf6",
   "metadata": {},
   "outputs": [
    {
     "data": {
      "text/html": [
       "<div>\n",
       "<style scoped>\n",
       "    .dataframe tbody tr th:only-of-type {\n",
       "        vertical-align: middle;\n",
       "    }\n",
       "\n",
       "    .dataframe tbody tr th {\n",
       "        vertical-align: top;\n",
       "    }\n",
       "\n",
       "    .dataframe thead th {\n",
       "        text-align: right;\n",
       "    }\n",
       "</style>\n",
       "<table border=\"1\" class=\"dataframe\">\n",
       "  <thead>\n",
       "    <tr style=\"text-align: right;\">\n",
       "      <th></th>\n",
       "      <th>ID</th>\n",
       "      <th>Team1Players</th>\n",
       "      <th>Team2Players</th>\n",
       "    </tr>\n",
       "  </thead>\n",
       "  <tbody>\n",
       "    <tr>\n",
       "      <th>0</th>\n",
       "      <td>1312200</td>\n",
       "      <td>['YBK Jaiswal', 'JC Buttler', 'SV Samson', 'D ...</td>\n",
       "      <td>['WP Saha', 'Shubman Gill', 'MS Wade', 'HH Pan...</td>\n",
       "    </tr>\n",
       "    <tr>\n",
       "      <th>1</th>\n",
       "      <td>1312200</td>\n",
       "      <td>['YBK Jaiswal', 'JC Buttler', 'SV Samson', 'D ...</td>\n",
       "      <td>['WP Saha', 'Shubman Gill', 'MS Wade', 'HH Pan...</td>\n",
       "    </tr>\n",
       "    <tr>\n",
       "      <th>2</th>\n",
       "      <td>1312200</td>\n",
       "      <td>['YBK Jaiswal', 'JC Buttler', 'SV Samson', 'D ...</td>\n",
       "      <td>['WP Saha', 'Shubman Gill', 'MS Wade', 'HH Pan...</td>\n",
       "    </tr>\n",
       "    <tr>\n",
       "      <th>3</th>\n",
       "      <td>1312200</td>\n",
       "      <td>['YBK Jaiswal', 'JC Buttler', 'SV Samson', 'D ...</td>\n",
       "      <td>['WP Saha', 'Shubman Gill', 'MS Wade', 'HH Pan...</td>\n",
       "    </tr>\n",
       "    <tr>\n",
       "      <th>4</th>\n",
       "      <td>1312200</td>\n",
       "      <td>['YBK Jaiswal', 'JC Buttler', 'SV Samson', 'D ...</td>\n",
       "      <td>['WP Saha', 'Shubman Gill', 'MS Wade', 'HH Pan...</td>\n",
       "    </tr>\n",
       "    <tr>\n",
       "      <th>...</th>\n",
       "      <td>...</td>\n",
       "      <td>...</td>\n",
       "      <td>...</td>\n",
       "    </tr>\n",
       "    <tr>\n",
       "      <th>225949</th>\n",
       "      <td>335982</td>\n",
       "      <td>['R Dravid', 'W Jaffer', 'V Kohli', 'JH Kallis...</td>\n",
       "      <td>['SC Ganguly', 'BB McCullum', 'RT Ponting', 'D...</td>\n",
       "    </tr>\n",
       "    <tr>\n",
       "      <th>225950</th>\n",
       "      <td>335982</td>\n",
       "      <td>['R Dravid', 'W Jaffer', 'V Kohli', 'JH Kallis...</td>\n",
       "      <td>['SC Ganguly', 'BB McCullum', 'RT Ponting', 'D...</td>\n",
       "    </tr>\n",
       "    <tr>\n",
       "      <th>225951</th>\n",
       "      <td>335982</td>\n",
       "      <td>['R Dravid', 'W Jaffer', 'V Kohli', 'JH Kallis...</td>\n",
       "      <td>['SC Ganguly', 'BB McCullum', 'RT Ponting', 'D...</td>\n",
       "    </tr>\n",
       "    <tr>\n",
       "      <th>225952</th>\n",
       "      <td>335982</td>\n",
       "      <td>['R Dravid', 'W Jaffer', 'V Kohli', 'JH Kallis...</td>\n",
       "      <td>['SC Ganguly', 'BB McCullum', 'RT Ponting', 'D...</td>\n",
       "    </tr>\n",
       "    <tr>\n",
       "      <th>225953</th>\n",
       "      <td>335982</td>\n",
       "      <td>['R Dravid', 'W Jaffer', 'V Kohli', 'JH Kallis...</td>\n",
       "      <td>['SC Ganguly', 'BB McCullum', 'RT Ponting', 'D...</td>\n",
       "    </tr>\n",
       "  </tbody>\n",
       "</table>\n",
       "<p>225954 rows × 3 columns</p>\n",
       "</div>"
      ],
      "text/plain": [
       "             ID                                       Team1Players  \\\n",
       "0       1312200  ['YBK Jaiswal', 'JC Buttler', 'SV Samson', 'D ...   \n",
       "1       1312200  ['YBK Jaiswal', 'JC Buttler', 'SV Samson', 'D ...   \n",
       "2       1312200  ['YBK Jaiswal', 'JC Buttler', 'SV Samson', 'D ...   \n",
       "3       1312200  ['YBK Jaiswal', 'JC Buttler', 'SV Samson', 'D ...   \n",
       "4       1312200  ['YBK Jaiswal', 'JC Buttler', 'SV Samson', 'D ...   \n",
       "...         ...                                                ...   \n",
       "225949   335982  ['R Dravid', 'W Jaffer', 'V Kohli', 'JH Kallis...   \n",
       "225950   335982  ['R Dravid', 'W Jaffer', 'V Kohli', 'JH Kallis...   \n",
       "225951   335982  ['R Dravid', 'W Jaffer', 'V Kohli', 'JH Kallis...   \n",
       "225952   335982  ['R Dravid', 'W Jaffer', 'V Kohli', 'JH Kallis...   \n",
       "225953   335982  ['R Dravid', 'W Jaffer', 'V Kohli', 'JH Kallis...   \n",
       "\n",
       "                                             Team2Players  \n",
       "0       ['WP Saha', 'Shubman Gill', 'MS Wade', 'HH Pan...  \n",
       "1       ['WP Saha', 'Shubman Gill', 'MS Wade', 'HH Pan...  \n",
       "2       ['WP Saha', 'Shubman Gill', 'MS Wade', 'HH Pan...  \n",
       "3       ['WP Saha', 'Shubman Gill', 'MS Wade', 'HH Pan...  \n",
       "4       ['WP Saha', 'Shubman Gill', 'MS Wade', 'HH Pan...  \n",
       "...                                                   ...  \n",
       "225949  ['SC Ganguly', 'BB McCullum', 'RT Ponting', 'D...  \n",
       "225950  ['SC Ganguly', 'BB McCullum', 'RT Ponting', 'D...  \n",
       "225951  ['SC Ganguly', 'BB McCullum', 'RT Ponting', 'D...  \n",
       "225952  ['SC Ganguly', 'BB McCullum', 'RT Ponting', 'D...  \n",
       "225953  ['SC Ganguly', 'BB McCullum', 'RT Ponting', 'D...  \n",
       "\n",
       "[225954 rows x 3 columns]"
      ]
     },
     "execution_count": 8,
     "metadata": {},
     "output_type": "execute_result"
    }
   ],
   "source": [
    "complete_df_reduced"
   ]
  },
  {
   "cell_type": "code",
   "execution_count": 9,
   "id": "0bcd1581-9ba0-478b-9bc3-aebcd6aec7ea",
   "metadata": {},
   "outputs": [
    {
     "data": {
      "text/plain": [
       "\"['YBK Jaiswal', 'JC Buttler', 'SV Samson', 'D Padikkal', 'SO Hetmyer', 'R Ashwin', 'R Parag', 'TA Boult', 'OC McCoy', 'M Prasidh Krishna', 'YS Chahal']\""
      ]
     },
     "execution_count": 9,
     "metadata": {},
     "output_type": "execute_result"
    }
   ],
   "source": [
    "complete_df_reduced.iloc[0, 1] ## 11 players"
   ]
  },
  {
   "cell_type": "code",
   "execution_count": 10,
   "id": "1356a1c2-1b64-4982-ade9-913e52e2eaad",
   "metadata": {},
   "outputs": [],
   "source": [
    "# Convert strings in lists\n",
    "complete_df['Team1Players'] = complete_df['Team1Players'].apply(lambda x: ast.literal_eval(x))\n",
    "complete_df['Team2Players'] = complete_df['Team2Players'].apply(lambda x: ast.literal_eval(x))"
   ]
  },
  {
   "cell_type": "code",
   "execution_count": 11,
   "id": "cdb882f0-8dde-4220-9b98-6db03a9ec51c",
   "metadata": {},
   "outputs": [],
   "source": [
    "# lower  case\n",
    "complete_df['Team1Players'] = complete_df['Team1Players'].apply(lambda x: [name.lower() for name in x])\n",
    "complete_df['Team2Players'] = complete_df['Team2Players'].apply(lambda x: [name.lower() for name in x])"
   ]
  },
  {
   "cell_type": "code",
   "execution_count": 12,
   "id": "9eaf753a-7e45-429f-af71-80c45beb9ebc",
   "metadata": {},
   "outputs": [],
   "source": [
    "complete_df_reduced = complete_df[['ID', 'Team1Players', 'Team2Players']]"
   ]
  },
  {
   "cell_type": "code",
   "execution_count": 13,
   "id": "96fc9c89-c71f-4960-bea4-a45132eb11cf",
   "metadata": {},
   "outputs": [
    {
     "data": {
      "text/html": [
       "<div>\n",
       "<style scoped>\n",
       "    .dataframe tbody tr th:only-of-type {\n",
       "        vertical-align: middle;\n",
       "    }\n",
       "\n",
       "    .dataframe tbody tr th {\n",
       "        vertical-align: top;\n",
       "    }\n",
       "\n",
       "    .dataframe thead th {\n",
       "        text-align: right;\n",
       "    }\n",
       "</style>\n",
       "<table border=\"1\" class=\"dataframe\">\n",
       "  <thead>\n",
       "    <tr style=\"text-align: right;\">\n",
       "      <th></th>\n",
       "      <th>ID</th>\n",
       "      <th>Team1Players</th>\n",
       "      <th>Team2Players</th>\n",
       "    </tr>\n",
       "  </thead>\n",
       "  <tbody>\n",
       "    <tr>\n",
       "      <th>0</th>\n",
       "      <td>1312200</td>\n",
       "      <td>[ybk jaiswal, jc buttler, sv samson, d padikka...</td>\n",
       "      <td>[wp saha, shubman gill, ms wade, hh pandya, da...</td>\n",
       "    </tr>\n",
       "    <tr>\n",
       "      <th>1</th>\n",
       "      <td>1312200</td>\n",
       "      <td>[ybk jaiswal, jc buttler, sv samson, d padikka...</td>\n",
       "      <td>[wp saha, shubman gill, ms wade, hh pandya, da...</td>\n",
       "    </tr>\n",
       "    <tr>\n",
       "      <th>2</th>\n",
       "      <td>1312200</td>\n",
       "      <td>[ybk jaiswal, jc buttler, sv samson, d padikka...</td>\n",
       "      <td>[wp saha, shubman gill, ms wade, hh pandya, da...</td>\n",
       "    </tr>\n",
       "    <tr>\n",
       "      <th>3</th>\n",
       "      <td>1312200</td>\n",
       "      <td>[ybk jaiswal, jc buttler, sv samson, d padikka...</td>\n",
       "      <td>[wp saha, shubman gill, ms wade, hh pandya, da...</td>\n",
       "    </tr>\n",
       "    <tr>\n",
       "      <th>4</th>\n",
       "      <td>1312200</td>\n",
       "      <td>[ybk jaiswal, jc buttler, sv samson, d padikka...</td>\n",
       "      <td>[wp saha, shubman gill, ms wade, hh pandya, da...</td>\n",
       "    </tr>\n",
       "    <tr>\n",
       "      <th>...</th>\n",
       "      <td>...</td>\n",
       "      <td>...</td>\n",
       "      <td>...</td>\n",
       "    </tr>\n",
       "    <tr>\n",
       "      <th>225949</th>\n",
       "      <td>335982</td>\n",
       "      <td>[r dravid, w jaffer, v kohli, jh kallis, cl wh...</td>\n",
       "      <td>[sc ganguly, bb mccullum, rt ponting, dj husse...</td>\n",
       "    </tr>\n",
       "    <tr>\n",
       "      <th>225950</th>\n",
       "      <td>335982</td>\n",
       "      <td>[r dravid, w jaffer, v kohli, jh kallis, cl wh...</td>\n",
       "      <td>[sc ganguly, bb mccullum, rt ponting, dj husse...</td>\n",
       "    </tr>\n",
       "    <tr>\n",
       "      <th>225951</th>\n",
       "      <td>335982</td>\n",
       "      <td>[r dravid, w jaffer, v kohli, jh kallis, cl wh...</td>\n",
       "      <td>[sc ganguly, bb mccullum, rt ponting, dj husse...</td>\n",
       "    </tr>\n",
       "    <tr>\n",
       "      <th>225952</th>\n",
       "      <td>335982</td>\n",
       "      <td>[r dravid, w jaffer, v kohli, jh kallis, cl wh...</td>\n",
       "      <td>[sc ganguly, bb mccullum, rt ponting, dj husse...</td>\n",
       "    </tr>\n",
       "    <tr>\n",
       "      <th>225953</th>\n",
       "      <td>335982</td>\n",
       "      <td>[r dravid, w jaffer, v kohli, jh kallis, cl wh...</td>\n",
       "      <td>[sc ganguly, bb mccullum, rt ponting, dj husse...</td>\n",
       "    </tr>\n",
       "  </tbody>\n",
       "</table>\n",
       "<p>225954 rows × 3 columns</p>\n",
       "</div>"
      ],
      "text/plain": [
       "             ID                                       Team1Players  \\\n",
       "0       1312200  [ybk jaiswal, jc buttler, sv samson, d padikka...   \n",
       "1       1312200  [ybk jaiswal, jc buttler, sv samson, d padikka...   \n",
       "2       1312200  [ybk jaiswal, jc buttler, sv samson, d padikka...   \n",
       "3       1312200  [ybk jaiswal, jc buttler, sv samson, d padikka...   \n",
       "4       1312200  [ybk jaiswal, jc buttler, sv samson, d padikka...   \n",
       "...         ...                                                ...   \n",
       "225949   335982  [r dravid, w jaffer, v kohli, jh kallis, cl wh...   \n",
       "225950   335982  [r dravid, w jaffer, v kohli, jh kallis, cl wh...   \n",
       "225951   335982  [r dravid, w jaffer, v kohli, jh kallis, cl wh...   \n",
       "225952   335982  [r dravid, w jaffer, v kohli, jh kallis, cl wh...   \n",
       "225953   335982  [r dravid, w jaffer, v kohli, jh kallis, cl wh...   \n",
       "\n",
       "                                             Team2Players  \n",
       "0       [wp saha, shubman gill, ms wade, hh pandya, da...  \n",
       "1       [wp saha, shubman gill, ms wade, hh pandya, da...  \n",
       "2       [wp saha, shubman gill, ms wade, hh pandya, da...  \n",
       "3       [wp saha, shubman gill, ms wade, hh pandya, da...  \n",
       "4       [wp saha, shubman gill, ms wade, hh pandya, da...  \n",
       "...                                                   ...  \n",
       "225949  [sc ganguly, bb mccullum, rt ponting, dj husse...  \n",
       "225950  [sc ganguly, bb mccullum, rt ponting, dj husse...  \n",
       "225951  [sc ganguly, bb mccullum, rt ponting, dj husse...  \n",
       "225952  [sc ganguly, bb mccullum, rt ponting, dj husse...  \n",
       "225953  [sc ganguly, bb mccullum, rt ponting, dj husse...  \n",
       "\n",
       "[225954 rows x 3 columns]"
      ]
     },
     "execution_count": 13,
     "metadata": {},
     "output_type": "execute_result"
    }
   ],
   "source": [
    "complete_df_reduced"
   ]
  },
  {
   "cell_type": "code",
   "execution_count": 14,
   "id": "258b5679-c0dc-47bb-84d5-b23162921e99",
   "metadata": {},
   "outputs": [
    {
     "data": {
      "text/plain": [
       "['ybk jaiswal',\n",
       " 'jc buttler',\n",
       " 'sv samson',\n",
       " 'd padikkal',\n",
       " 'so hetmyer',\n",
       " 'r ashwin',\n",
       " 'r parag',\n",
       " 'ta boult',\n",
       " 'oc mccoy',\n",
       " 'm prasidh krishna',\n",
       " 'ys chahal']"
      ]
     },
     "execution_count": 14,
     "metadata": {},
     "output_type": "execute_result"
    }
   ],
   "source": [
    "complete_df_reduced.iloc[0,1]"
   ]
  },
  {
   "cell_type": "code",
   "execution_count": 15,
   "id": "6908b08e-407f-4a86-93d0-39e64269d1b9",
   "metadata": {},
   "outputs": [],
   "source": [
    "complete_df_reduced = complete_df_reduced.drop_duplicates(subset='ID', keep='first')\n",
    "complete_df_reduced = complete_df_reduced.reset_index(drop=True)"
   ]
  },
  {
   "cell_type": "code",
   "execution_count": 16,
   "id": "7992a459-21f0-4ae7-89bf-e99c1e6128d3",
   "metadata": {},
   "outputs": [
    {
     "data": {
      "text/html": [
       "<div>\n",
       "<style scoped>\n",
       "    .dataframe tbody tr th:only-of-type {\n",
       "        vertical-align: middle;\n",
       "    }\n",
       "\n",
       "    .dataframe tbody tr th {\n",
       "        vertical-align: top;\n",
       "    }\n",
       "\n",
       "    .dataframe thead th {\n",
       "        text-align: right;\n",
       "    }\n",
       "</style>\n",
       "<table border=\"1\" class=\"dataframe\">\n",
       "  <thead>\n",
       "    <tr style=\"text-align: right;\">\n",
       "      <th></th>\n",
       "      <th>ID</th>\n",
       "      <th>Team1Players</th>\n",
       "      <th>Team2Players</th>\n",
       "    </tr>\n",
       "  </thead>\n",
       "  <tbody>\n",
       "    <tr>\n",
       "      <th>0</th>\n",
       "      <td>1312200</td>\n",
       "      <td>[ybk jaiswal, jc buttler, sv samson, d padikka...</td>\n",
       "      <td>[wp saha, shubman gill, ms wade, hh pandya, da...</td>\n",
       "    </tr>\n",
       "    <tr>\n",
       "      <th>1</th>\n",
       "      <td>1312199</td>\n",
       "      <td>[v kohli, f du plessis, rm patidar, gj maxwell...</td>\n",
       "      <td>[ybk jaiswal, jc buttler, sv samson, d padikka...</td>\n",
       "    </tr>\n",
       "    <tr>\n",
       "      <th>2</th>\n",
       "      <td>1312198</td>\n",
       "      <td>[v kohli, f du plessis, rm patidar, gj maxwell...</td>\n",
       "      <td>[q de kock, kl rahul, m vohra, dj hooda, mp st...</td>\n",
       "    </tr>\n",
       "    <tr>\n",
       "      <th>3</th>\n",
       "      <td>1312197</td>\n",
       "      <td>[ybk jaiswal, jc buttler, sv samson, d padikka...</td>\n",
       "      <td>[wp saha, shubman gill, ms wade, hh pandya, da...</td>\n",
       "    </tr>\n",
       "    <tr>\n",
       "      <th>4</th>\n",
       "      <td>1304116</td>\n",
       "      <td>[pk garg, abhishek sharma, ra tripathi, ak mar...</td>\n",
       "      <td>[jm bairstow, s dhawan, m shahrukh khan, ma ag...</td>\n",
       "    </tr>\n",
       "    <tr>\n",
       "      <th>...</th>\n",
       "      <td>...</td>\n",
       "      <td>...</td>\n",
       "      <td>...</td>\n",
       "    </tr>\n",
       "    <tr>\n",
       "      <th>945</th>\n",
       "      <td>335986</td>\n",
       "      <td>[wp saha, bb mccullum, rt ponting, sc ganguly,...</td>\n",
       "      <td>[ac gilchrist, y venugopal rao, vvs laxman, a ...</td>\n",
       "    </tr>\n",
       "    <tr>\n",
       "      <th>946</th>\n",
       "      <td>335985</td>\n",
       "      <td>[l ronchi, st jayasuriya, dj thornely, rv utha...</td>\n",
       "      <td>[s chanderpaul, r dravid, lrpl taylor, jh kall...</td>\n",
       "    </tr>\n",
       "    <tr>\n",
       "      <th>947</th>\n",
       "      <td>335984</td>\n",
       "      <td>[g gambhir, v sehwag, s dhawan, mk tiwary, kd ...</td>\n",
       "      <td>[t kohli, yk pathan, sr watson, m kaif, ds leh...</td>\n",
       "    </tr>\n",
       "    <tr>\n",
       "      <th>948</th>\n",
       "      <td>335983</td>\n",
       "      <td>[k goel, jr hopes, kc sangakkara, yuvraj singh...</td>\n",
       "      <td>[pa patel, ml hayden, mek hussey, ms dhoni, sk...</td>\n",
       "    </tr>\n",
       "    <tr>\n",
       "      <th>949</th>\n",
       "      <td>335982</td>\n",
       "      <td>[r dravid, w jaffer, v kohli, jh kallis, cl wh...</td>\n",
       "      <td>[sc ganguly, bb mccullum, rt ponting, dj husse...</td>\n",
       "    </tr>\n",
       "  </tbody>\n",
       "</table>\n",
       "<p>950 rows × 3 columns</p>\n",
       "</div>"
      ],
      "text/plain": [
       "          ID                                       Team1Players  \\\n",
       "0    1312200  [ybk jaiswal, jc buttler, sv samson, d padikka...   \n",
       "1    1312199  [v kohli, f du plessis, rm patidar, gj maxwell...   \n",
       "2    1312198  [v kohli, f du plessis, rm patidar, gj maxwell...   \n",
       "3    1312197  [ybk jaiswal, jc buttler, sv samson, d padikka...   \n",
       "4    1304116  [pk garg, abhishek sharma, ra tripathi, ak mar...   \n",
       "..       ...                                                ...   \n",
       "945   335986  [wp saha, bb mccullum, rt ponting, sc ganguly,...   \n",
       "946   335985  [l ronchi, st jayasuriya, dj thornely, rv utha...   \n",
       "947   335984  [g gambhir, v sehwag, s dhawan, mk tiwary, kd ...   \n",
       "948   335983  [k goel, jr hopes, kc sangakkara, yuvraj singh...   \n",
       "949   335982  [r dravid, w jaffer, v kohli, jh kallis, cl wh...   \n",
       "\n",
       "                                          Team2Players  \n",
       "0    [wp saha, shubman gill, ms wade, hh pandya, da...  \n",
       "1    [ybk jaiswal, jc buttler, sv samson, d padikka...  \n",
       "2    [q de kock, kl rahul, m vohra, dj hooda, mp st...  \n",
       "3    [wp saha, shubman gill, ms wade, hh pandya, da...  \n",
       "4    [jm bairstow, s dhawan, m shahrukh khan, ma ag...  \n",
       "..                                                 ...  \n",
       "945  [ac gilchrist, y venugopal rao, vvs laxman, a ...  \n",
       "946  [s chanderpaul, r dravid, lrpl taylor, jh kall...  \n",
       "947  [t kohli, yk pathan, sr watson, m kaif, ds leh...  \n",
       "948  [pa patel, ml hayden, mek hussey, ms dhoni, sk...  \n",
       "949  [sc ganguly, bb mccullum, rt ponting, dj husse...  \n",
       "\n",
       "[950 rows x 3 columns]"
      ]
     },
     "execution_count": 16,
     "metadata": {},
     "output_type": "execute_result"
    }
   ],
   "source": [
    "complete_df_reduced"
   ]
  },
  {
   "cell_type": "markdown",
   "id": "9366e1a0-028d-4e72-a9d5-0a9330cf1f41",
   "metadata": {},
   "source": [
    "## Merging Data"
   ]
  },
  {
   "cell_type": "code",
   "execution_count": 17,
   "id": "9ef8795c-e62e-4205-9524-4c4a02f12204",
   "metadata": {},
   "outputs": [
    {
     "data": {
      "text/html": [
       "<div>\n",
       "<style scoped>\n",
       "    .dataframe tbody tr th:only-of-type {\n",
       "        vertical-align: middle;\n",
       "    }\n",
       "\n",
       "    .dataframe tbody tr th {\n",
       "        vertical-align: top;\n",
       "    }\n",
       "\n",
       "    .dataframe thead th {\n",
       "        text-align: right;\n",
       "    }\n",
       "</style>\n",
       "<table border=\"1\" class=\"dataframe\">\n",
       "  <thead>\n",
       "    <tr style=\"text-align: right;\">\n",
       "      <th></th>\n",
       "      <th>Unnamed: 0</th>\n",
       "      <th>ID</th>\n",
       "      <th>City</th>\n",
       "      <th>Date</th>\n",
       "      <th>Season</th>\n",
       "      <th>MatchNumber</th>\n",
       "      <th>Team1</th>\n",
       "      <th>Team2</th>\n",
       "      <th>Venue</th>\n",
       "      <th>TossWinner</th>\n",
       "      <th>...</th>\n",
       "      <th>WinningTeam</th>\n",
       "      <th>innings_total</th>\n",
       "      <th>TeamA_batting_average</th>\n",
       "      <th>TeamB_batting_average</th>\n",
       "      <th>TeamA_innings_total</th>\n",
       "      <th>TeamB_innings_total</th>\n",
       "      <th>Team1_points_against_avg</th>\n",
       "      <th>Team2_points_against_avg</th>\n",
       "      <th>Team1_MVP_average</th>\n",
       "      <th>Team2_MVP_average</th>\n",
       "    </tr>\n",
       "  </thead>\n",
       "  <tbody>\n",
       "    <tr>\n",
       "      <th>0</th>\n",
       "      <td>0</td>\n",
       "      <td>1312200</td>\n",
       "      <td>ahmedabad</td>\n",
       "      <td>2022-05-29</td>\n",
       "      <td>2022</td>\n",
       "      <td>final</td>\n",
       "      <td>rajasthan royals</td>\n",
       "      <td>gujarat titans</td>\n",
       "      <td>narendra modi stadium, ahmedabad</td>\n",
       "      <td>rajasthan royals</td>\n",
       "      <td>...</td>\n",
       "      <td>gujarat titans</td>\n",
       "      <td>130</td>\n",
       "      <td>155.397906</td>\n",
       "      <td>166.437500</td>\n",
       "      <td>130.0</td>\n",
       "      <td>133.0</td>\n",
       "      <td>151.561798</td>\n",
       "      <td>167.666667</td>\n",
       "      <td>0.500000</td>\n",
       "      <td>0.687500</td>\n",
       "    </tr>\n",
       "    <tr>\n",
       "      <th>1</th>\n",
       "      <td>1</td>\n",
       "      <td>1312199</td>\n",
       "      <td>ahmedabad</td>\n",
       "      <td>2022-05-27</td>\n",
       "      <td>2022</td>\n",
       "      <td>qualifier 2</td>\n",
       "      <td>royal challengers bangalore</td>\n",
       "      <td>rajasthan royals</td>\n",
       "      <td>narendra modi stadium, ahmedabad</td>\n",
       "      <td>rajasthan royals</td>\n",
       "      <td>...</td>\n",
       "      <td>rajasthan royals</td>\n",
       "      <td>157</td>\n",
       "      <td>155.707965</td>\n",
       "      <td>155.397906</td>\n",
       "      <td>157.0</td>\n",
       "      <td>161.0</td>\n",
       "      <td>146.976000</td>\n",
       "      <td>162.184466</td>\n",
       "      <td>0.491150</td>\n",
       "      <td>0.500000</td>\n",
       "    </tr>\n",
       "    <tr>\n",
       "      <th>2</th>\n",
       "      <td>2</td>\n",
       "      <td>1312198</td>\n",
       "      <td>kolkata</td>\n",
       "      <td>2022-05-25</td>\n",
       "      <td>2022</td>\n",
       "      <td>eliminator</td>\n",
       "      <td>royal challengers bangalore</td>\n",
       "      <td>lucknow super giants</td>\n",
       "      <td>eden gardens</td>\n",
       "      <td>lucknow super giants</td>\n",
       "      <td>...</td>\n",
       "      <td>royal challengers bangalore</td>\n",
       "      <td>207</td>\n",
       "      <td>155.707965</td>\n",
       "      <td>169.866667</td>\n",
       "      <td>207.0</td>\n",
       "      <td>193.0</td>\n",
       "      <td>146.976000</td>\n",
       "      <td>176.285714</td>\n",
       "      <td>0.491150</td>\n",
       "      <td>0.600000</td>\n",
       "    </tr>\n",
       "    <tr>\n",
       "      <th>3</th>\n",
       "      <td>3</td>\n",
       "      <td>1312197</td>\n",
       "      <td>kolkata</td>\n",
       "      <td>2022-05-24</td>\n",
       "      <td>2022</td>\n",
       "      <td>qualifier 1</td>\n",
       "      <td>rajasthan royals</td>\n",
       "      <td>gujarat titans</td>\n",
       "      <td>eden gardens</td>\n",
       "      <td>gujarat titans</td>\n",
       "      <td>...</td>\n",
       "      <td>gujarat titans</td>\n",
       "      <td>188</td>\n",
       "      <td>155.397906</td>\n",
       "      <td>166.437500</td>\n",
       "      <td>188.0</td>\n",
       "      <td>191.0</td>\n",
       "      <td>151.561798</td>\n",
       "      <td>167.666667</td>\n",
       "      <td>0.500000</td>\n",
       "      <td>0.687500</td>\n",
       "    </tr>\n",
       "    <tr>\n",
       "      <th>4</th>\n",
       "      <td>4</td>\n",
       "      <td>1304116</td>\n",
       "      <td>mumbai</td>\n",
       "      <td>2022-05-22</td>\n",
       "      <td>2022</td>\n",
       "      <td>70</td>\n",
       "      <td>sunrisers hyderabad</td>\n",
       "      <td>punjab kings</td>\n",
       "      <td>wankhede stadium</td>\n",
       "      <td>sunrisers hyderabad</td>\n",
       "      <td>...</td>\n",
       "      <td>punjab kings</td>\n",
       "      <td>157</td>\n",
       "      <td>155.546053</td>\n",
       "      <td>158.518349</td>\n",
       "      <td>157.0</td>\n",
       "      <td>160.0</td>\n",
       "      <td>145.594203</td>\n",
       "      <td>164.537037</td>\n",
       "      <td>0.486842</td>\n",
       "      <td>0.428571</td>\n",
       "    </tr>\n",
       "  </tbody>\n",
       "</table>\n",
       "<p>5 rows × 21 columns</p>\n",
       "</div>"
      ],
      "text/plain": [
       "   Unnamed: 0       ID       City        Date  Season  MatchNumber  \\\n",
       "0           0  1312200  ahmedabad  2022-05-29    2022        final   \n",
       "1           1  1312199  ahmedabad  2022-05-27    2022  qualifier 2   \n",
       "2           2  1312198    kolkata  2022-05-25    2022   eliminator   \n",
       "3           3  1312197    kolkata  2022-05-24    2022  qualifier 1   \n",
       "4           4  1304116     mumbai  2022-05-22    2022           70   \n",
       "\n",
       "                         Team1                 Team2  \\\n",
       "0             rajasthan royals        gujarat titans   \n",
       "1  royal challengers bangalore      rajasthan royals   \n",
       "2  royal challengers bangalore  lucknow super giants   \n",
       "3             rajasthan royals        gujarat titans   \n",
       "4          sunrisers hyderabad          punjab kings   \n",
       "\n",
       "                              Venue            TossWinner  ...  \\\n",
       "0  narendra modi stadium, ahmedabad      rajasthan royals  ...   \n",
       "1  narendra modi stadium, ahmedabad      rajasthan royals  ...   \n",
       "2                      eden gardens  lucknow super giants  ...   \n",
       "3                      eden gardens        gujarat titans  ...   \n",
       "4                  wankhede stadium   sunrisers hyderabad  ...   \n",
       "\n",
       "                   WinningTeam innings_total  TeamA_batting_average  \\\n",
       "0               gujarat titans           130             155.397906   \n",
       "1             rajasthan royals           157             155.707965   \n",
       "2  royal challengers bangalore           207             155.707965   \n",
       "3               gujarat titans           188             155.397906   \n",
       "4                 punjab kings           157             155.546053   \n",
       "\n",
       "   TeamB_batting_average  TeamA_innings_total  TeamB_innings_total  \\\n",
       "0             166.437500                130.0                133.0   \n",
       "1             155.397906                157.0                161.0   \n",
       "2             169.866667                207.0                193.0   \n",
       "3             166.437500                188.0                191.0   \n",
       "4             158.518349                157.0                160.0   \n",
       "\n",
       "   Team1_points_against_avg  Team2_points_against_avg  Team1_MVP_average  \\\n",
       "0                151.561798                167.666667           0.500000   \n",
       "1                146.976000                162.184466           0.491150   \n",
       "2                146.976000                176.285714           0.491150   \n",
       "3                151.561798                167.666667           0.500000   \n",
       "4                145.594203                164.537037           0.486842   \n",
       "\n",
       "   Team2_MVP_average  \n",
       "0           0.687500  \n",
       "1           0.500000  \n",
       "2           0.600000  \n",
       "3           0.687500  \n",
       "4           0.428571  \n",
       "\n",
       "[5 rows x 21 columns]"
      ]
     },
     "execution_count": 17,
     "metadata": {},
     "output_type": "execute_result"
    }
   ],
   "source": [
    "df.head()"
   ]
  },
  {
   "cell_type": "code",
   "execution_count": 18,
   "id": "ad22b74f-0265-4de1-9a61-c361a3833bf7",
   "metadata": {},
   "outputs": [],
   "source": [
    "df = pd.merge(df, complete_df_reduced, on='ID', how='left')"
   ]
  },
  {
   "cell_type": "code",
   "execution_count": 19,
   "id": "52712043-d1b7-4fe6-8240-726087aa1ffe",
   "metadata": {},
   "outputs": [],
   "source": [
    "df.drop('Unnamed: 0', axis=1, inplace=True)"
   ]
  },
  {
   "cell_type": "code",
   "execution_count": 20,
   "id": "8b581678-8e4b-4786-9755-f611e9f2e382",
   "metadata": {},
   "outputs": [
    {
     "data": {
      "text/html": [
       "<div>\n",
       "<style scoped>\n",
       "    .dataframe tbody tr th:only-of-type {\n",
       "        vertical-align: middle;\n",
       "    }\n",
       "\n",
       "    .dataframe tbody tr th {\n",
       "        vertical-align: top;\n",
       "    }\n",
       "\n",
       "    .dataframe thead th {\n",
       "        text-align: right;\n",
       "    }\n",
       "</style>\n",
       "<table border=\"1\" class=\"dataframe\">\n",
       "  <thead>\n",
       "    <tr style=\"text-align: right;\">\n",
       "      <th></th>\n",
       "      <th>ID</th>\n",
       "      <th>City</th>\n",
       "      <th>Date</th>\n",
       "      <th>Season</th>\n",
       "      <th>MatchNumber</th>\n",
       "      <th>Team1</th>\n",
       "      <th>Team2</th>\n",
       "      <th>Venue</th>\n",
       "      <th>TossWinner</th>\n",
       "      <th>TossDecision</th>\n",
       "      <th>...</th>\n",
       "      <th>TeamA_batting_average</th>\n",
       "      <th>TeamB_batting_average</th>\n",
       "      <th>TeamA_innings_total</th>\n",
       "      <th>TeamB_innings_total</th>\n",
       "      <th>Team1_points_against_avg</th>\n",
       "      <th>Team2_points_against_avg</th>\n",
       "      <th>Team1_MVP_average</th>\n",
       "      <th>Team2_MVP_average</th>\n",
       "      <th>Team1Players</th>\n",
       "      <th>Team2Players</th>\n",
       "    </tr>\n",
       "  </thead>\n",
       "  <tbody>\n",
       "    <tr>\n",
       "      <th>0</th>\n",
       "      <td>1312200</td>\n",
       "      <td>ahmedabad</td>\n",
       "      <td>2022-05-29</td>\n",
       "      <td>2022</td>\n",
       "      <td>final</td>\n",
       "      <td>rajasthan royals</td>\n",
       "      <td>gujarat titans</td>\n",
       "      <td>narendra modi stadium, ahmedabad</td>\n",
       "      <td>rajasthan royals</td>\n",
       "      <td>bat</td>\n",
       "      <td>...</td>\n",
       "      <td>155.397906</td>\n",
       "      <td>166.437500</td>\n",
       "      <td>130.0</td>\n",
       "      <td>133.0</td>\n",
       "      <td>151.561798</td>\n",
       "      <td>167.666667</td>\n",
       "      <td>0.500000</td>\n",
       "      <td>0.687500</td>\n",
       "      <td>[ybk jaiswal, jc buttler, sv samson, d padikka...</td>\n",
       "      <td>[wp saha, shubman gill, ms wade, hh pandya, da...</td>\n",
       "    </tr>\n",
       "    <tr>\n",
       "      <th>1</th>\n",
       "      <td>1312199</td>\n",
       "      <td>ahmedabad</td>\n",
       "      <td>2022-05-27</td>\n",
       "      <td>2022</td>\n",
       "      <td>qualifier 2</td>\n",
       "      <td>royal challengers bangalore</td>\n",
       "      <td>rajasthan royals</td>\n",
       "      <td>narendra modi stadium, ahmedabad</td>\n",
       "      <td>rajasthan royals</td>\n",
       "      <td>field</td>\n",
       "      <td>...</td>\n",
       "      <td>155.707965</td>\n",
       "      <td>155.397906</td>\n",
       "      <td>157.0</td>\n",
       "      <td>161.0</td>\n",
       "      <td>146.976000</td>\n",
       "      <td>162.184466</td>\n",
       "      <td>0.491150</td>\n",
       "      <td>0.500000</td>\n",
       "      <td>[v kohli, f du plessis, rm patidar, gj maxwell...</td>\n",
       "      <td>[ybk jaiswal, jc buttler, sv samson, d padikka...</td>\n",
       "    </tr>\n",
       "    <tr>\n",
       "      <th>2</th>\n",
       "      <td>1312198</td>\n",
       "      <td>kolkata</td>\n",
       "      <td>2022-05-25</td>\n",
       "      <td>2022</td>\n",
       "      <td>eliminator</td>\n",
       "      <td>royal challengers bangalore</td>\n",
       "      <td>lucknow super giants</td>\n",
       "      <td>eden gardens</td>\n",
       "      <td>lucknow super giants</td>\n",
       "      <td>field</td>\n",
       "      <td>...</td>\n",
       "      <td>155.707965</td>\n",
       "      <td>169.866667</td>\n",
       "      <td>207.0</td>\n",
       "      <td>193.0</td>\n",
       "      <td>146.976000</td>\n",
       "      <td>176.285714</td>\n",
       "      <td>0.491150</td>\n",
       "      <td>0.600000</td>\n",
       "      <td>[v kohli, f du plessis, rm patidar, gj maxwell...</td>\n",
       "      <td>[q de kock, kl rahul, m vohra, dj hooda, mp st...</td>\n",
       "    </tr>\n",
       "    <tr>\n",
       "      <th>3</th>\n",
       "      <td>1312197</td>\n",
       "      <td>kolkata</td>\n",
       "      <td>2022-05-24</td>\n",
       "      <td>2022</td>\n",
       "      <td>qualifier 1</td>\n",
       "      <td>rajasthan royals</td>\n",
       "      <td>gujarat titans</td>\n",
       "      <td>eden gardens</td>\n",
       "      <td>gujarat titans</td>\n",
       "      <td>field</td>\n",
       "      <td>...</td>\n",
       "      <td>155.397906</td>\n",
       "      <td>166.437500</td>\n",
       "      <td>188.0</td>\n",
       "      <td>191.0</td>\n",
       "      <td>151.561798</td>\n",
       "      <td>167.666667</td>\n",
       "      <td>0.500000</td>\n",
       "      <td>0.687500</td>\n",
       "      <td>[ybk jaiswal, jc buttler, sv samson, d padikka...</td>\n",
       "      <td>[wp saha, shubman gill, ms wade, hh pandya, da...</td>\n",
       "    </tr>\n",
       "    <tr>\n",
       "      <th>4</th>\n",
       "      <td>1304116</td>\n",
       "      <td>mumbai</td>\n",
       "      <td>2022-05-22</td>\n",
       "      <td>2022</td>\n",
       "      <td>70</td>\n",
       "      <td>sunrisers hyderabad</td>\n",
       "      <td>punjab kings</td>\n",
       "      <td>wankhede stadium</td>\n",
       "      <td>sunrisers hyderabad</td>\n",
       "      <td>bat</td>\n",
       "      <td>...</td>\n",
       "      <td>155.546053</td>\n",
       "      <td>158.518349</td>\n",
       "      <td>157.0</td>\n",
       "      <td>160.0</td>\n",
       "      <td>145.594203</td>\n",
       "      <td>164.537037</td>\n",
       "      <td>0.486842</td>\n",
       "      <td>0.428571</td>\n",
       "      <td>[pk garg, abhishek sharma, ra tripathi, ak mar...</td>\n",
       "      <td>[jm bairstow, s dhawan, m shahrukh khan, ma ag...</td>\n",
       "    </tr>\n",
       "  </tbody>\n",
       "</table>\n",
       "<p>5 rows × 22 columns</p>\n",
       "</div>"
      ],
      "text/plain": [
       "        ID       City        Date  Season  MatchNumber  \\\n",
       "0  1312200  ahmedabad  2022-05-29    2022        final   \n",
       "1  1312199  ahmedabad  2022-05-27    2022  qualifier 2   \n",
       "2  1312198    kolkata  2022-05-25    2022   eliminator   \n",
       "3  1312197    kolkata  2022-05-24    2022  qualifier 1   \n",
       "4  1304116     mumbai  2022-05-22    2022           70   \n",
       "\n",
       "                         Team1                 Team2  \\\n",
       "0             rajasthan royals        gujarat titans   \n",
       "1  royal challengers bangalore      rajasthan royals   \n",
       "2  royal challengers bangalore  lucknow super giants   \n",
       "3             rajasthan royals        gujarat titans   \n",
       "4          sunrisers hyderabad          punjab kings   \n",
       "\n",
       "                              Venue            TossWinner TossDecision  ...  \\\n",
       "0  narendra modi stadium, ahmedabad      rajasthan royals          bat  ...   \n",
       "1  narendra modi stadium, ahmedabad      rajasthan royals        field  ...   \n",
       "2                      eden gardens  lucknow super giants        field  ...   \n",
       "3                      eden gardens        gujarat titans        field  ...   \n",
       "4                  wankhede stadium   sunrisers hyderabad          bat  ...   \n",
       "\n",
       "  TeamA_batting_average  TeamB_batting_average  TeamA_innings_total  \\\n",
       "0            155.397906             166.437500                130.0   \n",
       "1            155.707965             155.397906                157.0   \n",
       "2            155.707965             169.866667                207.0   \n",
       "3            155.397906             166.437500                188.0   \n",
       "4            155.546053             158.518349                157.0   \n",
       "\n",
       "   TeamB_innings_total  Team1_points_against_avg  Team2_points_against_avg  \\\n",
       "0                133.0                151.561798                167.666667   \n",
       "1                161.0                146.976000                162.184466   \n",
       "2                193.0                146.976000                176.285714   \n",
       "3                191.0                151.561798                167.666667   \n",
       "4                160.0                145.594203                164.537037   \n",
       "\n",
       "   Team1_MVP_average  Team2_MVP_average  \\\n",
       "0           0.500000           0.687500   \n",
       "1           0.491150           0.500000   \n",
       "2           0.491150           0.600000   \n",
       "3           0.500000           0.687500   \n",
       "4           0.486842           0.428571   \n",
       "\n",
       "                                        Team1Players  \\\n",
       "0  [ybk jaiswal, jc buttler, sv samson, d padikka...   \n",
       "1  [v kohli, f du plessis, rm patidar, gj maxwell...   \n",
       "2  [v kohli, f du plessis, rm patidar, gj maxwell...   \n",
       "3  [ybk jaiswal, jc buttler, sv samson, d padikka...   \n",
       "4  [pk garg, abhishek sharma, ra tripathi, ak mar...   \n",
       "\n",
       "                                        Team2Players  \n",
       "0  [wp saha, shubman gill, ms wade, hh pandya, da...  \n",
       "1  [ybk jaiswal, jc buttler, sv samson, d padikka...  \n",
       "2  [q de kock, kl rahul, m vohra, dj hooda, mp st...  \n",
       "3  [wp saha, shubman gill, ms wade, hh pandya, da...  \n",
       "4  [jm bairstow, s dhawan, m shahrukh khan, ma ag...  \n",
       "\n",
       "[5 rows x 22 columns]"
      ]
     },
     "execution_count": 20,
     "metadata": {},
     "output_type": "execute_result"
    }
   ],
   "source": [
    "df.head()"
   ]
  },
  {
   "cell_type": "markdown",
   "id": "3be6a7ca-6d52-4d3c-ae88-27e979ef8560",
   "metadata": {},
   "source": [
    "## Creation of New Features"
   ]
  },
  {
   "cell_type": "markdown",
   "id": "729c8b4f-246d-4c81-bcfc-e7fae42119af",
   "metadata": {},
   "source": [
    "### Data"
   ]
  },
  {
   "cell_type": "code",
   "execution_count": 21,
   "id": "246521d8-38a3-46a6-b6d7-d0fb04c3130d",
   "metadata": {},
   "outputs": [
    {
     "data": {
      "text/plain": [
       "Index(['ID', 'City', 'Date', 'Season', 'MatchNumber', 'Team1', 'Team2',\n",
       "       'Venue', 'TossWinner', 'TossDecision', 'WinningTeam', 'innings_total',\n",
       "       'TeamA_batting_average', 'TeamB_batting_average', 'TeamA_innings_total',\n",
       "       'TeamB_innings_total', 'Team1_points_against_avg',\n",
       "       'Team2_points_against_avg', 'Team1_MVP_average', 'Team2_MVP_average',\n",
       "       'Team1Players', 'Team2Players'],\n",
       "      dtype='object')"
      ]
     },
     "execution_count": 21,
     "metadata": {},
     "output_type": "execute_result"
    }
   ],
   "source": [
    "df.columns"
   ]
  },
  {
   "cell_type": "code",
   "execution_count": 22,
   "id": "dbc97b1e-7aaa-43b3-b7a9-538bef531d9a",
   "metadata": {},
   "outputs": [
    {
     "data": {
      "text/plain": [
       "Index(['player', 'bat_innings', 'total_runs', 'not_out', 'zero', '50s', '100s',\n",
       "       'fours', 'sixes', 'high_score', 'balls_faced', 'average_score',\n",
       "       'batting_average', 'batting_strike_rate', 'bowler_innings',\n",
       "       'balls_bowled', 'runs_conceded', 'wickets', 'four_wickets',\n",
       "       'five_wickets', 'bowling_average', 'bowling_economy_rate',\n",
       "       'bowling_strike_rate'],\n",
       "      dtype='object')"
      ]
     },
     "execution_count": 22,
     "metadata": {},
     "output_type": "execute_result"
    }
   ],
   "source": [
    "players_df.columns"
   ]
  },
  {
   "cell_type": "code",
   "execution_count": 23,
   "id": "da6f3463-546f-4b65-b8cc-6f3e1f22d8f5",
   "metadata": {},
   "outputs": [
    {
     "data": {
      "text/plain": [
       "0      [ybk jaiswal, jc buttler, sv samson, d padikka...\n",
       "1      [v kohli, f du plessis, rm patidar, gj maxwell...\n",
       "2      [v kohli, f du plessis, rm patidar, gj maxwell...\n",
       "3      [ybk jaiswal, jc buttler, sv samson, d padikka...\n",
       "4      [pk garg, abhishek sharma, ra tripathi, ak mar...\n",
       "                             ...                        \n",
       "945    [wp saha, bb mccullum, rt ponting, sc ganguly,...\n",
       "946    [l ronchi, st jayasuriya, dj thornely, rv utha...\n",
       "947    [g gambhir, v sehwag, s dhawan, mk tiwary, kd ...\n",
       "948    [k goel, jr hopes, kc sangakkara, yuvraj singh...\n",
       "949    [r dravid, w jaffer, v kohli, jh kallis, cl wh...\n",
       "Name: Team1Players, Length: 950, dtype: object"
      ]
     },
     "execution_count": 23,
     "metadata": {},
     "output_type": "execute_result"
    }
   ],
   "source": [
    "df.Team1Players"
   ]
  },
  {
   "cell_type": "code",
   "execution_count": 24,
   "id": "7ba8bd70-89f5-4b20-94b3-e6c6cfe0b9bc",
   "metadata": {},
   "outputs": [
    {
     "data": {
      "text/plain": [
       "0      [wp saha, shubman gill, ms wade, hh pandya, da...\n",
       "1      [ybk jaiswal, jc buttler, sv samson, d padikka...\n",
       "2      [q de kock, kl rahul, m vohra, dj hooda, mp st...\n",
       "3      [wp saha, shubman gill, ms wade, hh pandya, da...\n",
       "4      [jm bairstow, s dhawan, m shahrukh khan, ma ag...\n",
       "                             ...                        \n",
       "945    [ac gilchrist, y venugopal rao, vvs laxman, a ...\n",
       "946    [s chanderpaul, r dravid, lrpl taylor, jh kall...\n",
       "947    [t kohli, yk pathan, sr watson, m kaif, ds leh...\n",
       "948    [pa patel, ml hayden, mek hussey, ms dhoni, sk...\n",
       "949    [sc ganguly, bb mccullum, rt ponting, dj husse...\n",
       "Name: Team2Players, Length: 950, dtype: object"
      ]
     },
     "execution_count": 24,
     "metadata": {},
     "output_type": "execute_result"
    }
   ],
   "source": [
    "df.Team2Players"
   ]
  },
  {
   "cell_type": "code",
   "execution_count": 25,
   "id": "b27354c8-6485-4e0b-833a-e602e1dc2954",
   "metadata": {},
   "outputs": [
    {
     "data": {
      "text/plain": [
       "Team1Players\n",
       "11    950\n",
       "Name: count, dtype: int64"
      ]
     },
     "execution_count": 25,
     "metadata": {},
     "output_type": "execute_result"
    }
   ],
   "source": [
    "# checking if all the teams have 11 players\n",
    "df['Team1Players'].apply(lambda x: len(x)).value_counts()"
   ]
  },
  {
   "cell_type": "markdown",
   "id": "a51b69bc-3033-4e9c-8aa4-a40d69732d0a",
   "metadata": {},
   "source": [
    "### Batting Features"
   ]
  },
  {
   "cell_type": "code",
   "execution_count": 26,
   "id": "30e01673-65a9-4c99-ba8e-c979d8a5b1ff",
   "metadata": {},
   "outputs": [
    {
     "data": {
      "text/plain": [
       "\"\\ndef weighted_average(players_list, players_df):\\n    # Filtra as informações dos jogadores no DataFrame com base nos nomes dos jogadores na lista\\n    player_info = players_df[players_df['player'].isin(players_list)]\\n\\n    # Calcula o peso para cada jogador com base no average_score (por exemplo, usando a função exponencial)\\n    # Você pode ajustar a fórmula do peso conforme necessário\\n    #player_info['weight'] = players_df['average_score'].apply(lambda x: 2**x)\\n\\n    # funcao logaritmica:\\n    #player_info['weight'] = np.log(player_info['average_score'] + 1)\\n\\n    #funcao da raiz quadrada: \\n    player_info['weight'] = np.sqrt(player_info['average_score'])\\n\\n    # Calcula a média ponderada usando os pesos\\n    weighted_avg = (players_df['average_score'] * player_info['weight']).sum() / player_info['weight'].sum()\\n    \\n    return weighted_avg\\n\\n# Aplica a função para calcular a média ponderada para Team1\\ndf['Avg_Weighted_Score_Team1'] = df['Team1Players'].apply(lambda players: weighted_average(players, players_df))\\n\\n# Aplica a função para calcular a média ponderada para Team2\\ndf['Avg_Weighted_Score_Team2'] = df['Team2Players'].apply(lambda players: weighted_average(players, players_df))\\n\""
      ]
     },
     "execution_count": 26,
     "metadata": {},
     "output_type": "execute_result"
    }
   ],
   "source": [
    "\"\"\"\n",
    "def weighted_average(players_list, players_df):\n",
    "    # Filtra as informações dos jogadores no DataFrame com base nos nomes dos jogadores na lista\n",
    "    player_info = players_df[players_df['player'].isin(players_list)]\n",
    "\n",
    "    # Calcula o peso para cada jogador com base no average_score (por exemplo, usando a função exponencial)\n",
    "    # Você pode ajustar a fórmula do peso conforme necessário\n",
    "    #player_info['weight'] = players_df['average_score'].apply(lambda x: 2**x)\n",
    "\n",
    "    # funcao logaritmica:\n",
    "    #player_info['weight'] = np.log(player_info['average_score'] + 1)\n",
    "\n",
    "    #funcao da raiz quadrada: \n",
    "    player_info['weight'] = np.sqrt(player_info['average_score'])\n",
    "\n",
    "    # Calcula a média ponderada usando os pesos\n",
    "    weighted_avg = (players_df['average_score'] * player_info['weight']).sum() / player_info['weight'].sum()\n",
    "    \n",
    "    return weighted_avg\n",
    "\n",
    "# Aplica a função para calcular a média ponderada para Team1\n",
    "df['Avg_Weighted_Score_Team1'] = df['Team1Players'].apply(lambda players: weighted_average(players, players_df))\n",
    "\n",
    "# Aplica a função para calcular a média ponderada para Team2\n",
    "df['Avg_Weighted_Score_Team2'] = df['Team2Players'].apply(lambda players: weighted_average(players, players_df))\n",
    "\"\"\"\n"
   ]
  },
  {
   "cell_type": "code",
   "execution_count": 27,
   "id": "347c5f76-0784-4d43-acc5-fe42e989c22f",
   "metadata": {},
   "outputs": [],
   "source": [
    "# Team1 Players Avg Score\n",
    "df['Avg_Score_PlayersTeam1'] = df['Team1Players'].apply(lambda players: players_df[players_df['player'].isin(players)]['average_score'].mean())\n",
    "\n",
    "# Team2 Players Avg Score\n",
    "df['Avg_Score_PlayersTeam2'] = df['Team2Players'].apply(lambda players: players_df[players_df['player'].isin(players)]['average_score'].mean())"
   ]
  },
  {
   "cell_type": "code",
   "execution_count": 28,
   "id": "eb5b342a-dd6a-4cd5-9d2b-2c47465d4bef",
   "metadata": {},
   "outputs": [
    {
     "data": {
      "text/html": [
       "<div>\n",
       "<style scoped>\n",
       "    .dataframe tbody tr th:only-of-type {\n",
       "        vertical-align: middle;\n",
       "    }\n",
       "\n",
       "    .dataframe tbody tr th {\n",
       "        vertical-align: top;\n",
       "    }\n",
       "\n",
       "    .dataframe thead th {\n",
       "        text-align: right;\n",
       "    }\n",
       "</style>\n",
       "<table border=\"1\" class=\"dataframe\">\n",
       "  <thead>\n",
       "    <tr style=\"text-align: right;\">\n",
       "      <th></th>\n",
       "      <th>ID</th>\n",
       "      <th>City</th>\n",
       "      <th>Date</th>\n",
       "      <th>Season</th>\n",
       "      <th>MatchNumber</th>\n",
       "      <th>Team1</th>\n",
       "      <th>Team2</th>\n",
       "      <th>Venue</th>\n",
       "      <th>TossWinner</th>\n",
       "      <th>TossDecision</th>\n",
       "      <th>...</th>\n",
       "      <th>TeamA_innings_total</th>\n",
       "      <th>TeamB_innings_total</th>\n",
       "      <th>Team1_points_against_avg</th>\n",
       "      <th>Team2_points_against_avg</th>\n",
       "      <th>Team1_MVP_average</th>\n",
       "      <th>Team2_MVP_average</th>\n",
       "      <th>Team1Players</th>\n",
       "      <th>Team2Players</th>\n",
       "      <th>Avg_Score_PlayersTeam1</th>\n",
       "      <th>Avg_Score_PlayersTeam2</th>\n",
       "    </tr>\n",
       "  </thead>\n",
       "  <tbody>\n",
       "    <tr>\n",
       "      <th>0</th>\n",
       "      <td>1312200</td>\n",
       "      <td>ahmedabad</td>\n",
       "      <td>2022-05-29</td>\n",
       "      <td>2022</td>\n",
       "      <td>final</td>\n",
       "      <td>rajasthan royals</td>\n",
       "      <td>gujarat titans</td>\n",
       "      <td>narendra modi stadium, ahmedabad</td>\n",
       "      <td>rajasthan royals</td>\n",
       "      <td>bat</td>\n",
       "      <td>...</td>\n",
       "      <td>130.0</td>\n",
       "      <td>133.0</td>\n",
       "      <td>151.561798</td>\n",
       "      <td>167.666667</td>\n",
       "      <td>0.500000</td>\n",
       "      <td>0.687500</td>\n",
       "      <td>[ybk jaiswal, jc buttler, sv samson, d padikka...</td>\n",
       "      <td>[wp saha, shubman gill, ms wade, hh pandya, da...</td>\n",
       "      <td>15.376364</td>\n",
       "      <td>12.820000</td>\n",
       "    </tr>\n",
       "    <tr>\n",
       "      <th>1</th>\n",
       "      <td>1312199</td>\n",
       "      <td>ahmedabad</td>\n",
       "      <td>2022-05-27</td>\n",
       "      <td>2022</td>\n",
       "      <td>qualifier 2</td>\n",
       "      <td>royal challengers bangalore</td>\n",
       "      <td>rajasthan royals</td>\n",
       "      <td>narendra modi stadium, ahmedabad</td>\n",
       "      <td>rajasthan royals</td>\n",
       "      <td>field</td>\n",
       "      <td>...</td>\n",
       "      <td>157.0</td>\n",
       "      <td>161.0</td>\n",
       "      <td>146.976000</td>\n",
       "      <td>162.184466</td>\n",
       "      <td>0.491150</td>\n",
       "      <td>0.500000</td>\n",
       "      <td>[v kohli, f du plessis, rm patidar, gj maxwell...</td>\n",
       "      <td>[ybk jaiswal, jc buttler, sv samson, d padikka...</td>\n",
       "      <td>17.698182</td>\n",
       "      <td>15.376364</td>\n",
       "    </tr>\n",
       "    <tr>\n",
       "      <th>2</th>\n",
       "      <td>1312198</td>\n",
       "      <td>kolkata</td>\n",
       "      <td>2022-05-25</td>\n",
       "      <td>2022</td>\n",
       "      <td>eliminator</td>\n",
       "      <td>royal challengers bangalore</td>\n",
       "      <td>lucknow super giants</td>\n",
       "      <td>eden gardens</td>\n",
       "      <td>lucknow super giants</td>\n",
       "      <td>field</td>\n",
       "      <td>...</td>\n",
       "      <td>207.0</td>\n",
       "      <td>193.0</td>\n",
       "      <td>146.976000</td>\n",
       "      <td>176.285714</td>\n",
       "      <td>0.491150</td>\n",
       "      <td>0.600000</td>\n",
       "      <td>[v kohli, f du plessis, rm patidar, gj maxwell...</td>\n",
       "      <td>[q de kock, kl rahul, m vohra, dj hooda, mp st...</td>\n",
       "      <td>17.698182</td>\n",
       "      <td>17.073636</td>\n",
       "    </tr>\n",
       "    <tr>\n",
       "      <th>3</th>\n",
       "      <td>1312197</td>\n",
       "      <td>kolkata</td>\n",
       "      <td>2022-05-24</td>\n",
       "      <td>2022</td>\n",
       "      <td>qualifier 1</td>\n",
       "      <td>rajasthan royals</td>\n",
       "      <td>gujarat titans</td>\n",
       "      <td>eden gardens</td>\n",
       "      <td>gujarat titans</td>\n",
       "      <td>field</td>\n",
       "      <td>...</td>\n",
       "      <td>188.0</td>\n",
       "      <td>191.0</td>\n",
       "      <td>151.561798</td>\n",
       "      <td>167.666667</td>\n",
       "      <td>0.500000</td>\n",
       "      <td>0.687500</td>\n",
       "      <td>[ybk jaiswal, jc buttler, sv samson, d padikka...</td>\n",
       "      <td>[wp saha, shubman gill, ms wade, hh pandya, da...</td>\n",
       "      <td>15.376364</td>\n",
       "      <td>12.512727</td>\n",
       "    </tr>\n",
       "    <tr>\n",
       "      <th>4</th>\n",
       "      <td>1304116</td>\n",
       "      <td>mumbai</td>\n",
       "      <td>2022-05-22</td>\n",
       "      <td>2022</td>\n",
       "      <td>70</td>\n",
       "      <td>sunrisers hyderabad</td>\n",
       "      <td>punjab kings</td>\n",
       "      <td>wankhede stadium</td>\n",
       "      <td>sunrisers hyderabad</td>\n",
       "      <td>bat</td>\n",
       "      <td>...</td>\n",
       "      <td>157.0</td>\n",
       "      <td>160.0</td>\n",
       "      <td>145.594203</td>\n",
       "      <td>164.537037</td>\n",
       "      <td>0.486842</td>\n",
       "      <td>0.428571</td>\n",
       "      <td>[pk garg, abhishek sharma, ra tripathi, ak mar...</td>\n",
       "      <td>[jm bairstow, s dhawan, m shahrukh khan, ma ag...</td>\n",
       "      <td>13.963636</td>\n",
       "      <td>16.340000</td>\n",
       "    </tr>\n",
       "    <tr>\n",
       "      <th>...</th>\n",
       "      <td>...</td>\n",
       "      <td>...</td>\n",
       "      <td>...</td>\n",
       "      <td>...</td>\n",
       "      <td>...</td>\n",
       "      <td>...</td>\n",
       "      <td>...</td>\n",
       "      <td>...</td>\n",
       "      <td>...</td>\n",
       "      <td>...</td>\n",
       "      <td>...</td>\n",
       "      <td>...</td>\n",
       "      <td>...</td>\n",
       "      <td>...</td>\n",
       "      <td>...</td>\n",
       "      <td>...</td>\n",
       "      <td>...</td>\n",
       "      <td>...</td>\n",
       "      <td>...</td>\n",
       "      <td>...</td>\n",
       "      <td>...</td>\n",
       "    </tr>\n",
       "    <tr>\n",
       "      <th>945</th>\n",
       "      <td>335986</td>\n",
       "      <td>kolkata</td>\n",
       "      <td>2008-04-20</td>\n",
       "      <td>2008</td>\n",
       "      <td>4</td>\n",
       "      <td>kolkata knight riders</td>\n",
       "      <td>deccan chargers</td>\n",
       "      <td>eden gardens</td>\n",
       "      <td>deccan chargers</td>\n",
       "      <td>bat</td>\n",
       "      <td>...</td>\n",
       "      <td>110.0</td>\n",
       "      <td>112.0</td>\n",
       "      <td>146.171429</td>\n",
       "      <td>159.583333</td>\n",
       "      <td>0.511211</td>\n",
       "      <td>0.386667</td>\n",
       "      <td>[wp saha, bb mccullum, rt ponting, sc ganguly,...</td>\n",
       "      <td>[ac gilchrist, y venugopal rao, vvs laxman, a ...</td>\n",
       "      <td>12.978182</td>\n",
       "      <td>13.601818</td>\n",
       "    </tr>\n",
       "    <tr>\n",
       "      <th>946</th>\n",
       "      <td>335985</td>\n",
       "      <td>mumbai</td>\n",
       "      <td>2008-04-20</td>\n",
       "      <td>2008</td>\n",
       "      <td>5</td>\n",
       "      <td>mumbai indians</td>\n",
       "      <td>royal challengers bangalore</td>\n",
       "      <td>wankhede stadium</td>\n",
       "      <td>mumbai indians</td>\n",
       "      <td>bat</td>\n",
       "      <td>...</td>\n",
       "      <td>165.0</td>\n",
       "      <td>166.0</td>\n",
       "      <td>151.616071</td>\n",
       "      <td>165.840000</td>\n",
       "      <td>0.558442</td>\n",
       "      <td>0.491150</td>\n",
       "      <td>[l ronchi, st jayasuriya, dj thornely, rv utha...</td>\n",
       "      <td>[s chanderpaul, r dravid, lrpl taylor, jh kall...</td>\n",
       "      <td>12.164545</td>\n",
       "      <td>14.020909</td>\n",
       "    </tr>\n",
       "    <tr>\n",
       "      <th>947</th>\n",
       "      <td>335984</td>\n",
       "      <td>delhi</td>\n",
       "      <td>2008-04-19</td>\n",
       "      <td>2008</td>\n",
       "      <td>3</td>\n",
       "      <td>delhi capitals</td>\n",
       "      <td>rajasthan royals</td>\n",
       "      <td>feroz shah kotla</td>\n",
       "      <td>rajasthan royals</td>\n",
       "      <td>bat</td>\n",
       "      <td>...</td>\n",
       "      <td>129.0</td>\n",
       "      <td>132.0</td>\n",
       "      <td>148.238938</td>\n",
       "      <td>162.184466</td>\n",
       "      <td>0.409938</td>\n",
       "      <td>0.500000</td>\n",
       "      <td>[g gambhir, v sehwag, s dhawan, mk tiwary, kd ...</td>\n",
       "      <td>[t kohli, yk pathan, sr watson, m kaif, ds leh...</td>\n",
       "      <td>15.280000</td>\n",
       "      <td>10.630909</td>\n",
       "    </tr>\n",
       "    <tr>\n",
       "      <th>948</th>\n",
       "      <td>335983</td>\n",
       "      <td>chandigarh</td>\n",
       "      <td>2008-04-19</td>\n",
       "      <td>2008</td>\n",
       "      <td>2</td>\n",
       "      <td>punjab kings</td>\n",
       "      <td>chennai super kings</td>\n",
       "      <td>punjab cricket association is bindra stadium</td>\n",
       "      <td>chennai super kings</td>\n",
       "      <td>bat</td>\n",
       "      <td>...</td>\n",
       "      <td>240.0</td>\n",
       "      <td>207.0</td>\n",
       "      <td>152.681818</td>\n",
       "      <td>161.072165</td>\n",
       "      <td>0.468421</td>\n",
       "      <td>0.591346</td>\n",
       "      <td>[k goel, jr hopes, kc sangakkara, yuvraj singh...</td>\n",
       "      <td>[pa patel, ml hayden, mek hussey, ms dhoni, sk...</td>\n",
       "      <td>14.141000</td>\n",
       "      <td>17.108182</td>\n",
       "    </tr>\n",
       "    <tr>\n",
       "      <th>949</th>\n",
       "      <td>335982</td>\n",
       "      <td>bangalore</td>\n",
       "      <td>2008-04-18</td>\n",
       "      <td>2008</td>\n",
       "      <td>1</td>\n",
       "      <td>royal challengers bangalore</td>\n",
       "      <td>kolkata knight riders</td>\n",
       "      <td>m.chinnaswamy stadium</td>\n",
       "      <td>royal challengers bangalore</td>\n",
       "      <td>field</td>\n",
       "      <td>...</td>\n",
       "      <td>222.0</td>\n",
       "      <td>82.0</td>\n",
       "      <td>146.976000</td>\n",
       "      <td>160.669492</td>\n",
       "      <td>0.491150</td>\n",
       "      <td>0.511211</td>\n",
       "      <td>[r dravid, w jaffer, v kohli, jh kallis, cl wh...</td>\n",
       "      <td>[sc ganguly, bb mccullum, rt ponting, dj husse...</td>\n",
       "      <td>15.138182</td>\n",
       "      <td>12.978182</td>\n",
       "    </tr>\n",
       "  </tbody>\n",
       "</table>\n",
       "<p>950 rows × 24 columns</p>\n",
       "</div>"
      ],
      "text/plain": [
       "          ID        City        Date  Season  MatchNumber  \\\n",
       "0    1312200   ahmedabad  2022-05-29    2022        final   \n",
       "1    1312199   ahmedabad  2022-05-27    2022  qualifier 2   \n",
       "2    1312198     kolkata  2022-05-25    2022   eliminator   \n",
       "3    1312197     kolkata  2022-05-24    2022  qualifier 1   \n",
       "4    1304116      mumbai  2022-05-22    2022           70   \n",
       "..       ...         ...         ...     ...          ...   \n",
       "945   335986     kolkata  2008-04-20    2008            4   \n",
       "946   335985      mumbai  2008-04-20    2008            5   \n",
       "947   335984       delhi  2008-04-19    2008            3   \n",
       "948   335983  chandigarh  2008-04-19    2008            2   \n",
       "949   335982   bangalore  2008-04-18    2008            1   \n",
       "\n",
       "                           Team1                        Team2  \\\n",
       "0               rajasthan royals               gujarat titans   \n",
       "1    royal challengers bangalore             rajasthan royals   \n",
       "2    royal challengers bangalore         lucknow super giants   \n",
       "3               rajasthan royals               gujarat titans   \n",
       "4            sunrisers hyderabad                 punjab kings   \n",
       "..                           ...                          ...   \n",
       "945        kolkata knight riders              deccan chargers   \n",
       "946               mumbai indians  royal challengers bangalore   \n",
       "947               delhi capitals             rajasthan royals   \n",
       "948                 punjab kings          chennai super kings   \n",
       "949  royal challengers bangalore        kolkata knight riders   \n",
       "\n",
       "                                            Venue  \\\n",
       "0                narendra modi stadium, ahmedabad   \n",
       "1                narendra modi stadium, ahmedabad   \n",
       "2                                    eden gardens   \n",
       "3                                    eden gardens   \n",
       "4                                wankhede stadium   \n",
       "..                                            ...   \n",
       "945                                  eden gardens   \n",
       "946                              wankhede stadium   \n",
       "947                              feroz shah kotla   \n",
       "948  punjab cricket association is bindra stadium   \n",
       "949                         m.chinnaswamy stadium   \n",
       "\n",
       "                      TossWinner TossDecision  ... TeamA_innings_total  \\\n",
       "0               rajasthan royals          bat  ...               130.0   \n",
       "1               rajasthan royals        field  ...               157.0   \n",
       "2           lucknow super giants        field  ...               207.0   \n",
       "3                 gujarat titans        field  ...               188.0   \n",
       "4            sunrisers hyderabad          bat  ...               157.0   \n",
       "..                           ...          ...  ...                 ...   \n",
       "945              deccan chargers          bat  ...               110.0   \n",
       "946               mumbai indians          bat  ...               165.0   \n",
       "947             rajasthan royals          bat  ...               129.0   \n",
       "948          chennai super kings          bat  ...               240.0   \n",
       "949  royal challengers bangalore        field  ...               222.0   \n",
       "\n",
       "     TeamB_innings_total  Team1_points_against_avg  Team2_points_against_avg  \\\n",
       "0                  133.0                151.561798                167.666667   \n",
       "1                  161.0                146.976000                162.184466   \n",
       "2                  193.0                146.976000                176.285714   \n",
       "3                  191.0                151.561798                167.666667   \n",
       "4                  160.0                145.594203                164.537037   \n",
       "..                   ...                       ...                       ...   \n",
       "945                112.0                146.171429                159.583333   \n",
       "946                166.0                151.616071                165.840000   \n",
       "947                132.0                148.238938                162.184466   \n",
       "948                207.0                152.681818                161.072165   \n",
       "949                 82.0                146.976000                160.669492   \n",
       "\n",
       "     Team1_MVP_average  Team2_MVP_average  \\\n",
       "0             0.500000           0.687500   \n",
       "1             0.491150           0.500000   \n",
       "2             0.491150           0.600000   \n",
       "3             0.500000           0.687500   \n",
       "4             0.486842           0.428571   \n",
       "..                 ...                ...   \n",
       "945           0.511211           0.386667   \n",
       "946           0.558442           0.491150   \n",
       "947           0.409938           0.500000   \n",
       "948           0.468421           0.591346   \n",
       "949           0.491150           0.511211   \n",
       "\n",
       "                                          Team1Players  \\\n",
       "0    [ybk jaiswal, jc buttler, sv samson, d padikka...   \n",
       "1    [v kohli, f du plessis, rm patidar, gj maxwell...   \n",
       "2    [v kohli, f du plessis, rm patidar, gj maxwell...   \n",
       "3    [ybk jaiswal, jc buttler, sv samson, d padikka...   \n",
       "4    [pk garg, abhishek sharma, ra tripathi, ak mar...   \n",
       "..                                                 ...   \n",
       "945  [wp saha, bb mccullum, rt ponting, sc ganguly,...   \n",
       "946  [l ronchi, st jayasuriya, dj thornely, rv utha...   \n",
       "947  [g gambhir, v sehwag, s dhawan, mk tiwary, kd ...   \n",
       "948  [k goel, jr hopes, kc sangakkara, yuvraj singh...   \n",
       "949  [r dravid, w jaffer, v kohli, jh kallis, cl wh...   \n",
       "\n",
       "                                          Team2Players  \\\n",
       "0    [wp saha, shubman gill, ms wade, hh pandya, da...   \n",
       "1    [ybk jaiswal, jc buttler, sv samson, d padikka...   \n",
       "2    [q de kock, kl rahul, m vohra, dj hooda, mp st...   \n",
       "3    [wp saha, shubman gill, ms wade, hh pandya, da...   \n",
       "4    [jm bairstow, s dhawan, m shahrukh khan, ma ag...   \n",
       "..                                                 ...   \n",
       "945  [ac gilchrist, y venugopal rao, vvs laxman, a ...   \n",
       "946  [s chanderpaul, r dravid, lrpl taylor, jh kall...   \n",
       "947  [t kohli, yk pathan, sr watson, m kaif, ds leh...   \n",
       "948  [pa patel, ml hayden, mek hussey, ms dhoni, sk...   \n",
       "949  [sc ganguly, bb mccullum, rt ponting, dj husse...   \n",
       "\n",
       "     Avg_Score_PlayersTeam1  Avg_Score_PlayersTeam2  \n",
       "0                 15.376364               12.820000  \n",
       "1                 17.698182               15.376364  \n",
       "2                 17.698182               17.073636  \n",
       "3                 15.376364               12.512727  \n",
       "4                 13.963636               16.340000  \n",
       "..                      ...                     ...  \n",
       "945               12.978182               13.601818  \n",
       "946               12.164545               14.020909  \n",
       "947               15.280000               10.630909  \n",
       "948               14.141000               17.108182  \n",
       "949               15.138182               12.978182  \n",
       "\n",
       "[950 rows x 24 columns]"
      ]
     },
     "execution_count": 28,
     "metadata": {},
     "output_type": "execute_result"
    }
   ],
   "source": [
    "df"
   ]
  },
  {
   "cell_type": "code",
   "execution_count": 29,
   "id": "f132fff5-5101-409a-b941-6a116300350d",
   "metadata": {},
   "outputs": [
    {
     "data": {
      "text/html": [
       "<div>\n",
       "<style scoped>\n",
       "    .dataframe tbody tr th:only-of-type {\n",
       "        vertical-align: middle;\n",
       "    }\n",
       "\n",
       "    .dataframe tbody tr th {\n",
       "        vertical-align: top;\n",
       "    }\n",
       "\n",
       "    .dataframe thead th {\n",
       "        text-align: right;\n",
       "    }\n",
       "</style>\n",
       "<table border=\"1\" class=\"dataframe\">\n",
       "  <thead>\n",
       "    <tr style=\"text-align: right;\">\n",
       "      <th></th>\n",
       "      <th>Season</th>\n",
       "      <th>Team1</th>\n",
       "      <th>Avg_Score_PlayersTeam1</th>\n",
       "    </tr>\n",
       "  </thead>\n",
       "  <tbody>\n",
       "    <tr>\n",
       "      <th>0</th>\n",
       "      <td>2022</td>\n",
       "      <td>rajasthan royals</td>\n",
       "      <td>15.376364</td>\n",
       "    </tr>\n",
       "    <tr>\n",
       "      <th>3</th>\n",
       "      <td>2022</td>\n",
       "      <td>rajasthan royals</td>\n",
       "      <td>15.376364</td>\n",
       "    </tr>\n",
       "    <tr>\n",
       "      <th>11</th>\n",
       "      <td>2022</td>\n",
       "      <td>rajasthan royals</td>\n",
       "      <td>14.455455</td>\n",
       "    </tr>\n",
       "    <tr>\n",
       "      <th>16</th>\n",
       "      <td>2022</td>\n",
       "      <td>rajasthan royals</td>\n",
       "      <td>13.558182</td>\n",
       "    </tr>\n",
       "    <tr>\n",
       "      <th>27</th>\n",
       "      <td>2022</td>\n",
       "      <td>rajasthan royals</td>\n",
       "      <td>14.487273</td>\n",
       "    </tr>\n",
       "    <tr>\n",
       "      <th>...</th>\n",
       "      <td>...</td>\n",
       "      <td>...</td>\n",
       "      <td>...</td>\n",
       "    </tr>\n",
       "    <tr>\n",
       "      <th>916</th>\n",
       "      <td>2008</td>\n",
       "      <td>rajasthan royals</td>\n",
       "      <td>13.365455</td>\n",
       "    </tr>\n",
       "    <tr>\n",
       "      <th>920</th>\n",
       "      <td>2008</td>\n",
       "      <td>rajasthan royals</td>\n",
       "      <td>13.367273</td>\n",
       "    </tr>\n",
       "    <tr>\n",
       "      <th>926</th>\n",
       "      <td>2008</td>\n",
       "      <td>rajasthan royals</td>\n",
       "      <td>13.557273</td>\n",
       "    </tr>\n",
       "    <tr>\n",
       "      <th>931</th>\n",
       "      <td>2008</td>\n",
       "      <td>rajasthan royals</td>\n",
       "      <td>13.557273</td>\n",
       "    </tr>\n",
       "    <tr>\n",
       "      <th>944</th>\n",
       "      <td>2008</td>\n",
       "      <td>rajasthan royals</td>\n",
       "      <td>12.030909</td>\n",
       "    </tr>\n",
       "  </tbody>\n",
       "</table>\n",
       "<p>89 rows × 3 columns</p>\n",
       "</div>"
      ],
      "text/plain": [
       "     Season             Team1  Avg_Score_PlayersTeam1\n",
       "0      2022  rajasthan royals               15.376364\n",
       "3      2022  rajasthan royals               15.376364\n",
       "11     2022  rajasthan royals               14.455455\n",
       "16     2022  rajasthan royals               13.558182\n",
       "27     2022  rajasthan royals               14.487273\n",
       "..      ...               ...                     ...\n",
       "916    2008  rajasthan royals               13.365455\n",
       "920    2008  rajasthan royals               13.367273\n",
       "926    2008  rajasthan royals               13.557273\n",
       "931    2008  rajasthan royals               13.557273\n",
       "944    2008  rajasthan royals               12.030909\n",
       "\n",
       "[89 rows x 3 columns]"
      ]
     },
     "execution_count": 29,
     "metadata": {},
     "output_type": "execute_result"
    }
   ],
   "source": [
    "df[['Season', 'Team1', 'Avg_Score_PlayersTeam1']][df['Team1'] == 'rajasthan royals'] # ok"
   ]
  },
  {
   "cell_type": "code",
   "execution_count": 30,
   "id": "ec4bae62-486a-4155-a13e-0e1ef9e3d359",
   "metadata": {},
   "outputs": [],
   "source": [
    "df['batting_average_PlayersTeam1'] = df['Team1Players'].apply(lambda players: players_df[players_df['player'].isin(players)]['batting_average'].mean())\n",
    "df['batting_average_PlayersTeam2'] = df['Team2Players'].apply(lambda players: players_df[players_df['player'].isin(players)]['batting_average'].mean())"
   ]
  },
  {
   "cell_type": "code",
   "execution_count": 31,
   "id": "6e4402db-c077-4ce6-8092-74f574db9c7c",
   "metadata": {},
   "outputs": [],
   "source": [
    "df['batting_strike_rate_PlayersTeam1'] = df['Team1Players'].apply(lambda players: players_df[players_df['player'].isin(players)]['batting_strike_rate'].mean())\n",
    "df['batting_strike_rate_PlayersTeam2'] = df['Team2Players'].apply(lambda players: players_df[players_df['player'].isin(players)]['batting_strike_rate'].mean())"
   ]
  },
  {
   "cell_type": "code",
   "execution_count": 32,
   "id": "9b359f7b-61fb-4109-bf11-48aa12aae2df",
   "metadata": {},
   "outputs": [
    {
     "data": {
      "text/html": [
       "<div>\n",
       "<style scoped>\n",
       "    .dataframe tbody tr th:only-of-type {\n",
       "        vertical-align: middle;\n",
       "    }\n",
       "\n",
       "    .dataframe tbody tr th {\n",
       "        vertical-align: top;\n",
       "    }\n",
       "\n",
       "    .dataframe thead th {\n",
       "        text-align: right;\n",
       "    }\n",
       "</style>\n",
       "<table border=\"1\" class=\"dataframe\">\n",
       "  <thead>\n",
       "    <tr style=\"text-align: right;\">\n",
       "      <th></th>\n",
       "      <th>ID</th>\n",
       "      <th>City</th>\n",
       "      <th>Date</th>\n",
       "      <th>Season</th>\n",
       "      <th>MatchNumber</th>\n",
       "      <th>Team1</th>\n",
       "      <th>Team2</th>\n",
       "      <th>Venue</th>\n",
       "      <th>TossWinner</th>\n",
       "      <th>TossDecision</th>\n",
       "      <th>...</th>\n",
       "      <th>Team1_MVP_average</th>\n",
       "      <th>Team2_MVP_average</th>\n",
       "      <th>Team1Players</th>\n",
       "      <th>Team2Players</th>\n",
       "      <th>Avg_Score_PlayersTeam1</th>\n",
       "      <th>Avg_Score_PlayersTeam2</th>\n",
       "      <th>batting_average_PlayersTeam1</th>\n",
       "      <th>batting_average_PlayersTeam2</th>\n",
       "      <th>batting_strike_rate_PlayersTeam1</th>\n",
       "      <th>batting_strike_rate_PlayersTeam2</th>\n",
       "    </tr>\n",
       "  </thead>\n",
       "  <tbody>\n",
       "    <tr>\n",
       "      <th>0</th>\n",
       "      <td>1312200</td>\n",
       "      <td>ahmedabad</td>\n",
       "      <td>2022-05-29</td>\n",
       "      <td>2022</td>\n",
       "      <td>final</td>\n",
       "      <td>rajasthan royals</td>\n",
       "      <td>gujarat titans</td>\n",
       "      <td>narendra modi stadium, ahmedabad</td>\n",
       "      <td>rajasthan royals</td>\n",
       "      <td>bat</td>\n",
       "      <td>...</td>\n",
       "      <td>0.500000</td>\n",
       "      <td>0.687500</td>\n",
       "      <td>[ybk jaiswal, jc buttler, sv samson, d padikka...</td>\n",
       "      <td>[wp saha, shubman gill, ms wade, hh pandya, da...</td>\n",
       "      <td>15.376364</td>\n",
       "      <td>12.820000</td>\n",
       "      <td>19.650000</td>\n",
       "      <td>23.000909</td>\n",
       "      <td>117.280909</td>\n",
       "      <td>106.260909</td>\n",
       "    </tr>\n",
       "    <tr>\n",
       "      <th>1</th>\n",
       "      <td>1312199</td>\n",
       "      <td>ahmedabad</td>\n",
       "      <td>2022-05-27</td>\n",
       "      <td>2022</td>\n",
       "      <td>qualifier 2</td>\n",
       "      <td>royal challengers bangalore</td>\n",
       "      <td>rajasthan royals</td>\n",
       "      <td>narendra modi stadium, ahmedabad</td>\n",
       "      <td>rajasthan royals</td>\n",
       "      <td>field</td>\n",
       "      <td>...</td>\n",
       "      <td>0.491150</td>\n",
       "      <td>0.500000</td>\n",
       "      <td>[v kohli, f du plessis, rm patidar, gj maxwell...</td>\n",
       "      <td>[ybk jaiswal, jc buttler, sv samson, d padikka...</td>\n",
       "      <td>17.698182</td>\n",
       "      <td>15.376364</td>\n",
       "      <td>21.818182</td>\n",
       "      <td>19.650000</td>\n",
       "      <td>119.162727</td>\n",
       "      <td>117.280909</td>\n",
       "    </tr>\n",
       "    <tr>\n",
       "      <th>2</th>\n",
       "      <td>1312198</td>\n",
       "      <td>kolkata</td>\n",
       "      <td>2022-05-25</td>\n",
       "      <td>2022</td>\n",
       "      <td>eliminator</td>\n",
       "      <td>royal challengers bangalore</td>\n",
       "      <td>lucknow super giants</td>\n",
       "      <td>eden gardens</td>\n",
       "      <td>lucknow super giants</td>\n",
       "      <td>field</td>\n",
       "      <td>...</td>\n",
       "      <td>0.491150</td>\n",
       "      <td>0.600000</td>\n",
       "      <td>[v kohli, f du plessis, rm patidar, gj maxwell...</td>\n",
       "      <td>[q de kock, kl rahul, m vohra, dj hooda, mp st...</td>\n",
       "      <td>17.698182</td>\n",
       "      <td>17.073636</td>\n",
       "      <td>21.818182</td>\n",
       "      <td>23.751818</td>\n",
       "      <td>119.162727</td>\n",
       "      <td>131.991818</td>\n",
       "    </tr>\n",
       "    <tr>\n",
       "      <th>3</th>\n",
       "      <td>1312197</td>\n",
       "      <td>kolkata</td>\n",
       "      <td>2022-05-24</td>\n",
       "      <td>2022</td>\n",
       "      <td>qualifier 1</td>\n",
       "      <td>rajasthan royals</td>\n",
       "      <td>gujarat titans</td>\n",
       "      <td>eden gardens</td>\n",
       "      <td>gujarat titans</td>\n",
       "      <td>field</td>\n",
       "      <td>...</td>\n",
       "      <td>0.500000</td>\n",
       "      <td>0.687500</td>\n",
       "      <td>[ybk jaiswal, jc buttler, sv samson, d padikka...</td>\n",
       "      <td>[wp saha, shubman gill, ms wade, hh pandya, da...</td>\n",
       "      <td>15.376364</td>\n",
       "      <td>12.512727</td>\n",
       "      <td>19.650000</td>\n",
       "      <td>17.364545</td>\n",
       "      <td>117.280909</td>\n",
       "      <td>101.816364</td>\n",
       "    </tr>\n",
       "    <tr>\n",
       "      <th>4</th>\n",
       "      <td>1304116</td>\n",
       "      <td>mumbai</td>\n",
       "      <td>2022-05-22</td>\n",
       "      <td>2022</td>\n",
       "      <td>70</td>\n",
       "      <td>sunrisers hyderabad</td>\n",
       "      <td>punjab kings</td>\n",
       "      <td>wankhede stadium</td>\n",
       "      <td>sunrisers hyderabad</td>\n",
       "      <td>bat</td>\n",
       "      <td>...</td>\n",
       "      <td>0.486842</td>\n",
       "      <td>0.428571</td>\n",
       "      <td>[pk garg, abhishek sharma, ra tripathi, ak mar...</td>\n",
       "      <td>[jm bairstow, s dhawan, m shahrukh khan, ma ag...</td>\n",
       "      <td>13.963636</td>\n",
       "      <td>16.340000</td>\n",
       "      <td>19.658182</td>\n",
       "      <td>21.749091</td>\n",
       "      <td>111.284545</td>\n",
       "      <td>148.910909</td>\n",
       "    </tr>\n",
       "    <tr>\n",
       "      <th>...</th>\n",
       "      <td>...</td>\n",
       "      <td>...</td>\n",
       "      <td>...</td>\n",
       "      <td>...</td>\n",
       "      <td>...</td>\n",
       "      <td>...</td>\n",
       "      <td>...</td>\n",
       "      <td>...</td>\n",
       "      <td>...</td>\n",
       "      <td>...</td>\n",
       "      <td>...</td>\n",
       "      <td>...</td>\n",
       "      <td>...</td>\n",
       "      <td>...</td>\n",
       "      <td>...</td>\n",
       "      <td>...</td>\n",
       "      <td>...</td>\n",
       "      <td>...</td>\n",
       "      <td>...</td>\n",
       "      <td>...</td>\n",
       "      <td>...</td>\n",
       "    </tr>\n",
       "    <tr>\n",
       "      <th>945</th>\n",
       "      <td>335986</td>\n",
       "      <td>kolkata</td>\n",
       "      <td>2008-04-20</td>\n",
       "      <td>2008</td>\n",
       "      <td>4</td>\n",
       "      <td>kolkata knight riders</td>\n",
       "      <td>deccan chargers</td>\n",
       "      <td>eden gardens</td>\n",
       "      <td>deccan chargers</td>\n",
       "      <td>bat</td>\n",
       "      <td>...</td>\n",
       "      <td>0.511211</td>\n",
       "      <td>0.386667</td>\n",
       "      <td>[wp saha, bb mccullum, rt ponting, sc ganguly,...</td>\n",
       "      <td>[ac gilchrist, y venugopal rao, vvs laxman, a ...</td>\n",
       "      <td>12.978182</td>\n",
       "      <td>13.601818</td>\n",
       "      <td>18.705455</td>\n",
       "      <td>16.672727</td>\n",
       "      <td>101.669091</td>\n",
       "      <td>104.100909</td>\n",
       "    </tr>\n",
       "    <tr>\n",
       "      <th>946</th>\n",
       "      <td>335985</td>\n",
       "      <td>mumbai</td>\n",
       "      <td>2008-04-20</td>\n",
       "      <td>2008</td>\n",
       "      <td>5</td>\n",
       "      <td>mumbai indians</td>\n",
       "      <td>royal challengers bangalore</td>\n",
       "      <td>wankhede stadium</td>\n",
       "      <td>mumbai indians</td>\n",
       "      <td>bat</td>\n",
       "      <td>...</td>\n",
       "      <td>0.558442</td>\n",
       "      <td>0.491150</td>\n",
       "      <td>[l ronchi, st jayasuriya, dj thornely, rv utha...</td>\n",
       "      <td>[s chanderpaul, r dravid, lrpl taylor, jh kall...</td>\n",
       "      <td>12.164545</td>\n",
       "      <td>14.020909</td>\n",
       "      <td>15.899091</td>\n",
       "      <td>18.600909</td>\n",
       "      <td>109.790000</td>\n",
       "      <td>106.482727</td>\n",
       "    </tr>\n",
       "    <tr>\n",
       "      <th>947</th>\n",
       "      <td>335984</td>\n",
       "      <td>delhi</td>\n",
       "      <td>2008-04-19</td>\n",
       "      <td>2008</td>\n",
       "      <td>3</td>\n",
       "      <td>delhi capitals</td>\n",
       "      <td>rajasthan royals</td>\n",
       "      <td>feroz shah kotla</td>\n",
       "      <td>rajasthan royals</td>\n",
       "      <td>bat</td>\n",
       "      <td>...</td>\n",
       "      <td>0.409938</td>\n",
       "      <td>0.500000</td>\n",
       "      <td>[g gambhir, v sehwag, s dhawan, mk tiwary, kd ...</td>\n",
       "      <td>[t kohli, yk pathan, sr watson, m kaif, ds leh...</td>\n",
       "      <td>15.280000</td>\n",
       "      <td>10.630909</td>\n",
       "      <td>20.214545</td>\n",
       "      <td>15.809091</td>\n",
       "      <td>110.545455</td>\n",
       "      <td>104.239091</td>\n",
       "    </tr>\n",
       "    <tr>\n",
       "      <th>948</th>\n",
       "      <td>335983</td>\n",
       "      <td>chandigarh</td>\n",
       "      <td>2008-04-19</td>\n",
       "      <td>2008</td>\n",
       "      <td>2</td>\n",
       "      <td>punjab kings</td>\n",
       "      <td>chennai super kings</td>\n",
       "      <td>punjab cricket association is bindra stadium</td>\n",
       "      <td>chennai super kings</td>\n",
       "      <td>bat</td>\n",
       "      <td>...</td>\n",
       "      <td>0.468421</td>\n",
       "      <td>0.591346</td>\n",
       "      <td>[k goel, jr hopes, kc sangakkara, yuvraj singh...</td>\n",
       "      <td>[pa patel, ml hayden, mek hussey, ms dhoni, sk...</td>\n",
       "      <td>14.141000</td>\n",
       "      <td>17.108182</td>\n",
       "      <td>19.023000</td>\n",
       "      <td>22.010000</td>\n",
       "      <td>110.759000</td>\n",
       "      <td>108.721818</td>\n",
       "    </tr>\n",
       "    <tr>\n",
       "      <th>949</th>\n",
       "      <td>335982</td>\n",
       "      <td>bangalore</td>\n",
       "      <td>2008-04-18</td>\n",
       "      <td>2008</td>\n",
       "      <td>1</td>\n",
       "      <td>royal challengers bangalore</td>\n",
       "      <td>kolkata knight riders</td>\n",
       "      <td>m.chinnaswamy stadium</td>\n",
       "      <td>royal challengers bangalore</td>\n",
       "      <td>field</td>\n",
       "      <td>...</td>\n",
       "      <td>0.491150</td>\n",
       "      <td>0.511211</td>\n",
       "      <td>[r dravid, w jaffer, v kohli, jh kallis, cl wh...</td>\n",
       "      <td>[sc ganguly, bb mccullum, rt ponting, dj husse...</td>\n",
       "      <td>15.138182</td>\n",
       "      <td>12.978182</td>\n",
       "      <td>19.175455</td>\n",
       "      <td>18.705455</td>\n",
       "      <td>107.181818</td>\n",
       "      <td>101.669091</td>\n",
       "    </tr>\n",
       "  </tbody>\n",
       "</table>\n",
       "<p>950 rows × 28 columns</p>\n",
       "</div>"
      ],
      "text/plain": [
       "          ID        City        Date  Season  MatchNumber  \\\n",
       "0    1312200   ahmedabad  2022-05-29    2022        final   \n",
       "1    1312199   ahmedabad  2022-05-27    2022  qualifier 2   \n",
       "2    1312198     kolkata  2022-05-25    2022   eliminator   \n",
       "3    1312197     kolkata  2022-05-24    2022  qualifier 1   \n",
       "4    1304116      mumbai  2022-05-22    2022           70   \n",
       "..       ...         ...         ...     ...          ...   \n",
       "945   335986     kolkata  2008-04-20    2008            4   \n",
       "946   335985      mumbai  2008-04-20    2008            5   \n",
       "947   335984       delhi  2008-04-19    2008            3   \n",
       "948   335983  chandigarh  2008-04-19    2008            2   \n",
       "949   335982   bangalore  2008-04-18    2008            1   \n",
       "\n",
       "                           Team1                        Team2  \\\n",
       "0               rajasthan royals               gujarat titans   \n",
       "1    royal challengers bangalore             rajasthan royals   \n",
       "2    royal challengers bangalore         lucknow super giants   \n",
       "3               rajasthan royals               gujarat titans   \n",
       "4            sunrisers hyderabad                 punjab kings   \n",
       "..                           ...                          ...   \n",
       "945        kolkata knight riders              deccan chargers   \n",
       "946               mumbai indians  royal challengers bangalore   \n",
       "947               delhi capitals             rajasthan royals   \n",
       "948                 punjab kings          chennai super kings   \n",
       "949  royal challengers bangalore        kolkata knight riders   \n",
       "\n",
       "                                            Venue  \\\n",
       "0                narendra modi stadium, ahmedabad   \n",
       "1                narendra modi stadium, ahmedabad   \n",
       "2                                    eden gardens   \n",
       "3                                    eden gardens   \n",
       "4                                wankhede stadium   \n",
       "..                                            ...   \n",
       "945                                  eden gardens   \n",
       "946                              wankhede stadium   \n",
       "947                              feroz shah kotla   \n",
       "948  punjab cricket association is bindra stadium   \n",
       "949                         m.chinnaswamy stadium   \n",
       "\n",
       "                      TossWinner TossDecision  ... Team1_MVP_average  \\\n",
       "0               rajasthan royals          bat  ...          0.500000   \n",
       "1               rajasthan royals        field  ...          0.491150   \n",
       "2           lucknow super giants        field  ...          0.491150   \n",
       "3                 gujarat titans        field  ...          0.500000   \n",
       "4            sunrisers hyderabad          bat  ...          0.486842   \n",
       "..                           ...          ...  ...               ...   \n",
       "945              deccan chargers          bat  ...          0.511211   \n",
       "946               mumbai indians          bat  ...          0.558442   \n",
       "947             rajasthan royals          bat  ...          0.409938   \n",
       "948          chennai super kings          bat  ...          0.468421   \n",
       "949  royal challengers bangalore        field  ...          0.491150   \n",
       "\n",
       "     Team2_MVP_average                                       Team1Players  \\\n",
       "0             0.687500  [ybk jaiswal, jc buttler, sv samson, d padikka...   \n",
       "1             0.500000  [v kohli, f du plessis, rm patidar, gj maxwell...   \n",
       "2             0.600000  [v kohli, f du plessis, rm patidar, gj maxwell...   \n",
       "3             0.687500  [ybk jaiswal, jc buttler, sv samson, d padikka...   \n",
       "4             0.428571  [pk garg, abhishek sharma, ra tripathi, ak mar...   \n",
       "..                 ...                                                ...   \n",
       "945           0.386667  [wp saha, bb mccullum, rt ponting, sc ganguly,...   \n",
       "946           0.491150  [l ronchi, st jayasuriya, dj thornely, rv utha...   \n",
       "947           0.500000  [g gambhir, v sehwag, s dhawan, mk tiwary, kd ...   \n",
       "948           0.591346  [k goel, jr hopes, kc sangakkara, yuvraj singh...   \n",
       "949           0.511211  [r dravid, w jaffer, v kohli, jh kallis, cl wh...   \n",
       "\n",
       "                                          Team2Players  \\\n",
       "0    [wp saha, shubman gill, ms wade, hh pandya, da...   \n",
       "1    [ybk jaiswal, jc buttler, sv samson, d padikka...   \n",
       "2    [q de kock, kl rahul, m vohra, dj hooda, mp st...   \n",
       "3    [wp saha, shubman gill, ms wade, hh pandya, da...   \n",
       "4    [jm bairstow, s dhawan, m shahrukh khan, ma ag...   \n",
       "..                                                 ...   \n",
       "945  [ac gilchrist, y venugopal rao, vvs laxman, a ...   \n",
       "946  [s chanderpaul, r dravid, lrpl taylor, jh kall...   \n",
       "947  [t kohli, yk pathan, sr watson, m kaif, ds leh...   \n",
       "948  [pa patel, ml hayden, mek hussey, ms dhoni, sk...   \n",
       "949  [sc ganguly, bb mccullum, rt ponting, dj husse...   \n",
       "\n",
       "     Avg_Score_PlayersTeam1  Avg_Score_PlayersTeam2  \\\n",
       "0                 15.376364               12.820000   \n",
       "1                 17.698182               15.376364   \n",
       "2                 17.698182               17.073636   \n",
       "3                 15.376364               12.512727   \n",
       "4                 13.963636               16.340000   \n",
       "..                      ...                     ...   \n",
       "945               12.978182               13.601818   \n",
       "946               12.164545               14.020909   \n",
       "947               15.280000               10.630909   \n",
       "948               14.141000               17.108182   \n",
       "949               15.138182               12.978182   \n",
       "\n",
       "     batting_average_PlayersTeam1  batting_average_PlayersTeam2  \\\n",
       "0                       19.650000                     23.000909   \n",
       "1                       21.818182                     19.650000   \n",
       "2                       21.818182                     23.751818   \n",
       "3                       19.650000                     17.364545   \n",
       "4                       19.658182                     21.749091   \n",
       "..                            ...                           ...   \n",
       "945                     18.705455                     16.672727   \n",
       "946                     15.899091                     18.600909   \n",
       "947                     20.214545                     15.809091   \n",
       "948                     19.023000                     22.010000   \n",
       "949                     19.175455                     18.705455   \n",
       "\n",
       "     batting_strike_rate_PlayersTeam1  batting_strike_rate_PlayersTeam2  \n",
       "0                          117.280909                        106.260909  \n",
       "1                          119.162727                        117.280909  \n",
       "2                          119.162727                        131.991818  \n",
       "3                          117.280909                        101.816364  \n",
       "4                          111.284545                        148.910909  \n",
       "..                                ...                               ...  \n",
       "945                        101.669091                        104.100909  \n",
       "946                        109.790000                        106.482727  \n",
       "947                        110.545455                        104.239091  \n",
       "948                        110.759000                        108.721818  \n",
       "949                        107.181818                        101.669091  \n",
       "\n",
       "[950 rows x 28 columns]"
      ]
     },
     "execution_count": 32,
     "metadata": {},
     "output_type": "execute_result"
    }
   ],
   "source": [
    "df"
   ]
  },
  {
   "cell_type": "markdown",
   "id": "da55f002-a521-41a1-aa90-9c8ced95750a",
   "metadata": {},
   "source": [
    "### Bowling Features"
   ]
  },
  {
   "cell_type": "code",
   "execution_count": 33,
   "id": "e82e867f-96ad-4453-8300-175e72cbd01b",
   "metadata": {},
   "outputs": [],
   "source": [
    "df['bowling_average_PlayersTeam1'] = df['Team1Players'].apply(lambda players: players_df[players_df['player'].isin(players)]['bowling_average'].mean())\n",
    "df['bowling_average_PlayersTeam2'] = df['Team2Players'].apply(lambda players: players_df[players_df['player'].isin(players)]['bowling_average'].mean())"
   ]
  },
  {
   "cell_type": "code",
   "execution_count": 34,
   "id": "452d6b9b-3154-43e7-a1a0-26c3a94e8304",
   "metadata": {},
   "outputs": [],
   "source": [
    "df['bowling_economy_rate_PlayersTeam1'] = df['Team1Players'].apply(lambda players: players_df[players_df['player'].isin(players)]['bowling_economy_rate'].mean())\n",
    "df['bowling_economy_rate_PlayersTeam2'] = df['Team2Players'].apply(lambda players: players_df[players_df['player'].isin(players)]['bowling_economy_rate'].mean())"
   ]
  },
  {
   "cell_type": "code",
   "execution_count": 35,
   "id": "201a0d6d-9cae-4700-b69d-1f8d9a58950f",
   "metadata": {},
   "outputs": [],
   "source": [
    "df['bowling_strike_rate_PlayersTeam1'] = df['Team1Players'].apply(lambda players: players_df[players_df['player'].isin(players)]['bowling_strike_rate'].mean())\n",
    "df['bowling_strike_rate_PlayersTeam2'] = df['Team2Players'].apply(lambda players: players_df[players_df['player'].isin(players)]['bowling_strike_rate'].mean())"
   ]
  },
  {
   "cell_type": "code",
   "execution_count": 36,
   "id": "1f7a2005-8373-4570-8759-925f3ce31d0b",
   "metadata": {},
   "outputs": [
    {
     "data": {
      "text/plain": [
       "Index(['ID', 'City', 'Date', 'Season', 'MatchNumber', 'Team1', 'Team2',\n",
       "       'Venue', 'TossWinner', 'TossDecision', 'WinningTeam', 'innings_total',\n",
       "       'TeamA_batting_average', 'TeamB_batting_average', 'TeamA_innings_total',\n",
       "       'TeamB_innings_total', 'Team1_points_against_avg',\n",
       "       'Team2_points_against_avg', 'Team1_MVP_average', 'Team2_MVP_average',\n",
       "       'Team1Players', 'Team2Players', 'Avg_Score_PlayersTeam1',\n",
       "       'Avg_Score_PlayersTeam2', 'batting_average_PlayersTeam1',\n",
       "       'batting_average_PlayersTeam2', 'batting_strike_rate_PlayersTeam1',\n",
       "       'batting_strike_rate_PlayersTeam2', 'bowling_average_PlayersTeam1',\n",
       "       'bowling_average_PlayersTeam2', 'bowling_economy_rate_PlayersTeam1',\n",
       "       'bowling_economy_rate_PlayersTeam2', 'bowling_strike_rate_PlayersTeam1',\n",
       "       'bowling_strike_rate_PlayersTeam2'],\n",
       "      dtype='object')"
      ]
     },
     "execution_count": 36,
     "metadata": {},
     "output_type": "execute_result"
    }
   ],
   "source": [
    "df.columns"
   ]
  },
  {
   "cell_type": "code",
   "execution_count": 37,
   "id": "31de94b7-2cbf-45d6-8c60-377d246087fd",
   "metadata": {},
   "outputs": [
    {
     "data": {
      "text/html": [
       "<div>\n",
       "<style scoped>\n",
       "    .dataframe tbody tr th:only-of-type {\n",
       "        vertical-align: middle;\n",
       "    }\n",
       "\n",
       "    .dataframe tbody tr th {\n",
       "        vertical-align: top;\n",
       "    }\n",
       "\n",
       "    .dataframe thead th {\n",
       "        text-align: right;\n",
       "    }\n",
       "</style>\n",
       "<table border=\"1\" class=\"dataframe\">\n",
       "  <thead>\n",
       "    <tr style=\"text-align: right;\">\n",
       "      <th></th>\n",
       "      <th>ID</th>\n",
       "      <th>City</th>\n",
       "      <th>Date</th>\n",
       "      <th>Season</th>\n",
       "      <th>MatchNumber</th>\n",
       "      <th>Team1</th>\n",
       "      <th>Team2</th>\n",
       "      <th>Venue</th>\n",
       "      <th>TossWinner</th>\n",
       "      <th>TossDecision</th>\n",
       "      <th>...</th>\n",
       "      <th>batting_average_PlayersTeam1</th>\n",
       "      <th>batting_average_PlayersTeam2</th>\n",
       "      <th>batting_strike_rate_PlayersTeam1</th>\n",
       "      <th>batting_strike_rate_PlayersTeam2</th>\n",
       "      <th>bowling_average_PlayersTeam1</th>\n",
       "      <th>bowling_average_PlayersTeam2</th>\n",
       "      <th>bowling_economy_rate_PlayersTeam1</th>\n",
       "      <th>bowling_economy_rate_PlayersTeam2</th>\n",
       "      <th>bowling_strike_rate_PlayersTeam1</th>\n",
       "      <th>bowling_strike_rate_PlayersTeam2</th>\n",
       "    </tr>\n",
       "  </thead>\n",
       "  <tbody>\n",
       "    <tr>\n",
       "      <th>0</th>\n",
       "      <td>1312200</td>\n",
       "      <td>ahmedabad</td>\n",
       "      <td>2022-05-29</td>\n",
       "      <td>2022</td>\n",
       "      <td>final</td>\n",
       "      <td>rajasthan royals</td>\n",
       "      <td>gujarat titans</td>\n",
       "      <td>narendra modi stadium, ahmedabad</td>\n",
       "      <td>rajasthan royals</td>\n",
       "      <td>bat</td>\n",
       "      <td>...</td>\n",
       "      <td>19.650000</td>\n",
       "      <td>23.000909</td>\n",
       "      <td>117.280909</td>\n",
       "      <td>106.260909</td>\n",
       "      <td>18.497273</td>\n",
       "      <td>17.327273</td>\n",
       "      <td>7.965455</td>\n",
       "      <td>5.161818</td>\n",
       "      <td>12.545455</td>\n",
       "      <td>12.818182</td>\n",
       "    </tr>\n",
       "    <tr>\n",
       "      <th>1</th>\n",
       "      <td>1312199</td>\n",
       "      <td>ahmedabad</td>\n",
       "      <td>2022-05-27</td>\n",
       "      <td>2022</td>\n",
       "      <td>qualifier 2</td>\n",
       "      <td>royal challengers bangalore</td>\n",
       "      <td>rajasthan royals</td>\n",
       "      <td>narendra modi stadium, ahmedabad</td>\n",
       "      <td>rajasthan royals</td>\n",
       "      <td>field</td>\n",
       "      <td>...</td>\n",
       "      <td>21.818182</td>\n",
       "      <td>19.650000</td>\n",
       "      <td>119.162727</td>\n",
       "      <td>117.280909</td>\n",
       "      <td>32.419091</td>\n",
       "      <td>18.497273</td>\n",
       "      <td>7.479091</td>\n",
       "      <td>7.965455</td>\n",
       "      <td>23.531818</td>\n",
       "      <td>12.545455</td>\n",
       "    </tr>\n",
       "    <tr>\n",
       "      <th>2</th>\n",
       "      <td>1312198</td>\n",
       "      <td>kolkata</td>\n",
       "      <td>2022-05-25</td>\n",
       "      <td>2022</td>\n",
       "      <td>eliminator</td>\n",
       "      <td>royal challengers bangalore</td>\n",
       "      <td>lucknow super giants</td>\n",
       "      <td>eden gardens</td>\n",
       "      <td>lucknow super giants</td>\n",
       "      <td>field</td>\n",
       "      <td>...</td>\n",
       "      <td>21.818182</td>\n",
       "      <td>23.751818</td>\n",
       "      <td>119.162727</td>\n",
       "      <td>131.991818</td>\n",
       "      <td>32.419091</td>\n",
       "      <td>20.414545</td>\n",
       "      <td>7.479091</td>\n",
       "      <td>5.105455</td>\n",
       "      <td>23.531818</td>\n",
       "      <td>15.052727</td>\n",
       "    </tr>\n",
       "    <tr>\n",
       "      <th>3</th>\n",
       "      <td>1312197</td>\n",
       "      <td>kolkata</td>\n",
       "      <td>2022-05-24</td>\n",
       "      <td>2022</td>\n",
       "      <td>qualifier 1</td>\n",
       "      <td>rajasthan royals</td>\n",
       "      <td>gujarat titans</td>\n",
       "      <td>eden gardens</td>\n",
       "      <td>gujarat titans</td>\n",
       "      <td>field</td>\n",
       "      <td>...</td>\n",
       "      <td>19.650000</td>\n",
       "      <td>17.364545</td>\n",
       "      <td>117.280909</td>\n",
       "      <td>101.816364</td>\n",
       "      <td>18.497273</td>\n",
       "      <td>17.205455</td>\n",
       "      <td>7.965455</td>\n",
       "      <td>5.222727</td>\n",
       "      <td>12.545455</td>\n",
       "      <td>12.603636</td>\n",
       "    </tr>\n",
       "    <tr>\n",
       "      <th>4</th>\n",
       "      <td>1304116</td>\n",
       "      <td>mumbai</td>\n",
       "      <td>2022-05-22</td>\n",
       "      <td>2022</td>\n",
       "      <td>70</td>\n",
       "      <td>sunrisers hyderabad</td>\n",
       "      <td>punjab kings</td>\n",
       "      <td>wankhede stadium</td>\n",
       "      <td>sunrisers hyderabad</td>\n",
       "      <td>bat</td>\n",
       "      <td>...</td>\n",
       "      <td>19.658182</td>\n",
       "      <td>21.749091</td>\n",
       "      <td>111.284545</td>\n",
       "      <td>148.910909</td>\n",
       "      <td>28.971818</td>\n",
       "      <td>15.985455</td>\n",
       "      <td>7.355455</td>\n",
       "      <td>4.556364</td>\n",
       "      <td>20.248182</td>\n",
       "      <td>11.501818</td>\n",
       "    </tr>\n",
       "    <tr>\n",
       "      <th>...</th>\n",
       "      <td>...</td>\n",
       "      <td>...</td>\n",
       "      <td>...</td>\n",
       "      <td>...</td>\n",
       "      <td>...</td>\n",
       "      <td>...</td>\n",
       "      <td>...</td>\n",
       "      <td>...</td>\n",
       "      <td>...</td>\n",
       "      <td>...</td>\n",
       "      <td>...</td>\n",
       "      <td>...</td>\n",
       "      <td>...</td>\n",
       "      <td>...</td>\n",
       "      <td>...</td>\n",
       "      <td>...</td>\n",
       "      <td>...</td>\n",
       "      <td>...</td>\n",
       "      <td>...</td>\n",
       "      <td>...</td>\n",
       "      <td>...</td>\n",
       "    </tr>\n",
       "    <tr>\n",
       "      <th>945</th>\n",
       "      <td>335986</td>\n",
       "      <td>kolkata</td>\n",
       "      <td>2008-04-20</td>\n",
       "      <td>2008</td>\n",
       "      <td>4</td>\n",
       "      <td>kolkata knight riders</td>\n",
       "      <td>deccan chargers</td>\n",
       "      <td>eden gardens</td>\n",
       "      <td>deccan chargers</td>\n",
       "      <td>bat</td>\n",
       "      <td>...</td>\n",
       "      <td>18.705455</td>\n",
       "      <td>16.672727</td>\n",
       "      <td>101.669091</td>\n",
       "      <td>104.100909</td>\n",
       "      <td>28.305455</td>\n",
       "      <td>25.565455</td>\n",
       "      <td>5.872727</td>\n",
       "      <td>5.845455</td>\n",
       "      <td>21.080909</td>\n",
       "      <td>18.834545</td>\n",
       "    </tr>\n",
       "    <tr>\n",
       "      <th>946</th>\n",
       "      <td>335985</td>\n",
       "      <td>mumbai</td>\n",
       "      <td>2008-04-20</td>\n",
       "      <td>2008</td>\n",
       "      <td>5</td>\n",
       "      <td>mumbai indians</td>\n",
       "      <td>royal challengers bangalore</td>\n",
       "      <td>wankhede stadium</td>\n",
       "      <td>mumbai indians</td>\n",
       "      <td>bat</td>\n",
       "      <td>...</td>\n",
       "      <td>15.899091</td>\n",
       "      <td>18.600909</td>\n",
       "      <td>109.790000</td>\n",
       "      <td>106.482727</td>\n",
       "      <td>19.195455</td>\n",
       "      <td>31.040000</td>\n",
       "      <td>5.644545</td>\n",
       "      <td>6.282727</td>\n",
       "      <td>14.881818</td>\n",
       "      <td>22.340909</td>\n",
       "    </tr>\n",
       "    <tr>\n",
       "      <th>947</th>\n",
       "      <td>335984</td>\n",
       "      <td>delhi</td>\n",
       "      <td>2008-04-19</td>\n",
       "      <td>2008</td>\n",
       "      <td>3</td>\n",
       "      <td>delhi capitals</td>\n",
       "      <td>rajasthan royals</td>\n",
       "      <td>feroz shah kotla</td>\n",
       "      <td>rajasthan royals</td>\n",
       "      <td>bat</td>\n",
       "      <td>...</td>\n",
       "      <td>20.214545</td>\n",
       "      <td>15.809091</td>\n",
       "      <td>110.545455</td>\n",
       "      <td>104.239091</td>\n",
       "      <td>30.774545</td>\n",
       "      <td>22.660000</td>\n",
       "      <td>6.918182</td>\n",
       "      <td>5.025455</td>\n",
       "      <td>19.820000</td>\n",
       "      <td>16.642727</td>\n",
       "    </tr>\n",
       "    <tr>\n",
       "      <th>948</th>\n",
       "      <td>335983</td>\n",
       "      <td>chandigarh</td>\n",
       "      <td>2008-04-19</td>\n",
       "      <td>2008</td>\n",
       "      <td>2</td>\n",
       "      <td>punjab kings</td>\n",
       "      <td>chennai super kings</td>\n",
       "      <td>punjab cricket association is bindra stadium</td>\n",
       "      <td>chennai super kings</td>\n",
       "      <td>bat</td>\n",
       "      <td>...</td>\n",
       "      <td>19.023000</td>\n",
       "      <td>22.010000</td>\n",
       "      <td>110.759000</td>\n",
       "      <td>108.721818</td>\n",
       "      <td>22.746000</td>\n",
       "      <td>19.415455</td>\n",
       "      <td>6.441000</td>\n",
       "      <td>4.743636</td>\n",
       "      <td>17.124000</td>\n",
       "      <td>13.701818</td>\n",
       "    </tr>\n",
       "    <tr>\n",
       "      <th>949</th>\n",
       "      <td>335982</td>\n",
       "      <td>bangalore</td>\n",
       "      <td>2008-04-18</td>\n",
       "      <td>2008</td>\n",
       "      <td>1</td>\n",
       "      <td>royal challengers bangalore</td>\n",
       "      <td>kolkata knight riders</td>\n",
       "      <td>m.chinnaswamy stadium</td>\n",
       "      <td>royal challengers bangalore</td>\n",
       "      <td>field</td>\n",
       "      <td>...</td>\n",
       "      <td>19.175455</td>\n",
       "      <td>18.705455</td>\n",
       "      <td>107.181818</td>\n",
       "      <td>101.669091</td>\n",
       "      <td>39.909091</td>\n",
       "      <td>28.305455</td>\n",
       "      <td>6.452727</td>\n",
       "      <td>5.872727</td>\n",
       "      <td>26.499091</td>\n",
       "      <td>21.080909</td>\n",
       "    </tr>\n",
       "  </tbody>\n",
       "</table>\n",
       "<p>950 rows × 34 columns</p>\n",
       "</div>"
      ],
      "text/plain": [
       "          ID        City        Date  Season  MatchNumber  \\\n",
       "0    1312200   ahmedabad  2022-05-29    2022        final   \n",
       "1    1312199   ahmedabad  2022-05-27    2022  qualifier 2   \n",
       "2    1312198     kolkata  2022-05-25    2022   eliminator   \n",
       "3    1312197     kolkata  2022-05-24    2022  qualifier 1   \n",
       "4    1304116      mumbai  2022-05-22    2022           70   \n",
       "..       ...         ...         ...     ...          ...   \n",
       "945   335986     kolkata  2008-04-20    2008            4   \n",
       "946   335985      mumbai  2008-04-20    2008            5   \n",
       "947   335984       delhi  2008-04-19    2008            3   \n",
       "948   335983  chandigarh  2008-04-19    2008            2   \n",
       "949   335982   bangalore  2008-04-18    2008            1   \n",
       "\n",
       "                           Team1                        Team2  \\\n",
       "0               rajasthan royals               gujarat titans   \n",
       "1    royal challengers bangalore             rajasthan royals   \n",
       "2    royal challengers bangalore         lucknow super giants   \n",
       "3               rajasthan royals               gujarat titans   \n",
       "4            sunrisers hyderabad                 punjab kings   \n",
       "..                           ...                          ...   \n",
       "945        kolkata knight riders              deccan chargers   \n",
       "946               mumbai indians  royal challengers bangalore   \n",
       "947               delhi capitals             rajasthan royals   \n",
       "948                 punjab kings          chennai super kings   \n",
       "949  royal challengers bangalore        kolkata knight riders   \n",
       "\n",
       "                                            Venue  \\\n",
       "0                narendra modi stadium, ahmedabad   \n",
       "1                narendra modi stadium, ahmedabad   \n",
       "2                                    eden gardens   \n",
       "3                                    eden gardens   \n",
       "4                                wankhede stadium   \n",
       "..                                            ...   \n",
       "945                                  eden gardens   \n",
       "946                              wankhede stadium   \n",
       "947                              feroz shah kotla   \n",
       "948  punjab cricket association is bindra stadium   \n",
       "949                         m.chinnaswamy stadium   \n",
       "\n",
       "                      TossWinner TossDecision  ...  \\\n",
       "0               rajasthan royals          bat  ...   \n",
       "1               rajasthan royals        field  ...   \n",
       "2           lucknow super giants        field  ...   \n",
       "3                 gujarat titans        field  ...   \n",
       "4            sunrisers hyderabad          bat  ...   \n",
       "..                           ...          ...  ...   \n",
       "945              deccan chargers          bat  ...   \n",
       "946               mumbai indians          bat  ...   \n",
       "947             rajasthan royals          bat  ...   \n",
       "948          chennai super kings          bat  ...   \n",
       "949  royal challengers bangalore        field  ...   \n",
       "\n",
       "    batting_average_PlayersTeam1  batting_average_PlayersTeam2  \\\n",
       "0                      19.650000                     23.000909   \n",
       "1                      21.818182                     19.650000   \n",
       "2                      21.818182                     23.751818   \n",
       "3                      19.650000                     17.364545   \n",
       "4                      19.658182                     21.749091   \n",
       "..                           ...                           ...   \n",
       "945                    18.705455                     16.672727   \n",
       "946                    15.899091                     18.600909   \n",
       "947                    20.214545                     15.809091   \n",
       "948                    19.023000                     22.010000   \n",
       "949                    19.175455                     18.705455   \n",
       "\n",
       "     batting_strike_rate_PlayersTeam1  batting_strike_rate_PlayersTeam2  \\\n",
       "0                          117.280909                        106.260909   \n",
       "1                          119.162727                        117.280909   \n",
       "2                          119.162727                        131.991818   \n",
       "3                          117.280909                        101.816364   \n",
       "4                          111.284545                        148.910909   \n",
       "..                                ...                               ...   \n",
       "945                        101.669091                        104.100909   \n",
       "946                        109.790000                        106.482727   \n",
       "947                        110.545455                        104.239091   \n",
       "948                        110.759000                        108.721818   \n",
       "949                        107.181818                        101.669091   \n",
       "\n",
       "     bowling_average_PlayersTeam1  bowling_average_PlayersTeam2  \\\n",
       "0                       18.497273                     17.327273   \n",
       "1                       32.419091                     18.497273   \n",
       "2                       32.419091                     20.414545   \n",
       "3                       18.497273                     17.205455   \n",
       "4                       28.971818                     15.985455   \n",
       "..                            ...                           ...   \n",
       "945                     28.305455                     25.565455   \n",
       "946                     19.195455                     31.040000   \n",
       "947                     30.774545                     22.660000   \n",
       "948                     22.746000                     19.415455   \n",
       "949                     39.909091                     28.305455   \n",
       "\n",
       "     bowling_economy_rate_PlayersTeam1  bowling_economy_rate_PlayersTeam2  \\\n",
       "0                             7.965455                           5.161818   \n",
       "1                             7.479091                           7.965455   \n",
       "2                             7.479091                           5.105455   \n",
       "3                             7.965455                           5.222727   \n",
       "4                             7.355455                           4.556364   \n",
       "..                                 ...                                ...   \n",
       "945                           5.872727                           5.845455   \n",
       "946                           5.644545                           6.282727   \n",
       "947                           6.918182                           5.025455   \n",
       "948                           6.441000                           4.743636   \n",
       "949                           6.452727                           5.872727   \n",
       "\n",
       "     bowling_strike_rate_PlayersTeam1  bowling_strike_rate_PlayersTeam2  \n",
       "0                           12.545455                         12.818182  \n",
       "1                           23.531818                         12.545455  \n",
       "2                           23.531818                         15.052727  \n",
       "3                           12.545455                         12.603636  \n",
       "4                           20.248182                         11.501818  \n",
       "..                                ...                               ...  \n",
       "945                         21.080909                         18.834545  \n",
       "946                         14.881818                         22.340909  \n",
       "947                         19.820000                         16.642727  \n",
       "948                         17.124000                         13.701818  \n",
       "949                         26.499091                         21.080909  \n",
       "\n",
       "[950 rows x 34 columns]"
      ]
     },
     "execution_count": 37,
     "metadata": {},
     "output_type": "execute_result"
    }
   ],
   "source": [
    "df"
   ]
  },
  {
   "cell_type": "markdown",
   "id": "e8218a6b-ff9e-4077-9033-06ed1d3b81dd",
   "metadata": {},
   "source": [
    "# Models"
   ]
  },
  {
   "cell_type": "markdown",
   "id": "d7dda6c5-b13f-40dc-ad9e-ecada8a623a1",
   "metadata": {},
   "source": [
    "## Preprocessing"
   ]
  },
  {
   "cell_type": "code",
   "execution_count": 38,
   "id": "96518c54-8c85-4387-98ef-92f354391263",
   "metadata": {},
   "outputs": [],
   "source": [
    "import pandas as pd\n",
    "from sklearn.preprocessing import LabelEncoder, OrdinalEncoder\n",
    "from sklearn.preprocessing import OneHotEncoder\n",
    "from sklearn.preprocessing import RobustScaler\n",
    "\n",
    "from sklearn.model_selection import train_test_split\n",
    "from sklearn.ensemble import RandomForestClassifier\n",
    "from sklearn.metrics import accuracy_score\n",
    "from sklearn.metrics import confusion_matrix\n",
    "from sklearn.model_selection import cross_validate\n",
    "from sklearn.model_selection import StratifiedKFold\n",
    "from sklearn.model_selection import GridSearchCV\n",
    "\n",
    "import seaborn as sns\n",
    "import matplotlib.pyplot as plt\n",
    "from sklearn.metrics import ConfusionMatrixDisplay"
   ]
  },
  {
   "cell_type": "code",
   "execution_count": 39,
   "id": "47a23ee6-28e1-41e6-9e91-16f8f85064a3",
   "metadata": {},
   "outputs": [
    {
     "data": {
      "text/plain": [
       "Index(['ID', 'City', 'Date', 'Season', 'MatchNumber', 'Team1', 'Team2',\n",
       "       'Venue', 'TossWinner', 'TossDecision', 'WinningTeam', 'innings_total',\n",
       "       'TeamA_batting_average', 'TeamB_batting_average', 'TeamA_innings_total',\n",
       "       'TeamB_innings_total', 'Team1_points_against_avg',\n",
       "       'Team2_points_against_avg', 'Team1_MVP_average', 'Team2_MVP_average',\n",
       "       'Team1Players', 'Team2Players', 'Avg_Score_PlayersTeam1',\n",
       "       'Avg_Score_PlayersTeam2', 'batting_average_PlayersTeam1',\n",
       "       'batting_average_PlayersTeam2', 'batting_strike_rate_PlayersTeam1',\n",
       "       'batting_strike_rate_PlayersTeam2', 'bowling_average_PlayersTeam1',\n",
       "       'bowling_average_PlayersTeam2', 'bowling_economy_rate_PlayersTeam1',\n",
       "       'bowling_economy_rate_PlayersTeam2', 'bowling_strike_rate_PlayersTeam1',\n",
       "       'bowling_strike_rate_PlayersTeam2'],\n",
       "      dtype='object')"
      ]
     },
     "execution_count": 39,
     "metadata": {},
     "output_type": "execute_result"
    }
   ],
   "source": [
    "df.columns"
   ]
  },
  {
   "cell_type": "markdown",
   "id": "2cb8c3a2-bd2e-4028-a51f-9bddd3fa049a",
   "metadata": {},
   "source": [
    "### Rename Columns"
   ]
  },
  {
   "cell_type": "code",
   "execution_count": 40,
   "id": "8c6aec55-35d3-4eb4-a522-d3a20e4507b7",
   "metadata": {},
   "outputs": [],
   "source": [
    "# rename columns TeamA and TeamB to Team1 and Team2\n",
    "df = df.rename({'TeamA_batting_average': 'Team1_batting_average',\n",
    "           'TeamB_batting_average': 'Team2_batting_average',\n",
    "           'TeamA_innings_total': 'Team1_innings_total',\n",
    "           'TeamB_innings_total' : 'Team2_innings_total'\n",
    "          }, axis=1)"
   ]
  },
  {
   "cell_type": "code",
   "execution_count": 41,
   "id": "b6dccced-ce4b-4fcb-b584-f7505ed522cb",
   "metadata": {},
   "outputs": [
    {
     "data": {
      "text/plain": [
       "Index(['ID', 'City', 'Date', 'Season', 'MatchNumber', 'Team1', 'Team2',\n",
       "       'Venue', 'TossWinner', 'TossDecision', 'WinningTeam', 'innings_total',\n",
       "       'Team1_batting_average', 'Team2_batting_average', 'Team1_innings_total',\n",
       "       'Team2_innings_total', 'Team1_points_against_avg',\n",
       "       'Team2_points_against_avg', 'Team1_MVP_average', 'Team2_MVP_average',\n",
       "       'Team1Players', 'Team2Players', 'Avg_Score_PlayersTeam1',\n",
       "       'Avg_Score_PlayersTeam2', 'batting_average_PlayersTeam1',\n",
       "       'batting_average_PlayersTeam2', 'batting_strike_rate_PlayersTeam1',\n",
       "       'batting_strike_rate_PlayersTeam2', 'bowling_average_PlayersTeam1',\n",
       "       'bowling_average_PlayersTeam2', 'bowling_economy_rate_PlayersTeam1',\n",
       "       'bowling_economy_rate_PlayersTeam2', 'bowling_strike_rate_PlayersTeam1',\n",
       "       'bowling_strike_rate_PlayersTeam2'],\n",
       "      dtype='object')"
      ]
     },
     "execution_count": 41,
     "metadata": {},
     "output_type": "execute_result"
    }
   ],
   "source": [
    "df.columns"
   ]
  },
  {
   "cell_type": "markdown",
   "id": "fb0dc3b5-e0e9-4822-924f-153a25332705",
   "metadata": {},
   "source": [
    "### Drop Columns"
   ]
  },
  {
   "cell_type": "code",
   "execution_count": 42,
   "id": "1535b994-0d38-4d3f-872c-ada314ddc1a2",
   "metadata": {},
   "outputs": [],
   "source": [
    "columns_to_delete = ['Date', 'innings_total', 'Team1_innings_total', 'Team2_innings_total', 'Team1Players', 'Team2Players',\n",
    "                    'Team1_batting_average', 'Team2_batting_average', 'Team1_points_against_avg', 'Team2_points_against_avg'] "
   ]
  },
  {
   "cell_type": "code",
   "execution_count": 43,
   "id": "c34ed65b-7471-4ea1-a0ce-ad1827776091",
   "metadata": {},
   "outputs": [],
   "source": [
    "df.drop(columns=columns_to_delete, axis=1, inplace=True)"
   ]
  },
  {
   "cell_type": "markdown",
   "id": "a11ac063-1707-4fd7-a883-3fef6370885a",
   "metadata": {},
   "source": [
    "### Encoding"
   ]
  },
  {
   "cell_type": "markdown",
   "id": "c088c6ee-2162-49da-9d31-26c40a656a5b",
   "metadata": {},
   "source": [
    "#### Toss Decision"
   ]
  },
  {
   "cell_type": "code",
   "execution_count": 44,
   "id": "484608d0-4805-416c-baa8-b2a40a6b4f57",
   "metadata": {},
   "outputs": [],
   "source": [
    "# model\n",
    "ohe = OneHotEncoder(sparse_output=False)"
   ]
  },
  {
   "cell_type": "code",
   "execution_count": 45,
   "id": "88fc0da4-c308-46d0-9f28-a868ab870a59",
   "metadata": {},
   "outputs": [
    {
     "data": {
      "text/html": [
       "<style>#sk-container-id-1 {color: black;}#sk-container-id-1 pre{padding: 0;}#sk-container-id-1 div.sk-toggleable {background-color: white;}#sk-container-id-1 label.sk-toggleable__label {cursor: pointer;display: block;width: 100%;margin-bottom: 0;padding: 0.3em;box-sizing: border-box;text-align: center;}#sk-container-id-1 label.sk-toggleable__label-arrow:before {content: \"▸\";float: left;margin-right: 0.25em;color: #696969;}#sk-container-id-1 label.sk-toggleable__label-arrow:hover:before {color: black;}#sk-container-id-1 div.sk-estimator:hover label.sk-toggleable__label-arrow:before {color: black;}#sk-container-id-1 div.sk-toggleable__content {max-height: 0;max-width: 0;overflow: hidden;text-align: left;background-color: #f0f8ff;}#sk-container-id-1 div.sk-toggleable__content pre {margin: 0.2em;color: black;border-radius: 0.25em;background-color: #f0f8ff;}#sk-container-id-1 input.sk-toggleable__control:checked~div.sk-toggleable__content {max-height: 200px;max-width: 100%;overflow: auto;}#sk-container-id-1 input.sk-toggleable__control:checked~label.sk-toggleable__label-arrow:before {content: \"▾\";}#sk-container-id-1 div.sk-estimator input.sk-toggleable__control:checked~label.sk-toggleable__label {background-color: #d4ebff;}#sk-container-id-1 div.sk-label input.sk-toggleable__control:checked~label.sk-toggleable__label {background-color: #d4ebff;}#sk-container-id-1 input.sk-hidden--visually {border: 0;clip: rect(1px 1px 1px 1px);clip: rect(1px, 1px, 1px, 1px);height: 1px;margin: -1px;overflow: hidden;padding: 0;position: absolute;width: 1px;}#sk-container-id-1 div.sk-estimator {font-family: monospace;background-color: #f0f8ff;border: 1px dotted black;border-radius: 0.25em;box-sizing: border-box;margin-bottom: 0.5em;}#sk-container-id-1 div.sk-estimator:hover {background-color: #d4ebff;}#sk-container-id-1 div.sk-parallel-item::after {content: \"\";width: 100%;border-bottom: 1px solid gray;flex-grow: 1;}#sk-container-id-1 div.sk-label:hover label.sk-toggleable__label {background-color: #d4ebff;}#sk-container-id-1 div.sk-serial::before {content: \"\";position: absolute;border-left: 1px solid gray;box-sizing: border-box;top: 0;bottom: 0;left: 50%;z-index: 0;}#sk-container-id-1 div.sk-serial {display: flex;flex-direction: column;align-items: center;background-color: white;padding-right: 0.2em;padding-left: 0.2em;position: relative;}#sk-container-id-1 div.sk-item {position: relative;z-index: 1;}#sk-container-id-1 div.sk-parallel {display: flex;align-items: stretch;justify-content: center;background-color: white;position: relative;}#sk-container-id-1 div.sk-item::before, #sk-container-id-1 div.sk-parallel-item::before {content: \"\";position: absolute;border-left: 1px solid gray;box-sizing: border-box;top: 0;bottom: 0;left: 50%;z-index: -1;}#sk-container-id-1 div.sk-parallel-item {display: flex;flex-direction: column;z-index: 1;position: relative;background-color: white;}#sk-container-id-1 div.sk-parallel-item:first-child::after {align-self: flex-end;width: 50%;}#sk-container-id-1 div.sk-parallel-item:last-child::after {align-self: flex-start;width: 50%;}#sk-container-id-1 div.sk-parallel-item:only-child::after {width: 0;}#sk-container-id-1 div.sk-dashed-wrapped {border: 1px dashed gray;margin: 0 0.4em 0.5em 0.4em;box-sizing: border-box;padding-bottom: 0.4em;background-color: white;}#sk-container-id-1 div.sk-label label {font-family: monospace;font-weight: bold;display: inline-block;line-height: 1.2em;}#sk-container-id-1 div.sk-label-container {text-align: center;}#sk-container-id-1 div.sk-container {/* jupyter's `normalize.less` sets `[hidden] { display: none; }` but bootstrap.min.css set `[hidden] { display: none !important; }` so we also need the `!important` here to be able to override the default hidden behavior on the sphinx rendered scikit-learn.org. See: https://github.com/scikit-learn/scikit-learn/issues/21755 */display: inline-block !important;position: relative;}#sk-container-id-1 div.sk-text-repr-fallback {display: none;}</style><div id=\"sk-container-id-1\" class=\"sk-top-container\"><div class=\"sk-text-repr-fallback\"><pre>OneHotEncoder(sparse_output=False)</pre><b>In a Jupyter environment, please rerun this cell to show the HTML representation or trust the notebook. <br />On GitHub, the HTML representation is unable to render, please try loading this page with nbviewer.org.</b></div><div class=\"sk-container\" hidden><div class=\"sk-item\"><div class=\"sk-estimator sk-toggleable\"><input class=\"sk-toggleable__control sk-hidden--visually\" id=\"sk-estimator-id-1\" type=\"checkbox\" checked><label for=\"sk-estimator-id-1\" class=\"sk-toggleable__label sk-toggleable__label-arrow\">OneHotEncoder</label><div class=\"sk-toggleable__content\"><pre>OneHotEncoder(sparse_output=False)</pre></div></div></div></div></div>"
      ],
      "text/plain": [
       "OneHotEncoder(sparse_output=False)"
      ]
     },
     "execution_count": 45,
     "metadata": {},
     "output_type": "execute_result"
    }
   ],
   "source": [
    "ohe.fit(df[['TossDecision']])"
   ]
  },
  {
   "cell_type": "code",
   "execution_count": 46,
   "id": "ae78156e-6b92-48eb-a030-6a262b979446",
   "metadata": {},
   "outputs": [],
   "source": [
    "df[ohe.get_feature_names_out()] = ohe.transform(df[['TossDecision']])"
   ]
  },
  {
   "cell_type": "code",
   "execution_count": 47,
   "id": "4c96b866-6f9c-48f1-8b9a-e8f1e278934c",
   "metadata": {},
   "outputs": [],
   "source": [
    "df.drop(columns = [\"TossDecision\"], inplace = True)"
   ]
  },
  {
   "cell_type": "code",
   "execution_count": 48,
   "id": "71ce5831-d79a-477e-8590-75338c5f4deb",
   "metadata": {},
   "outputs": [
    {
     "data": {
      "text/plain": [
       "(950, 25)"
      ]
     },
     "execution_count": 48,
     "metadata": {},
     "output_type": "execute_result"
    }
   ],
   "source": [
    "df.shape"
   ]
  },
  {
   "cell_type": "markdown",
   "id": "ee10fc4d-aaf7-4b49-8070-84fe6173f23c",
   "metadata": {},
   "source": [
    "#### City"
   ]
  },
  {
   "cell_type": "code",
   "execution_count": 49,
   "id": "dec6fe62-6d31-4599-b322-0d93cd97f1a9",
   "metadata": {},
   "outputs": [],
   "source": [
    "# model\n",
    "ohe = OneHotEncoder(sparse_output=False)"
   ]
  },
  {
   "cell_type": "code",
   "execution_count": 50,
   "id": "c152eb80-87b1-468c-9b1e-2d9670aa7ef6",
   "metadata": {},
   "outputs": [
    {
     "data": {
      "text/html": [
       "<style>#sk-container-id-2 {color: black;}#sk-container-id-2 pre{padding: 0;}#sk-container-id-2 div.sk-toggleable {background-color: white;}#sk-container-id-2 label.sk-toggleable__label {cursor: pointer;display: block;width: 100%;margin-bottom: 0;padding: 0.3em;box-sizing: border-box;text-align: center;}#sk-container-id-2 label.sk-toggleable__label-arrow:before {content: \"▸\";float: left;margin-right: 0.25em;color: #696969;}#sk-container-id-2 label.sk-toggleable__label-arrow:hover:before {color: black;}#sk-container-id-2 div.sk-estimator:hover label.sk-toggleable__label-arrow:before {color: black;}#sk-container-id-2 div.sk-toggleable__content {max-height: 0;max-width: 0;overflow: hidden;text-align: left;background-color: #f0f8ff;}#sk-container-id-2 div.sk-toggleable__content pre {margin: 0.2em;color: black;border-radius: 0.25em;background-color: #f0f8ff;}#sk-container-id-2 input.sk-toggleable__control:checked~div.sk-toggleable__content {max-height: 200px;max-width: 100%;overflow: auto;}#sk-container-id-2 input.sk-toggleable__control:checked~label.sk-toggleable__label-arrow:before {content: \"▾\";}#sk-container-id-2 div.sk-estimator input.sk-toggleable__control:checked~label.sk-toggleable__label {background-color: #d4ebff;}#sk-container-id-2 div.sk-label input.sk-toggleable__control:checked~label.sk-toggleable__label {background-color: #d4ebff;}#sk-container-id-2 input.sk-hidden--visually {border: 0;clip: rect(1px 1px 1px 1px);clip: rect(1px, 1px, 1px, 1px);height: 1px;margin: -1px;overflow: hidden;padding: 0;position: absolute;width: 1px;}#sk-container-id-2 div.sk-estimator {font-family: monospace;background-color: #f0f8ff;border: 1px dotted black;border-radius: 0.25em;box-sizing: border-box;margin-bottom: 0.5em;}#sk-container-id-2 div.sk-estimator:hover {background-color: #d4ebff;}#sk-container-id-2 div.sk-parallel-item::after {content: \"\";width: 100%;border-bottom: 1px solid gray;flex-grow: 1;}#sk-container-id-2 div.sk-label:hover label.sk-toggleable__label {background-color: #d4ebff;}#sk-container-id-2 div.sk-serial::before {content: \"\";position: absolute;border-left: 1px solid gray;box-sizing: border-box;top: 0;bottom: 0;left: 50%;z-index: 0;}#sk-container-id-2 div.sk-serial {display: flex;flex-direction: column;align-items: center;background-color: white;padding-right: 0.2em;padding-left: 0.2em;position: relative;}#sk-container-id-2 div.sk-item {position: relative;z-index: 1;}#sk-container-id-2 div.sk-parallel {display: flex;align-items: stretch;justify-content: center;background-color: white;position: relative;}#sk-container-id-2 div.sk-item::before, #sk-container-id-2 div.sk-parallel-item::before {content: \"\";position: absolute;border-left: 1px solid gray;box-sizing: border-box;top: 0;bottom: 0;left: 50%;z-index: -1;}#sk-container-id-2 div.sk-parallel-item {display: flex;flex-direction: column;z-index: 1;position: relative;background-color: white;}#sk-container-id-2 div.sk-parallel-item:first-child::after {align-self: flex-end;width: 50%;}#sk-container-id-2 div.sk-parallel-item:last-child::after {align-self: flex-start;width: 50%;}#sk-container-id-2 div.sk-parallel-item:only-child::after {width: 0;}#sk-container-id-2 div.sk-dashed-wrapped {border: 1px dashed gray;margin: 0 0.4em 0.5em 0.4em;box-sizing: border-box;padding-bottom: 0.4em;background-color: white;}#sk-container-id-2 div.sk-label label {font-family: monospace;font-weight: bold;display: inline-block;line-height: 1.2em;}#sk-container-id-2 div.sk-label-container {text-align: center;}#sk-container-id-2 div.sk-container {/* jupyter's `normalize.less` sets `[hidden] { display: none; }` but bootstrap.min.css set `[hidden] { display: none !important; }` so we also need the `!important` here to be able to override the default hidden behavior on the sphinx rendered scikit-learn.org. See: https://github.com/scikit-learn/scikit-learn/issues/21755 */display: inline-block !important;position: relative;}#sk-container-id-2 div.sk-text-repr-fallback {display: none;}</style><div id=\"sk-container-id-2\" class=\"sk-top-container\"><div class=\"sk-text-repr-fallback\"><pre>OneHotEncoder(sparse_output=False)</pre><b>In a Jupyter environment, please rerun this cell to show the HTML representation or trust the notebook. <br />On GitHub, the HTML representation is unable to render, please try loading this page with nbviewer.org.</b></div><div class=\"sk-container\" hidden><div class=\"sk-item\"><div class=\"sk-estimator sk-toggleable\"><input class=\"sk-toggleable__control sk-hidden--visually\" id=\"sk-estimator-id-2\" type=\"checkbox\" checked><label for=\"sk-estimator-id-2\" class=\"sk-toggleable__label sk-toggleable__label-arrow\">OneHotEncoder</label><div class=\"sk-toggleable__content\"><pre>OneHotEncoder(sparse_output=False)</pre></div></div></div></div></div>"
      ],
      "text/plain": [
       "OneHotEncoder(sparse_output=False)"
      ]
     },
     "execution_count": 50,
     "metadata": {},
     "output_type": "execute_result"
    }
   ],
   "source": [
    "ohe.fit(df[['City']])"
   ]
  },
  {
   "cell_type": "code",
   "execution_count": 51,
   "id": "5dfc4633-35ce-411a-915b-a4fc8c239165",
   "metadata": {},
   "outputs": [],
   "source": [
    "df[ohe.get_feature_names_out()] = ohe.transform(df[['City']])"
   ]
  },
  {
   "cell_type": "code",
   "execution_count": 52,
   "id": "4a075377-9011-45d4-914e-f15c61162269",
   "metadata": {},
   "outputs": [],
   "source": [
    "df.drop(columns = [\"City\"], inplace = True)"
   ]
  },
  {
   "cell_type": "code",
   "execution_count": 53,
   "id": "bb4c5198-71d6-4226-b17d-cca5d3d922ff",
   "metadata": {},
   "outputs": [
    {
     "data": {
      "text/plain": [
       "(950, 57)"
      ]
     },
     "execution_count": 53,
     "metadata": {},
     "output_type": "execute_result"
    }
   ],
   "source": [
    "df.shape"
   ]
  },
  {
   "cell_type": "markdown",
   "id": "6149cb50-942e-47c4-8a4d-56c9e1e88068",
   "metadata": {},
   "source": [
    "#### Match Number"
   ]
  },
  {
   "cell_type": "code",
   "execution_count": 54,
   "id": "4c8428f7-0046-4cf7-9542-4b4205e6f405",
   "metadata": {},
   "outputs": [
    {
     "data": {
      "text/plain": [
       "array(['final', 'qualifier 2', 'eliminator', 'qualifier 1', '70', '69',\n",
       "       '68', '67', '66', '65', '64', '63', '62', '61', '60', '59', '58',\n",
       "       '57', '56', '55', '54', '53', '52', '51', '50', '49', '48', '47',\n",
       "       '46', '45', '44', '43', '42', '41', '40', '39', '38', '37', '36',\n",
       "       '35', '34', '33', '32', '31', '30', '29', '28', '27', '26', '25',\n",
       "       '24', '23', '22', '21', '20', '19', '18', '17', '16', '15', '14',\n",
       "       '13', '12', '11', '10', '9', '8', '7', '6', '5', '4', '3', '2',\n",
       "       '1', 'qualifier', 'elimination final', '72', '71',\n",
       "       '3rd place play-off', 'semi final'], dtype=object)"
      ]
     },
     "execution_count": 54,
     "metadata": {},
     "output_type": "execute_result"
    }
   ],
   "source": [
    "df.MatchNumber.unique() # playoffs = 1 ; regular games = 0"
   ]
  },
  {
   "cell_type": "code",
   "execution_count": 55,
   "id": "5ccd725c-fd39-4a6f-9bc5-f50201619fb5",
   "metadata": {},
   "outputs": [],
   "source": [
    "# function\n",
    "def map_match_number(value):\n",
    "    if isinstance(value, int) or value.isnumeric():\n",
    "        return 0\n",
    "    elif isinstance(value, str):\n",
    "        return 1\n",
    "    else:\n",
    "        return value"
   ]
  },
  {
   "cell_type": "code",
   "execution_count": 56,
   "id": "a626d46b-8bd1-4821-a5eb-24ec7a53ebff",
   "metadata": {},
   "outputs": [],
   "source": [
    "df['MatchNumber'] = df['MatchNumber'].apply(map_match_number)"
   ]
  },
  {
   "cell_type": "code",
   "execution_count": 57,
   "id": "eb65f367-fd38-48ef-88ae-e727d69f8fd2",
   "metadata": {},
   "outputs": [],
   "source": [
    "df.rename(columns={'MatchNumber': 'MatchImportance'}, inplace=True)"
   ]
  },
  {
   "cell_type": "code",
   "execution_count": 58,
   "id": "4bfb22bd-7d35-4a78-a98f-50e1f77d6702",
   "metadata": {},
   "outputs": [
    {
     "data": {
      "text/plain": [
       "MatchImportance\n",
       "0    892\n",
       "1     58\n",
       "Name: count, dtype: int64"
      ]
     },
     "execution_count": 58,
     "metadata": {},
     "output_type": "execute_result"
    }
   ],
   "source": [
    "df.MatchImportance.value_counts() # ok"
   ]
  },
  {
   "cell_type": "markdown",
   "id": "9a230d56-efd0-4913-bb99-ba4daafd1801",
   "metadata": {},
   "source": [
    "#### Winning Team"
   ]
  },
  {
   "cell_type": "code",
   "execution_count": 59,
   "id": "8c944845-f24c-4dc1-a13d-a701ad795ab9",
   "metadata": {},
   "outputs": [],
   "source": [
    "# WinningTeam = 1 --> Team1 Won"
   ]
  },
  {
   "cell_type": "code",
   "execution_count": 60,
   "id": "07f3d7f8-e579-4fa9-8d20-8ec7a628239f",
   "metadata": {},
   "outputs": [
    {
     "data": {
      "text/plain": [
       "WinningTeam\n",
       "mumbai indians                 131\n",
       "chennai super kings            121\n",
       "kolkata knight riders          114\n",
       "royal challengers bangalore    109\n",
       "delhi capitals                 103\n",
       "punjab kings                   101\n",
       "rajasthan royals                96\n",
       "sunrisers hyderabad             75\n",
       "deccan chargers                 29\n",
       "rising pune supergiant          15\n",
       "gujarat lions                   13\n",
       "gujarat titans                  12\n",
       "pune warriors                   12\n",
       "lucknow super giants             9\n",
       "kochi tuskers kerala             6\n",
       "noresults                        4\n",
       "Name: count, dtype: int64"
      ]
     },
     "execution_count": 60,
     "metadata": {},
     "output_type": "execute_result"
    }
   ],
   "source": [
    "df.WinningTeam.value_counts()"
   ]
  },
  {
   "cell_type": "code",
   "execution_count": 61,
   "id": "20f04ae1-13a5-45db-9d7b-b814ed0fe7b6",
   "metadata": {},
   "outputs": [],
   "source": [
    "# function\n",
    "def map_winning_team(row):\n",
    "    if row['WinningTeam'] == row['Team1']:\n",
    "        return 1\n",
    "    elif row['WinningTeam'] == row['Team2']:\n",
    "        return 0\n",
    "    else:\n",
    "        return -1"
   ]
  },
  {
   "cell_type": "code",
   "execution_count": 62,
   "id": "24456696-3bdb-40df-a272-29b472d0539e",
   "metadata": {},
   "outputs": [],
   "source": [
    "df['WinningTeam'] = df.apply(map_winning_team, axis=1)"
   ]
  },
  {
   "cell_type": "code",
   "execution_count": 63,
   "id": "79a52828-270f-403d-9a68-a3bbfb0dd4a2",
   "metadata": {},
   "outputs": [
    {
     "data": {
      "text/plain": [
       "WinningTeam\n",
       " 1    480\n",
       " 0    466\n",
       "-1      4\n",
       "Name: count, dtype: int64"
      ]
     },
     "execution_count": 63,
     "metadata": {},
     "output_type": "execute_result"
    }
   ],
   "source": [
    "df.WinningTeam.value_counts()"
   ]
  },
  {
   "cell_type": "code",
   "execution_count": 64,
   "id": "dccf5ad9-6bf0-42a8-893c-8c6b68192ee2",
   "metadata": {},
   "outputs": [],
   "source": [
    "# drop rows with Winning Team = -1\n",
    "df = df.drop(df[df['WinningTeam'] == -1].index)"
   ]
  },
  {
   "cell_type": "markdown",
   "id": "0c3d6b02-a764-49e3-9036-6526a784fcd2",
   "metadata": {},
   "source": [
    "#### Venue"
   ]
  },
  {
   "cell_type": "code",
   "execution_count": 65,
   "id": "1217ea04-6588-4d22-bee5-be434185fa3f",
   "metadata": {},
   "outputs": [],
   "source": [
    "ohe = OneHotEncoder(sparse_output=False)"
   ]
  },
  {
   "cell_type": "code",
   "execution_count": 66,
   "id": "080e3c3d-69b6-49bb-90a8-45e521845b03",
   "metadata": {},
   "outputs": [
    {
     "data": {
      "text/html": [
       "<style>#sk-container-id-3 {color: black;}#sk-container-id-3 pre{padding: 0;}#sk-container-id-3 div.sk-toggleable {background-color: white;}#sk-container-id-3 label.sk-toggleable__label {cursor: pointer;display: block;width: 100%;margin-bottom: 0;padding: 0.3em;box-sizing: border-box;text-align: center;}#sk-container-id-3 label.sk-toggleable__label-arrow:before {content: \"▸\";float: left;margin-right: 0.25em;color: #696969;}#sk-container-id-3 label.sk-toggleable__label-arrow:hover:before {color: black;}#sk-container-id-3 div.sk-estimator:hover label.sk-toggleable__label-arrow:before {color: black;}#sk-container-id-3 div.sk-toggleable__content {max-height: 0;max-width: 0;overflow: hidden;text-align: left;background-color: #f0f8ff;}#sk-container-id-3 div.sk-toggleable__content pre {margin: 0.2em;color: black;border-radius: 0.25em;background-color: #f0f8ff;}#sk-container-id-3 input.sk-toggleable__control:checked~div.sk-toggleable__content {max-height: 200px;max-width: 100%;overflow: auto;}#sk-container-id-3 input.sk-toggleable__control:checked~label.sk-toggleable__label-arrow:before {content: \"▾\";}#sk-container-id-3 div.sk-estimator input.sk-toggleable__control:checked~label.sk-toggleable__label {background-color: #d4ebff;}#sk-container-id-3 div.sk-label input.sk-toggleable__control:checked~label.sk-toggleable__label {background-color: #d4ebff;}#sk-container-id-3 input.sk-hidden--visually {border: 0;clip: rect(1px 1px 1px 1px);clip: rect(1px, 1px, 1px, 1px);height: 1px;margin: -1px;overflow: hidden;padding: 0;position: absolute;width: 1px;}#sk-container-id-3 div.sk-estimator {font-family: monospace;background-color: #f0f8ff;border: 1px dotted black;border-radius: 0.25em;box-sizing: border-box;margin-bottom: 0.5em;}#sk-container-id-3 div.sk-estimator:hover {background-color: #d4ebff;}#sk-container-id-3 div.sk-parallel-item::after {content: \"\";width: 100%;border-bottom: 1px solid gray;flex-grow: 1;}#sk-container-id-3 div.sk-label:hover label.sk-toggleable__label {background-color: #d4ebff;}#sk-container-id-3 div.sk-serial::before {content: \"\";position: absolute;border-left: 1px solid gray;box-sizing: border-box;top: 0;bottom: 0;left: 50%;z-index: 0;}#sk-container-id-3 div.sk-serial {display: flex;flex-direction: column;align-items: center;background-color: white;padding-right: 0.2em;padding-left: 0.2em;position: relative;}#sk-container-id-3 div.sk-item {position: relative;z-index: 1;}#sk-container-id-3 div.sk-parallel {display: flex;align-items: stretch;justify-content: center;background-color: white;position: relative;}#sk-container-id-3 div.sk-item::before, #sk-container-id-3 div.sk-parallel-item::before {content: \"\";position: absolute;border-left: 1px solid gray;box-sizing: border-box;top: 0;bottom: 0;left: 50%;z-index: -1;}#sk-container-id-3 div.sk-parallel-item {display: flex;flex-direction: column;z-index: 1;position: relative;background-color: white;}#sk-container-id-3 div.sk-parallel-item:first-child::after {align-self: flex-end;width: 50%;}#sk-container-id-3 div.sk-parallel-item:last-child::after {align-self: flex-start;width: 50%;}#sk-container-id-3 div.sk-parallel-item:only-child::after {width: 0;}#sk-container-id-3 div.sk-dashed-wrapped {border: 1px dashed gray;margin: 0 0.4em 0.5em 0.4em;box-sizing: border-box;padding-bottom: 0.4em;background-color: white;}#sk-container-id-3 div.sk-label label {font-family: monospace;font-weight: bold;display: inline-block;line-height: 1.2em;}#sk-container-id-3 div.sk-label-container {text-align: center;}#sk-container-id-3 div.sk-container {/* jupyter's `normalize.less` sets `[hidden] { display: none; }` but bootstrap.min.css set `[hidden] { display: none !important; }` so we also need the `!important` here to be able to override the default hidden behavior on the sphinx rendered scikit-learn.org. See: https://github.com/scikit-learn/scikit-learn/issues/21755 */display: inline-block !important;position: relative;}#sk-container-id-3 div.sk-text-repr-fallback {display: none;}</style><div id=\"sk-container-id-3\" class=\"sk-top-container\"><div class=\"sk-text-repr-fallback\"><pre>OneHotEncoder(sparse_output=False)</pre><b>In a Jupyter environment, please rerun this cell to show the HTML representation or trust the notebook. <br />On GitHub, the HTML representation is unable to render, please try loading this page with nbviewer.org.</b></div><div class=\"sk-container\" hidden><div class=\"sk-item\"><div class=\"sk-estimator sk-toggleable\"><input class=\"sk-toggleable__control sk-hidden--visually\" id=\"sk-estimator-id-3\" type=\"checkbox\" checked><label for=\"sk-estimator-id-3\" class=\"sk-toggleable__label sk-toggleable__label-arrow\">OneHotEncoder</label><div class=\"sk-toggleable__content\"><pre>OneHotEncoder(sparse_output=False)</pre></div></div></div></div></div>"
      ],
      "text/plain": [
       "OneHotEncoder(sparse_output=False)"
      ]
     },
     "execution_count": 66,
     "metadata": {},
     "output_type": "execute_result"
    }
   ],
   "source": [
    "ohe.fit(df[['Venue']])"
   ]
  },
  {
   "cell_type": "code",
   "execution_count": 67,
   "id": "ca441b80-be40-486b-babe-7940dc6bccda",
   "metadata": {},
   "outputs": [],
   "source": [
    "df[ohe.get_feature_names_out()] = ohe.transform(df[['Venue']])"
   ]
  },
  {
   "cell_type": "code",
   "execution_count": 68,
   "id": "b89432b3-888c-407e-b559-5153e15f8263",
   "metadata": {},
   "outputs": [],
   "source": [
    "df.drop(columns = [\"Venue\"], inplace = True)"
   ]
  },
  {
   "cell_type": "code",
   "execution_count": 69,
   "id": "34566b7d-bb68-43fc-b2a4-ad910e95fa2d",
   "metadata": {},
   "outputs": [
    {
     "data": {
      "text/plain": [
       "(946, 92)"
      ]
     },
     "execution_count": 69,
     "metadata": {},
     "output_type": "execute_result"
    }
   ],
   "source": [
    "df.shape"
   ]
  },
  {
   "cell_type": "markdown",
   "id": "c71d15a8-0a25-40df-8448-25c5b3531a3d",
   "metadata": {},
   "source": [
    "#### Toss Winner"
   ]
  },
  {
   "cell_type": "code",
   "execution_count": 70,
   "id": "4b139ec4-3bf3-470f-a263-7408b011c44d",
   "metadata": {},
   "outputs": [],
   "source": [
    "# Toss Winner --> 0 = away team ; 1 = home team"
   ]
  },
  {
   "cell_type": "code",
   "execution_count": 71,
   "id": "bbae16bd-2d01-4e9b-967f-2c8f6013a4b4",
   "metadata": {},
   "outputs": [],
   "source": [
    "def map_toss_winner(row):\n",
    "    if row['TossWinner'] == row['Team1']:\n",
    "        return 1\n",
    "    elif row['TossWinner'] == row['Team2']:\n",
    "        return 0\n",
    "    else:\n",
    "        return -1"
   ]
  },
  {
   "cell_type": "code",
   "execution_count": 72,
   "id": "358a646f-a837-4ac9-bf74-cf0ecdf151ac",
   "metadata": {},
   "outputs": [],
   "source": [
    "df['TossWinner'] = df.apply(map_toss_winner, axis=1)"
   ]
  },
  {
   "cell_type": "code",
   "execution_count": 73,
   "id": "4d688d06-23c8-4012-80b0-dc2b0a322773",
   "metadata": {},
   "outputs": [
    {
     "data": {
      "text/plain": [
       "TossWinner\n",
       "0    563\n",
       "1    383\n",
       "Name: count, dtype: int64"
      ]
     },
     "execution_count": 73,
     "metadata": {},
     "output_type": "execute_result"
    }
   ],
   "source": [
    "df.TossWinner.value_counts()"
   ]
  },
  {
   "cell_type": "markdown",
   "id": "dbe4dd4f-625e-48bf-8c9c-ea68195f32a1",
   "metadata": {},
   "source": [
    "#### Team1 and Team2"
   ]
  },
  {
   "cell_type": "code",
   "execution_count": 74,
   "id": "fa402c98-613c-4ac5-bd66-1a12d21d99e8",
   "metadata": {},
   "outputs": [],
   "source": [
    "#hot encoder -- team 1\n",
    "ohe = OneHotEncoder(sparse_output=False)"
   ]
  },
  {
   "cell_type": "code",
   "execution_count": 75,
   "id": "20afd071-bca9-4e70-b366-20207b598aab",
   "metadata": {},
   "outputs": [
    {
     "data": {
      "text/html": [
       "<style>#sk-container-id-4 {color: black;}#sk-container-id-4 pre{padding: 0;}#sk-container-id-4 div.sk-toggleable {background-color: white;}#sk-container-id-4 label.sk-toggleable__label {cursor: pointer;display: block;width: 100%;margin-bottom: 0;padding: 0.3em;box-sizing: border-box;text-align: center;}#sk-container-id-4 label.sk-toggleable__label-arrow:before {content: \"▸\";float: left;margin-right: 0.25em;color: #696969;}#sk-container-id-4 label.sk-toggleable__label-arrow:hover:before {color: black;}#sk-container-id-4 div.sk-estimator:hover label.sk-toggleable__label-arrow:before {color: black;}#sk-container-id-4 div.sk-toggleable__content {max-height: 0;max-width: 0;overflow: hidden;text-align: left;background-color: #f0f8ff;}#sk-container-id-4 div.sk-toggleable__content pre {margin: 0.2em;color: black;border-radius: 0.25em;background-color: #f0f8ff;}#sk-container-id-4 input.sk-toggleable__control:checked~div.sk-toggleable__content {max-height: 200px;max-width: 100%;overflow: auto;}#sk-container-id-4 input.sk-toggleable__control:checked~label.sk-toggleable__label-arrow:before {content: \"▾\";}#sk-container-id-4 div.sk-estimator input.sk-toggleable__control:checked~label.sk-toggleable__label {background-color: #d4ebff;}#sk-container-id-4 div.sk-label input.sk-toggleable__control:checked~label.sk-toggleable__label {background-color: #d4ebff;}#sk-container-id-4 input.sk-hidden--visually {border: 0;clip: rect(1px 1px 1px 1px);clip: rect(1px, 1px, 1px, 1px);height: 1px;margin: -1px;overflow: hidden;padding: 0;position: absolute;width: 1px;}#sk-container-id-4 div.sk-estimator {font-family: monospace;background-color: #f0f8ff;border: 1px dotted black;border-radius: 0.25em;box-sizing: border-box;margin-bottom: 0.5em;}#sk-container-id-4 div.sk-estimator:hover {background-color: #d4ebff;}#sk-container-id-4 div.sk-parallel-item::after {content: \"\";width: 100%;border-bottom: 1px solid gray;flex-grow: 1;}#sk-container-id-4 div.sk-label:hover label.sk-toggleable__label {background-color: #d4ebff;}#sk-container-id-4 div.sk-serial::before {content: \"\";position: absolute;border-left: 1px solid gray;box-sizing: border-box;top: 0;bottom: 0;left: 50%;z-index: 0;}#sk-container-id-4 div.sk-serial {display: flex;flex-direction: column;align-items: center;background-color: white;padding-right: 0.2em;padding-left: 0.2em;position: relative;}#sk-container-id-4 div.sk-item {position: relative;z-index: 1;}#sk-container-id-4 div.sk-parallel {display: flex;align-items: stretch;justify-content: center;background-color: white;position: relative;}#sk-container-id-4 div.sk-item::before, #sk-container-id-4 div.sk-parallel-item::before {content: \"\";position: absolute;border-left: 1px solid gray;box-sizing: border-box;top: 0;bottom: 0;left: 50%;z-index: -1;}#sk-container-id-4 div.sk-parallel-item {display: flex;flex-direction: column;z-index: 1;position: relative;background-color: white;}#sk-container-id-4 div.sk-parallel-item:first-child::after {align-self: flex-end;width: 50%;}#sk-container-id-4 div.sk-parallel-item:last-child::after {align-self: flex-start;width: 50%;}#sk-container-id-4 div.sk-parallel-item:only-child::after {width: 0;}#sk-container-id-4 div.sk-dashed-wrapped {border: 1px dashed gray;margin: 0 0.4em 0.5em 0.4em;box-sizing: border-box;padding-bottom: 0.4em;background-color: white;}#sk-container-id-4 div.sk-label label {font-family: monospace;font-weight: bold;display: inline-block;line-height: 1.2em;}#sk-container-id-4 div.sk-label-container {text-align: center;}#sk-container-id-4 div.sk-container {/* jupyter's `normalize.less` sets `[hidden] { display: none; }` but bootstrap.min.css set `[hidden] { display: none !important; }` so we also need the `!important` here to be able to override the default hidden behavior on the sphinx rendered scikit-learn.org. See: https://github.com/scikit-learn/scikit-learn/issues/21755 */display: inline-block !important;position: relative;}#sk-container-id-4 div.sk-text-repr-fallback {display: none;}</style><div id=\"sk-container-id-4\" class=\"sk-top-container\"><div class=\"sk-text-repr-fallback\"><pre>OneHotEncoder(sparse_output=False)</pre><b>In a Jupyter environment, please rerun this cell to show the HTML representation or trust the notebook. <br />On GitHub, the HTML representation is unable to render, please try loading this page with nbviewer.org.</b></div><div class=\"sk-container\" hidden><div class=\"sk-item\"><div class=\"sk-estimator sk-toggleable\"><input class=\"sk-toggleable__control sk-hidden--visually\" id=\"sk-estimator-id-4\" type=\"checkbox\" checked><label for=\"sk-estimator-id-4\" class=\"sk-toggleable__label sk-toggleable__label-arrow\">OneHotEncoder</label><div class=\"sk-toggleable__content\"><pre>OneHotEncoder(sparse_output=False)</pre></div></div></div></div></div>"
      ],
      "text/plain": [
       "OneHotEncoder(sparse_output=False)"
      ]
     },
     "execution_count": 75,
     "metadata": {},
     "output_type": "execute_result"
    }
   ],
   "source": [
    "ohe.fit(df[['Team1']])"
   ]
  },
  {
   "cell_type": "code",
   "execution_count": 76,
   "id": "f98a9f2d-7fdc-4b4a-a4f8-81aa1ac73e95",
   "metadata": {},
   "outputs": [],
   "source": [
    "df[ohe.get_feature_names_out()] = ohe.transform(df[['Team1']])"
   ]
  },
  {
   "cell_type": "code",
   "execution_count": 77,
   "id": "94d04cf0-4881-4783-bf66-aec55af08598",
   "metadata": {},
   "outputs": [],
   "source": [
    "df.drop(columns = [\"Team1\"], inplace = True)"
   ]
  },
  {
   "cell_type": "code",
   "execution_count": 78,
   "id": "3e4b3d3e-14a9-4e59-bb42-09f6356265b6",
   "metadata": {},
   "outputs": [
    {
     "data": {
      "text/plain": [
       "(946, 106)"
      ]
     },
     "execution_count": 78,
     "metadata": {},
     "output_type": "execute_result"
    }
   ],
   "source": [
    "df.shape"
   ]
  },
  {
   "cell_type": "code",
   "execution_count": 79,
   "id": "e97f74a0-abfa-4fea-a9a7-573daeb0425c",
   "metadata": {},
   "outputs": [],
   "source": [
    "# team2\n",
    "ohe = OneHotEncoder(sparse_output=False)"
   ]
  },
  {
   "cell_type": "code",
   "execution_count": 80,
   "id": "9385f7f0-52fd-4078-ad1c-a9c9ff8b4c3d",
   "metadata": {},
   "outputs": [
    {
     "data": {
      "text/html": [
       "<style>#sk-container-id-5 {color: black;}#sk-container-id-5 pre{padding: 0;}#sk-container-id-5 div.sk-toggleable {background-color: white;}#sk-container-id-5 label.sk-toggleable__label {cursor: pointer;display: block;width: 100%;margin-bottom: 0;padding: 0.3em;box-sizing: border-box;text-align: center;}#sk-container-id-5 label.sk-toggleable__label-arrow:before {content: \"▸\";float: left;margin-right: 0.25em;color: #696969;}#sk-container-id-5 label.sk-toggleable__label-arrow:hover:before {color: black;}#sk-container-id-5 div.sk-estimator:hover label.sk-toggleable__label-arrow:before {color: black;}#sk-container-id-5 div.sk-toggleable__content {max-height: 0;max-width: 0;overflow: hidden;text-align: left;background-color: #f0f8ff;}#sk-container-id-5 div.sk-toggleable__content pre {margin: 0.2em;color: black;border-radius: 0.25em;background-color: #f0f8ff;}#sk-container-id-5 input.sk-toggleable__control:checked~div.sk-toggleable__content {max-height: 200px;max-width: 100%;overflow: auto;}#sk-container-id-5 input.sk-toggleable__control:checked~label.sk-toggleable__label-arrow:before {content: \"▾\";}#sk-container-id-5 div.sk-estimator input.sk-toggleable__control:checked~label.sk-toggleable__label {background-color: #d4ebff;}#sk-container-id-5 div.sk-label input.sk-toggleable__control:checked~label.sk-toggleable__label {background-color: #d4ebff;}#sk-container-id-5 input.sk-hidden--visually {border: 0;clip: rect(1px 1px 1px 1px);clip: rect(1px, 1px, 1px, 1px);height: 1px;margin: -1px;overflow: hidden;padding: 0;position: absolute;width: 1px;}#sk-container-id-5 div.sk-estimator {font-family: monospace;background-color: #f0f8ff;border: 1px dotted black;border-radius: 0.25em;box-sizing: border-box;margin-bottom: 0.5em;}#sk-container-id-5 div.sk-estimator:hover {background-color: #d4ebff;}#sk-container-id-5 div.sk-parallel-item::after {content: \"\";width: 100%;border-bottom: 1px solid gray;flex-grow: 1;}#sk-container-id-5 div.sk-label:hover label.sk-toggleable__label {background-color: #d4ebff;}#sk-container-id-5 div.sk-serial::before {content: \"\";position: absolute;border-left: 1px solid gray;box-sizing: border-box;top: 0;bottom: 0;left: 50%;z-index: 0;}#sk-container-id-5 div.sk-serial {display: flex;flex-direction: column;align-items: center;background-color: white;padding-right: 0.2em;padding-left: 0.2em;position: relative;}#sk-container-id-5 div.sk-item {position: relative;z-index: 1;}#sk-container-id-5 div.sk-parallel {display: flex;align-items: stretch;justify-content: center;background-color: white;position: relative;}#sk-container-id-5 div.sk-item::before, #sk-container-id-5 div.sk-parallel-item::before {content: \"\";position: absolute;border-left: 1px solid gray;box-sizing: border-box;top: 0;bottom: 0;left: 50%;z-index: -1;}#sk-container-id-5 div.sk-parallel-item {display: flex;flex-direction: column;z-index: 1;position: relative;background-color: white;}#sk-container-id-5 div.sk-parallel-item:first-child::after {align-self: flex-end;width: 50%;}#sk-container-id-5 div.sk-parallel-item:last-child::after {align-self: flex-start;width: 50%;}#sk-container-id-5 div.sk-parallel-item:only-child::after {width: 0;}#sk-container-id-5 div.sk-dashed-wrapped {border: 1px dashed gray;margin: 0 0.4em 0.5em 0.4em;box-sizing: border-box;padding-bottom: 0.4em;background-color: white;}#sk-container-id-5 div.sk-label label {font-family: monospace;font-weight: bold;display: inline-block;line-height: 1.2em;}#sk-container-id-5 div.sk-label-container {text-align: center;}#sk-container-id-5 div.sk-container {/* jupyter's `normalize.less` sets `[hidden] { display: none; }` but bootstrap.min.css set `[hidden] { display: none !important; }` so we also need the `!important` here to be able to override the default hidden behavior on the sphinx rendered scikit-learn.org. See: https://github.com/scikit-learn/scikit-learn/issues/21755 */display: inline-block !important;position: relative;}#sk-container-id-5 div.sk-text-repr-fallback {display: none;}</style><div id=\"sk-container-id-5\" class=\"sk-top-container\"><div class=\"sk-text-repr-fallback\"><pre>OneHotEncoder(sparse_output=False)</pre><b>In a Jupyter environment, please rerun this cell to show the HTML representation or trust the notebook. <br />On GitHub, the HTML representation is unable to render, please try loading this page with nbviewer.org.</b></div><div class=\"sk-container\" hidden><div class=\"sk-item\"><div class=\"sk-estimator sk-toggleable\"><input class=\"sk-toggleable__control sk-hidden--visually\" id=\"sk-estimator-id-5\" type=\"checkbox\" checked><label for=\"sk-estimator-id-5\" class=\"sk-toggleable__label sk-toggleable__label-arrow\">OneHotEncoder</label><div class=\"sk-toggleable__content\"><pre>OneHotEncoder(sparse_output=False)</pre></div></div></div></div></div>"
      ],
      "text/plain": [
       "OneHotEncoder(sparse_output=False)"
      ]
     },
     "execution_count": 80,
     "metadata": {},
     "output_type": "execute_result"
    }
   ],
   "source": [
    "ohe.fit(df[['Team2']])"
   ]
  },
  {
   "cell_type": "code",
   "execution_count": 81,
   "id": "18cea40a-3468-4ac9-a3c3-bf15d377a00a",
   "metadata": {},
   "outputs": [
    {
     "name": "stderr",
     "output_type": "stream",
     "text": [
      "/var/folders/2n/3_ffywf16v9b2gcv5svq7k8c0000gp/T/ipykernel_53252/3559460154.py:1: PerformanceWarning: DataFrame is highly fragmented.  This is usually the result of calling `frame.insert` many times, which has poor performance.  Consider joining all columns at once using pd.concat(axis=1) instead. To get a de-fragmented frame, use `newframe = frame.copy()`\n",
      "  df[ohe.get_feature_names_out()] = ohe.transform(df[['Team2']])\n",
      "/var/folders/2n/3_ffywf16v9b2gcv5svq7k8c0000gp/T/ipykernel_53252/3559460154.py:1: PerformanceWarning: DataFrame is highly fragmented.  This is usually the result of calling `frame.insert` many times, which has poor performance.  Consider joining all columns at once using pd.concat(axis=1) instead. To get a de-fragmented frame, use `newframe = frame.copy()`\n",
      "  df[ohe.get_feature_names_out()] = ohe.transform(df[['Team2']])\n",
      "/var/folders/2n/3_ffywf16v9b2gcv5svq7k8c0000gp/T/ipykernel_53252/3559460154.py:1: PerformanceWarning: DataFrame is highly fragmented.  This is usually the result of calling `frame.insert` many times, which has poor performance.  Consider joining all columns at once using pd.concat(axis=1) instead. To get a de-fragmented frame, use `newframe = frame.copy()`\n",
      "  df[ohe.get_feature_names_out()] = ohe.transform(df[['Team2']])\n",
      "/var/folders/2n/3_ffywf16v9b2gcv5svq7k8c0000gp/T/ipykernel_53252/3559460154.py:1: PerformanceWarning: DataFrame is highly fragmented.  This is usually the result of calling `frame.insert` many times, which has poor performance.  Consider joining all columns at once using pd.concat(axis=1) instead. To get a de-fragmented frame, use `newframe = frame.copy()`\n",
      "  df[ohe.get_feature_names_out()] = ohe.transform(df[['Team2']])\n",
      "/var/folders/2n/3_ffywf16v9b2gcv5svq7k8c0000gp/T/ipykernel_53252/3559460154.py:1: PerformanceWarning: DataFrame is highly fragmented.  This is usually the result of calling `frame.insert` many times, which has poor performance.  Consider joining all columns at once using pd.concat(axis=1) instead. To get a de-fragmented frame, use `newframe = frame.copy()`\n",
      "  df[ohe.get_feature_names_out()] = ohe.transform(df[['Team2']])\n",
      "/var/folders/2n/3_ffywf16v9b2gcv5svq7k8c0000gp/T/ipykernel_53252/3559460154.py:1: PerformanceWarning: DataFrame is highly fragmented.  This is usually the result of calling `frame.insert` many times, which has poor performance.  Consider joining all columns at once using pd.concat(axis=1) instead. To get a de-fragmented frame, use `newframe = frame.copy()`\n",
      "  df[ohe.get_feature_names_out()] = ohe.transform(df[['Team2']])\n",
      "/var/folders/2n/3_ffywf16v9b2gcv5svq7k8c0000gp/T/ipykernel_53252/3559460154.py:1: PerformanceWarning: DataFrame is highly fragmented.  This is usually the result of calling `frame.insert` many times, which has poor performance.  Consider joining all columns at once using pd.concat(axis=1) instead. To get a de-fragmented frame, use `newframe = frame.copy()`\n",
      "  df[ohe.get_feature_names_out()] = ohe.transform(df[['Team2']])\n"
     ]
    }
   ],
   "source": [
    "df[ohe.get_feature_names_out()] = ohe.transform(df[['Team2']])"
   ]
  },
  {
   "cell_type": "code",
   "execution_count": 82,
   "id": "bc923d36-d313-4264-bd1d-761568772a81",
   "metadata": {},
   "outputs": [],
   "source": [
    "df.drop(columns = [\"Team2\"], inplace = True)"
   ]
  },
  {
   "cell_type": "code",
   "execution_count": 83,
   "id": "33611a38-6966-40a8-b7dc-99ce6a9abfa3",
   "metadata": {},
   "outputs": [
    {
     "data": {
      "text/plain": [
       "(946, 120)"
      ]
     },
     "execution_count": 83,
     "metadata": {},
     "output_type": "execute_result"
    }
   ],
   "source": [
    "df.shape"
   ]
  },
  {
   "cell_type": "markdown",
   "id": "81c69166-792c-447f-8275-8fb929614b78",
   "metadata": {},
   "source": [
    "#### Season"
   ]
  },
  {
   "cell_type": "code",
   "execution_count": 84,
   "id": "6b1600d3-33e4-447f-8937-23b01c24560c",
   "metadata": {},
   "outputs": [],
   "source": [
    "label_encoder = LabelEncoder()"
   ]
  },
  {
   "cell_type": "code",
   "execution_count": 85,
   "id": "490635db-5e6c-4122-8ba9-7b220967178b",
   "metadata": {},
   "outputs": [],
   "source": [
    "df['Season'] = label_encoder.fit_transform(df['Season'])"
   ]
  },
  {
   "cell_type": "code",
   "execution_count": 86,
   "id": "fdf6397c-f17a-4dc0-9da8-1f0a2dfa9a13",
   "metadata": {},
   "outputs": [
    {
     "data": {
      "text/plain": [
       "(946, 120)"
      ]
     },
     "execution_count": 86,
     "metadata": {},
     "output_type": "execute_result"
    }
   ],
   "source": [
    "df.shape"
   ]
  },
  {
   "cell_type": "markdown",
   "id": "ae890eb0-4bd1-4ccf-85b5-4a1c33949308",
   "metadata": {},
   "source": [
    "### Scaler"
   ]
  },
  {
   "cell_type": "code",
   "execution_count": 87,
   "id": "defa3fe4-b444-4751-bed4-facdf3238637",
   "metadata": {},
   "outputs": [
    {
     "data": {
      "text/plain": [
       "Index(['ID', 'Season', 'MatchImportance', 'TossWinner', 'WinningTeam',\n",
       "       'Team1_MVP_average', 'Team2_MVP_average', 'Avg_Score_PlayersTeam1',\n",
       "       'Avg_Score_PlayersTeam2', 'batting_average_PlayersTeam1',\n",
       "       ...\n",
       "       'Team2_kochi tuskers kerala', 'Team2_kolkata knight riders',\n",
       "       'Team2_lucknow super giants', 'Team2_mumbai indians',\n",
       "       'Team2_pune warriors', 'Team2_punjab kings', 'Team2_rajasthan royals',\n",
       "       'Team2_rising pune supergiant', 'Team2_royal challengers bangalore',\n",
       "       'Team2_sunrisers hyderabad'],\n",
       "      dtype='object', length=120)"
      ]
     },
     "execution_count": 87,
     "metadata": {},
     "output_type": "execute_result"
    }
   ],
   "source": [
    "df.columns"
   ]
  },
  {
   "cell_type": "code",
   "execution_count": 88,
   "id": "084d261c-69b8-44b0-85ee-6d38daeb4fc1",
   "metadata": {},
   "outputs": [],
   "source": [
    "columns_scaler = ['Team1_MVP_average', 'Team2_MVP_average', 'Avg_Score_PlayersTeam1', 'Avg_Score_PlayersTeam2', \n",
    "                  'batting_average_PlayersTeam1', 'batting_average_PlayersTeam2', 'batting_strike_rate_PlayersTeam1', \n",
    "                  'batting_strike_rate_PlayersTeam2', 'bowling_average_PlayersTeam1', 'bowling_average_PlayersTeam2', \n",
    "                  'bowling_economy_rate_PlayersTeam1', 'bowling_economy_rate_PlayersTeam2', 'bowling_strike_rate_PlayersTeam1',\n",
    "                  'bowling_strike_rate_PlayersTeam2']\n",
    "\n",
    "# 'Team1_batting_average', 'Team2_batting_average', 'Team1_points_against_avg', 'Team2_points_against_avg'"
   ]
  },
  {
   "cell_type": "code",
   "execution_count": 89,
   "id": "2f6af5b2-1941-4691-bbf9-cb19cfbc9561",
   "metadata": {},
   "outputs": [],
   "source": [
    "# Robust Scaler\n",
    "scaler = RobustScaler()"
   ]
  },
  {
   "cell_type": "code",
   "execution_count": 90,
   "id": "113db72f-70af-43e9-96ab-cbe1f2b5a94a",
   "metadata": {},
   "outputs": [
    {
     "data": {
      "text/html": [
       "<style>#sk-container-id-6 {color: black;}#sk-container-id-6 pre{padding: 0;}#sk-container-id-6 div.sk-toggleable {background-color: white;}#sk-container-id-6 label.sk-toggleable__label {cursor: pointer;display: block;width: 100%;margin-bottom: 0;padding: 0.3em;box-sizing: border-box;text-align: center;}#sk-container-id-6 label.sk-toggleable__label-arrow:before {content: \"▸\";float: left;margin-right: 0.25em;color: #696969;}#sk-container-id-6 label.sk-toggleable__label-arrow:hover:before {color: black;}#sk-container-id-6 div.sk-estimator:hover label.sk-toggleable__label-arrow:before {color: black;}#sk-container-id-6 div.sk-toggleable__content {max-height: 0;max-width: 0;overflow: hidden;text-align: left;background-color: #f0f8ff;}#sk-container-id-6 div.sk-toggleable__content pre {margin: 0.2em;color: black;border-radius: 0.25em;background-color: #f0f8ff;}#sk-container-id-6 input.sk-toggleable__control:checked~div.sk-toggleable__content {max-height: 200px;max-width: 100%;overflow: auto;}#sk-container-id-6 input.sk-toggleable__control:checked~label.sk-toggleable__label-arrow:before {content: \"▾\";}#sk-container-id-6 div.sk-estimator input.sk-toggleable__control:checked~label.sk-toggleable__label {background-color: #d4ebff;}#sk-container-id-6 div.sk-label input.sk-toggleable__control:checked~label.sk-toggleable__label {background-color: #d4ebff;}#sk-container-id-6 input.sk-hidden--visually {border: 0;clip: rect(1px 1px 1px 1px);clip: rect(1px, 1px, 1px, 1px);height: 1px;margin: -1px;overflow: hidden;padding: 0;position: absolute;width: 1px;}#sk-container-id-6 div.sk-estimator {font-family: monospace;background-color: #f0f8ff;border: 1px dotted black;border-radius: 0.25em;box-sizing: border-box;margin-bottom: 0.5em;}#sk-container-id-6 div.sk-estimator:hover {background-color: #d4ebff;}#sk-container-id-6 div.sk-parallel-item::after {content: \"\";width: 100%;border-bottom: 1px solid gray;flex-grow: 1;}#sk-container-id-6 div.sk-label:hover label.sk-toggleable__label {background-color: #d4ebff;}#sk-container-id-6 div.sk-serial::before {content: \"\";position: absolute;border-left: 1px solid gray;box-sizing: border-box;top: 0;bottom: 0;left: 50%;z-index: 0;}#sk-container-id-6 div.sk-serial {display: flex;flex-direction: column;align-items: center;background-color: white;padding-right: 0.2em;padding-left: 0.2em;position: relative;}#sk-container-id-6 div.sk-item {position: relative;z-index: 1;}#sk-container-id-6 div.sk-parallel {display: flex;align-items: stretch;justify-content: center;background-color: white;position: relative;}#sk-container-id-6 div.sk-item::before, #sk-container-id-6 div.sk-parallel-item::before {content: \"\";position: absolute;border-left: 1px solid gray;box-sizing: border-box;top: 0;bottom: 0;left: 50%;z-index: -1;}#sk-container-id-6 div.sk-parallel-item {display: flex;flex-direction: column;z-index: 1;position: relative;background-color: white;}#sk-container-id-6 div.sk-parallel-item:first-child::after {align-self: flex-end;width: 50%;}#sk-container-id-6 div.sk-parallel-item:last-child::after {align-self: flex-start;width: 50%;}#sk-container-id-6 div.sk-parallel-item:only-child::after {width: 0;}#sk-container-id-6 div.sk-dashed-wrapped {border: 1px dashed gray;margin: 0 0.4em 0.5em 0.4em;box-sizing: border-box;padding-bottom: 0.4em;background-color: white;}#sk-container-id-6 div.sk-label label {font-family: monospace;font-weight: bold;display: inline-block;line-height: 1.2em;}#sk-container-id-6 div.sk-label-container {text-align: center;}#sk-container-id-6 div.sk-container {/* jupyter's `normalize.less` sets `[hidden] { display: none; }` but bootstrap.min.css set `[hidden] { display: none !important; }` so we also need the `!important` here to be able to override the default hidden behavior on the sphinx rendered scikit-learn.org. See: https://github.com/scikit-learn/scikit-learn/issues/21755 */display: inline-block !important;position: relative;}#sk-container-id-6 div.sk-text-repr-fallback {display: none;}</style><div id=\"sk-container-id-6\" class=\"sk-top-container\"><div class=\"sk-text-repr-fallback\"><pre>RobustScaler()</pre><b>In a Jupyter environment, please rerun this cell to show the HTML representation or trust the notebook. <br />On GitHub, the HTML representation is unable to render, please try loading this page with nbviewer.org.</b></div><div class=\"sk-container\" hidden><div class=\"sk-item\"><div class=\"sk-estimator sk-toggleable\"><input class=\"sk-toggleable__control sk-hidden--visually\" id=\"sk-estimator-id-6\" type=\"checkbox\" checked><label for=\"sk-estimator-id-6\" class=\"sk-toggleable__label sk-toggleable__label-arrow\">RobustScaler</label><div class=\"sk-toggleable__content\"><pre>RobustScaler()</pre></div></div></div></div></div>"
      ],
      "text/plain": [
       "RobustScaler()"
      ]
     },
     "execution_count": 90,
     "metadata": {},
     "output_type": "execute_result"
    }
   ],
   "source": [
    "# fit\n",
    "scaler.fit(df[columns_scaler])"
   ]
  },
  {
   "cell_type": "code",
   "execution_count": 91,
   "id": "9315d449-3779-4ce2-b969-fd752aae6ff5",
   "metadata": {},
   "outputs": [],
   "source": [
    "df[columns_scaler] = scaler.transform(df[columns_scaler]) "
   ]
  },
  {
   "cell_type": "code",
   "execution_count": 92,
   "id": "f7544800-550e-4a6f-b4c2-a537ea967520",
   "metadata": {},
   "outputs": [
    {
     "data": {
      "text/plain": [
       "(946, 120)"
      ]
     },
     "execution_count": 92,
     "metadata": {},
     "output_type": "execute_result"
    }
   ],
   "source": [
    "df.shape"
   ]
  },
  {
   "cell_type": "markdown",
   "id": "e623ca2c-397e-4c4a-8677-39a3525c04ef",
   "metadata": {},
   "source": [
    "## Random Forest"
   ]
  },
  {
   "cell_type": "code",
   "execution_count": 93,
   "id": "b0e62aa3-29a0-4f22-aa6c-2b7cfc0b4705",
   "metadata": {},
   "outputs": [],
   "source": [
    "X = df.drop(['WinningTeam'], axis=1)\n",
    "y = df.WinningTeam"
   ]
  },
  {
   "cell_type": "code",
   "execution_count": 94,
   "id": "3ad8552d-9ad2-4204-b391-e8ae2fc76f55",
   "metadata": {},
   "outputs": [
    {
     "data": {
      "text/plain": [
       "((946, 119), (946,))"
      ]
     },
     "execution_count": 94,
     "metadata": {},
     "output_type": "execute_result"
    }
   ],
   "source": [
    "X.shape, y.shape"
   ]
  },
  {
   "cell_type": "code",
   "execution_count": 95,
   "id": "aa06d512-f5f2-4928-b124-13c07d7d8c5b",
   "metadata": {},
   "outputs": [],
   "source": [
    "# split data\n",
    "X_train, X_test, y_train, y_test = train_test_split(X, y, test_size=0.2, random_state=42)"
   ]
  },
  {
   "cell_type": "code",
   "execution_count": 96,
   "id": "022f472c-a5a4-4d75-a5d4-699cc9497c07",
   "metadata": {},
   "outputs": [],
   "source": [
    "# model\n",
    "rf = RandomForestClassifier()"
   ]
  },
  {
   "cell_type": "code",
   "execution_count": 97,
   "id": "2fe3199a-9a15-47de-bc3d-e4fcb41c260f",
   "metadata": {},
   "outputs": [],
   "source": [
    "# cross valdation\n",
    "cv = cross_validate(rf, X, y, cv=5)"
   ]
  },
  {
   "cell_type": "code",
   "execution_count": 98,
   "id": "3faf7042-9add-4bbb-a7a5-4dfe5f7db8d4",
   "metadata": {},
   "outputs": [
    {
     "data": {
      "text/plain": [
       "{'fit_time': array([0.6577549 , 0.61070585, 0.54464388, 0.58944082, 0.5966258 ]),\n",
       " 'score_time': array([0.03366303, 0.03066397, 0.03637409, 0.0528121 , 0.04495597]),\n",
       " 'test_score': array([0.47894737, 0.47089947, 0.51851852, 0.53968254, 0.5026455 ])}"
      ]
     },
     "execution_count": 98,
     "metadata": {},
     "output_type": "execute_result"
    }
   ],
   "source": [
    "cv"
   ]
  },
  {
   "cell_type": "code",
   "execution_count": 99,
   "id": "696521a7-c9d4-4001-a3ab-ba5f50782783",
   "metadata": {},
   "outputs": [
    {
     "data": {
      "text/html": [
       "<style>#sk-container-id-7 {color: black;}#sk-container-id-7 pre{padding: 0;}#sk-container-id-7 div.sk-toggleable {background-color: white;}#sk-container-id-7 label.sk-toggleable__label {cursor: pointer;display: block;width: 100%;margin-bottom: 0;padding: 0.3em;box-sizing: border-box;text-align: center;}#sk-container-id-7 label.sk-toggleable__label-arrow:before {content: \"▸\";float: left;margin-right: 0.25em;color: #696969;}#sk-container-id-7 label.sk-toggleable__label-arrow:hover:before {color: black;}#sk-container-id-7 div.sk-estimator:hover label.sk-toggleable__label-arrow:before {color: black;}#sk-container-id-7 div.sk-toggleable__content {max-height: 0;max-width: 0;overflow: hidden;text-align: left;background-color: #f0f8ff;}#sk-container-id-7 div.sk-toggleable__content pre {margin: 0.2em;color: black;border-radius: 0.25em;background-color: #f0f8ff;}#sk-container-id-7 input.sk-toggleable__control:checked~div.sk-toggleable__content {max-height: 200px;max-width: 100%;overflow: auto;}#sk-container-id-7 input.sk-toggleable__control:checked~label.sk-toggleable__label-arrow:before {content: \"▾\";}#sk-container-id-7 div.sk-estimator input.sk-toggleable__control:checked~label.sk-toggleable__label {background-color: #d4ebff;}#sk-container-id-7 div.sk-label input.sk-toggleable__control:checked~label.sk-toggleable__label {background-color: #d4ebff;}#sk-container-id-7 input.sk-hidden--visually {border: 0;clip: rect(1px 1px 1px 1px);clip: rect(1px, 1px, 1px, 1px);height: 1px;margin: -1px;overflow: hidden;padding: 0;position: absolute;width: 1px;}#sk-container-id-7 div.sk-estimator {font-family: monospace;background-color: #f0f8ff;border: 1px dotted black;border-radius: 0.25em;box-sizing: border-box;margin-bottom: 0.5em;}#sk-container-id-7 div.sk-estimator:hover {background-color: #d4ebff;}#sk-container-id-7 div.sk-parallel-item::after {content: \"\";width: 100%;border-bottom: 1px solid gray;flex-grow: 1;}#sk-container-id-7 div.sk-label:hover label.sk-toggleable__label {background-color: #d4ebff;}#sk-container-id-7 div.sk-serial::before {content: \"\";position: absolute;border-left: 1px solid gray;box-sizing: border-box;top: 0;bottom: 0;left: 50%;z-index: 0;}#sk-container-id-7 div.sk-serial {display: flex;flex-direction: column;align-items: center;background-color: white;padding-right: 0.2em;padding-left: 0.2em;position: relative;}#sk-container-id-7 div.sk-item {position: relative;z-index: 1;}#sk-container-id-7 div.sk-parallel {display: flex;align-items: stretch;justify-content: center;background-color: white;position: relative;}#sk-container-id-7 div.sk-item::before, #sk-container-id-7 div.sk-parallel-item::before {content: \"\";position: absolute;border-left: 1px solid gray;box-sizing: border-box;top: 0;bottom: 0;left: 50%;z-index: -1;}#sk-container-id-7 div.sk-parallel-item {display: flex;flex-direction: column;z-index: 1;position: relative;background-color: white;}#sk-container-id-7 div.sk-parallel-item:first-child::after {align-self: flex-end;width: 50%;}#sk-container-id-7 div.sk-parallel-item:last-child::after {align-self: flex-start;width: 50%;}#sk-container-id-7 div.sk-parallel-item:only-child::after {width: 0;}#sk-container-id-7 div.sk-dashed-wrapped {border: 1px dashed gray;margin: 0 0.4em 0.5em 0.4em;box-sizing: border-box;padding-bottom: 0.4em;background-color: white;}#sk-container-id-7 div.sk-label label {font-family: monospace;font-weight: bold;display: inline-block;line-height: 1.2em;}#sk-container-id-7 div.sk-label-container {text-align: center;}#sk-container-id-7 div.sk-container {/* jupyter's `normalize.less` sets `[hidden] { display: none; }` but bootstrap.min.css set `[hidden] { display: none !important; }` so we also need the `!important` here to be able to override the default hidden behavior on the sphinx rendered scikit-learn.org. See: https://github.com/scikit-learn/scikit-learn/issues/21755 */display: inline-block !important;position: relative;}#sk-container-id-7 div.sk-text-repr-fallback {display: none;}</style><div id=\"sk-container-id-7\" class=\"sk-top-container\"><div class=\"sk-text-repr-fallback\"><pre>RandomForestClassifier()</pre><b>In a Jupyter environment, please rerun this cell to show the HTML representation or trust the notebook. <br />On GitHub, the HTML representation is unable to render, please try loading this page with nbviewer.org.</b></div><div class=\"sk-container\" hidden><div class=\"sk-item\"><div class=\"sk-estimator sk-toggleable\"><input class=\"sk-toggleable__control sk-hidden--visually\" id=\"sk-estimator-id-7\" type=\"checkbox\" checked><label for=\"sk-estimator-id-7\" class=\"sk-toggleable__label sk-toggleable__label-arrow\">RandomForestClassifier</label><div class=\"sk-toggleable__content\"><pre>RandomForestClassifier()</pre></div></div></div></div></div>"
      ],
      "text/plain": [
       "RandomForestClassifier()"
      ]
     },
     "execution_count": 99,
     "metadata": {},
     "output_type": "execute_result"
    }
   ],
   "source": [
    "# fit the model\n",
    "rf.fit(X_train, y_train)"
   ]
  },
  {
   "cell_type": "code",
   "execution_count": 100,
   "id": "4eceee8a-0601-42ce-bbe5-41f3cfea575b",
   "metadata": {},
   "outputs": [],
   "source": [
    "y_pred = rf.predict(X_test)"
   ]
  },
  {
   "cell_type": "code",
   "execution_count": 101,
   "id": "d7709fa9-954e-48d4-8cbf-8f8fb06c6c69",
   "metadata": {},
   "outputs": [],
   "source": [
    "accuracy = accuracy_score(y_test, y_pred)"
   ]
  },
  {
   "cell_type": "code",
   "execution_count": 102,
   "id": "4437a076-41eb-47b5-93b8-366b4faf8787",
   "metadata": {},
   "outputs": [
    {
     "name": "stdout",
     "output_type": "stream",
     "text": [
      "Accuracy Model with Random Forest: 0.5\n"
     ]
    }
   ],
   "source": [
    "print(f\"Accuracy Model with Random Forest: {accuracy}\")"
   ]
  },
  {
   "cell_type": "markdown",
   "id": "cb89d5d3-bc2f-417d-88eb-7e22f9fff7a4",
   "metadata": {},
   "source": [
    "## SGD Classifier"
   ]
  },
  {
   "cell_type": "code",
   "execution_count": 103,
   "id": "ab227df7-a3c0-4876-8a2b-708c1c05cbed",
   "metadata": {},
   "outputs": [],
   "source": [
    "from sklearn.linear_model import SGDClassifier"
   ]
  },
  {
   "cell_type": "code",
   "execution_count": 104,
   "id": "48364037-b2f9-4782-9a02-fc432e400372",
   "metadata": {},
   "outputs": [],
   "source": [
    "X_train, X_test, y_train, y_test = train_test_split(X, y, test_size=0.3, random_state=42)"
   ]
  },
  {
   "cell_type": "code",
   "execution_count": 105,
   "id": "fa628e1e-8d3a-4caf-b9b2-18f1b2368dc5",
   "metadata": {},
   "outputs": [],
   "source": [
    "# SGDClassifier\n",
    "sgd = SGDClassifier(max_iter=1000, random_state=42)"
   ]
  },
  {
   "cell_type": "code",
   "execution_count": 106,
   "id": "bb651532-87f6-40c1-954b-38cd02400a73",
   "metadata": {},
   "outputs": [],
   "source": [
    "# cross valdation\n",
    "cv = cross_validate(rf, X, y, cv=5)"
   ]
  },
  {
   "cell_type": "code",
   "execution_count": 107,
   "id": "1e518b14-489d-4033-9c73-180308b028aa",
   "metadata": {},
   "outputs": [
    {
     "data": {
      "text/plain": [
       "{'fit_time': array([0.65859914, 0.6406002 , 0.53085494, 0.56701398, 0.55066204]),\n",
       " 'score_time': array([0.02718592, 0.02895474, 0.03548098, 0.02563906, 0.02744508]),\n",
       " 'test_score': array([0.48421053, 0.47089947, 0.43915344, 0.54497354, 0.50793651])}"
      ]
     },
     "execution_count": 107,
     "metadata": {},
     "output_type": "execute_result"
    }
   ],
   "source": [
    "cv"
   ]
  },
  {
   "cell_type": "code",
   "execution_count": 108,
   "id": "f3e85ff1-d075-4d1d-8591-4ae52afaeea2",
   "metadata": {},
   "outputs": [
    {
     "data": {
      "text/plain": [
       "0.4894346978557505"
      ]
     },
     "execution_count": 108,
     "metadata": {},
     "output_type": "execute_result"
    }
   ],
   "source": [
    "cv['test_score'].mean()"
   ]
  },
  {
   "cell_type": "code",
   "execution_count": 109,
   "id": "e5df8c8e-bb5c-4260-9d12-683c845137cb",
   "metadata": {},
   "outputs": [
    {
     "data": {
      "text/html": [
       "<style>#sk-container-id-8 {color: black;}#sk-container-id-8 pre{padding: 0;}#sk-container-id-8 div.sk-toggleable {background-color: white;}#sk-container-id-8 label.sk-toggleable__label {cursor: pointer;display: block;width: 100%;margin-bottom: 0;padding: 0.3em;box-sizing: border-box;text-align: center;}#sk-container-id-8 label.sk-toggleable__label-arrow:before {content: \"▸\";float: left;margin-right: 0.25em;color: #696969;}#sk-container-id-8 label.sk-toggleable__label-arrow:hover:before {color: black;}#sk-container-id-8 div.sk-estimator:hover label.sk-toggleable__label-arrow:before {color: black;}#sk-container-id-8 div.sk-toggleable__content {max-height: 0;max-width: 0;overflow: hidden;text-align: left;background-color: #f0f8ff;}#sk-container-id-8 div.sk-toggleable__content pre {margin: 0.2em;color: black;border-radius: 0.25em;background-color: #f0f8ff;}#sk-container-id-8 input.sk-toggleable__control:checked~div.sk-toggleable__content {max-height: 200px;max-width: 100%;overflow: auto;}#sk-container-id-8 input.sk-toggleable__control:checked~label.sk-toggleable__label-arrow:before {content: \"▾\";}#sk-container-id-8 div.sk-estimator input.sk-toggleable__control:checked~label.sk-toggleable__label {background-color: #d4ebff;}#sk-container-id-8 div.sk-label input.sk-toggleable__control:checked~label.sk-toggleable__label {background-color: #d4ebff;}#sk-container-id-8 input.sk-hidden--visually {border: 0;clip: rect(1px 1px 1px 1px);clip: rect(1px, 1px, 1px, 1px);height: 1px;margin: -1px;overflow: hidden;padding: 0;position: absolute;width: 1px;}#sk-container-id-8 div.sk-estimator {font-family: monospace;background-color: #f0f8ff;border: 1px dotted black;border-radius: 0.25em;box-sizing: border-box;margin-bottom: 0.5em;}#sk-container-id-8 div.sk-estimator:hover {background-color: #d4ebff;}#sk-container-id-8 div.sk-parallel-item::after {content: \"\";width: 100%;border-bottom: 1px solid gray;flex-grow: 1;}#sk-container-id-8 div.sk-label:hover label.sk-toggleable__label {background-color: #d4ebff;}#sk-container-id-8 div.sk-serial::before {content: \"\";position: absolute;border-left: 1px solid gray;box-sizing: border-box;top: 0;bottom: 0;left: 50%;z-index: 0;}#sk-container-id-8 div.sk-serial {display: flex;flex-direction: column;align-items: center;background-color: white;padding-right: 0.2em;padding-left: 0.2em;position: relative;}#sk-container-id-8 div.sk-item {position: relative;z-index: 1;}#sk-container-id-8 div.sk-parallel {display: flex;align-items: stretch;justify-content: center;background-color: white;position: relative;}#sk-container-id-8 div.sk-item::before, #sk-container-id-8 div.sk-parallel-item::before {content: \"\";position: absolute;border-left: 1px solid gray;box-sizing: border-box;top: 0;bottom: 0;left: 50%;z-index: -1;}#sk-container-id-8 div.sk-parallel-item {display: flex;flex-direction: column;z-index: 1;position: relative;background-color: white;}#sk-container-id-8 div.sk-parallel-item:first-child::after {align-self: flex-end;width: 50%;}#sk-container-id-8 div.sk-parallel-item:last-child::after {align-self: flex-start;width: 50%;}#sk-container-id-8 div.sk-parallel-item:only-child::after {width: 0;}#sk-container-id-8 div.sk-dashed-wrapped {border: 1px dashed gray;margin: 0 0.4em 0.5em 0.4em;box-sizing: border-box;padding-bottom: 0.4em;background-color: white;}#sk-container-id-8 div.sk-label label {font-family: monospace;font-weight: bold;display: inline-block;line-height: 1.2em;}#sk-container-id-8 div.sk-label-container {text-align: center;}#sk-container-id-8 div.sk-container {/* jupyter's `normalize.less` sets `[hidden] { display: none; }` but bootstrap.min.css set `[hidden] { display: none !important; }` so we also need the `!important` here to be able to override the default hidden behavior on the sphinx rendered scikit-learn.org. See: https://github.com/scikit-learn/scikit-learn/issues/21755 */display: inline-block !important;position: relative;}#sk-container-id-8 div.sk-text-repr-fallback {display: none;}</style><div id=\"sk-container-id-8\" class=\"sk-top-container\"><div class=\"sk-text-repr-fallback\"><pre>SGDClassifier(random_state=42)</pre><b>In a Jupyter environment, please rerun this cell to show the HTML representation or trust the notebook. <br />On GitHub, the HTML representation is unable to render, please try loading this page with nbviewer.org.</b></div><div class=\"sk-container\" hidden><div class=\"sk-item\"><div class=\"sk-estimator sk-toggleable\"><input class=\"sk-toggleable__control sk-hidden--visually\" id=\"sk-estimator-id-8\" type=\"checkbox\" checked><label for=\"sk-estimator-id-8\" class=\"sk-toggleable__label sk-toggleable__label-arrow\">SGDClassifier</label><div class=\"sk-toggleable__content\"><pre>SGDClassifier(random_state=42)</pre></div></div></div></div></div>"
      ],
      "text/plain": [
       "SGDClassifier(random_state=42)"
      ]
     },
     "execution_count": 109,
     "metadata": {},
     "output_type": "execute_result"
    }
   ],
   "source": [
    "# fit \n",
    "sgd.fit(X_train, y_train)"
   ]
  },
  {
   "cell_type": "code",
   "execution_count": 110,
   "id": "17fb3bc1-ffce-4c3a-a35e-44782a1113c1",
   "metadata": {},
   "outputs": [],
   "source": [
    "# prevision\n",
    "y_pred = sgd.predict(X_test)"
   ]
  },
  {
   "cell_type": "code",
   "execution_count": 111,
   "id": "26ae0e9c-1fb5-48ca-95fa-7fd9473e7411",
   "metadata": {},
   "outputs": [
    {
     "name": "stdout",
     "output_type": "stream",
     "text": [
      "SGD accuracy: 0.4471830985915493\n"
     ]
    }
   ],
   "source": [
    "accuracy = accuracy_score(y_test, y_pred)\n",
    "print(f\"SGD accuracy: {accuracy}\")"
   ]
  },
  {
   "cell_type": "markdown",
   "id": "cd641a44-c370-4883-bcb9-373cd59bff72",
   "metadata": {},
   "source": [
    "## Deep Learning"
   ]
  },
  {
   "cell_type": "code",
   "execution_count": 112,
   "id": "9a329fd0-097b-42ab-80fb-4e3c483a0ba4",
   "metadata": {},
   "outputs": [
    {
     "name": "stderr",
     "output_type": "stream",
     "text": [
      "2023-09-07 16:01:46.122818: I tensorflow/core/platform/cpu_feature_guard.cc:182] This TensorFlow binary is optimized to use available CPU instructions in performance-critical operations.\n",
      "To enable the following instructions: AVX2 FMA, in other operations, rebuild TensorFlow with the appropriate compiler flags.\n"
     ]
    }
   ],
   "source": [
    "import tensorflow as tf\n",
    "from tensorflow import keras\n",
    "from sklearn import datasets"
   ]
  },
  {
   "cell_type": "code",
   "execution_count": 113,
   "id": "8554fb96-17e8-44ef-85e1-f64077bd8cfc",
   "metadata": {},
   "outputs": [],
   "source": [
    "# split data\n",
    "X_train, X_test, y_train, y_test = train_test_split(X, y, test_size=0.3, random_state=42)"
   ]
  },
  {
   "cell_type": "code",
   "execution_count": 114,
   "id": "1601165a-8a60-4707-86e7-1e27bf43df06",
   "metadata": {},
   "outputs": [
    {
     "data": {
      "text/plain": [
       "((662, 119), (284, 119), (662,), (284,))"
      ]
     },
     "execution_count": 114,
     "metadata": {},
     "output_type": "execute_result"
    }
   ],
   "source": [
    "X_train.shape, X_test.shape, y_train.shape, y_test.shape"
   ]
  },
  {
   "cell_type": "code",
   "execution_count": 115,
   "id": "5716c1fd-ce89-4196-8493-0af00ee7140f",
   "metadata": {},
   "outputs": [
    {
     "data": {
      "text/plain": [
       "\"model = keras.Sequential([\\n    keras.layers.Input(shape=(122,)), \\n    keras.layers.Dense(128, activation='relu'),  \\n    keras.layers.Dense(64, activation='relu'),   \\n    keras.layers.Dense(1, activation='sigmoid')  \\n])\""
      ]
     },
     "execution_count": 115,
     "metadata": {},
     "output_type": "execute_result"
    }
   ],
   "source": [
    "# neural network model\n",
    "\"\"\"model = keras.Sequential([\n",
    "    keras.layers.Input(shape=(122,)), \n",
    "    keras.layers.Dense(128, activation='relu'),  \n",
    "    keras.layers.Dense(64, activation='relu'),   \n",
    "    keras.layers.Dense(1, activation='sigmoid')  \n",
    "])\"\"\""
   ]
  },
  {
   "cell_type": "code",
   "execution_count": 116,
   "id": "baed88eb-78b1-46b6-af97-686f6fb1d794",
   "metadata": {},
   "outputs": [],
   "source": [
    "model = keras.Sequential([\n",
    "    keras.layers.Input(shape=(X_train.shape[1],)), \n",
    "    keras.layers.Dense(4, activation='relu'),  \n",
    "    keras.layers.Dense(4, activation='relu'),  \n",
    "    keras.layers.Dense(2, activation='relu'),\n",
    "    keras.layers.Dense(1, activation='sigmoid')  \n",
    "])"
   ]
  },
  {
   "cell_type": "code",
   "execution_count": 117,
   "id": "dd37ac7a-55ac-47f5-96a6-6f065afbc985",
   "metadata": {},
   "outputs": [],
   "source": [
    "# compile\n",
    "model.compile(optimizer='adam', \n",
    "              loss='binary_crossentropy', \n",
    "              metrics=['accuracy'])  "
   ]
  },
  {
   "cell_type": "code",
   "execution_count": 118,
   "id": "52888063-b940-445c-800c-19f3a4655214",
   "metadata": {},
   "outputs": [],
   "source": [
    "early_stopping = keras.callbacks.EarlyStopping(\n",
    "    monitor='val_loss',  \n",
    "    patience=10,  \n",
    "    restore_best_weights=True \n",
    ")"
   ]
  },
  {
   "cell_type": "code",
   "execution_count": 119,
   "id": "52502f85-4920-47f1-ad72-bad975a87460",
   "metadata": {},
   "outputs": [
    {
     "name": "stdout",
     "output_type": "stream",
     "text": [
      "Epoch 1/150\n",
      "34/34 - 3s - loss: 599.4307 - accuracy: 0.4991 - val_loss: 0.6926 - val_accuracy: 0.5489 - 3s/epoch - 82ms/step\n",
      "Epoch 2/150\n",
      "34/34 - 0s - loss: 0.6925 - accuracy: 0.5293 - val_loss: 0.6915 - val_accuracy: 0.5489 - 294ms/epoch - 9ms/step\n",
      "Epoch 3/150\n",
      "34/34 - 0s - loss: 0.6922 - accuracy: 0.5293 - val_loss: 0.6913 - val_accuracy: 0.5489 - 256ms/epoch - 8ms/step\n",
      "Epoch 4/150\n",
      "34/34 - 0s - loss: 0.6921 - accuracy: 0.5293 - val_loss: 0.6912 - val_accuracy: 0.5489 - 262ms/epoch - 8ms/step\n",
      "Epoch 5/150\n",
      "34/34 - 0s - loss: 0.6920 - accuracy: 0.5293 - val_loss: 0.6910 - val_accuracy: 0.5489 - 242ms/epoch - 7ms/step\n",
      "Epoch 6/150\n",
      "34/34 - 0s - loss: 0.6920 - accuracy: 0.5293 - val_loss: 0.6909 - val_accuracy: 0.5489 - 290ms/epoch - 9ms/step\n",
      "Epoch 7/150\n",
      "34/34 - 0s - loss: 0.6920 - accuracy: 0.5293 - val_loss: 0.6909 - val_accuracy: 0.5489 - 275ms/epoch - 8ms/step\n",
      "Epoch 8/150\n",
      "34/34 - 0s - loss: 0.6919 - accuracy: 0.5293 - val_loss: 0.6907 - val_accuracy: 0.5489 - 251ms/epoch - 7ms/step\n",
      "Epoch 9/150\n",
      "34/34 - 0s - loss: 0.6919 - accuracy: 0.5293 - val_loss: 0.6906 - val_accuracy: 0.5489 - 240ms/epoch - 7ms/step\n",
      "Epoch 10/150\n",
      "34/34 - 0s - loss: 0.6918 - accuracy: 0.5293 - val_loss: 0.6904 - val_accuracy: 0.5489 - 238ms/epoch - 7ms/step\n",
      "Epoch 11/150\n",
      "34/34 - 0s - loss: 0.6918 - accuracy: 0.5293 - val_loss: 0.6904 - val_accuracy: 0.5489 - 261ms/epoch - 8ms/step\n",
      "Epoch 12/150\n",
      "34/34 - 0s - loss: 0.6917 - accuracy: 0.5293 - val_loss: 0.6904 - val_accuracy: 0.5489 - 394ms/epoch - 12ms/step\n",
      "Epoch 13/150\n",
      "34/34 - 0s - loss: 0.6918 - accuracy: 0.5293 - val_loss: 0.6904 - val_accuracy: 0.5489 - 262ms/epoch - 8ms/step\n",
      "Epoch 14/150\n",
      "34/34 - 0s - loss: 0.6917 - accuracy: 0.5293 - val_loss: 0.6903 - val_accuracy: 0.5489 - 358ms/epoch - 11ms/step\n",
      "Epoch 15/150\n",
      "34/34 - 0s - loss: 0.6917 - accuracy: 0.5293 - val_loss: 0.6901 - val_accuracy: 0.5489 - 236ms/epoch - 7ms/step\n",
      "Epoch 16/150\n",
      "34/34 - 0s - loss: 0.6917 - accuracy: 0.5293 - val_loss: 0.6902 - val_accuracy: 0.5489 - 266ms/epoch - 8ms/step\n",
      "Epoch 17/150\n",
      "34/34 - 0s - loss: 0.6917 - accuracy: 0.5293 - val_loss: 0.6902 - val_accuracy: 0.5489 - 247ms/epoch - 7ms/step\n",
      "Epoch 18/150\n",
      "34/34 - 0s - loss: 0.6917 - accuracy: 0.5293 - val_loss: 0.6901 - val_accuracy: 0.5489 - 277ms/epoch - 8ms/step\n",
      "Epoch 19/150\n",
      "34/34 - 0s - loss: 0.6917 - accuracy: 0.5293 - val_loss: 0.6901 - val_accuracy: 0.5489 - 231ms/epoch - 7ms/step\n",
      "Epoch 20/150\n",
      "34/34 - 0s - loss: 0.6916 - accuracy: 0.5293 - val_loss: 0.6899 - val_accuracy: 0.5489 - 269ms/epoch - 8ms/step\n",
      "Epoch 21/150\n",
      "34/34 - 0s - loss: 0.6916 - accuracy: 0.5293 - val_loss: 0.6898 - val_accuracy: 0.5489 - 246ms/epoch - 7ms/step\n",
      "Epoch 22/150\n",
      "34/34 - 0s - loss: 0.6916 - accuracy: 0.5293 - val_loss: 0.6899 - val_accuracy: 0.5489 - 256ms/epoch - 8ms/step\n",
      "Epoch 23/150\n",
      "34/34 - 0s - loss: 0.6916 - accuracy: 0.5293 - val_loss: 0.6899 - val_accuracy: 0.5489 - 256ms/epoch - 8ms/step\n",
      "Epoch 24/150\n",
      "34/34 - 0s - loss: 0.6916 - accuracy: 0.5293 - val_loss: 0.6898 - val_accuracy: 0.5489 - 220ms/epoch - 6ms/step\n",
      "Epoch 25/150\n",
      "34/34 - 0s - loss: 0.6916 - accuracy: 0.5293 - val_loss: 0.6899 - val_accuracy: 0.5489 - 288ms/epoch - 8ms/step\n",
      "Epoch 26/150\n",
      "34/34 - 0s - loss: 0.6916 - accuracy: 0.5293 - val_loss: 0.6897 - val_accuracy: 0.5489 - 265ms/epoch - 8ms/step\n",
      "Epoch 27/150\n",
      "34/34 - 0s - loss: 0.6915 - accuracy: 0.5293 - val_loss: 0.6898 - val_accuracy: 0.5489 - 252ms/epoch - 7ms/step\n",
      "Epoch 28/150\n",
      "34/34 - 0s - loss: 0.6916 - accuracy: 0.5293 - val_loss: 0.6898 - val_accuracy: 0.5489 - 240ms/epoch - 7ms/step\n",
      "Epoch 29/150\n",
      "34/34 - 0s - loss: 0.6915 - accuracy: 0.5293 - val_loss: 0.6897 - val_accuracy: 0.5489 - 291ms/epoch - 9ms/step\n",
      "Epoch 30/150\n",
      "34/34 - 0s - loss: 0.6915 - accuracy: 0.5293 - val_loss: 0.6896 - val_accuracy: 0.5489 - 246ms/epoch - 7ms/step\n",
      "Epoch 31/150\n",
      "34/34 - 0s - loss: 0.6915 - accuracy: 0.5293 - val_loss: 0.6895 - val_accuracy: 0.5489 - 270ms/epoch - 8ms/step\n",
      "Epoch 32/150\n",
      "34/34 - 0s - loss: 0.6915 - accuracy: 0.5293 - val_loss: 0.6896 - val_accuracy: 0.5489 - 247ms/epoch - 7ms/step\n",
      "Epoch 33/150\n",
      "34/34 - 0s - loss: 0.6915 - accuracy: 0.5293 - val_loss: 0.6896 - val_accuracy: 0.5489 - 324ms/epoch - 10ms/step\n",
      "Epoch 34/150\n",
      "34/34 - 0s - loss: 0.6915 - accuracy: 0.5293 - val_loss: 0.6895 - val_accuracy: 0.5489 - 237ms/epoch - 7ms/step\n",
      "Epoch 35/150\n",
      "34/34 - 0s - loss: 0.6915 - accuracy: 0.5293 - val_loss: 0.6894 - val_accuracy: 0.5489 - 252ms/epoch - 7ms/step\n",
      "Epoch 36/150\n",
      "34/34 - 0s - loss: 0.6915 - accuracy: 0.5293 - val_loss: 0.6893 - val_accuracy: 0.5489 - 269ms/epoch - 8ms/step\n",
      "Epoch 37/150\n",
      "34/34 - 0s - loss: 0.6916 - accuracy: 0.5293 - val_loss: 0.6895 - val_accuracy: 0.5489 - 247ms/epoch - 7ms/step\n",
      "Epoch 38/150\n",
      "34/34 - 0s - loss: 0.6915 - accuracy: 0.5293 - val_loss: 0.6895 - val_accuracy: 0.5489 - 250ms/epoch - 7ms/step\n",
      "Epoch 39/150\n",
      "34/34 - 0s - loss: 0.6915 - accuracy: 0.5293 - val_loss: 0.6895 - val_accuracy: 0.5489 - 268ms/epoch - 8ms/step\n",
      "Epoch 40/150\n",
      "34/34 - 0s - loss: 0.6915 - accuracy: 0.5293 - val_loss: 0.6896 - val_accuracy: 0.5489 - 277ms/epoch - 8ms/step\n",
      "Epoch 41/150\n",
      "34/34 - 0s - loss: 0.6915 - accuracy: 0.5293 - val_loss: 0.6896 - val_accuracy: 0.5489 - 241ms/epoch - 7ms/step\n",
      "Epoch 42/150\n",
      "34/34 - 0s - loss: 0.6915 - accuracy: 0.5293 - val_loss: 0.6897 - val_accuracy: 0.5489 - 267ms/epoch - 8ms/step\n",
      "Epoch 43/150\n",
      "34/34 - 0s - loss: 0.6916 - accuracy: 0.5293 - val_loss: 0.6897 - val_accuracy: 0.5489 - 244ms/epoch - 7ms/step\n",
      "Epoch 44/150\n",
      "34/34 - 0s - loss: 0.6915 - accuracy: 0.5293 - val_loss: 0.6896 - val_accuracy: 0.5489 - 260ms/epoch - 8ms/step\n",
      "Epoch 45/150\n",
      "34/34 - 0s - loss: 0.6915 - accuracy: 0.5293 - val_loss: 0.6895 - val_accuracy: 0.5489 - 242ms/epoch - 7ms/step\n",
      "Epoch 46/150\n",
      "34/34 - 0s - loss: 0.6915 - accuracy: 0.5293 - val_loss: 0.6894 - val_accuracy: 0.5489 - 273ms/epoch - 8ms/step\n"
     ]
    }
   ],
   "source": [
    "# train history\n",
    "history = model.fit(X_train, y_train, epochs=150, batch_size=16,\n",
    "                    validation_split=0.2, verbose=2, callbacks=[early_stopping])"
   ]
  },
  {
   "cell_type": "code",
   "execution_count": 120,
   "id": "5edecb9a-1475-428b-8492-72f519313676",
   "metadata": {},
   "outputs": [
    {
     "name": "stdout",
     "output_type": "stream",
     "text": [
      "Model Accuracy: 0.5293\n"
     ]
    }
   ],
   "source": [
    "# Evaluate the model\n",
    "accuracy = history.history['accuracy'][-1]\n",
    "print(f\"Model Accuracy: {accuracy:.4f}\")"
   ]
  },
  {
   "cell_type": "markdown",
   "id": "be253efa-946d-49b3-adaa-d4ca5d82882d",
   "metadata": {},
   "source": [
    "## XGBoost"
   ]
  },
  {
   "cell_type": "code",
   "execution_count": 1,
   "id": "6d91164e-bf98-4dd8-b4d5-504702da9a60",
   "metadata": {},
   "outputs": [
    {
     "ename": "NameError",
     "evalue": "name 'df' is not defined",
     "output_type": "error",
     "traceback": [
      "\u001b[0;31m---------------------------------------------------------------------------\u001b[0m",
      "\u001b[0;31mNameError\u001b[0m                                 Traceback (most recent call last)",
      "Cell \u001b[0;32mIn[1], line 1\u001b[0m\n\u001b[0;32m----> 1\u001b[0m \u001b[43mdf\u001b[49m\u001b[38;5;241m.\u001b[39mshape\n",
      "\u001b[0;31mNameError\u001b[0m: name 'df' is not defined"
     ]
    }
   ],
   "source": [
    "df.shape"
   ]
  },
  {
   "cell_type": "code",
   "execution_count": null,
   "id": "49fe2c3a-27fe-4329-b66c-83a8fcce0aa3",
   "metadata": {},
   "outputs": [],
   "source": [
    "X = df.drop('WinningTeam', axis=1) \n",
    "y = df['WinningTeam']"
   ]
  },
  {
   "cell_type": "code",
   "execution_count": 123,
   "id": "5c7766ff-4026-40cd-b311-70648e6273bd",
   "metadata": {},
   "outputs": [],
   "source": [
    "# split data \n",
    "X_train, X_test, y_train, y_test = train_test_split(X, y, test_size=0.2, random_state=42)"
   ]
  },
  {
   "cell_type": "code",
   "execution_count": 124,
   "id": "f8d57bd7-10be-4ac3-81d0-ec5cfcab257b",
   "metadata": {},
   "outputs": [],
   "source": [
    "# model\n",
    "import xgboost as xgb\n",
    "\n",
    "grid = {'max_depth':10,\n",
    "       'base_score':0.5,\n",
    "       'booster': 'gbtree',\n",
    "        'gamma' : 0.1,\n",
    "        'n_estimators': 150\n",
    "       }\n",
    "\n",
    "\n",
    "model = xgb.XGBClassifier(**grid)"
   ]
  },
  {
   "cell_type": "code",
   "execution_count": 125,
   "id": "0c5ad56a-5a49-4016-8a84-5add6b9e5196",
   "metadata": {},
   "outputs": [
    {
     "name": "stderr",
     "output_type": "stream",
     "text": [
      "/Users/mgomboski/.pyenv/versions/3.10.6/envs/ipl_prediction_model/lib/python3.10/site-packages/xgboost/data.py:312: FutureWarning: is_sparse is deprecated and will be removed in a future version. Check `isinstance(dtype, pd.SparseDtype)` instead.\n",
      "  if is_sparse(dtype):\n",
      "/Users/mgomboski/.pyenv/versions/3.10.6/envs/ipl_prediction_model/lib/python3.10/site-packages/xgboost/data.py:314: FutureWarning: is_categorical_dtype is deprecated and will be removed in a future version. Use isinstance(dtype, CategoricalDtype) instead\n",
      "  elif is_categorical_dtype(dtype) and enable_categorical:\n",
      "/Users/mgomboski/.pyenv/versions/3.10.6/envs/ipl_prediction_model/lib/python3.10/site-packages/xgboost/data.py:345: FutureWarning: is_categorical_dtype is deprecated and will be removed in a future version. Use isinstance(dtype, CategoricalDtype) instead\n",
      "  if is_categorical_dtype(dtype)\n",
      "/Users/mgomboski/.pyenv/versions/3.10.6/envs/ipl_prediction_model/lib/python3.10/site-packages/xgboost/data.py:336: FutureWarning: is_categorical_dtype is deprecated and will be removed in a future version. Use isinstance(dtype, CategoricalDtype) instead\n",
      "  return is_int or is_bool or is_float or is_categorical_dtype(dtype)\n",
      "/Users/mgomboski/.pyenv/versions/3.10.6/envs/ipl_prediction_model/lib/python3.10/site-packages/xgboost/data.py:440: FutureWarning: is_sparse is deprecated and will be removed in a future version. Check `isinstance(dtype, pd.SparseDtype)` instead.\n",
      "  if is_sparse(data):\n"
     ]
    },
    {
     "data": {
      "text/html": [
       "<style>#sk-container-id-9 {color: black;}#sk-container-id-9 pre{padding: 0;}#sk-container-id-9 div.sk-toggleable {background-color: white;}#sk-container-id-9 label.sk-toggleable__label {cursor: pointer;display: block;width: 100%;margin-bottom: 0;padding: 0.3em;box-sizing: border-box;text-align: center;}#sk-container-id-9 label.sk-toggleable__label-arrow:before {content: \"▸\";float: left;margin-right: 0.25em;color: #696969;}#sk-container-id-9 label.sk-toggleable__label-arrow:hover:before {color: black;}#sk-container-id-9 div.sk-estimator:hover label.sk-toggleable__label-arrow:before {color: black;}#sk-container-id-9 div.sk-toggleable__content {max-height: 0;max-width: 0;overflow: hidden;text-align: left;background-color: #f0f8ff;}#sk-container-id-9 div.sk-toggleable__content pre {margin: 0.2em;color: black;border-radius: 0.25em;background-color: #f0f8ff;}#sk-container-id-9 input.sk-toggleable__control:checked~div.sk-toggleable__content {max-height: 200px;max-width: 100%;overflow: auto;}#sk-container-id-9 input.sk-toggleable__control:checked~label.sk-toggleable__label-arrow:before {content: \"▾\";}#sk-container-id-9 div.sk-estimator input.sk-toggleable__control:checked~label.sk-toggleable__label {background-color: #d4ebff;}#sk-container-id-9 div.sk-label input.sk-toggleable__control:checked~label.sk-toggleable__label {background-color: #d4ebff;}#sk-container-id-9 input.sk-hidden--visually {border: 0;clip: rect(1px 1px 1px 1px);clip: rect(1px, 1px, 1px, 1px);height: 1px;margin: -1px;overflow: hidden;padding: 0;position: absolute;width: 1px;}#sk-container-id-9 div.sk-estimator {font-family: monospace;background-color: #f0f8ff;border: 1px dotted black;border-radius: 0.25em;box-sizing: border-box;margin-bottom: 0.5em;}#sk-container-id-9 div.sk-estimator:hover {background-color: #d4ebff;}#sk-container-id-9 div.sk-parallel-item::after {content: \"\";width: 100%;border-bottom: 1px solid gray;flex-grow: 1;}#sk-container-id-9 div.sk-label:hover label.sk-toggleable__label {background-color: #d4ebff;}#sk-container-id-9 div.sk-serial::before {content: \"\";position: absolute;border-left: 1px solid gray;box-sizing: border-box;top: 0;bottom: 0;left: 50%;z-index: 0;}#sk-container-id-9 div.sk-serial {display: flex;flex-direction: column;align-items: center;background-color: white;padding-right: 0.2em;padding-left: 0.2em;position: relative;}#sk-container-id-9 div.sk-item {position: relative;z-index: 1;}#sk-container-id-9 div.sk-parallel {display: flex;align-items: stretch;justify-content: center;background-color: white;position: relative;}#sk-container-id-9 div.sk-item::before, #sk-container-id-9 div.sk-parallel-item::before {content: \"\";position: absolute;border-left: 1px solid gray;box-sizing: border-box;top: 0;bottom: 0;left: 50%;z-index: -1;}#sk-container-id-9 div.sk-parallel-item {display: flex;flex-direction: column;z-index: 1;position: relative;background-color: white;}#sk-container-id-9 div.sk-parallel-item:first-child::after {align-self: flex-end;width: 50%;}#sk-container-id-9 div.sk-parallel-item:last-child::after {align-self: flex-start;width: 50%;}#sk-container-id-9 div.sk-parallel-item:only-child::after {width: 0;}#sk-container-id-9 div.sk-dashed-wrapped {border: 1px dashed gray;margin: 0 0.4em 0.5em 0.4em;box-sizing: border-box;padding-bottom: 0.4em;background-color: white;}#sk-container-id-9 div.sk-label label {font-family: monospace;font-weight: bold;display: inline-block;line-height: 1.2em;}#sk-container-id-9 div.sk-label-container {text-align: center;}#sk-container-id-9 div.sk-container {/* jupyter's `normalize.less` sets `[hidden] { display: none; }` but bootstrap.min.css set `[hidden] { display: none !important; }` so we also need the `!important` here to be able to override the default hidden behavior on the sphinx rendered scikit-learn.org. See: https://github.com/scikit-learn/scikit-learn/issues/21755 */display: inline-block !important;position: relative;}#sk-container-id-9 div.sk-text-repr-fallback {display: none;}</style><div id=\"sk-container-id-9\" class=\"sk-top-container\"><div class=\"sk-text-repr-fallback\"><pre>XGBClassifier(base_score=0.5, booster=&#x27;gbtree&#x27;, callbacks=None,\n",
       "              colsample_bylevel=None, colsample_bynode=None,\n",
       "              colsample_bytree=None, early_stopping_rounds=None,\n",
       "              enable_categorical=False, eval_metric=None, feature_types=None,\n",
       "              gamma=0.1, gpu_id=None, grow_policy=None, importance_type=None,\n",
       "              interaction_constraints=None, learning_rate=None, max_bin=None,\n",
       "              max_cat_threshold=None, max_cat_to_onehot=None,\n",
       "              max_delta_step=None, max_depth=10, max_leaves=None,\n",
       "              min_child_weight=None, missing=nan, monotone_constraints=None,\n",
       "              n_estimators=150, n_jobs=None, num_parallel_tree=None,\n",
       "              predictor=None, random_state=None, ...)</pre><b>In a Jupyter environment, please rerun this cell to show the HTML representation or trust the notebook. <br />On GitHub, the HTML representation is unable to render, please try loading this page with nbviewer.org.</b></div><div class=\"sk-container\" hidden><div class=\"sk-item\"><div class=\"sk-estimator sk-toggleable\"><input class=\"sk-toggleable__control sk-hidden--visually\" id=\"sk-estimator-id-9\" type=\"checkbox\" checked><label for=\"sk-estimator-id-9\" class=\"sk-toggleable__label sk-toggleable__label-arrow\">XGBClassifier</label><div class=\"sk-toggleable__content\"><pre>XGBClassifier(base_score=0.5, booster=&#x27;gbtree&#x27;, callbacks=None,\n",
       "              colsample_bylevel=None, colsample_bynode=None,\n",
       "              colsample_bytree=None, early_stopping_rounds=None,\n",
       "              enable_categorical=False, eval_metric=None, feature_types=None,\n",
       "              gamma=0.1, gpu_id=None, grow_policy=None, importance_type=None,\n",
       "              interaction_constraints=None, learning_rate=None, max_bin=None,\n",
       "              max_cat_threshold=None, max_cat_to_onehot=None,\n",
       "              max_delta_step=None, max_depth=10, max_leaves=None,\n",
       "              min_child_weight=None, missing=nan, monotone_constraints=None,\n",
       "              n_estimators=150, n_jobs=None, num_parallel_tree=None,\n",
       "              predictor=None, random_state=None, ...)</pre></div></div></div></div></div>"
      ],
      "text/plain": [
       "XGBClassifier(base_score=0.5, booster='gbtree', callbacks=None,\n",
       "              colsample_bylevel=None, colsample_bynode=None,\n",
       "              colsample_bytree=None, early_stopping_rounds=None,\n",
       "              enable_categorical=False, eval_metric=None, feature_types=None,\n",
       "              gamma=0.1, gpu_id=None, grow_policy=None, importance_type=None,\n",
       "              interaction_constraints=None, learning_rate=None, max_bin=None,\n",
       "              max_cat_threshold=None, max_cat_to_onehot=None,\n",
       "              max_delta_step=None, max_depth=10, max_leaves=None,\n",
       "              min_child_weight=None, missing=nan, monotone_constraints=None,\n",
       "              n_estimators=150, n_jobs=None, num_parallel_tree=None,\n",
       "              predictor=None, random_state=None, ...)"
      ]
     },
     "execution_count": 125,
     "metadata": {},
     "output_type": "execute_result"
    }
   ],
   "source": [
    "# fit the model\n",
    "model.fit(X_train, y_train)"
   ]
  },
  {
   "cell_type": "code",
   "execution_count": 126,
   "id": "1a2f0f8d-c9d6-4c0b-9c62-de21ecda0f6c",
   "metadata": {},
   "outputs": [
    {
     "name": "stderr",
     "output_type": "stream",
     "text": [
      "/Users/mgomboski/.pyenv/versions/3.10.6/envs/ipl_prediction_model/lib/python3.10/site-packages/xgboost/data.py:312: FutureWarning: is_sparse is deprecated and will be removed in a future version. Check `isinstance(dtype, pd.SparseDtype)` instead.\n",
      "  if is_sparse(dtype):\n",
      "/Users/mgomboski/.pyenv/versions/3.10.6/envs/ipl_prediction_model/lib/python3.10/site-packages/xgboost/data.py:314: FutureWarning: is_categorical_dtype is deprecated and will be removed in a future version. Use isinstance(dtype, CategoricalDtype) instead\n",
      "  elif is_categorical_dtype(dtype) and enable_categorical:\n",
      "/Users/mgomboski/.pyenv/versions/3.10.6/envs/ipl_prediction_model/lib/python3.10/site-packages/xgboost/data.py:345: FutureWarning: is_categorical_dtype is deprecated and will be removed in a future version. Use isinstance(dtype, CategoricalDtype) instead\n",
      "  if is_categorical_dtype(dtype)\n",
      "/Users/mgomboski/.pyenv/versions/3.10.6/envs/ipl_prediction_model/lib/python3.10/site-packages/xgboost/data.py:336: FutureWarning: is_categorical_dtype is deprecated and will be removed in a future version. Use isinstance(dtype, CategoricalDtype) instead\n",
      "  return is_int or is_bool or is_float or is_categorical_dtype(dtype)\n"
     ]
    }
   ],
   "source": [
    "# prevision\n",
    "y_pred = model.predict(X_test)"
   ]
  },
  {
   "cell_type": "code",
   "execution_count": 127,
   "id": "a366f2c8-edfe-4e96-ab50-59f26692c1bd",
   "metadata": {},
   "outputs": [
    {
     "name": "stdout",
     "output_type": "stream",
     "text": [
      "Model Accuracy: 0.5053\n"
     ]
    }
   ],
   "source": [
    "accuracy = accuracy_score(y_test, y_pred)\n",
    "print(f\"Model Accuracy: {accuracy:.4f}\")"
   ]
  },
  {
   "cell_type": "code",
   "execution_count": 128,
   "id": "e953d99f-5681-4325-aa44-d3040720b6b5",
   "metadata": {},
   "outputs": [
    {
     "name": "stderr",
     "output_type": "stream",
     "text": [
      "/Users/mgomboski/.pyenv/versions/3.10.6/envs/ipl_prediction_model/lib/python3.10/site-packages/xgboost/data.py:312: FutureWarning: is_sparse is deprecated and will be removed in a future version. Check `isinstance(dtype, pd.SparseDtype)` instead.\n",
      "  if is_sparse(dtype):\n",
      "/Users/mgomboski/.pyenv/versions/3.10.6/envs/ipl_prediction_model/lib/python3.10/site-packages/xgboost/data.py:314: FutureWarning: is_categorical_dtype is deprecated and will be removed in a future version. Use isinstance(dtype, CategoricalDtype) instead\n",
      "  elif is_categorical_dtype(dtype) and enable_categorical:\n",
      "/Users/mgomboski/.pyenv/versions/3.10.6/envs/ipl_prediction_model/lib/python3.10/site-packages/xgboost/data.py:345: FutureWarning: is_categorical_dtype is deprecated and will be removed in a future version. Use isinstance(dtype, CategoricalDtype) instead\n",
      "  if is_categorical_dtype(dtype)\n",
      "/Users/mgomboski/.pyenv/versions/3.10.6/envs/ipl_prediction_model/lib/python3.10/site-packages/xgboost/data.py:336: FutureWarning: is_categorical_dtype is deprecated and will be removed in a future version. Use isinstance(dtype, CategoricalDtype) instead\n",
      "  return is_int or is_bool or is_float or is_categorical_dtype(dtype)\n",
      "/Users/mgomboski/.pyenv/versions/3.10.6/envs/ipl_prediction_model/lib/python3.10/site-packages/xgboost/data.py:440: FutureWarning: is_sparse is deprecated and will be removed in a future version. Check `isinstance(dtype, pd.SparseDtype)` instead.\n",
      "  if is_sparse(data):\n",
      "/Users/mgomboski/.pyenv/versions/3.10.6/envs/ipl_prediction_model/lib/python3.10/site-packages/xgboost/data.py:312: FutureWarning: is_sparse is deprecated and will be removed in a future version. Check `isinstance(dtype, pd.SparseDtype)` instead.\n",
      "  if is_sparse(dtype):\n",
      "/Users/mgomboski/.pyenv/versions/3.10.6/envs/ipl_prediction_model/lib/python3.10/site-packages/xgboost/data.py:314: FutureWarning: is_categorical_dtype is deprecated and will be removed in a future version. Use isinstance(dtype, CategoricalDtype) instead\n",
      "  elif is_categorical_dtype(dtype) and enable_categorical:\n",
      "/Users/mgomboski/.pyenv/versions/3.10.6/envs/ipl_prediction_model/lib/python3.10/site-packages/xgboost/data.py:345: FutureWarning: is_categorical_dtype is deprecated and will be removed in a future version. Use isinstance(dtype, CategoricalDtype) instead\n",
      "  if is_categorical_dtype(dtype)\n",
      "/Users/mgomboski/.pyenv/versions/3.10.6/envs/ipl_prediction_model/lib/python3.10/site-packages/xgboost/data.py:336: FutureWarning: is_categorical_dtype is deprecated and will be removed in a future version. Use isinstance(dtype, CategoricalDtype) instead\n",
      "  return is_int or is_bool or is_float or is_categorical_dtype(dtype)\n",
      "/Users/mgomboski/.pyenv/versions/3.10.6/envs/ipl_prediction_model/lib/python3.10/site-packages/xgboost/data.py:312: FutureWarning: is_sparse is deprecated and will be removed in a future version. Check `isinstance(dtype, pd.SparseDtype)` instead.\n",
      "  if is_sparse(dtype):\n",
      "/Users/mgomboski/.pyenv/versions/3.10.6/envs/ipl_prediction_model/lib/python3.10/site-packages/xgboost/data.py:314: FutureWarning: is_categorical_dtype is deprecated and will be removed in a future version. Use isinstance(dtype, CategoricalDtype) instead\n",
      "  elif is_categorical_dtype(dtype) and enable_categorical:\n",
      "/Users/mgomboski/.pyenv/versions/3.10.6/envs/ipl_prediction_model/lib/python3.10/site-packages/xgboost/data.py:345: FutureWarning: is_categorical_dtype is deprecated and will be removed in a future version. Use isinstance(dtype, CategoricalDtype) instead\n",
      "  if is_categorical_dtype(dtype)\n",
      "/Users/mgomboski/.pyenv/versions/3.10.6/envs/ipl_prediction_model/lib/python3.10/site-packages/xgboost/data.py:336: FutureWarning: is_categorical_dtype is deprecated and will be removed in a future version. Use isinstance(dtype, CategoricalDtype) instead\n",
      "  return is_int or is_bool or is_float or is_categorical_dtype(dtype)\n",
      "/Users/mgomboski/.pyenv/versions/3.10.6/envs/ipl_prediction_model/lib/python3.10/site-packages/xgboost/data.py:440: FutureWarning: is_sparse is deprecated and will be removed in a future version. Check `isinstance(dtype, pd.SparseDtype)` instead.\n",
      "  if is_sparse(data):\n",
      "/Users/mgomboski/.pyenv/versions/3.10.6/envs/ipl_prediction_model/lib/python3.10/site-packages/xgboost/data.py:312: FutureWarning: is_sparse is deprecated and will be removed in a future version. Check `isinstance(dtype, pd.SparseDtype)` instead.\n",
      "  if is_sparse(dtype):\n",
      "/Users/mgomboski/.pyenv/versions/3.10.6/envs/ipl_prediction_model/lib/python3.10/site-packages/xgboost/data.py:314: FutureWarning: is_categorical_dtype is deprecated and will be removed in a future version. Use isinstance(dtype, CategoricalDtype) instead\n",
      "  elif is_categorical_dtype(dtype) and enable_categorical:\n",
      "/Users/mgomboski/.pyenv/versions/3.10.6/envs/ipl_prediction_model/lib/python3.10/site-packages/xgboost/data.py:345: FutureWarning: is_categorical_dtype is deprecated and will be removed in a future version. Use isinstance(dtype, CategoricalDtype) instead\n",
      "  if is_categorical_dtype(dtype)\n",
      "/Users/mgomboski/.pyenv/versions/3.10.6/envs/ipl_prediction_model/lib/python3.10/site-packages/xgboost/data.py:336: FutureWarning: is_categorical_dtype is deprecated and will be removed in a future version. Use isinstance(dtype, CategoricalDtype) instead\n",
      "  return is_int or is_bool or is_float or is_categorical_dtype(dtype)\n",
      "/Users/mgomboski/.pyenv/versions/3.10.6/envs/ipl_prediction_model/lib/python3.10/site-packages/xgboost/data.py:312: FutureWarning: is_sparse is deprecated and will be removed in a future version. Check `isinstance(dtype, pd.SparseDtype)` instead.\n",
      "  if is_sparse(dtype):\n",
      "/Users/mgomboski/.pyenv/versions/3.10.6/envs/ipl_prediction_model/lib/python3.10/site-packages/xgboost/data.py:314: FutureWarning: is_categorical_dtype is deprecated and will be removed in a future version. Use isinstance(dtype, CategoricalDtype) instead\n",
      "  elif is_categorical_dtype(dtype) and enable_categorical:\n",
      "/Users/mgomboski/.pyenv/versions/3.10.6/envs/ipl_prediction_model/lib/python3.10/site-packages/xgboost/data.py:345: FutureWarning: is_categorical_dtype is deprecated and will be removed in a future version. Use isinstance(dtype, CategoricalDtype) instead\n",
      "  if is_categorical_dtype(dtype)\n",
      "/Users/mgomboski/.pyenv/versions/3.10.6/envs/ipl_prediction_model/lib/python3.10/site-packages/xgboost/data.py:336: FutureWarning: is_categorical_dtype is deprecated and will be removed in a future version. Use isinstance(dtype, CategoricalDtype) instead\n",
      "  return is_int or is_bool or is_float or is_categorical_dtype(dtype)\n",
      "/Users/mgomboski/.pyenv/versions/3.10.6/envs/ipl_prediction_model/lib/python3.10/site-packages/xgboost/data.py:440: FutureWarning: is_sparse is deprecated and will be removed in a future version. Check `isinstance(dtype, pd.SparseDtype)` instead.\n",
      "  if is_sparse(data):\n",
      "/Users/mgomboski/.pyenv/versions/3.10.6/envs/ipl_prediction_model/lib/python3.10/site-packages/xgboost/data.py:312: FutureWarning: is_sparse is deprecated and will be removed in a future version. Check `isinstance(dtype, pd.SparseDtype)` instead.\n",
      "  if is_sparse(dtype):\n",
      "/Users/mgomboski/.pyenv/versions/3.10.6/envs/ipl_prediction_model/lib/python3.10/site-packages/xgboost/data.py:314: FutureWarning: is_categorical_dtype is deprecated and will be removed in a future version. Use isinstance(dtype, CategoricalDtype) instead\n",
      "  elif is_categorical_dtype(dtype) and enable_categorical:\n",
      "/Users/mgomboski/.pyenv/versions/3.10.6/envs/ipl_prediction_model/lib/python3.10/site-packages/xgboost/data.py:345: FutureWarning: is_categorical_dtype is deprecated and will be removed in a future version. Use isinstance(dtype, CategoricalDtype) instead\n",
      "  if is_categorical_dtype(dtype)\n",
      "/Users/mgomboski/.pyenv/versions/3.10.6/envs/ipl_prediction_model/lib/python3.10/site-packages/xgboost/data.py:336: FutureWarning: is_categorical_dtype is deprecated and will be removed in a future version. Use isinstance(dtype, CategoricalDtype) instead\n",
      "  return is_int or is_bool or is_float or is_categorical_dtype(dtype)\n",
      "/Users/mgomboski/.pyenv/versions/3.10.6/envs/ipl_prediction_model/lib/python3.10/site-packages/xgboost/data.py:312: FutureWarning: is_sparse is deprecated and will be removed in a future version. Check `isinstance(dtype, pd.SparseDtype)` instead.\n",
      "  if is_sparse(dtype):\n",
      "/Users/mgomboski/.pyenv/versions/3.10.6/envs/ipl_prediction_model/lib/python3.10/site-packages/xgboost/data.py:314: FutureWarning: is_categorical_dtype is deprecated and will be removed in a future version. Use isinstance(dtype, CategoricalDtype) instead\n",
      "  elif is_categorical_dtype(dtype) and enable_categorical:\n",
      "/Users/mgomboski/.pyenv/versions/3.10.6/envs/ipl_prediction_model/lib/python3.10/site-packages/xgboost/data.py:345: FutureWarning: is_categorical_dtype is deprecated and will be removed in a future version. Use isinstance(dtype, CategoricalDtype) instead\n",
      "  if is_categorical_dtype(dtype)\n",
      "/Users/mgomboski/.pyenv/versions/3.10.6/envs/ipl_prediction_model/lib/python3.10/site-packages/xgboost/data.py:336: FutureWarning: is_categorical_dtype is deprecated and will be removed in a future version. Use isinstance(dtype, CategoricalDtype) instead\n",
      "  return is_int or is_bool or is_float or is_categorical_dtype(dtype)\n",
      "/Users/mgomboski/.pyenv/versions/3.10.6/envs/ipl_prediction_model/lib/python3.10/site-packages/xgboost/data.py:440: FutureWarning: is_sparse is deprecated and will be removed in a future version. Check `isinstance(dtype, pd.SparseDtype)` instead.\n",
      "  if is_sparse(data):\n",
      "/Users/mgomboski/.pyenv/versions/3.10.6/envs/ipl_prediction_model/lib/python3.10/site-packages/xgboost/data.py:312: FutureWarning: is_sparse is deprecated and will be removed in a future version. Check `isinstance(dtype, pd.SparseDtype)` instead.\n",
      "  if is_sparse(dtype):\n",
      "/Users/mgomboski/.pyenv/versions/3.10.6/envs/ipl_prediction_model/lib/python3.10/site-packages/xgboost/data.py:314: FutureWarning: is_categorical_dtype is deprecated and will be removed in a future version. Use isinstance(dtype, CategoricalDtype) instead\n",
      "  elif is_categorical_dtype(dtype) and enable_categorical:\n",
      "/Users/mgomboski/.pyenv/versions/3.10.6/envs/ipl_prediction_model/lib/python3.10/site-packages/xgboost/data.py:345: FutureWarning: is_categorical_dtype is deprecated and will be removed in a future version. Use isinstance(dtype, CategoricalDtype) instead\n",
      "  if is_categorical_dtype(dtype)\n",
      "/Users/mgomboski/.pyenv/versions/3.10.6/envs/ipl_prediction_model/lib/python3.10/site-packages/xgboost/data.py:336: FutureWarning: is_categorical_dtype is deprecated and will be removed in a future version. Use isinstance(dtype, CategoricalDtype) instead\n",
      "  return is_int or is_bool or is_float or is_categorical_dtype(dtype)\n",
      "/Users/mgomboski/.pyenv/versions/3.10.6/envs/ipl_prediction_model/lib/python3.10/site-packages/xgboost/data.py:312: FutureWarning: is_sparse is deprecated and will be removed in a future version. Check `isinstance(dtype, pd.SparseDtype)` instead.\n",
      "  if is_sparse(dtype):\n",
      "/Users/mgomboski/.pyenv/versions/3.10.6/envs/ipl_prediction_model/lib/python3.10/site-packages/xgboost/data.py:314: FutureWarning: is_categorical_dtype is deprecated and will be removed in a future version. Use isinstance(dtype, CategoricalDtype) instead\n",
      "  elif is_categorical_dtype(dtype) and enable_categorical:\n",
      "/Users/mgomboski/.pyenv/versions/3.10.6/envs/ipl_prediction_model/lib/python3.10/site-packages/xgboost/data.py:345: FutureWarning: is_categorical_dtype is deprecated and will be removed in a future version. Use isinstance(dtype, CategoricalDtype) instead\n",
      "  if is_categorical_dtype(dtype)\n",
      "/Users/mgomboski/.pyenv/versions/3.10.6/envs/ipl_prediction_model/lib/python3.10/site-packages/xgboost/data.py:336: FutureWarning: is_categorical_dtype is deprecated and will be removed in a future version. Use isinstance(dtype, CategoricalDtype) instead\n",
      "  return is_int or is_bool or is_float or is_categorical_dtype(dtype)\n",
      "/Users/mgomboski/.pyenv/versions/3.10.6/envs/ipl_prediction_model/lib/python3.10/site-packages/xgboost/data.py:440: FutureWarning: is_sparse is deprecated and will be removed in a future version. Check `isinstance(dtype, pd.SparseDtype)` instead.\n",
      "  if is_sparse(data):\n",
      "/Users/mgomboski/.pyenv/versions/3.10.6/envs/ipl_prediction_model/lib/python3.10/site-packages/xgboost/data.py:312: FutureWarning: is_sparse is deprecated and will be removed in a future version. Check `isinstance(dtype, pd.SparseDtype)` instead.\n",
      "  if is_sparse(dtype):\n",
      "/Users/mgomboski/.pyenv/versions/3.10.6/envs/ipl_prediction_model/lib/python3.10/site-packages/xgboost/data.py:314: FutureWarning: is_categorical_dtype is deprecated and will be removed in a future version. Use isinstance(dtype, CategoricalDtype) instead\n",
      "  elif is_categorical_dtype(dtype) and enable_categorical:\n",
      "/Users/mgomboski/.pyenv/versions/3.10.6/envs/ipl_prediction_model/lib/python3.10/site-packages/xgboost/data.py:345: FutureWarning: is_categorical_dtype is deprecated and will be removed in a future version. Use isinstance(dtype, CategoricalDtype) instead\n",
      "  if is_categorical_dtype(dtype)\n",
      "/Users/mgomboski/.pyenv/versions/3.10.6/envs/ipl_prediction_model/lib/python3.10/site-packages/xgboost/data.py:336: FutureWarning: is_categorical_dtype is deprecated and will be removed in a future version. Use isinstance(dtype, CategoricalDtype) instead\n",
      "  return is_int or is_bool or is_float or is_categorical_dtype(dtype)\n"
     ]
    }
   ],
   "source": [
    "cv = cross_validate(model, X, y, cv=5)"
   ]
  },
  {
   "cell_type": "code",
   "execution_count": 129,
   "id": "47f87499-9e5c-4d2c-a6ff-b3e13801678c",
   "metadata": {},
   "outputs": [
    {
     "data": {
      "text/plain": [
       "{'fit_time': array([2.16801596, 1.96459889, 1.86042285, 1.73418689, 1.64465284]),\n",
       " 'score_time': array([0.04410911, 0.04318118, 0.04270411, 0.03732991, 0.05204606]),\n",
       " 'test_score': array([0.49473684, 0.35978836, 0.34391534, 0.57142857, 0.51322751])}"
      ]
     },
     "execution_count": 129,
     "metadata": {},
     "output_type": "execute_result"
    }
   ],
   "source": [
    "cv"
   ]
  },
  {
   "cell_type": "markdown",
   "id": "7810a6c0-1dc4-4e7d-80ec-538fc0c5fc9c",
   "metadata": {},
   "source": [
    "## Logistic Regression"
   ]
  },
  {
   "cell_type": "code",
   "execution_count": 130,
   "id": "62efaa63-af9a-4f18-871f-000d68cd104d",
   "metadata": {},
   "outputs": [
    {
     "data": {
      "text/plain": [
       "Index(['ID', 'Season', 'MatchImportance', 'TossWinner', 'WinningTeam',\n",
       "       'Team1_MVP_average', 'Team2_MVP_average', 'Avg_Score_PlayersTeam1',\n",
       "       'Avg_Score_PlayersTeam2', 'batting_average_PlayersTeam1',\n",
       "       ...\n",
       "       'Team2_kochi tuskers kerala', 'Team2_kolkata knight riders',\n",
       "       'Team2_lucknow super giants', 'Team2_mumbai indians',\n",
       "       'Team2_pune warriors', 'Team2_punjab kings', 'Team2_rajasthan royals',\n",
       "       'Team2_rising pune supergiant', 'Team2_royal challengers bangalore',\n",
       "       'Team2_sunrisers hyderabad'],\n",
       "      dtype='object', length=120)"
      ]
     },
     "execution_count": 130,
     "metadata": {},
     "output_type": "execute_result"
    }
   ],
   "source": [
    "df.columns"
   ]
  },
  {
   "cell_type": "code",
   "execution_count": 131,
   "id": "7d4ef09d-ca10-4bcf-ace6-1730a61a507a",
   "metadata": {},
   "outputs": [],
   "source": [
    "X = df.drop('WinningTeam', axis=1) \n",
    "y = df['WinningTeam']"
   ]
  },
  {
   "cell_type": "code",
   "execution_count": 132,
   "id": "226772cd-4419-4f5f-91bf-738110cb948b",
   "metadata": {},
   "outputs": [],
   "source": [
    "# split data \n",
    "X_train, X_test, y_train, y_test = train_test_split(X, y, test_size=0.2, random_state=42)"
   ]
  },
  {
   "cell_type": "code",
   "execution_count": 133,
   "id": "c62442fd-63d0-44e3-ad52-3e62b9bf05d3",
   "metadata": {},
   "outputs": [
    {
     "data": {
      "text/html": [
       "<style>#sk-container-id-10 {color: black;}#sk-container-id-10 pre{padding: 0;}#sk-container-id-10 div.sk-toggleable {background-color: white;}#sk-container-id-10 label.sk-toggleable__label {cursor: pointer;display: block;width: 100%;margin-bottom: 0;padding: 0.3em;box-sizing: border-box;text-align: center;}#sk-container-id-10 label.sk-toggleable__label-arrow:before {content: \"▸\";float: left;margin-right: 0.25em;color: #696969;}#sk-container-id-10 label.sk-toggleable__label-arrow:hover:before {color: black;}#sk-container-id-10 div.sk-estimator:hover label.sk-toggleable__label-arrow:before {color: black;}#sk-container-id-10 div.sk-toggleable__content {max-height: 0;max-width: 0;overflow: hidden;text-align: left;background-color: #f0f8ff;}#sk-container-id-10 div.sk-toggleable__content pre {margin: 0.2em;color: black;border-radius: 0.25em;background-color: #f0f8ff;}#sk-container-id-10 input.sk-toggleable__control:checked~div.sk-toggleable__content {max-height: 200px;max-width: 100%;overflow: auto;}#sk-container-id-10 input.sk-toggleable__control:checked~label.sk-toggleable__label-arrow:before {content: \"▾\";}#sk-container-id-10 div.sk-estimator input.sk-toggleable__control:checked~label.sk-toggleable__label {background-color: #d4ebff;}#sk-container-id-10 div.sk-label input.sk-toggleable__control:checked~label.sk-toggleable__label {background-color: #d4ebff;}#sk-container-id-10 input.sk-hidden--visually {border: 0;clip: rect(1px 1px 1px 1px);clip: rect(1px, 1px, 1px, 1px);height: 1px;margin: -1px;overflow: hidden;padding: 0;position: absolute;width: 1px;}#sk-container-id-10 div.sk-estimator {font-family: monospace;background-color: #f0f8ff;border: 1px dotted black;border-radius: 0.25em;box-sizing: border-box;margin-bottom: 0.5em;}#sk-container-id-10 div.sk-estimator:hover {background-color: #d4ebff;}#sk-container-id-10 div.sk-parallel-item::after {content: \"\";width: 100%;border-bottom: 1px solid gray;flex-grow: 1;}#sk-container-id-10 div.sk-label:hover label.sk-toggleable__label {background-color: #d4ebff;}#sk-container-id-10 div.sk-serial::before {content: \"\";position: absolute;border-left: 1px solid gray;box-sizing: border-box;top: 0;bottom: 0;left: 50%;z-index: 0;}#sk-container-id-10 div.sk-serial {display: flex;flex-direction: column;align-items: center;background-color: white;padding-right: 0.2em;padding-left: 0.2em;position: relative;}#sk-container-id-10 div.sk-item {position: relative;z-index: 1;}#sk-container-id-10 div.sk-parallel {display: flex;align-items: stretch;justify-content: center;background-color: white;position: relative;}#sk-container-id-10 div.sk-item::before, #sk-container-id-10 div.sk-parallel-item::before {content: \"\";position: absolute;border-left: 1px solid gray;box-sizing: border-box;top: 0;bottom: 0;left: 50%;z-index: -1;}#sk-container-id-10 div.sk-parallel-item {display: flex;flex-direction: column;z-index: 1;position: relative;background-color: white;}#sk-container-id-10 div.sk-parallel-item:first-child::after {align-self: flex-end;width: 50%;}#sk-container-id-10 div.sk-parallel-item:last-child::after {align-self: flex-start;width: 50%;}#sk-container-id-10 div.sk-parallel-item:only-child::after {width: 0;}#sk-container-id-10 div.sk-dashed-wrapped {border: 1px dashed gray;margin: 0 0.4em 0.5em 0.4em;box-sizing: border-box;padding-bottom: 0.4em;background-color: white;}#sk-container-id-10 div.sk-label label {font-family: monospace;font-weight: bold;display: inline-block;line-height: 1.2em;}#sk-container-id-10 div.sk-label-container {text-align: center;}#sk-container-id-10 div.sk-container {/* jupyter's `normalize.less` sets `[hidden] { display: none; }` but bootstrap.min.css set `[hidden] { display: none !important; }` so we also need the `!important` here to be able to override the default hidden behavior on the sphinx rendered scikit-learn.org. See: https://github.com/scikit-learn/scikit-learn/issues/21755 */display: inline-block !important;position: relative;}#sk-container-id-10 div.sk-text-repr-fallback {display: none;}</style><div id=\"sk-container-id-10\" class=\"sk-top-container\"><div class=\"sk-text-repr-fallback\"><pre>LogisticRegression()</pre><b>In a Jupyter environment, please rerun this cell to show the HTML representation or trust the notebook. <br />On GitHub, the HTML representation is unable to render, please try loading this page with nbviewer.org.</b></div><div class=\"sk-container\" hidden><div class=\"sk-item\"><div class=\"sk-estimator sk-toggleable\"><input class=\"sk-toggleable__control sk-hidden--visually\" id=\"sk-estimator-id-10\" type=\"checkbox\" checked><label for=\"sk-estimator-id-10\" class=\"sk-toggleable__label sk-toggleable__label-arrow\">LogisticRegression</label><div class=\"sk-toggleable__content\"><pre>LogisticRegression()</pre></div></div></div></div></div>"
      ],
      "text/plain": [
       "LogisticRegression()"
      ]
     },
     "execution_count": 133,
     "metadata": {},
     "output_type": "execute_result"
    }
   ],
   "source": [
    "from sklearn.linear_model import LogisticRegression\n",
    "\n",
    "model = LogisticRegression()\n",
    "model.fit(X_train, y_train)"
   ]
  },
  {
   "cell_type": "code",
   "execution_count": 134,
   "id": "f8731420-31ea-4fae-ad6e-371ddd936f5e",
   "metadata": {},
   "outputs": [],
   "source": [
    "y_pred = model.predict(X_test)"
   ]
  },
  {
   "cell_type": "code",
   "execution_count": 135,
   "id": "72c4a99a-3f27-4159-abce-aef1463dface",
   "metadata": {},
   "outputs": [
    {
     "data": {
      "text/plain": [
       "0.4368421052631579"
      ]
     },
     "execution_count": 135,
     "metadata": {},
     "output_type": "execute_result"
    }
   ],
   "source": [
    "accuracy_score(y_test, y_pred)"
   ]
  },
  {
   "cell_type": "code",
   "execution_count": 136,
   "id": "633137eb-eb84-4471-aeae-f04a39db7127",
   "metadata": {},
   "outputs": [],
   "source": [
    "cv = cross_validate(model, X, y, cv=5)"
   ]
  },
  {
   "cell_type": "code",
   "execution_count": 137,
   "id": "ea9d602e-43e6-4c0b-8df4-183bfa63941a",
   "metadata": {},
   "outputs": [
    {
     "data": {
      "text/plain": [
       "{'fit_time': array([0.04791236, 0.04255009, 0.02880788, 0.02562499, 0.02963614]),\n",
       " 'score_time': array([0.02998281, 0.0137291 , 0.01346302, 0.01272678, 0.01340389]),\n",
       " 'test_score': array([0.49473684, 0.49206349, 0.49206349, 0.49206349, 0.49206349])}"
      ]
     },
     "execution_count": 137,
     "metadata": {},
     "output_type": "execute_result"
    }
   ],
   "source": [
    "cv"
   ]
  },
  {
   "cell_type": "code",
   "execution_count": 138,
   "id": "90d2caaf-7e47-4bdc-914e-d12deb083a28",
   "metadata": {},
   "outputs": [
    {
     "data": {
      "text/html": [
       "<div>\n",
       "<style scoped>\n",
       "    .dataframe tbody tr th:only-of-type {\n",
       "        vertical-align: middle;\n",
       "    }\n",
       "\n",
       "    .dataframe tbody tr th {\n",
       "        vertical-align: top;\n",
       "    }\n",
       "\n",
       "    .dataframe thead th {\n",
       "        text-align: right;\n",
       "    }\n",
       "</style>\n",
       "<table border=\"1\" class=\"dataframe\">\n",
       "  <thead>\n",
       "    <tr style=\"text-align: right;\">\n",
       "      <th></th>\n",
       "      <th>ID</th>\n",
       "      <th>Season</th>\n",
       "      <th>MatchImportance</th>\n",
       "      <th>TossWinner</th>\n",
       "      <th>WinningTeam</th>\n",
       "      <th>Team1_MVP_average</th>\n",
       "      <th>Team2_MVP_average</th>\n",
       "      <th>Avg_Score_PlayersTeam1</th>\n",
       "      <th>Avg_Score_PlayersTeam2</th>\n",
       "      <th>batting_average_PlayersTeam1</th>\n",
       "      <th>...</th>\n",
       "      <th>Team2_kochi tuskers kerala</th>\n",
       "      <th>Team2_kolkata knight riders</th>\n",
       "      <th>Team2_lucknow super giants</th>\n",
       "      <th>Team2_mumbai indians</th>\n",
       "      <th>Team2_pune warriors</th>\n",
       "      <th>Team2_punjab kings</th>\n",
       "      <th>Team2_rajasthan royals</th>\n",
       "      <th>Team2_rising pune supergiant</th>\n",
       "      <th>Team2_royal challengers bangalore</th>\n",
       "      <th>Team2_sunrisers hyderabad</th>\n",
       "    </tr>\n",
       "  </thead>\n",
       "  <tbody>\n",
       "    <tr>\n",
       "      <th>0</th>\n",
       "      <td>1312200</td>\n",
       "      <td>14</td>\n",
       "      <td>1</td>\n",
       "      <td>1</td>\n",
       "      <td>0</td>\n",
       "      <td>0.098306</td>\n",
       "      <td>2.082859</td>\n",
       "      <td>-0.233489</td>\n",
       "      <td>-1.371952</td>\n",
       "      <td>-0.552488</td>\n",
       "      <td>...</td>\n",
       "      <td>0.0</td>\n",
       "      <td>0.0</td>\n",
       "      <td>0.0</td>\n",
       "      <td>0.0</td>\n",
       "      <td>0.0</td>\n",
       "      <td>0.0</td>\n",
       "      <td>0.0</td>\n",
       "      <td>0.0</td>\n",
       "      <td>0.0</td>\n",
       "      <td>0.0</td>\n",
       "    </tr>\n",
       "    <tr>\n",
       "      <th>1</th>\n",
       "      <td>1312199</td>\n",
       "      <td>14</td>\n",
       "      <td>1</td>\n",
       "      <td>0</td>\n",
       "      <td>0</td>\n",
       "      <td>0.000000</td>\n",
       "      <td>0.000000</td>\n",
       "      <td>0.927816</td>\n",
       "      <td>-0.174209</td>\n",
       "      <td>0.112505</td>\n",
       "      <td>...</td>\n",
       "      <td>0.0</td>\n",
       "      <td>0.0</td>\n",
       "      <td>0.0</td>\n",
       "      <td>0.0</td>\n",
       "      <td>0.0</td>\n",
       "      <td>0.0</td>\n",
       "      <td>1.0</td>\n",
       "      <td>0.0</td>\n",
       "      <td>0.0</td>\n",
       "      <td>0.0</td>\n",
       "    </tr>\n",
       "    <tr>\n",
       "      <th>2</th>\n",
       "      <td>1312198</td>\n",
       "      <td>14</td>\n",
       "      <td>1</td>\n",
       "      <td>0</td>\n",
       "      <td>1</td>\n",
       "      <td>0.000000</td>\n",
       "      <td>1.110858</td>\n",
       "      <td>0.927816</td>\n",
       "      <td>0.621020</td>\n",
       "      <td>0.112505</td>\n",
       "      <td>...</td>\n",
       "      <td>0.0</td>\n",
       "      <td>0.0</td>\n",
       "      <td>1.0</td>\n",
       "      <td>0.0</td>\n",
       "      <td>0.0</td>\n",
       "      <td>0.0</td>\n",
       "      <td>0.0</td>\n",
       "      <td>0.0</td>\n",
       "      <td>0.0</td>\n",
       "      <td>0.0</td>\n",
       "    </tr>\n",
       "    <tr>\n",
       "      <th>3</th>\n",
       "      <td>1312197</td>\n",
       "      <td>14</td>\n",
       "      <td>1</td>\n",
       "      <td>0</td>\n",
       "      <td>0</td>\n",
       "      <td>0.098306</td>\n",
       "      <td>2.082859</td>\n",
       "      <td>-0.233489</td>\n",
       "      <td>-1.515919</td>\n",
       "      <td>-0.552488</td>\n",
       "      <td>...</td>\n",
       "      <td>0.0</td>\n",
       "      <td>0.0</td>\n",
       "      <td>0.0</td>\n",
       "      <td>0.0</td>\n",
       "      <td>0.0</td>\n",
       "      <td>0.0</td>\n",
       "      <td>0.0</td>\n",
       "      <td>0.0</td>\n",
       "      <td>0.0</td>\n",
       "      <td>0.0</td>\n",
       "    </tr>\n",
       "    <tr>\n",
       "      <th>4</th>\n",
       "      <td>1304116</td>\n",
       "      <td>14</td>\n",
       "      <td>0</td>\n",
       "      <td>1</td>\n",
       "      <td>0</td>\n",
       "      <td>-0.047860</td>\n",
       "      <td>-0.793470</td>\n",
       "      <td>-0.940093</td>\n",
       "      <td>0.277287</td>\n",
       "      <td>-0.549979</td>\n",
       "      <td>...</td>\n",
       "      <td>0.0</td>\n",
       "      <td>0.0</td>\n",
       "      <td>0.0</td>\n",
       "      <td>0.0</td>\n",
       "      <td>0.0</td>\n",
       "      <td>1.0</td>\n",
       "      <td>0.0</td>\n",
       "      <td>0.0</td>\n",
       "      <td>0.0</td>\n",
       "      <td>0.0</td>\n",
       "    </tr>\n",
       "    <tr>\n",
       "      <th>...</th>\n",
       "      <td>...</td>\n",
       "      <td>...</td>\n",
       "      <td>...</td>\n",
       "      <td>...</td>\n",
       "      <td>...</td>\n",
       "      <td>...</td>\n",
       "      <td>...</td>\n",
       "      <td>...</td>\n",
       "      <td>...</td>\n",
       "      <td>...</td>\n",
       "      <td>...</td>\n",
       "      <td>...</td>\n",
       "      <td>...</td>\n",
       "      <td>...</td>\n",
       "      <td>...</td>\n",
       "      <td>...</td>\n",
       "      <td>...</td>\n",
       "      <td>...</td>\n",
       "      <td>...</td>\n",
       "      <td>...</td>\n",
       "      <td>...</td>\n",
       "    </tr>\n",
       "    <tr>\n",
       "      <th>945</th>\n",
       "      <td>335986</td>\n",
       "      <td>0</td>\n",
       "      <td>0</td>\n",
       "      <td>0</td>\n",
       "      <td>1</td>\n",
       "      <td>0.222842</td>\n",
       "      <td>-1.258972</td>\n",
       "      <td>-1.432989</td>\n",
       "      <td>-1.005644</td>\n",
       "      <td>-0.842186</td>\n",
       "      <td>...</td>\n",
       "      <td>0.0</td>\n",
       "      <td>0.0</td>\n",
       "      <td>0.0</td>\n",
       "      <td>0.0</td>\n",
       "      <td>0.0</td>\n",
       "      <td>0.0</td>\n",
       "      <td>0.0</td>\n",
       "      <td>0.0</td>\n",
       "      <td>0.0</td>\n",
       "      <td>0.0</td>\n",
       "    </tr>\n",
       "    <tr>\n",
       "      <th>946</th>\n",
       "      <td>335985</td>\n",
       "      <td>0</td>\n",
       "      <td>0</td>\n",
       "      <td>1</td>\n",
       "      <td>0</td>\n",
       "      <td>0.747509</td>\n",
       "      <td>-0.098306</td>\n",
       "      <td>-1.839945</td>\n",
       "      <td>-0.809285</td>\n",
       "      <td>-1.702914</td>\n",
       "      <td>...</td>\n",
       "      <td>0.0</td>\n",
       "      <td>0.0</td>\n",
       "      <td>0.0</td>\n",
       "      <td>0.0</td>\n",
       "      <td>0.0</td>\n",
       "      <td>0.0</td>\n",
       "      <td>0.0</td>\n",
       "      <td>0.0</td>\n",
       "      <td>1.0</td>\n",
       "      <td>0.0</td>\n",
       "    </tr>\n",
       "    <tr>\n",
       "      <th>947</th>\n",
       "      <td>335984</td>\n",
       "      <td>0</td>\n",
       "      <td>0</td>\n",
       "      <td>0</td>\n",
       "      <td>1</td>\n",
       "      <td>-0.902156</td>\n",
       "      <td>0.000000</td>\n",
       "      <td>-0.281687</td>\n",
       "      <td>-2.397615</td>\n",
       "      <td>-0.379339</td>\n",
       "      <td>...</td>\n",
       "      <td>0.0</td>\n",
       "      <td>0.0</td>\n",
       "      <td>0.0</td>\n",
       "      <td>0.0</td>\n",
       "      <td>0.0</td>\n",
       "      <td>0.0</td>\n",
       "      <td>1.0</td>\n",
       "      <td>0.0</td>\n",
       "      <td>0.0</td>\n",
       "      <td>0.0</td>\n",
       "    </tr>\n",
       "    <tr>\n",
       "      <th>948</th>\n",
       "      <td>335983</td>\n",
       "      <td>0</td>\n",
       "      <td>0</td>\n",
       "      <td>0</td>\n",
       "      <td>0</td>\n",
       "      <td>-0.252491</td>\n",
       "      <td>1.014726</td>\n",
       "      <td>-0.851381</td>\n",
       "      <td>0.637206</td>\n",
       "      <td>-0.744793</td>\n",
       "      <td>...</td>\n",
       "      <td>0.0</td>\n",
       "      <td>0.0</td>\n",
       "      <td>0.0</td>\n",
       "      <td>0.0</td>\n",
       "      <td>0.0</td>\n",
       "      <td>0.0</td>\n",
       "      <td>0.0</td>\n",
       "      <td>0.0</td>\n",
       "      <td>0.0</td>\n",
       "      <td>0.0</td>\n",
       "    </tr>\n",
       "    <tr>\n",
       "      <th>949</th>\n",
       "      <td>335982</td>\n",
       "      <td>0</td>\n",
       "      <td>0</td>\n",
       "      <td>1</td>\n",
       "      <td>0</td>\n",
       "      <td>0.000000</td>\n",
       "      <td>0.124536</td>\n",
       "      <td>-0.352620</td>\n",
       "      <td>-1.297838</td>\n",
       "      <td>-0.698034</td>\n",
       "      <td>...</td>\n",
       "      <td>0.0</td>\n",
       "      <td>1.0</td>\n",
       "      <td>0.0</td>\n",
       "      <td>0.0</td>\n",
       "      <td>0.0</td>\n",
       "      <td>0.0</td>\n",
       "      <td>0.0</td>\n",
       "      <td>0.0</td>\n",
       "      <td>0.0</td>\n",
       "      <td>0.0</td>\n",
       "    </tr>\n",
       "  </tbody>\n",
       "</table>\n",
       "<p>946 rows × 120 columns</p>\n",
       "</div>"
      ],
      "text/plain": [
       "          ID  Season  MatchImportance  TossWinner  WinningTeam  \\\n",
       "0    1312200      14                1           1            0   \n",
       "1    1312199      14                1           0            0   \n",
       "2    1312198      14                1           0            1   \n",
       "3    1312197      14                1           0            0   \n",
       "4    1304116      14                0           1            0   \n",
       "..       ...     ...              ...         ...          ...   \n",
       "945   335986       0                0           0            1   \n",
       "946   335985       0                0           1            0   \n",
       "947   335984       0                0           0            1   \n",
       "948   335983       0                0           0            0   \n",
       "949   335982       0                0           1            0   \n",
       "\n",
       "     Team1_MVP_average  Team2_MVP_average  Avg_Score_PlayersTeam1  \\\n",
       "0             0.098306           2.082859               -0.233489   \n",
       "1             0.000000           0.000000                0.927816   \n",
       "2             0.000000           1.110858                0.927816   \n",
       "3             0.098306           2.082859               -0.233489   \n",
       "4            -0.047860          -0.793470               -0.940093   \n",
       "..                 ...                ...                     ...   \n",
       "945           0.222842          -1.258972               -1.432989   \n",
       "946           0.747509          -0.098306               -1.839945   \n",
       "947          -0.902156           0.000000               -0.281687   \n",
       "948          -0.252491           1.014726               -0.851381   \n",
       "949           0.000000           0.124536               -0.352620   \n",
       "\n",
       "     Avg_Score_PlayersTeam2  batting_average_PlayersTeam1  ...  \\\n",
       "0                 -1.371952                     -0.552488  ...   \n",
       "1                 -0.174209                      0.112505  ...   \n",
       "2                  0.621020                      0.112505  ...   \n",
       "3                 -1.515919                     -0.552488  ...   \n",
       "4                  0.277287                     -0.549979  ...   \n",
       "..                      ...                           ...  ...   \n",
       "945               -1.005644                     -0.842186  ...   \n",
       "946               -0.809285                     -1.702914  ...   \n",
       "947               -2.397615                     -0.379339  ...   \n",
       "948                0.637206                     -0.744793  ...   \n",
       "949               -1.297838                     -0.698034  ...   \n",
       "\n",
       "     Team2_kochi tuskers kerala  Team2_kolkata knight riders  \\\n",
       "0                           0.0                          0.0   \n",
       "1                           0.0                          0.0   \n",
       "2                           0.0                          0.0   \n",
       "3                           0.0                          0.0   \n",
       "4                           0.0                          0.0   \n",
       "..                          ...                          ...   \n",
       "945                         0.0                          0.0   \n",
       "946                         0.0                          0.0   \n",
       "947                         0.0                          0.0   \n",
       "948                         0.0                          0.0   \n",
       "949                         0.0                          1.0   \n",
       "\n",
       "     Team2_lucknow super giants  Team2_mumbai indians  Team2_pune warriors  \\\n",
       "0                           0.0                   0.0                  0.0   \n",
       "1                           0.0                   0.0                  0.0   \n",
       "2                           1.0                   0.0                  0.0   \n",
       "3                           0.0                   0.0                  0.0   \n",
       "4                           0.0                   0.0                  0.0   \n",
       "..                          ...                   ...                  ...   \n",
       "945                         0.0                   0.0                  0.0   \n",
       "946                         0.0                   0.0                  0.0   \n",
       "947                         0.0                   0.0                  0.0   \n",
       "948                         0.0                   0.0                  0.0   \n",
       "949                         0.0                   0.0                  0.0   \n",
       "\n",
       "     Team2_punjab kings  Team2_rajasthan royals  Team2_rising pune supergiant  \\\n",
       "0                   0.0                     0.0                           0.0   \n",
       "1                   0.0                     1.0                           0.0   \n",
       "2                   0.0                     0.0                           0.0   \n",
       "3                   0.0                     0.0                           0.0   \n",
       "4                   1.0                     0.0                           0.0   \n",
       "..                  ...                     ...                           ...   \n",
       "945                 0.0                     0.0                           0.0   \n",
       "946                 0.0                     0.0                           0.0   \n",
       "947                 0.0                     1.0                           0.0   \n",
       "948                 0.0                     0.0                           0.0   \n",
       "949                 0.0                     0.0                           0.0   \n",
       "\n",
       "     Team2_royal challengers bangalore  Team2_sunrisers hyderabad  \n",
       "0                                  0.0                        0.0  \n",
       "1                                  0.0                        0.0  \n",
       "2                                  0.0                        0.0  \n",
       "3                                  0.0                        0.0  \n",
       "4                                  0.0                        0.0  \n",
       "..                                 ...                        ...  \n",
       "945                                0.0                        0.0  \n",
       "946                                1.0                        0.0  \n",
       "947                                0.0                        0.0  \n",
       "948                                0.0                        0.0  \n",
       "949                                0.0                        0.0  \n",
       "\n",
       "[946 rows x 120 columns]"
      ]
     },
     "execution_count": 138,
     "metadata": {},
     "output_type": "execute_result"
    }
   ],
   "source": [
    "df"
   ]
  },
  {
   "cell_type": "code",
   "execution_count": null,
   "id": "f01021a6-f61e-4e33-8896-d233f9a7c3ea",
   "metadata": {},
   "outputs": [],
   "source": []
  }
 ],
 "metadata": {
  "kernelspec": {
   "display_name": "Python 3 (ipykernel)",
   "language": "python",
   "name": "python3"
  },
  "language_info": {
   "codemirror_mode": {
    "name": "ipython",
    "version": 3
   },
   "file_extension": ".py",
   "mimetype": "text/x-python",
   "name": "python",
   "nbconvert_exporter": "python",
   "pygments_lexer": "ipython3",
   "version": "3.10.6"
  }
 },
 "nbformat": 4,
 "nbformat_minor": 5
}
