{
 "cells": [
  {
   "cell_type": "code",
   "execution_count": 1,
   "id": "50987f67-35d5-4a64-9f1f-861ef718b556",
   "metadata": {},
   "outputs": [],
   "source": [
    "import pandas as pd\n",
    "import numpy as np"
   ]
  },
  {
   "cell_type": "markdown",
   "id": "aa9c4877-fcc9-45ad-a99e-db266ee3a391",
   "metadata": {},
   "source": [
    "# Download the 2023 dataset"
   ]
  },
  {
   "cell_type": "code",
   "execution_count": 2,
   "id": "1c426dee-edcb-4ff7-bf49-ec42099727e6",
   "metadata": {},
   "outputs": [],
   "source": [
    "df = pd.read_csv('/home/thibault/code/patrickevans29/ipl_prediction_model/raw_data/IPL2023_Match_Scoreboard.csv')"
   ]
  },
  {
   "cell_type": "code",
   "execution_count": 3,
   "id": "74b9bb43-71c2-4cd7-b2d1-2f5e9ebb484d",
   "metadata": {},
   "outputs": [
    {
     "data": {
      "text/html": [
       "<div>\n",
       "<style scoped>\n",
       "    .dataframe tbody tr th:only-of-type {\n",
       "        vertical-align: middle;\n",
       "    }\n",
       "\n",
       "    .dataframe tbody tr th {\n",
       "        vertical-align: top;\n",
       "    }\n",
       "\n",
       "    .dataframe thead th {\n",
       "        text-align: right;\n",
       "    }\n",
       "</style>\n",
       "<table border=\"1\" class=\"dataframe\">\n",
       "  <thead>\n",
       "    <tr style=\"text-align: right;\">\n",
       "      <th></th>\n",
       "      <th>match_no</th>\n",
       "      <th>Home_team_run</th>\n",
       "      <th>Home_team_wickets</th>\n",
       "      <th>Home_team_over</th>\n",
       "      <th>Away_team_run</th>\n",
       "      <th>Away_team_wickets</th>\n",
       "      <th>Away_team_over</th>\n",
       "    </tr>\n",
       "  </thead>\n",
       "  <tbody>\n",
       "    <tr>\n",
       "      <th>0</th>\n",
       "      <td>1</td>\n",
       "      <td>182</td>\n",
       "      <td>5</td>\n",
       "      <td>19.2</td>\n",
       "      <td>178</td>\n",
       "      <td>7</td>\n",
       "      <td>20.0</td>\n",
       "    </tr>\n",
       "    <tr>\n",
       "      <th>1</th>\n",
       "      <td>2</td>\n",
       "      <td>191</td>\n",
       "      <td>5</td>\n",
       "      <td>20.0</td>\n",
       "      <td>146</td>\n",
       "      <td>7</td>\n",
       "      <td>16.0</td>\n",
       "    </tr>\n",
       "    <tr>\n",
       "      <th>2</th>\n",
       "      <td>3</td>\n",
       "      <td>193</td>\n",
       "      <td>6</td>\n",
       "      <td>20.0</td>\n",
       "      <td>143</td>\n",
       "      <td>9</td>\n",
       "      <td>20.0</td>\n",
       "    </tr>\n",
       "    <tr>\n",
       "      <th>3</th>\n",
       "      <td>4</td>\n",
       "      <td>131</td>\n",
       "      <td>8</td>\n",
       "      <td>20.0</td>\n",
       "      <td>203</td>\n",
       "      <td>5</td>\n",
       "      <td>20.0</td>\n",
       "    </tr>\n",
       "    <tr>\n",
       "      <th>4</th>\n",
       "      <td>5</td>\n",
       "      <td>172</td>\n",
       "      <td>2</td>\n",
       "      <td>16.2</td>\n",
       "      <td>171</td>\n",
       "      <td>7</td>\n",
       "      <td>20.0</td>\n",
       "    </tr>\n",
       "    <tr>\n",
       "      <th>...</th>\n",
       "      <td>...</td>\n",
       "      <td>...</td>\n",
       "      <td>...</td>\n",
       "      <td>...</td>\n",
       "      <td>...</td>\n",
       "      <td>...</td>\n",
       "      <td>...</td>\n",
       "    </tr>\n",
       "    <tr>\n",
       "      <th>65</th>\n",
       "      <td>66</td>\n",
       "      <td>187</td>\n",
       "      <td>5</td>\n",
       "      <td>20.0</td>\n",
       "      <td>189</td>\n",
       "      <td>6</td>\n",
       "      <td>19.4</td>\n",
       "    </tr>\n",
       "    <tr>\n",
       "      <th>66</th>\n",
       "      <td>67</td>\n",
       "      <td>146</td>\n",
       "      <td>9</td>\n",
       "      <td>20.0</td>\n",
       "      <td>223</td>\n",
       "      <td>3</td>\n",
       "      <td>20.0</td>\n",
       "    </tr>\n",
       "    <tr>\n",
       "      <th>67</th>\n",
       "      <td>68</td>\n",
       "      <td>175</td>\n",
       "      <td>7</td>\n",
       "      <td>20.0</td>\n",
       "      <td>176</td>\n",
       "      <td>8</td>\n",
       "      <td>20.0</td>\n",
       "    </tr>\n",
       "    <tr>\n",
       "      <th>68</th>\n",
       "      <td>69</td>\n",
       "      <td>201</td>\n",
       "      <td>2</td>\n",
       "      <td>18.0</td>\n",
       "      <td>200</td>\n",
       "      <td>5</td>\n",
       "      <td>20.0</td>\n",
       "    </tr>\n",
       "    <tr>\n",
       "      <th>69</th>\n",
       "      <td>70</td>\n",
       "      <td>197</td>\n",
       "      <td>5</td>\n",
       "      <td>20.0</td>\n",
       "      <td>198</td>\n",
       "      <td>4</td>\n",
       "      <td>19.1</td>\n",
       "    </tr>\n",
       "  </tbody>\n",
       "</table>\n",
       "<p>70 rows × 7 columns</p>\n",
       "</div>"
      ],
      "text/plain": [
       "    match_no  Home_team_run  Home_team_wickets  Home_team_over  Away_team_run  \\\n",
       "0          1            182                  5            19.2            178   \n",
       "1          2            191                  5            20.0            146   \n",
       "2          3            193                  6            20.0            143   \n",
       "3          4            131                  8            20.0            203   \n",
       "4          5            172                  2            16.2            171   \n",
       "..       ...            ...                ...             ...            ...   \n",
       "65        66            187                  5            20.0            189   \n",
       "66        67            146                  9            20.0            223   \n",
       "67        68            175                  7            20.0            176   \n",
       "68        69            201                  2            18.0            200   \n",
       "69        70            197                  5            20.0            198   \n",
       "\n",
       "    Away_team_wickets  Away_team_over  \n",
       "0                   7            20.0  \n",
       "1                   7            16.0  \n",
       "2                   9            20.0  \n",
       "3                   5            20.0  \n",
       "4                   7            20.0  \n",
       "..                ...             ...  \n",
       "65                  6            19.4  \n",
       "66                  3            20.0  \n",
       "67                  8            20.0  \n",
       "68                  5            20.0  \n",
       "69                  4            19.1  \n",
       "\n",
       "[70 rows x 7 columns]"
      ]
     },
     "execution_count": 3,
     "metadata": {},
     "output_type": "execute_result"
    }
   ],
   "source": [
    "df"
   ]
  },
  {
   "cell_type": "code",
   "execution_count": 4,
   "id": "79368aad-3061-436d-b2cb-2d080383933e",
   "metadata": {},
   "outputs": [
    {
     "data": {
      "text/plain": [
       "Index(['match_no', 'Home_team_run', 'Home_team_wickets', 'Home_team_over',\n",
       "       'Away_team_run', 'Away_team_wickets', 'Away_team_over'],\n",
       "      dtype='object')"
      ]
     },
     "execution_count": 4,
     "metadata": {},
     "output_type": "execute_result"
    }
   ],
   "source": [
    "df.columns"
   ]
  },
  {
   "cell_type": "code",
   "execution_count": 5,
   "id": "663470cb-a6c9-4fdd-9503-fd9dab7b5001",
   "metadata": {},
   "outputs": [],
   "source": [
    "df_2 = pd.read_csv('/home/thibault/code/patrickevans29/ipl_prediction_model/raw_data/IPL2023_Matches.csv', encoding='ISO-8859-1')"
   ]
  },
  {
   "cell_type": "code",
   "execution_count": 6,
   "id": "fcf825ce-6780-40d8-aca3-3f1d290e763a",
   "metadata": {},
   "outputs": [
    {
     "data": {
      "text/html": [
       "<div>\n",
       "<style scoped>\n",
       "    .dataframe tbody tr th:only-of-type {\n",
       "        vertical-align: middle;\n",
       "    }\n",
       "\n",
       "    .dataframe tbody tr th {\n",
       "        vertical-align: top;\n",
       "    }\n",
       "\n",
       "    .dataframe thead th {\n",
       "        text-align: right;\n",
       "    }\n",
       "</style>\n",
       "<table border=\"1\" class=\"dataframe\">\n",
       "  <thead>\n",
       "    <tr style=\"text-align: right;\">\n",
       "      <th></th>\n",
       "      <th>match_no</th>\n",
       "      <th>city</th>\n",
       "      <th>date_of_match</th>\n",
       "      <th>venue</th>\n",
       "      <th>Home_team</th>\n",
       "      <th>Away_team</th>\n",
       "      <th>toss_winner</th>\n",
       "      <th>winner</th>\n",
       "      <th>man_of_the_match</th>\n",
       "      <th>result</th>\n",
       "      <th>result_margin</th>\n",
       "      <th>eliminator</th>\n",
       "      <th>umpire1</th>\n",
       "      <th>umpire2</th>\n",
       "    </tr>\n",
       "  </thead>\n",
       "  <tbody>\n",
       "    <tr>\n",
       "      <th>0</th>\n",
       "      <td>1</td>\n",
       "      <td>Ahmedabad</td>\n",
       "      <td>3/31/2023</td>\n",
       "      <td>Narendra Modi Stadium</td>\n",
       "      <td>Gujarat Titans</td>\n",
       "      <td>Chennai Super Kings</td>\n",
       "      <td>Gujarat Titans</td>\n",
       "      <td>Gujarat Titans</td>\n",
       "      <td>Rashid Khan</td>\n",
       "      <td>Wickets</td>\n",
       "      <td>5</td>\n",
       "      <td>N</td>\n",
       "      <td>Nitin Menon</td>\n",
       "      <td>Saiyed Khalid</td>\n",
       "    </tr>\n",
       "    <tr>\n",
       "      <th>1</th>\n",
       "      <td>2</td>\n",
       "      <td>Mohali</td>\n",
       "      <td>4/1/2023</td>\n",
       "      <td>Punjab Cricket Association IS Bindra Stadium</td>\n",
       "      <td>Punjab Kings</td>\n",
       "      <td>Kolkata Knight Riders</td>\n",
       "      <td>Kolkata Knight Riders</td>\n",
       "      <td>Punjab Kings</td>\n",
       "      <td>Arshdeep Singh</td>\n",
       "      <td>Runs</td>\n",
       "      <td>7</td>\n",
       "      <td>DLS</td>\n",
       "      <td>Bruce Oxenford</td>\n",
       "      <td>Yeshwant Barde</td>\n",
       "    </tr>\n",
       "    <tr>\n",
       "      <th>2</th>\n",
       "      <td>3</td>\n",
       "      <td>Lucknow</td>\n",
       "      <td>4/1/2023</td>\n",
       "      <td>Bharat Ratna Shri Atal Bihari Vajpayee Ekana C...</td>\n",
       "      <td>Lucknow Super Giants</td>\n",
       "      <td>Delhi Capitals</td>\n",
       "      <td>Delhi Capitals</td>\n",
       "      <td>Lucknow Super Giants</td>\n",
       "      <td>Mark Wood</td>\n",
       "      <td>Runs</td>\n",
       "      <td>50</td>\n",
       "      <td>N</td>\n",
       "      <td>Anil Kumar Chaudhary</td>\n",
       "      <td>Nikhil Patwardhan</td>\n",
       "    </tr>\n",
       "    <tr>\n",
       "      <th>3</th>\n",
       "      <td>4</td>\n",
       "      <td>Hyderabad</td>\n",
       "      <td>4/2/2023</td>\n",
       "      <td>Rajiv Gandhi International Stadium</td>\n",
       "      <td>Sunrisers Hyderabad</td>\n",
       "      <td>Rajasthan Royals</td>\n",
       "      <td>Sunrisers Hyderabad</td>\n",
       "      <td>Rajasthan Royals</td>\n",
       "      <td>Jos Buttler</td>\n",
       "      <td>Runs</td>\n",
       "      <td>72</td>\n",
       "      <td>N</td>\n",
       "      <td>KN Anantha Padmanabhan</td>\n",
       "      <td>Rohan Pandit</td>\n",
       "    </tr>\n",
       "    <tr>\n",
       "      <th>4</th>\n",
       "      <td>5</td>\n",
       "      <td>Bengaluru</td>\n",
       "      <td>4/2/2023</td>\n",
       "      <td>M.Chinnaswamy Stadium</td>\n",
       "      <td>Royal Challengers Bangalore</td>\n",
       "      <td>Mumbai Indians</td>\n",
       "      <td>Royal Challengers Bangalore</td>\n",
       "      <td>Royal Challengers Bangalore</td>\n",
       "      <td>Faf du Plessis</td>\n",
       "      <td>Wickets</td>\n",
       "      <td>8</td>\n",
       "      <td>N</td>\n",
       "      <td>Nitin Menon</td>\n",
       "      <td>Tapan Sharma</td>\n",
       "    </tr>\n",
       "    <tr>\n",
       "      <th>...</th>\n",
       "      <td>...</td>\n",
       "      <td>...</td>\n",
       "      <td>...</td>\n",
       "      <td>...</td>\n",
       "      <td>...</td>\n",
       "      <td>...</td>\n",
       "      <td>...</td>\n",
       "      <td>...</td>\n",
       "      <td>...</td>\n",
       "      <td>...</td>\n",
       "      <td>...</td>\n",
       "      <td>...</td>\n",
       "      <td>...</td>\n",
       "      <td>...</td>\n",
       "    </tr>\n",
       "    <tr>\n",
       "      <th>65</th>\n",
       "      <td>66</td>\n",
       "      <td>Dharamsala</td>\n",
       "      <td>5/19/2023</td>\n",
       "      <td>Himachal Pradesh Cricket Association Stadium</td>\n",
       "      <td>Punjab Kings</td>\n",
       "      <td>Rajasthan Royals</td>\n",
       "      <td>Rajasthan Royals</td>\n",
       "      <td>Rajasthan Royals</td>\n",
       "      <td>Devdutt Padikkal</td>\n",
       "      <td>Wickets</td>\n",
       "      <td>4</td>\n",
       "      <td>N</td>\n",
       "      <td>Nand Kishore</td>\n",
       "      <td>Rod Tucker</td>\n",
       "    </tr>\n",
       "    <tr>\n",
       "      <th>66</th>\n",
       "      <td>67</td>\n",
       "      <td>Delhi</td>\n",
       "      <td>5/20/2023</td>\n",
       "      <td>Arun Jaitley Stadium</td>\n",
       "      <td>Delhi Capitals</td>\n",
       "      <td>Chennai Super Kings</td>\n",
       "      <td>Chennai Super Kings</td>\n",
       "      <td>Chennai Super Kings</td>\n",
       "      <td>Ruturaj Gaikwad</td>\n",
       "      <td>Runs</td>\n",
       "      <td>77</td>\n",
       "      <td>N</td>\n",
       "      <td>Chris Gaffaney</td>\n",
       "      <td>Nikhil Patwardhan</td>\n",
       "    </tr>\n",
       "    <tr>\n",
       "      <th>67</th>\n",
       "      <td>68</td>\n",
       "      <td>Kolkata</td>\n",
       "      <td>5/20/2023</td>\n",
       "      <td>Eden Gardens</td>\n",
       "      <td>Kolkata Knight Riders</td>\n",
       "      <td>Lucknow Super Giants</td>\n",
       "      <td>Kolkata Knight Riders</td>\n",
       "      <td>Lucknow Super Giants</td>\n",
       "      <td>Nicholas Pooran</td>\n",
       "      <td>Runs</td>\n",
       "      <td>1</td>\n",
       "      <td>N</td>\n",
       "      <td>Jayaraman Madanagopal</td>\n",
       "      <td>Ulhas Gandhe</td>\n",
       "    </tr>\n",
       "    <tr>\n",
       "      <th>68</th>\n",
       "      <td>69</td>\n",
       "      <td>Mumbai</td>\n",
       "      <td>5/21/2023</td>\n",
       "      <td>Wankhede Stadium</td>\n",
       "      <td>Mumbai Indians</td>\n",
       "      <td>Sunrisers Hyderabad</td>\n",
       "      <td>Mumbai Indians</td>\n",
       "      <td>Mumbai Indians</td>\n",
       "      <td>Cameron Green</td>\n",
       "      <td>Wickets</td>\n",
       "      <td>8</td>\n",
       "      <td>N</td>\n",
       "      <td>Rod Tucker</td>\n",
       "      <td>KN Anantha Padmanabhan</td>\n",
       "    </tr>\n",
       "    <tr>\n",
       "      <th>69</th>\n",
       "      <td>70</td>\n",
       "      <td>Bengaluru</td>\n",
       "      <td>5/21/2023</td>\n",
       "      <td>M.Chinnaswamy Stadium</td>\n",
       "      <td>Royal Challengers Bangalore</td>\n",
       "      <td>Gujarat Titans</td>\n",
       "      <td>Gujarat Titans</td>\n",
       "      <td>Gujarat Titans</td>\n",
       "      <td>Shubman Gill</td>\n",
       "      <td>Wickets</td>\n",
       "      <td>6</td>\n",
       "      <td>N</td>\n",
       "      <td>Nitin Menon</td>\n",
       "      <td>Virender Sharma</td>\n",
       "    </tr>\n",
       "  </tbody>\n",
       "</table>\n",
       "<p>70 rows × 14 columns</p>\n",
       "</div>"
      ],
      "text/plain": [
       "    match_no        city date_of_match  \\\n",
       "0          1   Ahmedabad     3/31/2023   \n",
       "1          2      Mohali      4/1/2023   \n",
       "2          3     Lucknow      4/1/2023   \n",
       "3          4   Hyderabad      4/2/2023   \n",
       "4          5   Bengaluru      4/2/2023   \n",
       "..       ...         ...           ...   \n",
       "65        66  Dharamsala     5/19/2023   \n",
       "66        67       Delhi     5/20/2023   \n",
       "67        68     Kolkata     5/20/2023   \n",
       "68        69     Mumbai      5/21/2023   \n",
       "69        70   Bengaluru     5/21/2023   \n",
       "\n",
       "                                                venue  \\\n",
       "0                               Narendra Modi Stadium   \n",
       "1        Punjab Cricket Association IS Bindra Stadium   \n",
       "2   Bharat Ratna Shri Atal Bihari Vajpayee Ekana C...   \n",
       "3                  Rajiv Gandhi International Stadium   \n",
       "4                               M.Chinnaswamy Stadium   \n",
       "..                                                ...   \n",
       "65       Himachal Pradesh Cricket Association Stadium   \n",
       "66                               Arun Jaitley Stadium   \n",
       "67                                       Eden Gardens   \n",
       "68                                   Wankhede Stadium   \n",
       "69                              M.Chinnaswamy Stadium   \n",
       "\n",
       "                      Home_team              Away_team  \\\n",
       "0                Gujarat Titans    Chennai Super Kings   \n",
       "1                  Punjab Kings  Kolkata Knight Riders   \n",
       "2          Lucknow Super Giants         Delhi Capitals   \n",
       "3           Sunrisers Hyderabad       Rajasthan Royals   \n",
       "4   Royal Challengers Bangalore         Mumbai Indians   \n",
       "..                          ...                    ...   \n",
       "65                 Punjab Kings       Rajasthan Royals   \n",
       "66               Delhi Capitals    Chennai Super Kings   \n",
       "67        Kolkata Knight Riders   Lucknow Super Giants   \n",
       "68               Mumbai Indians    Sunrisers Hyderabad   \n",
       "69  Royal Challengers Bangalore         Gujarat Titans   \n",
       "\n",
       "                    toss_winner                       winner  \\\n",
       "0                Gujarat Titans               Gujarat Titans   \n",
       "1         Kolkata Knight Riders                 Punjab Kings   \n",
       "2                Delhi Capitals         Lucknow Super Giants   \n",
       "3           Sunrisers Hyderabad             Rajasthan Royals   \n",
       "4   Royal Challengers Bangalore  Royal Challengers Bangalore   \n",
       "..                          ...                          ...   \n",
       "65             Rajasthan Royals             Rajasthan Royals   \n",
       "66          Chennai Super Kings          Chennai Super Kings   \n",
       "67        Kolkata Knight Riders         Lucknow Super Giants   \n",
       "68               Mumbai Indians               Mumbai Indians   \n",
       "69               Gujarat Titans               Gujarat Titans   \n",
       "\n",
       "    man_of_the_match   result  result_margin eliminator  \\\n",
       "0        Rashid Khan  Wickets              5          N   \n",
       "1     Arshdeep Singh     Runs              7        DLS   \n",
       "2          Mark Wood     Runs             50          N   \n",
       "3        Jos Buttler     Runs             72          N   \n",
       "4     Faf du Plessis  Wickets              8          N   \n",
       "..               ...      ...            ...        ...   \n",
       "65  Devdutt Padikkal  Wickets              4          N   \n",
       "66   Ruturaj Gaikwad     Runs             77          N   \n",
       "67   Nicholas Pooran     Runs              1          N   \n",
       "68     Cameron Green  Wickets              8          N   \n",
       "69      Shubman Gill  Wickets              6          N   \n",
       "\n",
       "                   umpire1                 umpire2  \n",
       "0              Nitin Menon           Saiyed Khalid  \n",
       "1           Bruce Oxenford          Yeshwant Barde  \n",
       "2     Anil Kumar Chaudhary       Nikhil Patwardhan  \n",
       "3   KN Anantha Padmanabhan            Rohan Pandit  \n",
       "4              Nitin Menon            Tapan Sharma  \n",
       "..                     ...                     ...  \n",
       "65            Nand Kishore              Rod Tucker  \n",
       "66          Chris Gaffaney       Nikhil Patwardhan  \n",
       "67   Jayaraman Madanagopal            Ulhas Gandhe  \n",
       "68              Rod Tucker  KN Anantha Padmanabhan  \n",
       "69             Nitin Menon         Virender Sharma  \n",
       "\n",
       "[70 rows x 14 columns]"
      ]
     },
     "execution_count": 6,
     "metadata": {},
     "output_type": "execute_result"
    }
   ],
   "source": [
    "df_2"
   ]
  },
  {
   "cell_type": "code",
   "execution_count": 7,
   "id": "14b505fb-b1f6-4343-b05c-f8b185a1b233",
   "metadata": {},
   "outputs": [
    {
     "data": {
      "text/plain": [
       "Index(['match_no', 'city', 'date_of_match', 'venue', 'Home_team', 'Away_team',\n",
       "       'toss_winner', 'winner', 'man_of_the_match', 'result', 'result_margin',\n",
       "       'eliminator', 'umpire1', 'umpire2'],\n",
       "      dtype='object')"
      ]
     },
     "execution_count": 7,
     "metadata": {},
     "output_type": "execute_result"
    }
   ],
   "source": [
    "df_2.columns"
   ]
  },
  {
   "cell_type": "code",
   "execution_count": 8,
   "id": "4efc9fe7-a682-406f-ba5e-767a38e089e4",
   "metadata": {},
   "outputs": [],
   "source": [
    "df_3 = pd.read_csv('/home/thibault/code/patrickevans29/ipl_prediction_model/raw_data/IPL2023_Batsman.csv', encoding='ISO-8859-1')"
   ]
  },
  {
   "cell_type": "code",
   "execution_count": 9,
   "id": "845b8e50-5f2d-4c61-8a37-1c9c14da2993",
   "metadata": {},
   "outputs": [
    {
     "data": {
      "text/html": [
       "<div>\n",
       "<style scoped>\n",
       "    .dataframe tbody tr th:only-of-type {\n",
       "        vertical-align: middle;\n",
       "    }\n",
       "\n",
       "    .dataframe tbody tr th {\n",
       "        vertical-align: top;\n",
       "    }\n",
       "\n",
       "    .dataframe thead th {\n",
       "        text-align: right;\n",
       "    }\n",
       "</style>\n",
       "<table border=\"1\" class=\"dataframe\">\n",
       "  <thead>\n",
       "    <tr style=\"text-align: right;\">\n",
       "      <th></th>\n",
       "      <th>match_no</th>\n",
       "      <th>Batsman</th>\n",
       "      <th>team</th>\n",
       "      <th>Run</th>\n",
       "      <th>Ball</th>\n",
       "      <th>4s</th>\n",
       "      <th>6s</th>\n",
       "      <th>out_by</th>\n",
       "    </tr>\n",
       "  </thead>\n",
       "  <tbody>\n",
       "    <tr>\n",
       "      <th>0</th>\n",
       "      <td>1</td>\n",
       "      <td>Devon Conway</td>\n",
       "      <td>Chennai Super Kings</td>\n",
       "      <td>1</td>\n",
       "      <td>6</td>\n",
       "      <td>0</td>\n",
       "      <td>0</td>\n",
       "      <td>Mohammed Shami</td>\n",
       "    </tr>\n",
       "    <tr>\n",
       "      <th>1</th>\n",
       "      <td>1</td>\n",
       "      <td>Ruturaj Gaikwad</td>\n",
       "      <td>Chennai Super Kings</td>\n",
       "      <td>92</td>\n",
       "      <td>50</td>\n",
       "      <td>4</td>\n",
       "      <td>9</td>\n",
       "      <td>Alzarri Joseph</td>\n",
       "    </tr>\n",
       "    <tr>\n",
       "      <th>2</th>\n",
       "      <td>1</td>\n",
       "      <td>Moeen Ali</td>\n",
       "      <td>Chennai Super Kings</td>\n",
       "      <td>23</td>\n",
       "      <td>17</td>\n",
       "      <td>4</td>\n",
       "      <td>1</td>\n",
       "      <td>Rashid Khan</td>\n",
       "    </tr>\n",
       "    <tr>\n",
       "      <th>3</th>\n",
       "      <td>1</td>\n",
       "      <td>Ben Stokes</td>\n",
       "      <td>Chennai Super Kings</td>\n",
       "      <td>7</td>\n",
       "      <td>6</td>\n",
       "      <td>1</td>\n",
       "      <td>0</td>\n",
       "      <td>Rashid Khan</td>\n",
       "    </tr>\n",
       "    <tr>\n",
       "      <th>4</th>\n",
       "      <td>1</td>\n",
       "      <td>Ambati Rayudu</td>\n",
       "      <td>Chennai Super Kings</td>\n",
       "      <td>12</td>\n",
       "      <td>12</td>\n",
       "      <td>0</td>\n",
       "      <td>1</td>\n",
       "      <td>Joshua Little</td>\n",
       "    </tr>\n",
       "    <tr>\n",
       "      <th>...</th>\n",
       "      <td>...</td>\n",
       "      <td>...</td>\n",
       "      <td>...</td>\n",
       "      <td>...</td>\n",
       "      <td>...</td>\n",
       "      <td>...</td>\n",
       "      <td>...</td>\n",
       "      <td>...</td>\n",
       "    </tr>\n",
       "    <tr>\n",
       "      <th>1109</th>\n",
       "      <td>70</td>\n",
       "      <td>Shubman Gill</td>\n",
       "      <td>Gujarat Titans</td>\n",
       "      <td>104</td>\n",
       "      <td>52</td>\n",
       "      <td>5</td>\n",
       "      <td>8</td>\n",
       "      <td>Not Out</td>\n",
       "    </tr>\n",
       "    <tr>\n",
       "      <th>1110</th>\n",
       "      <td>70</td>\n",
       "      <td>Vijay Shankar</td>\n",
       "      <td>Gujarat Titans</td>\n",
       "      <td>53</td>\n",
       "      <td>35</td>\n",
       "      <td>7</td>\n",
       "      <td>2</td>\n",
       "      <td>Vijaykumar Vyshak</td>\n",
       "    </tr>\n",
       "    <tr>\n",
       "      <th>1111</th>\n",
       "      <td>70</td>\n",
       "      <td>Dasun Shanaka</td>\n",
       "      <td>Gujarat Titans</td>\n",
       "      <td>0</td>\n",
       "      <td>3</td>\n",
       "      <td>0</td>\n",
       "      <td>0</td>\n",
       "      <td>Harshal Patel</td>\n",
       "    </tr>\n",
       "    <tr>\n",
       "      <th>1112</th>\n",
       "      <td>70</td>\n",
       "      <td>David Miller</td>\n",
       "      <td>Gujarat Titans</td>\n",
       "      <td>6</td>\n",
       "      <td>7</td>\n",
       "      <td>1</td>\n",
       "      <td>0</td>\n",
       "      <td>Mohammed Siraj</td>\n",
       "    </tr>\n",
       "    <tr>\n",
       "      <th>1113</th>\n",
       "      <td>70</td>\n",
       "      <td>Rahul Tewatia</td>\n",
       "      <td>Gujarat Titans</td>\n",
       "      <td>4</td>\n",
       "      <td>5</td>\n",
       "      <td>0</td>\n",
       "      <td>0</td>\n",
       "      <td>Not Out</td>\n",
       "    </tr>\n",
       "  </tbody>\n",
       "</table>\n",
       "<p>1114 rows × 8 columns</p>\n",
       "</div>"
      ],
      "text/plain": [
       "      match_no          Batsman                 team  Run  Ball  4s  6s  \\\n",
       "0            1     Devon Conway  Chennai Super Kings    1     6   0   0   \n",
       "1            1  Ruturaj Gaikwad  Chennai Super Kings   92    50   4   9   \n",
       "2            1        Moeen Ali  Chennai Super Kings   23    17   4   1   \n",
       "3            1       Ben Stokes  Chennai Super Kings    7     6   1   0   \n",
       "4            1    Ambati Rayudu  Chennai Super Kings   12    12   0   1   \n",
       "...        ...              ...                  ...  ...   ...  ..  ..   \n",
       "1109        70     Shubman Gill       Gujarat Titans  104    52   5   8   \n",
       "1110        70    Vijay Shankar       Gujarat Titans   53    35   7   2   \n",
       "1111        70    Dasun Shanaka       Gujarat Titans    0     3   0   0   \n",
       "1112        70     David Miller       Gujarat Titans    6     7   1   0   \n",
       "1113        70    Rahul Tewatia       Gujarat Titans    4     5   0   0   \n",
       "\n",
       "                 out_by  \n",
       "0        Mohammed Shami  \n",
       "1        Alzarri Joseph  \n",
       "2           Rashid Khan  \n",
       "3           Rashid Khan  \n",
       "4         Joshua Little  \n",
       "...                 ...  \n",
       "1109            Not Out  \n",
       "1110  Vijaykumar Vyshak  \n",
       "1111      Harshal Patel  \n",
       "1112     Mohammed Siraj  \n",
       "1113            Not Out  \n",
       "\n",
       "[1114 rows x 8 columns]"
      ]
     },
     "execution_count": 9,
     "metadata": {},
     "output_type": "execute_result"
    }
   ],
   "source": [
    "df_3"
   ]
  },
  {
   "cell_type": "code",
   "execution_count": 10,
   "id": "8ba52011-c11a-4488-86d3-567ecd6b8e79",
   "metadata": {},
   "outputs": [
    {
     "data": {
      "text/plain": [
       "Index(['match_no', 'Batsman', 'team', 'Run', 'Ball', '4s', '6s', 'out_by'], dtype='object')"
      ]
     },
     "execution_count": 10,
     "metadata": {},
     "output_type": "execute_result"
    }
   ],
   "source": [
    "df_3.columns"
   ]
  },
  {
   "cell_type": "code",
   "execution_count": 11,
   "id": "52d366ab-3428-4df7-a168-a2c60a1546f7",
   "metadata": {},
   "outputs": [],
   "source": [
    "df_4 = pd.read_csv('/home/thibault/code/patrickevans29/ipl_prediction_model/raw_data/IPL2023_Bowler.csv', encoding='ISO-8859-1')"
   ]
  },
  {
   "cell_type": "code",
   "execution_count": 12,
   "id": "59913e7d-5a31-482c-92b0-14bf3ba3462a",
   "metadata": {},
   "outputs": [
    {
     "data": {
      "text/html": [
       "<div>\n",
       "<style scoped>\n",
       "    .dataframe tbody tr th:only-of-type {\n",
       "        vertical-align: middle;\n",
       "    }\n",
       "\n",
       "    .dataframe tbody tr th {\n",
       "        vertical-align: top;\n",
       "    }\n",
       "\n",
       "    .dataframe thead th {\n",
       "        text-align: right;\n",
       "    }\n",
       "</style>\n",
       "<table border=\"1\" class=\"dataframe\">\n",
       "  <thead>\n",
       "    <tr style=\"text-align: right;\">\n",
       "      <th></th>\n",
       "      <th>match_no</th>\n",
       "      <th>Bowler</th>\n",
       "      <th>team</th>\n",
       "      <th>over</th>\n",
       "      <th>run</th>\n",
       "      <th>wicket</th>\n",
       "      <th>No_ball</th>\n",
       "      <th>ECO</th>\n",
       "    </tr>\n",
       "  </thead>\n",
       "  <tbody>\n",
       "    <tr>\n",
       "      <th>0</th>\n",
       "      <td>1</td>\n",
       "      <td>Mohammed Shami</td>\n",
       "      <td>Gujarat Titans</td>\n",
       "      <td>4.0</td>\n",
       "      <td>29</td>\n",
       "      <td>2</td>\n",
       "      <td>1</td>\n",
       "      <td>7.3</td>\n",
       "    </tr>\n",
       "    <tr>\n",
       "      <th>1</th>\n",
       "      <td>1</td>\n",
       "      <td>Hardik Pandya</td>\n",
       "      <td>Gujarat Titans</td>\n",
       "      <td>3.0</td>\n",
       "      <td>28</td>\n",
       "      <td>0</td>\n",
       "      <td>0</td>\n",
       "      <td>9.3</td>\n",
       "    </tr>\n",
       "    <tr>\n",
       "      <th>2</th>\n",
       "      <td>1</td>\n",
       "      <td>Joshua Little</td>\n",
       "      <td>Gujarat Titans</td>\n",
       "      <td>4.0</td>\n",
       "      <td>41</td>\n",
       "      <td>1</td>\n",
       "      <td>0</td>\n",
       "      <td>10.3</td>\n",
       "    </tr>\n",
       "    <tr>\n",
       "      <th>3</th>\n",
       "      <td>1</td>\n",
       "      <td>Rashid Khan</td>\n",
       "      <td>Gujarat Titans</td>\n",
       "      <td>4.0</td>\n",
       "      <td>26</td>\n",
       "      <td>2</td>\n",
       "      <td>0</td>\n",
       "      <td>6.5</td>\n",
       "    </tr>\n",
       "    <tr>\n",
       "      <th>4</th>\n",
       "      <td>1</td>\n",
       "      <td>Alzarri Joseph</td>\n",
       "      <td>Gujarat Titans</td>\n",
       "      <td>4.0</td>\n",
       "      <td>33</td>\n",
       "      <td>2</td>\n",
       "      <td>0</td>\n",
       "      <td>8.3</td>\n",
       "    </tr>\n",
       "    <tr>\n",
       "      <th>...</th>\n",
       "      <td>...</td>\n",
       "      <td>...</td>\n",
       "      <td>...</td>\n",
       "      <td>...</td>\n",
       "      <td>...</td>\n",
       "      <td>...</td>\n",
       "      <td>...</td>\n",
       "      <td>...</td>\n",
       "    </tr>\n",
       "    <tr>\n",
       "      <th>848</th>\n",
       "      <td>70</td>\n",
       "      <td>Wayne Parnell</td>\n",
       "      <td>Royal Challengers Bangalore</td>\n",
       "      <td>3.1</td>\n",
       "      <td>42</td>\n",
       "      <td>0</td>\n",
       "      <td>1</td>\n",
       "      <td>13.5</td>\n",
       "    </tr>\n",
       "    <tr>\n",
       "      <th>849</th>\n",
       "      <td>70</td>\n",
       "      <td>Vijaykumar Vyshak</td>\n",
       "      <td>Royal Challengers Bangalore</td>\n",
       "      <td>4.0</td>\n",
       "      <td>40</td>\n",
       "      <td>1</td>\n",
       "      <td>0</td>\n",
       "      <td>10.0</td>\n",
       "    </tr>\n",
       "    <tr>\n",
       "      <th>850</th>\n",
       "      <td>70</td>\n",
       "      <td>Himanshu Sharma</td>\n",
       "      <td>Royal Challengers Bangalore</td>\n",
       "      <td>3.0</td>\n",
       "      <td>28</td>\n",
       "      <td>0</td>\n",
       "      <td>0</td>\n",
       "      <td>9.3</td>\n",
       "    </tr>\n",
       "    <tr>\n",
       "      <th>851</th>\n",
       "      <td>70</td>\n",
       "      <td>Harshal Patel</td>\n",
       "      <td>Royal Challengers Bangalore</td>\n",
       "      <td>4.0</td>\n",
       "      <td>29</td>\n",
       "      <td>1</td>\n",
       "      <td>0</td>\n",
       "      <td>7.3</td>\n",
       "    </tr>\n",
       "    <tr>\n",
       "      <th>852</th>\n",
       "      <td>70</td>\n",
       "      <td>Michael Bracewell</td>\n",
       "      <td>Royal Challengers Bangalore</td>\n",
       "      <td>1.0</td>\n",
       "      <td>16</td>\n",
       "      <td>0</td>\n",
       "      <td>0</td>\n",
       "      <td>16.0</td>\n",
       "    </tr>\n",
       "  </tbody>\n",
       "</table>\n",
       "<p>853 rows × 8 columns</p>\n",
       "</div>"
      ],
      "text/plain": [
       "     match_no             Bowler                         team  over  run  \\\n",
       "0           1     Mohammed Shami               Gujarat Titans   4.0   29   \n",
       "1           1      Hardik Pandya               Gujarat Titans   3.0   28   \n",
       "2           1      Joshua Little               Gujarat Titans   4.0   41   \n",
       "3           1        Rashid Khan               Gujarat Titans   4.0   26   \n",
       "4           1     Alzarri Joseph               Gujarat Titans   4.0   33   \n",
       "..        ...                ...                          ...   ...  ...   \n",
       "848        70      Wayne Parnell  Royal Challengers Bangalore   3.1   42   \n",
       "849        70  Vijaykumar Vyshak  Royal Challengers Bangalore   4.0   40   \n",
       "850        70    Himanshu Sharma  Royal Challengers Bangalore   3.0   28   \n",
       "851        70      Harshal Patel  Royal Challengers Bangalore   4.0   29   \n",
       "852        70  Michael Bracewell  Royal Challengers Bangalore   1.0   16   \n",
       "\n",
       "     wicket  No_ball   ECO  \n",
       "0         2        1   7.3  \n",
       "1         0        0   9.3  \n",
       "2         1        0  10.3  \n",
       "3         2        0   6.5  \n",
       "4         2        0   8.3  \n",
       "..      ...      ...   ...  \n",
       "848       0        1  13.5  \n",
       "849       1        0  10.0  \n",
       "850       0        0   9.3  \n",
       "851       1        0   7.3  \n",
       "852       0        0  16.0  \n",
       "\n",
       "[853 rows x 8 columns]"
      ]
     },
     "execution_count": 12,
     "metadata": {},
     "output_type": "execute_result"
    }
   ],
   "source": [
    "df_4"
   ]
  },
  {
   "cell_type": "code",
   "execution_count": 13,
   "id": "562afc09-79e1-4105-ae29-cafcb2b5a81f",
   "metadata": {},
   "outputs": [
    {
     "data": {
      "text/plain": [
       "Index(['match_no', 'Bowler', 'team', 'over', 'run', 'wicket', 'No_ball',\n",
       "       'ECO'],\n",
       "      dtype='object')"
      ]
     },
     "execution_count": 13,
     "metadata": {},
     "output_type": "execute_result"
    }
   ],
   "source": [
    "df_4.columns"
   ]
  },
  {
   "cell_type": "code",
   "execution_count": 14,
   "id": "0a8f873f-1b42-4db6-8456-a25ab1bca10b",
   "metadata": {},
   "outputs": [],
   "source": [
    "# Index(['City', 'Season', 'Team1', 'Team2', 'Venue', 'TossWinner',\n",
    "#       'TossDecision', 'WinningTeam', 'Avg_Weighted_Score_diff',\n",
    "#       'batting_average_weighted_diff', 'batting_strike_rate_weighted_diff',\n",
    "#       'bowling_average_diff', 'bowling_economy_rate_diff', 'win_ratio_diff'],\n",
    "#      dtype='object')"
   ]
  },
  {
   "cell_type": "markdown",
   "id": "5d135406-c13f-4436-a1b3-9e9f0b3f644c",
   "metadata": {},
   "source": [
    "# merge of the different df "
   ]
  },
  {
   "cell_type": "code",
   "execution_count": null,
   "id": "b6bde7d7-4714-4063-a316-97b00d95e629",
   "metadata": {},
   "outputs": [],
   "source": []
  },
  {
   "cell_type": "markdown",
   "id": "3086606d-6a77-4fb0-b866-1ac50e4e6da9",
   "metadata": {},
   "source": [
    "# feature by feature "
   ]
  },
  {
   "cell_type": "markdown",
   "id": "02774c86-69e6-4f7f-818e-20d38e222c92",
   "metadata": {},
   "source": [
    "### City"
   ]
  },
  {
   "cell_type": "code",
   "execution_count": 15,
   "id": "0bbb2cb3-f1af-49bb-b242-4868246d0899",
   "metadata": {},
   "outputs": [],
   "source": [
    "df_2.rename(columns={\"city\": \"City\"}, inplace=True)"
   ]
  },
  {
   "cell_type": "code",
   "execution_count": 16,
   "id": "52317f50-73f0-40e3-b6ef-1af826ccac41",
   "metadata": {},
   "outputs": [
    {
     "data": {
      "text/plain": [
       "['Ahmedabad',\n",
       " 'Ahmedabad\\xa0',\n",
       " 'Bengaluru',\n",
       " 'Chennai',\n",
       " 'Delhi',\n",
       " 'Dharamsala',\n",
       " 'Guwahati',\n",
       " 'Guwahati\\xa0',\n",
       " 'Hyderabad',\n",
       " 'Jaipur',\n",
       " 'Kolkata',\n",
       " 'Lucknow',\n",
       " 'Lucknow ',\n",
       " 'Lucknow\\xa0',\n",
       " 'Mohali',\n",
       " 'Mumbai\\xa0']"
      ]
     },
     "execution_count": 16,
     "metadata": {},
     "output_type": "execute_result"
    }
   ],
   "source": [
    "sorted(df_2[\"City\"].unique())"
   ]
  },
  {
   "cell_type": "code",
   "execution_count": 17,
   "id": "9c98c728-6904-4a74-b37b-a6b1a00282f5",
   "metadata": {},
   "outputs": [],
   "source": [
    "df_2[\"City\"] = [text.strip() for text in df_2[\"City\"]] # removing space\n",
    "df_2[\"City\"] = [text.lower() for text in df_2[\"City\"]] # lowercase"
   ]
  },
  {
   "cell_type": "code",
   "execution_count": 18,
   "id": "b8789a36-8435-4926-af7b-d864eecce416",
   "metadata": {},
   "outputs": [
    {
     "data": {
      "text/plain": [
       "['ahmedabad',\n",
       " 'bengaluru',\n",
       " 'chennai',\n",
       " 'delhi',\n",
       " 'dharamsala',\n",
       " 'guwahati',\n",
       " 'hyderabad',\n",
       " 'jaipur',\n",
       " 'kolkata',\n",
       " 'lucknow',\n",
       " 'mohali',\n",
       " 'mumbai']"
      ]
     },
     "execution_count": 18,
     "metadata": {},
     "output_type": "execute_result"
    }
   ],
   "source": [
    "sorted(df_2[\"City\"].unique())"
   ]
  },
  {
   "cell_type": "code",
   "execution_count": 19,
   "id": "ac0816e8-3d11-4df6-9109-082a409b86ac",
   "metadata": {},
   "outputs": [],
   "source": [
    "city_counts = df_2[\"City\"].value_counts()"
   ]
  },
  {
   "cell_type": "code",
   "execution_count": 20,
   "id": "f5d43d07-d30c-4141-b47c-0a35070b3bbb",
   "metadata": {},
   "outputs": [
    {
     "data": {
      "text/plain": [
       "City\n",
       "ahmedabad     7\n",
       "lucknow       7\n",
       "hyderabad     7\n",
       "bengaluru     7\n",
       "chennai       7\n",
       "delhi         7\n",
       "kolkata       7\n",
       "mumbai        7\n",
       "mohali        5\n",
       "jaipur        5\n",
       "guwahati      2\n",
       "dharamsala    2\n",
       "Name: count, dtype: int64"
      ]
     },
     "execution_count": 20,
     "metadata": {},
     "output_type": "execute_result"
    }
   ],
   "source": [
    "city_counts"
   ]
  },
  {
   "cell_type": "code",
   "execution_count": 21,
   "id": "f3a929e8-66d2-4031-9da5-38e59011f080",
   "metadata": {},
   "outputs": [],
   "source": [
    "df_2 = df_2[(df_2['City'] != 'guwahati') & (df_2['City'] != 'lucknow') & (df_2['City'] != 'mohali')]"
   ]
  },
  {
   "cell_type": "markdown",
   "id": "f7f439bb-1883-47d3-9071-dd7b242d650a",
   "metadata": {},
   "source": [
    "guwahati, lucknow and mohali are not in the last dataset"
   ]
  },
  {
   "cell_type": "code",
   "execution_count": 22,
   "id": "ff5d7cec-8cf7-4932-9940-5a269919c055",
   "metadata": {},
   "outputs": [],
   "source": [
    "city_counts = df_2[\"City\"].value_counts()"
   ]
  },
  {
   "cell_type": "code",
   "execution_count": 23,
   "id": "acb877be-1cb5-4a85-8416-32ccc15866d5",
   "metadata": {},
   "outputs": [
    {
     "data": {
      "text/plain": [
       "City\n",
       "ahmedabad     7\n",
       "hyderabad     7\n",
       "bengaluru     7\n",
       "chennai       7\n",
       "delhi         7\n",
       "kolkata       7\n",
       "mumbai        7\n",
       "jaipur        5\n",
       "dharamsala    2\n",
       "Name: count, dtype: int64"
      ]
     },
     "execution_count": 23,
     "metadata": {},
     "output_type": "execute_result"
    }
   ],
   "source": [
    "city_counts"
   ]
  },
  {
   "cell_type": "markdown",
   "id": "3c4410f8-4adb-47c4-aaa3-7d9f9bab5634",
   "metadata": {},
   "source": [
    "### Team1"
   ]
  },
  {
   "cell_type": "code",
   "execution_count": 24,
   "id": "9f224afd-7cf8-4329-ba74-b10d5f6ee966",
   "metadata": {},
   "outputs": [
    {
     "name": "stderr",
     "output_type": "stream",
     "text": [
      "/tmp/ipykernel_18063/3249091305.py:1: SettingWithCopyWarning: \n",
      "A value is trying to be set on a copy of a slice from a DataFrame\n",
      "\n",
      "See the caveats in the documentation: https://pandas.pydata.org/pandas-docs/stable/user_guide/indexing.html#returning-a-view-versus-a-copy\n",
      "  df_2.rename(columns={\"Home_team\": \"Team1\"}, inplace=True)\n"
     ]
    }
   ],
   "source": [
    "df_2.rename(columns={\"Home_team\": \"Team1\"}, inplace=True)"
   ]
  },
  {
   "cell_type": "code",
   "execution_count": 25,
   "id": "297090cb-622d-43a7-921f-382cfad29a40",
   "metadata": {},
   "outputs": [
    {
     "data": {
      "text/plain": [
       "['Chennai Super Kings',\n",
       " 'Delhi Capitals',\n",
       " 'Gujarat Titans',\n",
       " 'Kolkata Knight Riders',\n",
       " 'Mumbai Indians',\n",
       " 'Punjab Kings',\n",
       " 'Rajasthan Royals',\n",
       " 'Royal Challengers Bangalore',\n",
       " 'Sunrisers Hyderabad']"
      ]
     },
     "execution_count": 25,
     "metadata": {},
     "output_type": "execute_result"
    }
   ],
   "source": [
    "sorted(df_2[\"Team1\"].unique())"
   ]
  },
  {
   "cell_type": "code",
   "execution_count": 26,
   "id": "d884e97a-6676-4713-ae22-ba2f8678e42a",
   "metadata": {},
   "outputs": [
    {
     "name": "stderr",
     "output_type": "stream",
     "text": [
      "/tmp/ipykernel_18063/1688002759.py:1: SettingWithCopyWarning: \n",
      "A value is trying to be set on a copy of a slice from a DataFrame.\n",
      "Try using .loc[row_indexer,col_indexer] = value instead\n",
      "\n",
      "See the caveats in the documentation: https://pandas.pydata.org/pandas-docs/stable/user_guide/indexing.html#returning-a-view-versus-a-copy\n",
      "  df_2[\"Team1\"] = [text.strip() for text in df_2[\"Team1\"]] # removing space\n",
      "/tmp/ipykernel_18063/1688002759.py:2: SettingWithCopyWarning: \n",
      "A value is trying to be set on a copy of a slice from a DataFrame.\n",
      "Try using .loc[row_indexer,col_indexer] = value instead\n",
      "\n",
      "See the caveats in the documentation: https://pandas.pydata.org/pandas-docs/stable/user_guide/indexing.html#returning-a-view-versus-a-copy\n",
      "  df_2[\"Team1\"] = [text.lower() for text in df_2[\"Team1\"]] # lowercase\n"
     ]
    }
   ],
   "source": [
    "df_2[\"Team1\"] = [text.strip() for text in df_2[\"Team1\"]] # removing space\n",
    "df_2[\"Team1\"] = [text.lower() for text in df_2[\"Team1\"]] # lowercase"
   ]
  },
  {
   "cell_type": "code",
   "execution_count": 27,
   "id": "7eae27ff-7def-4471-b8ba-ae4eea003f32",
   "metadata": {},
   "outputs": [
    {
     "data": {
      "text/plain": [
       "['chennai super kings',\n",
       " 'delhi capitals',\n",
       " 'gujarat titans',\n",
       " 'kolkata knight riders',\n",
       " 'mumbai indians',\n",
       " 'punjab kings',\n",
       " 'rajasthan royals',\n",
       " 'royal challengers bangalore',\n",
       " 'sunrisers hyderabad']"
      ]
     },
     "execution_count": 27,
     "metadata": {},
     "output_type": "execute_result"
    }
   ],
   "source": [
    "sorted(df_2[\"Team1\"].unique()) # OK "
   ]
  },
  {
   "cell_type": "markdown",
   "id": "0e1a7dee-3d45-4264-858c-dc64247d049b",
   "metadata": {},
   "source": [
    "### Team2"
   ]
  },
  {
   "cell_type": "code",
   "execution_count": 28,
   "id": "0db8ed9e-495c-4604-84cb-a9664854cd94",
   "metadata": {},
   "outputs": [
    {
     "name": "stderr",
     "output_type": "stream",
     "text": [
      "/tmp/ipykernel_18063/887359721.py:1: SettingWithCopyWarning: \n",
      "A value is trying to be set on a copy of a slice from a DataFrame\n",
      "\n",
      "See the caveats in the documentation: https://pandas.pydata.org/pandas-docs/stable/user_guide/indexing.html#returning-a-view-versus-a-copy\n",
      "  df_2.rename(columns={\"Away_team\": \"Team2\"}, inplace=True)\n"
     ]
    }
   ],
   "source": [
    "df_2.rename(columns={\"Away_team\": \"Team2\"}, inplace=True)"
   ]
  },
  {
   "cell_type": "code",
   "execution_count": 29,
   "id": "adfa0941-02ac-4888-ba10-257a296b2471",
   "metadata": {},
   "outputs": [
    {
     "name": "stderr",
     "output_type": "stream",
     "text": [
      "/tmp/ipykernel_18063/3834301573.py:1: SettingWithCopyWarning: \n",
      "A value is trying to be set on a copy of a slice from a DataFrame.\n",
      "Try using .loc[row_indexer,col_indexer] = value instead\n",
      "\n",
      "See the caveats in the documentation: https://pandas.pydata.org/pandas-docs/stable/user_guide/indexing.html#returning-a-view-versus-a-copy\n",
      "  df_2[\"Team2\"] = [text.strip() for text in df_2[\"Team2\"]] # removing space\n",
      "/tmp/ipykernel_18063/3834301573.py:2: SettingWithCopyWarning: \n",
      "A value is trying to be set on a copy of a slice from a DataFrame.\n",
      "Try using .loc[row_indexer,col_indexer] = value instead\n",
      "\n",
      "See the caveats in the documentation: https://pandas.pydata.org/pandas-docs/stable/user_guide/indexing.html#returning-a-view-versus-a-copy\n",
      "  df_2[\"Team2\"] = [text.lower() for text in df_2[\"Team2\"]] # lowercase\n"
     ]
    }
   ],
   "source": [
    "df_2[\"Team2\"] = [text.strip() for text in df_2[\"Team2\"]] # removing space\n",
    "df_2[\"Team2\"] = [text.lower() for text in df_2[\"Team2\"]] # lowercase"
   ]
  },
  {
   "cell_type": "code",
   "execution_count": 30,
   "id": "a6a5e8ae-52e6-4e4b-badc-4dee8e0e696b",
   "metadata": {},
   "outputs": [
    {
     "data": {
      "text/plain": [
       "['chennai super kings',\n",
       " 'delhi capitals',\n",
       " 'gujarat titans',\n",
       " 'kolkata knight riders',\n",
       " 'mumbai indians',\n",
       " 'punjab kings',\n",
       " 'rajasthan royals',\n",
       " 'royal challengers bangalore',\n",
       " 'sunrisers hyderabad']"
      ]
     },
     "execution_count": 30,
     "metadata": {},
     "output_type": "execute_result"
    }
   ],
   "source": [
    "sorted(df_2[\"Team1\"].unique()) # OK "
   ]
  },
  {
   "cell_type": "markdown",
   "id": "18efac6b-2539-4889-9988-66fab64463ca",
   "metadata": {},
   "source": [
    "### Venue "
   ]
  },
  {
   "cell_type": "code",
   "execution_count": 31,
   "id": "be59b0cc-1879-45f3-aaad-3ff20f5e8dcf",
   "metadata": {},
   "outputs": [
    {
     "name": "stderr",
     "output_type": "stream",
     "text": [
      "/tmp/ipykernel_18063/2175989799.py:1: SettingWithCopyWarning: \n",
      "A value is trying to be set on a copy of a slice from a DataFrame\n",
      "\n",
      "See the caveats in the documentation: https://pandas.pydata.org/pandas-docs/stable/user_guide/indexing.html#returning-a-view-versus-a-copy\n",
      "  df_2.rename(columns={\"venue\": \"Venue\"}, inplace=True)\n"
     ]
    }
   ],
   "source": [
    "df_2.rename(columns={\"venue\": \"Venue\"}, inplace=True)"
   ]
  },
  {
   "cell_type": "code",
   "execution_count": 32,
   "id": "8d6f94ab-733e-47cc-b2cb-71239fd030f2",
   "metadata": {},
   "outputs": [
    {
     "name": "stderr",
     "output_type": "stream",
     "text": [
      "/tmp/ipykernel_18063/3275572560.py:1: SettingWithCopyWarning: \n",
      "A value is trying to be set on a copy of a slice from a DataFrame.\n",
      "Try using .loc[row_indexer,col_indexer] = value instead\n",
      "\n",
      "See the caveats in the documentation: https://pandas.pydata.org/pandas-docs/stable/user_guide/indexing.html#returning-a-view-versus-a-copy\n",
      "  df_2[\"Venue\"] = [text.strip() for text in df_2[\"Venue\"]] # removing space\n",
      "/tmp/ipykernel_18063/3275572560.py:2: SettingWithCopyWarning: \n",
      "A value is trying to be set on a copy of a slice from a DataFrame.\n",
      "Try using .loc[row_indexer,col_indexer] = value instead\n",
      "\n",
      "See the caveats in the documentation: https://pandas.pydata.org/pandas-docs/stable/user_guide/indexing.html#returning-a-view-versus-a-copy\n",
      "  df_2[\"Venue\"] = [text.lower() for text in df_2[\"Venue\"]] # lowercase\n"
     ]
    }
   ],
   "source": [
    "df_2[\"Venue\"] = [text.strip() for text in df_2[\"Venue\"]] # removing space\n",
    "df_2[\"Venue\"] = [text.lower() for text in df_2[\"Venue\"]] # lowercase"
   ]
  },
  {
   "cell_type": "code",
   "execution_count": 33,
   "id": "28e6134d-0d94-4243-b306-fc45ae2453a6",
   "metadata": {},
   "outputs": [
    {
     "name": "stderr",
     "output_type": "stream",
     "text": [
      "/tmp/ipykernel_18063/605400193.py:4: SettingWithCopyWarning: \n",
      "A value is trying to be set on a copy of a slice from a DataFrame.\n",
      "Try using .loc[row_indexer,col_indexer] = value instead\n",
      "\n",
      "See the caveats in the documentation: https://pandas.pydata.org/pandas-docs/stable/user_guide/indexing.html#returning-a-view-versus-a-copy\n",
      "  df_2['Venue'] = df_2['Venue'].replace(venue_name_changes)\n"
     ]
    }
   ],
   "source": [
    "venue_name_changes = {'arun jaitley stadiumi': 'arun jaitley stadium',\n",
    "                      'narendra modi stadium':'narendra modi stadium, ahmedabad'\n",
    "                      }\n",
    "df_2['Venue'] = df_2['Venue'].replace(venue_name_changes)"
   ]
  },
  {
   "cell_type": "code",
   "execution_count": 34,
   "id": "f14f0a1e-98f7-4b46-992d-d7b833f78b00",
   "metadata": {},
   "outputs": [
    {
     "data": {
      "text/plain": [
       "['arun jaitley stadium',\n",
       " 'eden gardens',\n",
       " 'himachal pradesh cricket association stadium',\n",
       " 'm.chinnaswamy stadium',\n",
       " 'ma chidambaram stadium',\n",
       " 'narendra modi stadium, ahmedabad',\n",
       " 'rajiv gandhi international stadium',\n",
       " 'sawai mansingh stadium',\n",
       " 'wankhede stadium']"
      ]
     },
     "execution_count": 34,
     "metadata": {},
     "output_type": "execute_result"
    }
   ],
   "source": [
    "sorted(df_2[\"Venue\"].unique()) # OK "
   ]
  },
  {
   "cell_type": "code",
   "execution_count": 35,
   "id": "bc99ae83-677c-4ea7-bd37-4c1d35b05c19",
   "metadata": {},
   "outputs": [],
   "source": [
    "venue_counts = df_2[\"Venue\"].value_counts()"
   ]
  },
  {
   "cell_type": "code",
   "execution_count": 36,
   "id": "735e647c-cf78-4b44-bd52-19bdcd89929a",
   "metadata": {},
   "outputs": [
    {
     "data": {
      "text/plain": [
       "Venue\n",
       "narendra modi stadium, ahmedabad                7\n",
       "rajiv gandhi international stadium              7\n",
       "m.chinnaswamy stadium                           7\n",
       "ma chidambaram stadium                          7\n",
       "arun jaitley stadium                            7\n",
       "eden gardens                                    7\n",
       "wankhede stadium                                7\n",
       "sawai mansingh stadium                          5\n",
       "himachal pradesh cricket association stadium    2\n",
       "Name: count, dtype: int64"
      ]
     },
     "execution_count": 36,
     "metadata": {},
     "output_type": "execute_result"
    }
   ],
   "source": [
    "venue_counts"
   ]
  },
  {
   "cell_type": "code",
   "execution_count": 37,
   "id": "897cf894-f550-4ef8-8721-6e5fc6109005",
   "metadata": {},
   "outputs": [],
   "source": [
    "df_2 = df_2[(df_2['Venue'] != 'bharat ratna shri atal bihari vajpayee ekana cricket stadium') & (df_2['Venue'] != 'barsapara cricket stadium')]"
   ]
  },
  {
   "cell_type": "code",
   "execution_count": 38,
   "id": "fec280cf-7899-4ecc-8a51-5be26285a5ee",
   "metadata": {},
   "outputs": [],
   "source": [
    "venue_counts = df_2[\"Venue\"].value_counts()"
   ]
  },
  {
   "cell_type": "code",
   "execution_count": 39,
   "id": "3dc9271d-3581-4c71-afa2-a2fb5b86cd6e",
   "metadata": {},
   "outputs": [
    {
     "data": {
      "text/plain": [
       "Venue\n",
       "narendra modi stadium, ahmedabad                7\n",
       "rajiv gandhi international stadium              7\n",
       "m.chinnaswamy stadium                           7\n",
       "ma chidambaram stadium                          7\n",
       "arun jaitley stadium                            7\n",
       "eden gardens                                    7\n",
       "wankhede stadium                                7\n",
       "sawai mansingh stadium                          5\n",
       "himachal pradesh cricket association stadium    2\n",
       "Name: count, dtype: int64"
      ]
     },
     "execution_count": 39,
     "metadata": {},
     "output_type": "execute_result"
    }
   ],
   "source": [
    "venue_counts"
   ]
  },
  {
   "cell_type": "markdown",
   "id": "090d7953-7ce2-4f24-96b7-124045430077",
   "metadata": {},
   "source": [
    "New venues : bharat ratna shri atal bihari vajpayee ekana cricket stadium, barsapara cricket stadium "
   ]
  },
  {
   "cell_type": "markdown",
   "id": "c9216271-b39e-4997-959b-8f6b280cdc8c",
   "metadata": {},
   "source": [
    "### TossWinner"
   ]
  },
  {
   "cell_type": "code",
   "execution_count": 40,
   "id": "8a7690b7-8821-41b2-bc7b-280d02919617",
   "metadata": {},
   "outputs": [],
   "source": [
    "df_2.rename(columns={\"toss_winner\": \"TossWinner\"}, inplace=True)"
   ]
  },
  {
   "cell_type": "code",
   "execution_count": 41,
   "id": "8f5f395a-6836-4b49-bc18-8632903d632c",
   "metadata": {},
   "outputs": [],
   "source": [
    "df_2[\"TossWinner\"] = [text.strip() for text in df_2[\"TossWinner\"]] # removing space\n",
    "df_2[\"TossWinner\"] = [text.lower() for text in df_2[\"TossWinner\"]] # lowercase"
   ]
  },
  {
   "cell_type": "code",
   "execution_count": 42,
   "id": "b54d7a97-b58c-4b0c-aea8-e14c845832f5",
   "metadata": {},
   "outputs": [
    {
     "data": {
      "text/plain": [
       "['chennai super kings',\n",
       " 'delhi capitals',\n",
       " 'gujarat titans',\n",
       " 'kolkata knight riders',\n",
       " 'lucknow super giants',\n",
       " 'mumbai indians',\n",
       " 'punjab kings',\n",
       " 'rajasthan royals',\n",
       " 'royal challengers bangalore',\n",
       " 'sunrisers hyderabad']"
      ]
     },
     "execution_count": 42,
     "metadata": {},
     "output_type": "execute_result"
    }
   ],
   "source": [
    "sorted(df_2['TossWinner'].unique()) # OK"
   ]
  },
  {
   "cell_type": "markdown",
   "id": "86bd6b86-dfda-4982-86e6-f506290b65ce",
   "metadata": {},
   "source": [
    "### TossDecision"
   ]
  },
  {
   "cell_type": "code",
   "execution_count": 43,
   "id": "bbfeebcf-ce22-439a-92e0-21163fe93d61",
   "metadata": {},
   "outputs": [],
   "source": [
    "toss_results = ['field','field','field','field','field','field','field','field','field','bat',\n",
    "                'field','field','bat','field','field','field','field','field','field','field',\n",
    "                'field','field','field','field','field','field','field','field','field','bat',\n",
    "                'field','field','field','bat','field','field','bat','field','field','bat',\n",
    "                'bat','bat','bat','bat','field','field','bat','bat','field','bat',\n",
    "                'field','bat','bat','field','bat','field','field','bat','field','bat',\n",
    "                'bat','field','field','field','field','field','bat','field','field','field']\n",
    "\n",
    "# Ajoutez la colonne \"Toss_Result\" au DataFrame\n",
    "df_2['TossDecision'] = pd.Series(toss_results)"
   ]
  },
  {
   "cell_type": "markdown",
   "id": "711898d2-e9b0-44e2-a29e-798b3b61833b",
   "metadata": {},
   "source": [
    "### WinningTeam"
   ]
  },
  {
   "cell_type": "code",
   "execution_count": 44,
   "id": "592f309e-6d57-4484-a7ba-9af3b35be72b",
   "metadata": {},
   "outputs": [],
   "source": [
    "df_2.rename(columns={\"winner\": \"WinningTeam\"}, inplace=True)"
   ]
  },
  {
   "cell_type": "code",
   "execution_count": 45,
   "id": "796cc7b6-acaf-4ba4-b2f9-01aca1c01979",
   "metadata": {},
   "outputs": [],
   "source": [
    "df_2[\"WinningTeam\"] = [text.strip() for text in df_2[\"WinningTeam\"]] # removing space\n",
    "df_2[\"WinningTeam\"] = [text.lower() for text in df_2[\"WinningTeam\"]] # lowercase"
   ]
  },
  {
   "cell_type": "code",
   "execution_count": 46,
   "id": "8ff8b4bb-6f4c-4796-853f-1250e3114b27",
   "metadata": {},
   "outputs": [
    {
     "data": {
      "text/plain": [
       "['chennai super kings',\n",
       " 'delhi capitals',\n",
       " 'gujarat titans',\n",
       " 'kolkata knight riders',\n",
       " 'lucknow super giants',\n",
       " 'mumbai indians',\n",
       " 'punjab kings',\n",
       " 'rajasthan royals',\n",
       " 'royal challengers bangalore',\n",
       " 'sunrisers hyderabad']"
      ]
     },
     "execution_count": 46,
     "metadata": {},
     "output_type": "execute_result"
    }
   ],
   "source": [
    "sorted(df_2['WinningTeam'].unique())"
   ]
  },
  {
   "cell_type": "code",
   "execution_count": 47,
   "id": "2562b6f7-ca7a-4004-88df-547c4dedd74e",
   "metadata": {},
   "outputs": [],
   "source": [
    "winning_counts = df_2[\"WinningTeam\"].value_counts()"
   ]
  },
  {
   "cell_type": "code",
   "execution_count": 48,
   "id": "8050f6ad-f620-48a3-b592-0b72fc00f796",
   "metadata": {},
   "outputs": [
    {
     "data": {
      "text/plain": [
       "WinningTeam\n",
       "gujarat titans                 8\n",
       "chennai super kings            8\n",
       "mumbai indians                 7\n",
       "rajasthan royals               6\n",
       "kolkata knight riders          6\n",
       "royal challengers bangalore    5\n",
       "delhi capitals                 5\n",
       "sunrisers hyderabad            4\n",
       "lucknow super giants           4\n",
       "punjab kings                   3\n",
       "Name: count, dtype: int64"
      ]
     },
     "execution_count": 48,
     "metadata": {},
     "output_type": "execute_result"
    }
   ],
   "source": [
    "winning_counts   # drop the draw ?? "
   ]
  },
  {
   "cell_type": "code",
   "execution_count": 49,
   "id": "b14aed5a-5161-4126-9833-03c9c4a9fef9",
   "metadata": {},
   "outputs": [],
   "source": [
    "df_2 = df_2[df_2['WinningTeam'] != 'draw']"
   ]
  },
  {
   "cell_type": "code",
   "execution_count": 50,
   "id": "36425354-9f9e-4ec5-9375-38ff98e38939",
   "metadata": {},
   "outputs": [
    {
     "data": {
      "text/html": [
       "<div>\n",
       "<style scoped>\n",
       "    .dataframe tbody tr th:only-of-type {\n",
       "        vertical-align: middle;\n",
       "    }\n",
       "\n",
       "    .dataframe tbody tr th {\n",
       "        vertical-align: top;\n",
       "    }\n",
       "\n",
       "    .dataframe thead th {\n",
       "        text-align: right;\n",
       "    }\n",
       "</style>\n",
       "<table border=\"1\" class=\"dataframe\">\n",
       "  <thead>\n",
       "    <tr style=\"text-align: right;\">\n",
       "      <th></th>\n",
       "      <th>match_no</th>\n",
       "      <th>City</th>\n",
       "      <th>date_of_match</th>\n",
       "      <th>Venue</th>\n",
       "      <th>Team1</th>\n",
       "      <th>Team2</th>\n",
       "      <th>TossWinner</th>\n",
       "      <th>WinningTeam</th>\n",
       "      <th>man_of_the_match</th>\n",
       "      <th>result</th>\n",
       "      <th>result_margin</th>\n",
       "      <th>eliminator</th>\n",
       "      <th>umpire1</th>\n",
       "      <th>umpire2</th>\n",
       "      <th>TossDecision</th>\n",
       "    </tr>\n",
       "  </thead>\n",
       "  <tbody>\n",
       "    <tr>\n",
       "      <th>0</th>\n",
       "      <td>1</td>\n",
       "      <td>ahmedabad</td>\n",
       "      <td>3/31/2023</td>\n",
       "      <td>narendra modi stadium, ahmedabad</td>\n",
       "      <td>gujarat titans</td>\n",
       "      <td>chennai super kings</td>\n",
       "      <td>gujarat titans</td>\n",
       "      <td>gujarat titans</td>\n",
       "      <td>Rashid Khan</td>\n",
       "      <td>Wickets</td>\n",
       "      <td>5</td>\n",
       "      <td>N</td>\n",
       "      <td>Nitin Menon</td>\n",
       "      <td>Saiyed Khalid</td>\n",
       "      <td>field</td>\n",
       "    </tr>\n",
       "    <tr>\n",
       "      <th>3</th>\n",
       "      <td>4</td>\n",
       "      <td>hyderabad</td>\n",
       "      <td>4/2/2023</td>\n",
       "      <td>rajiv gandhi international stadium</td>\n",
       "      <td>sunrisers hyderabad</td>\n",
       "      <td>rajasthan royals</td>\n",
       "      <td>sunrisers hyderabad</td>\n",
       "      <td>rajasthan royals</td>\n",
       "      <td>Jos Buttler</td>\n",
       "      <td>Runs</td>\n",
       "      <td>72</td>\n",
       "      <td>N</td>\n",
       "      <td>KN Anantha Padmanabhan</td>\n",
       "      <td>Rohan Pandit</td>\n",
       "      <td>field</td>\n",
       "    </tr>\n",
       "    <tr>\n",
       "      <th>4</th>\n",
       "      <td>5</td>\n",
       "      <td>bengaluru</td>\n",
       "      <td>4/2/2023</td>\n",
       "      <td>m.chinnaswamy stadium</td>\n",
       "      <td>royal challengers bangalore</td>\n",
       "      <td>mumbai indians</td>\n",
       "      <td>royal challengers bangalore</td>\n",
       "      <td>royal challengers bangalore</td>\n",
       "      <td>Faf du Plessis</td>\n",
       "      <td>Wickets</td>\n",
       "      <td>8</td>\n",
       "      <td>N</td>\n",
       "      <td>Nitin Menon</td>\n",
       "      <td>Tapan Sharma</td>\n",
       "      <td>field</td>\n",
       "    </tr>\n",
       "    <tr>\n",
       "      <th>5</th>\n",
       "      <td>6</td>\n",
       "      <td>chennai</td>\n",
       "      <td>4/3/2023</td>\n",
       "      <td>ma chidambaram stadium</td>\n",
       "      <td>chennai super kings</td>\n",
       "      <td>lucknow super giants</td>\n",
       "      <td>lucknow super giants</td>\n",
       "      <td>chennai super kings</td>\n",
       "      <td>Moeen Ali</td>\n",
       "      <td>Wickets</td>\n",
       "      <td>12</td>\n",
       "      <td>N</td>\n",
       "      <td>Akshay Totre</td>\n",
       "      <td>Bruce Oxenford</td>\n",
       "      <td>field</td>\n",
       "    </tr>\n",
       "    <tr>\n",
       "      <th>6</th>\n",
       "      <td>7</td>\n",
       "      <td>delhi</td>\n",
       "      <td>4/4/2023</td>\n",
       "      <td>arun jaitley stadium</td>\n",
       "      <td>delhi capitals</td>\n",
       "      <td>gujarat titans</td>\n",
       "      <td>gujarat titans</td>\n",
       "      <td>gujarat titans</td>\n",
       "      <td>Sai Sudharsan</td>\n",
       "      <td>Wickets</td>\n",
       "      <td>6</td>\n",
       "      <td>N</td>\n",
       "      <td>Nand Kishore</td>\n",
       "      <td>Sadashiv Iyer</td>\n",
       "      <td>field</td>\n",
       "    </tr>\n",
       "  </tbody>\n",
       "</table>\n",
       "</div>"
      ],
      "text/plain": [
       "   match_no       City date_of_match                               Venue  \\\n",
       "0         1  ahmedabad     3/31/2023    narendra modi stadium, ahmedabad   \n",
       "3         4  hyderabad      4/2/2023  rajiv gandhi international stadium   \n",
       "4         5  bengaluru      4/2/2023               m.chinnaswamy stadium   \n",
       "5         6    chennai      4/3/2023              ma chidambaram stadium   \n",
       "6         7      delhi      4/4/2023                arun jaitley stadium   \n",
       "\n",
       "                         Team1                 Team2  \\\n",
       "0               gujarat titans   chennai super kings   \n",
       "3          sunrisers hyderabad      rajasthan royals   \n",
       "4  royal challengers bangalore        mumbai indians   \n",
       "5          chennai super kings  lucknow super giants   \n",
       "6               delhi capitals        gujarat titans   \n",
       "\n",
       "                    TossWinner                  WinningTeam man_of_the_match  \\\n",
       "0               gujarat titans               gujarat titans      Rashid Khan   \n",
       "3          sunrisers hyderabad             rajasthan royals      Jos Buttler   \n",
       "4  royal challengers bangalore  royal challengers bangalore   Faf du Plessis   \n",
       "5         lucknow super giants          chennai super kings        Moeen Ali   \n",
       "6               gujarat titans               gujarat titans    Sai Sudharsan   \n",
       "\n",
       "    result  result_margin eliminator                 umpire1         umpire2  \\\n",
       "0  Wickets              5          N             Nitin Menon   Saiyed Khalid   \n",
       "3     Runs             72          N  KN Anantha Padmanabhan    Rohan Pandit   \n",
       "4  Wickets              8          N             Nitin Menon    Tapan Sharma   \n",
       "5  Wickets             12          N            Akshay Totre  Bruce Oxenford   \n",
       "6  Wickets              6          N            Nand Kishore   Sadashiv Iyer   \n",
       "\n",
       "  TossDecision  \n",
       "0        field  \n",
       "3        field  \n",
       "4        field  \n",
       "5        field  \n",
       "6        field  "
      ]
     },
     "execution_count": 50,
     "metadata": {},
     "output_type": "execute_result"
    }
   ],
   "source": [
    "df_2.head()"
   ]
  },
  {
   "cell_type": "code",
   "execution_count": 51,
   "id": "46ca3a03-099a-4c6c-9a97-e46d8cf98523",
   "metadata": {},
   "outputs": [],
   "source": [
    "df_2.to_csv('../raw_data/data2023.csv')"
   ]
  },
  {
   "cell_type": "code",
   "execution_count": null,
   "id": "11113486-82a6-4dbb-838d-cfd1d841a739",
   "metadata": {},
   "outputs": [],
   "source": []
  }
 ],
 "metadata": {
  "kernelspec": {
   "display_name": "Python 3 (ipykernel)",
   "language": "python",
   "name": "python3"
  },
  "language_info": {
   "codemirror_mode": {
    "name": "ipython",
    "version": 3
   },
   "file_extension": ".py",
   "mimetype": "text/x-python",
   "name": "python",
   "nbconvert_exporter": "python",
   "pygments_lexer": "ipython3",
   "version": "3.10.6"
  }
 },
 "nbformat": 4,
 "nbformat_minor": 5
}
